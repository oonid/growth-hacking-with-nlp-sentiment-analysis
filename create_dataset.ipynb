{
  "nbformat": 4,
  "nbformat_minor": 0,
  "metadata": {
    "colab": {
      "name": "growth_hacking_with_nlp_and_sentiment_analysis_dataset.ipynb",
      "provenance": [],
      "toc_visible": true,
      "authorship_tag": "ABX9TyNE7YP/LpH7nGTZIxTbVTN5",
      "include_colab_link": true
    },
    "kernelspec": {
      "name": "python3",
      "display_name": "Python 3"
    }
  },
  "cells": [
    {
      "cell_type": "markdown",
      "metadata": {
        "id": "view-in-github",
        "colab_type": "text"
      },
      "source": [
        "<a href=\"https://colab.research.google.com/github/oonid/growth-hacking-with-nlp-sentiment-analysis/blob/master/create_dataset.ipynb\" target=\"_parent\"><img src=\"https://colab.research.google.com/assets/colab-badge.svg\" alt=\"Open In Colab\"/></a>"
      ]
    },
    {
      "cell_type": "markdown",
      "metadata": {
        "id": "1AuxF9T3zW-x",
        "colab_type": "text"
      },
      "source": [
        "# Evaluate Amazon Video Games Review Dataset"
      ]
    },
    {
      "cell_type": "code",
      "metadata": {
        "id": "sbEhmi2PQN9l",
        "colab_type": "code",
        "outputId": "b075579e-c30b-47a3-f82b-3a455603e5af",
        "colab": {
          "base_uri": "https://localhost:8080/",
          "height": 141
        }
      },
      "source": [
        "# ndjson to handle newline delimited json\n",
        "!pip install ndjson\n",
        "# update imbalanced-learn lib on colab\n",
        "!pip install --upgrade imbalanced-learn"
      ],
      "execution_count": 1,
      "outputs": [
        {
          "output_type": "stream",
          "text": [
            "Requirement already satisfied: ndjson in /usr/local/lib/python3.6/dist-packages (0.3.1)\n",
            "Requirement already up-to-date: imbalanced-learn in /usr/local/lib/python3.6/dist-packages (0.6.2)\n",
            "Requirement already satisfied, skipping upgrade: scipy>=0.17 in /usr/local/lib/python3.6/dist-packages (from imbalanced-learn) (1.4.1)\n",
            "Requirement already satisfied, skipping upgrade: joblib>=0.11 in /usr/local/lib/python3.6/dist-packages (from imbalanced-learn) (0.15.1)\n",
            "Requirement already satisfied, skipping upgrade: numpy>=1.11 in /usr/local/lib/python3.6/dist-packages (from imbalanced-learn) (1.18.4)\n",
            "Requirement already satisfied, skipping upgrade: scikit-learn>=0.22 in /usr/local/lib/python3.6/dist-packages (from imbalanced-learn) (0.22.2.post1)\n"
          ],
          "name": "stdout"
        }
      ]
    },
    {
      "cell_type": "code",
      "metadata": {
        "id": "4zYEvzkhQEUN",
        "colab_type": "code",
        "outputId": "f350923a-4286-496a-fd00-dbefd6961294",
        "colab": {
          "base_uri": "https://localhost:8080/",
          "height": 35
        }
      },
      "source": [
        "# all imports and related\n",
        "\n",
        "%matplotlib inline\n",
        "\n",
        "import pandas as pd\n",
        "import numpy as np\n",
        "import altair as alt\n",
        "import ndjson\n",
        "\n",
        "from collections import Counter\n",
        "from imblearn.under_sampling import RandomUnderSampler\n"
      ],
      "execution_count": 2,
      "outputs": [
        {
          "output_type": "stream",
          "text": [
            "Using TensorFlow backend.\n"
          ],
          "name": "stderr"
        }
      ]
    },
    {
      "cell_type": "code",
      "metadata": {
        "id": "WrSCio1EPtaw",
        "colab_type": "code",
        "outputId": "f5c3d182-74e7-4c77-ad8c-01664194e355",
        "colab": {
          "base_uri": "https://localhost:8080/",
          "height": 401
        }
      },
      "source": [
        "# get dataset, extract from gzip (overwrite), and preview data on file\n",
        "!wget http://deepyeti.ucsd.edu/jianmo/amazon/categoryFilesSmall/Video_Games_5.json.gz\n",
        "!yes y | gunzip Video_Games_5.json.gz\n",
        "!head Video_Games_5.json"
      ],
      "execution_count": 3,
      "outputs": [
        {
          "output_type": "stream",
          "text": [
            "--2020-05-29 14:17:40--  http://deepyeti.ucsd.edu/jianmo/amazon/categoryFilesSmall/Video_Games_5.json.gz\n",
            "Resolving deepyeti.ucsd.edu (deepyeti.ucsd.edu)... 169.228.63.50\n",
            "Connecting to deepyeti.ucsd.edu (deepyeti.ucsd.edu)|169.228.63.50|:80... connected.\n",
            "HTTP request sent, awaiting response... 200 OK\n",
            "Length: 154050105 (147M) [application/octet-stream]\n",
            "Saving to: ‘Video_Games_5.json.gz’\n",
            "\n",
            "Video_Games_5.json. 100%[===================>] 146.91M  43.6MB/s    in 3.7s    \n",
            "\n",
            "2020-05-29 14:17:44 (39.2 MB/s) - ‘Video_Games_5.json.gz’ saved [154050105/154050105]\n",
            "\n",
            "{\"overall\": 5.0, \"verified\": true, \"reviewTime\": \"10 17, 2015\", \"reviewerID\": \"A1HP7NVNPFMA4N\", \"asin\": \"0700026657\", \"reviewerName\": \"Ambrosia075\", \"reviewText\": \"This game is a bit hard to get the hang of, but when you do it's great.\", \"summary\": \"but when you do it's great.\", \"unixReviewTime\": 1445040000}\n",
            "{\"overall\": 4.0, \"verified\": false, \"reviewTime\": \"07 27, 2015\", \"reviewerID\": \"A1JGAP0185YJI6\", \"asin\": \"0700026657\", \"reviewerName\": \"travis\", \"reviewText\": \"I played it a while but it was alright. The steam was a bit of trouble. The more they move these game to steam the more of a hard time I have activating and playing a game. But in spite of that it was fun, I liked it. Now I am looking forward to anno 2205 I really want to play my way to the moon.\", \"summary\": \"But in spite of that it was fun, I liked it\", \"unixReviewTime\": 1437955200}\n",
            "{\"overall\": 3.0, \"verified\": true, \"reviewTime\": \"02 23, 2015\", \"reviewerID\": \"A1YJWEXHQBWK2B\", \"asin\": \"0700026657\", \"reviewerName\": \"Vincent G. Mezera\", \"reviewText\": \"ok game.\", \"summary\": \"Three Stars\", \"unixReviewTime\": 1424649600}\n",
            "{\"overall\": 2.0, \"verified\": true, \"reviewTime\": \"02 20, 2015\", \"reviewerID\": \"A2204E1TH211HT\", \"asin\": \"0700026657\", \"reviewerName\": \"Grandma KR\", \"reviewText\": \"found the game a bit too complicated, not what I expected after having played 1602, 1503, and 1701\", \"summary\": \"Two Stars\", \"unixReviewTime\": 1424390400}\n",
            "{\"overall\": 5.0, \"verified\": true, \"reviewTime\": \"12 25, 2014\", \"reviewerID\": \"A2RF5B5H74JLPE\", \"asin\": \"0700026657\", \"reviewerName\": \"jon\", \"reviewText\": \"great game, I love it and have played it since its arrived\", \"summary\": \"love this game\", \"unixReviewTime\": 1419465600}\n",
            "{\"overall\": 4.0, \"verified\": true, \"reviewTime\": \"11 13, 2014\", \"reviewerID\": \"A11V6ZJ2FVQY1D\", \"asin\": \"0700026657\", \"reviewerName\": \"IBRAHIM ALBADI\", \"reviewText\": \"i liked a lot some time that i haven't play a wonderfull game very simply and funny game verry good game.\", \"summary\": \"Anno 2070\", \"unixReviewTime\": 1415836800}\n",
            "{\"overall\": 1.0, \"verified\": false, \"reviewTime\": \"08 2, 2014\", \"reviewerID\": \"A1KXJ1ELZIU05C\", \"asin\": \"0700026657\", \"reviewerName\": \"Creation27\", \"reviewText\": \"I'm an avid gamer, but Anno 2070 is an INSULT to gaming.  It is so buggy and half-finished that the first campaign doesn't even work properly and the DRM is INCREDIBLY frustrating to deal with.\\n\\nOnce you manage to work your way past the massive amounts of bugs and get through the DRM, HOURS later you finally figure out that the game has no real tutorial, so you stuck just clicking around randomly.\\n\\nSad, sad, sad, example of a game that could have been great but FTW.\", \"summary\": \"Avoid This Game - Filled with Bugs\", \"unixReviewTime\": 1406937600}\n",
            "{\"overall\": 5.0, \"verified\": true, \"reviewTime\": \"03 3, 2014\", \"reviewerID\": \"A1WK5I4874S3O2\", \"asin\": \"0700026657\", \"reviewerName\": \"WhiteSkull\", \"reviewText\": \"I bought this game thinking it would be pretty cool and that i might play it for a  week or two and be done.  Boy was I wrong! From the moment I finally got the gamed Fired up (the other commentors on this are right, it takes forever and u are forced to create an account) I watched as it booted up I could tell right off the bat that ALOT of thought went into making this game. If you have ever played Sim city, then this game is a must try as you will easily navigate thru it and its multi layers. I have been playing htis now for a month straight, and I am STILL discovering layers of complexity in the game. There are a few things in the game that could used tweaked, but all in all this is a 5 star game.\", \"summary\": \"A very good game balance of skill with depth of choices\", \"unixReviewTime\": 1393804800}\n",
            "{\"overall\": 5.0, \"verified\": true, \"reviewTime\": \"02 21, 2014\", \"reviewerID\": \"AV969NA4CBP10\", \"asin\": \"0700026657\", \"reviewerName\": \"Travis B. Moore\", \"reviewText\": \"I have played the old anno 1701 AND 1503.  this game looks great but is more complex than the previous versions of the game. I found a lot of things lacking such as the sources of power and an inability to store energy with batteries or regenertive fuel cells as buildings in the game need power. Trade is about the same. My main beef with this it requires an internet connection. Other than that it has wonderful artistry and graphics. It is the same as anno 1701 but set in a future world where global warmming as flood the land and resource scarcity has sent human kind to look to the deep ocean for valuable minerals. I recoment the deep ocean expansion or complete if you get this. I found the ai instructor a little corny but other than that the game has some real polish. I wrote my 2 cents worth on suggestions on anno 2070 wiki and you can read 3 pages on that for game ideas I had.\", \"summary\": \"Anno 2070 more like anno 1701\", \"unixReviewTime\": 1392940800}\n",
            "{\"overall\": 4.0, \"verified\": true, \"reviewTime\": \"06 27, 2013\", \"reviewerID\": \"A1EO9BFUHTGWKZ\", \"asin\": \"0700026657\", \"reviewerName\": \"johnnyz3\", \"reviewText\": \"I liked it and had fun with it, played for a while and got my money's worth.  You can certainly go further than I did but I got frustrated with the fact that here we are in this new start and still taking from the earth rather than living with it. Better than simcity in that respect and maybe the best we could hope for.\", \"summary\": \"Pretty fun\", \"unixReviewTime\": 1372291200}\n"
          ],
          "name": "stdout"
        }
      ]
    },
    {
      "cell_type": "code",
      "metadata": {
        "id": "2yFgTQdBQZe2",
        "colab_type": "code",
        "outputId": "3a908593-efec-430c-d9aa-145b7f989396",
        "colab": {
          "base_uri": "https://localhost:8080/",
          "height": 367
        }
      },
      "source": [
        "# load from file-like objects\n",
        "with open('Video_Games_5.json') as f:\n",
        "    vg5 = ndjson.load(f)\n",
        "\n",
        "print('data loaded as {} with len {}'.format(type(vg5), len(vg5)))\n",
        "# sample out 2 data\n",
        "vg5[:2]"
      ],
      "execution_count": 4,
      "outputs": [
        {
          "output_type": "stream",
          "text": [
            "data loaded as <class 'list'> with len 497577\n"
          ],
          "name": "stdout"
        },
        {
          "output_type": "execute_result",
          "data": {
            "text/plain": [
              "[{'asin': '0700026657',\n",
              "  'overall': 5.0,\n",
              "  'reviewText': \"This game is a bit hard to get the hang of, but when you do it's great.\",\n",
              "  'reviewTime': '10 17, 2015',\n",
              "  'reviewerID': 'A1HP7NVNPFMA4N',\n",
              "  'reviewerName': 'Ambrosia075',\n",
              "  'summary': \"but when you do it's great.\",\n",
              "  'unixReviewTime': 1445040000,\n",
              "  'verified': True},\n",
              " {'asin': '0700026657',\n",
              "  'overall': 4.0,\n",
              "  'reviewText': 'I played it a while but it was alright. The steam was a bit of trouble. The more they move these game to steam the more of a hard time I have activating and playing a game. But in spite of that it was fun, I liked it. Now I am looking forward to anno 2205 I really want to play my way to the moon.',\n",
              "  'reviewTime': '07 27, 2015',\n",
              "  'reviewerID': 'A1JGAP0185YJI6',\n",
              "  'reviewerName': 'travis',\n",
              "  'summary': 'But in spite of that it was fun, I liked it',\n",
              "  'unixReviewTime': 1437955200,\n",
              "  'verified': False}]"
            ]
          },
          "metadata": {
            "tags": []
          },
          "execution_count": 4
        }
      ]
    },
    {
      "cell_type": "code",
      "metadata": {
        "id": "SCVDnLGpQ7Eh",
        "colab_type": "code",
        "outputId": "cd949e75-d4d9-4b3e-c57d-f6a4170466fa",
        "colab": {
          "base_uri": "https://localhost:8080/",
          "height": 482
        }
      },
      "source": [
        "# load list of dict as panda DataFrame\n",
        "df = pd.DataFrame(vg5)\n",
        "df.head()"
      ],
      "execution_count": 5,
      "outputs": [
        {
          "output_type": "execute_result",
          "data": {
            "text/html": [
              "<div>\n",
              "<style scoped>\n",
              "    .dataframe tbody tr th:only-of-type {\n",
              "        vertical-align: middle;\n",
              "    }\n",
              "\n",
              "    .dataframe tbody tr th {\n",
              "        vertical-align: top;\n",
              "    }\n",
              "\n",
              "    .dataframe thead th {\n",
              "        text-align: right;\n",
              "    }\n",
              "</style>\n",
              "<table border=\"1\" class=\"dataframe\">\n",
              "  <thead>\n",
              "    <tr style=\"text-align: right;\">\n",
              "      <th></th>\n",
              "      <th>overall</th>\n",
              "      <th>verified</th>\n",
              "      <th>reviewTime</th>\n",
              "      <th>reviewerID</th>\n",
              "      <th>asin</th>\n",
              "      <th>reviewerName</th>\n",
              "      <th>reviewText</th>\n",
              "      <th>summary</th>\n",
              "      <th>unixReviewTime</th>\n",
              "      <th>vote</th>\n",
              "      <th>style</th>\n",
              "      <th>image</th>\n",
              "    </tr>\n",
              "  </thead>\n",
              "  <tbody>\n",
              "    <tr>\n",
              "      <th>0</th>\n",
              "      <td>5.0</td>\n",
              "      <td>True</td>\n",
              "      <td>10 17, 2015</td>\n",
              "      <td>A1HP7NVNPFMA4N</td>\n",
              "      <td>0700026657</td>\n",
              "      <td>Ambrosia075</td>\n",
              "      <td>This game is a bit hard to get the hang of, bu...</td>\n",
              "      <td>but when you do it's great.</td>\n",
              "      <td>1445040000</td>\n",
              "      <td>NaN</td>\n",
              "      <td>NaN</td>\n",
              "      <td>NaN</td>\n",
              "    </tr>\n",
              "    <tr>\n",
              "      <th>1</th>\n",
              "      <td>4.0</td>\n",
              "      <td>False</td>\n",
              "      <td>07 27, 2015</td>\n",
              "      <td>A1JGAP0185YJI6</td>\n",
              "      <td>0700026657</td>\n",
              "      <td>travis</td>\n",
              "      <td>I played it a while but it was alright. The st...</td>\n",
              "      <td>But in spite of that it was fun, I liked it</td>\n",
              "      <td>1437955200</td>\n",
              "      <td>NaN</td>\n",
              "      <td>NaN</td>\n",
              "      <td>NaN</td>\n",
              "    </tr>\n",
              "    <tr>\n",
              "      <th>2</th>\n",
              "      <td>3.0</td>\n",
              "      <td>True</td>\n",
              "      <td>02 23, 2015</td>\n",
              "      <td>A1YJWEXHQBWK2B</td>\n",
              "      <td>0700026657</td>\n",
              "      <td>Vincent G. Mezera</td>\n",
              "      <td>ok game.</td>\n",
              "      <td>Three Stars</td>\n",
              "      <td>1424649600</td>\n",
              "      <td>NaN</td>\n",
              "      <td>NaN</td>\n",
              "      <td>NaN</td>\n",
              "    </tr>\n",
              "    <tr>\n",
              "      <th>3</th>\n",
              "      <td>2.0</td>\n",
              "      <td>True</td>\n",
              "      <td>02 20, 2015</td>\n",
              "      <td>A2204E1TH211HT</td>\n",
              "      <td>0700026657</td>\n",
              "      <td>Grandma KR</td>\n",
              "      <td>found the game a bit too complicated, not what...</td>\n",
              "      <td>Two Stars</td>\n",
              "      <td>1424390400</td>\n",
              "      <td>NaN</td>\n",
              "      <td>NaN</td>\n",
              "      <td>NaN</td>\n",
              "    </tr>\n",
              "    <tr>\n",
              "      <th>4</th>\n",
              "      <td>5.0</td>\n",
              "      <td>True</td>\n",
              "      <td>12 25, 2014</td>\n",
              "      <td>A2RF5B5H74JLPE</td>\n",
              "      <td>0700026657</td>\n",
              "      <td>jon</td>\n",
              "      <td>great game, I love it and have played it since...</td>\n",
              "      <td>love this game</td>\n",
              "      <td>1419465600</td>\n",
              "      <td>NaN</td>\n",
              "      <td>NaN</td>\n",
              "      <td>NaN</td>\n",
              "    </tr>\n",
              "  </tbody>\n",
              "</table>\n",
              "</div>"
            ],
            "text/plain": [
              "   overall  verified   reviewTime  ... vote style image\n",
              "0      5.0      True  10 17, 2015  ...  NaN   NaN   NaN\n",
              "1      4.0     False  07 27, 2015  ...  NaN   NaN   NaN\n",
              "2      3.0      True  02 23, 2015  ...  NaN   NaN   NaN\n",
              "3      2.0      True  02 20, 2015  ...  NaN   NaN   NaN\n",
              "4      5.0      True  12 25, 2014  ...  NaN   NaN   NaN\n",
              "\n",
              "[5 rows x 12 columns]"
            ]
          },
          "metadata": {
            "tags": []
          },
          "execution_count": 5
        }
      ]
    },
    {
      "cell_type": "code",
      "metadata": {
        "id": "uzxX1DeXRAfl",
        "colab_type": "code",
        "outputId": "c9e218b2-7552-41d6-e731-b5d46775f88a",
        "colab": {
          "base_uri": "https://localhost:8080/",
          "height": 294
        }
      },
      "source": [
        "# describe to understand values of column overall (next as ratings)\n",
        "df.describe()"
      ],
      "execution_count": 6,
      "outputs": [
        {
          "output_type": "execute_result",
          "data": {
            "text/html": [
              "<div>\n",
              "<style scoped>\n",
              "    .dataframe tbody tr th:only-of-type {\n",
              "        vertical-align: middle;\n",
              "    }\n",
              "\n",
              "    .dataframe tbody tr th {\n",
              "        vertical-align: top;\n",
              "    }\n",
              "\n",
              "    .dataframe thead th {\n",
              "        text-align: right;\n",
              "    }\n",
              "</style>\n",
              "<table border=\"1\" class=\"dataframe\">\n",
              "  <thead>\n",
              "    <tr style=\"text-align: right;\">\n",
              "      <th></th>\n",
              "      <th>overall</th>\n",
              "      <th>unixReviewTime</th>\n",
              "    </tr>\n",
              "  </thead>\n",
              "  <tbody>\n",
              "    <tr>\n",
              "      <th>count</th>\n",
              "      <td>497577.000000</td>\n",
              "      <td>4.975770e+05</td>\n",
              "    </tr>\n",
              "    <tr>\n",
              "      <th>mean</th>\n",
              "      <td>4.220456</td>\n",
              "      <td>1.367848e+09</td>\n",
              "    </tr>\n",
              "    <tr>\n",
              "      <th>std</th>\n",
              "      <td>1.185424</td>\n",
              "      <td>1.224113e+08</td>\n",
              "    </tr>\n",
              "    <tr>\n",
              "      <th>min</th>\n",
              "      <td>1.000000</td>\n",
              "      <td>9.398592e+08</td>\n",
              "    </tr>\n",
              "    <tr>\n",
              "      <th>25%</th>\n",
              "      <td>4.000000</td>\n",
              "      <td>1.316563e+09</td>\n",
              "    </tr>\n",
              "    <tr>\n",
              "      <th>50%</th>\n",
              "      <td>5.000000</td>\n",
              "      <td>1.410221e+09</td>\n",
              "    </tr>\n",
              "    <tr>\n",
              "      <th>75%</th>\n",
              "      <td>5.000000</td>\n",
              "      <td>1.452384e+09</td>\n",
              "    </tr>\n",
              "    <tr>\n",
              "      <th>max</th>\n",
              "      <td>5.000000</td>\n",
              "      <td>1.538438e+09</td>\n",
              "    </tr>\n",
              "  </tbody>\n",
              "</table>\n",
              "</div>"
            ],
            "text/plain": [
              "             overall  unixReviewTime\n",
              "count  497577.000000    4.975770e+05\n",
              "mean        4.220456    1.367848e+09\n",
              "std         1.185424    1.224113e+08\n",
              "min         1.000000    9.398592e+08\n",
              "25%         4.000000    1.316563e+09\n",
              "50%         5.000000    1.410221e+09\n",
              "75%         5.000000    1.452384e+09\n",
              "max         5.000000    1.538438e+09"
            ]
          },
          "metadata": {
            "tags": []
          },
          "execution_count": 6
        }
      ]
    },
    {
      "cell_type": "code",
      "metadata": {
        "id": "vz2fv0BDX_K8",
        "colab_type": "code",
        "outputId": "ba513530-50f9-4f18-96b2-ee5e1daf2045",
        "colab": {
          "base_uri": "https://localhost:8080/",
          "height": 513
        }
      },
      "source": [
        "# create copy of DataFrame with overall as index, to prepare plotting\n",
        "dfo = df.set_index('overall')\n",
        "dfo.head()"
      ],
      "execution_count": 7,
      "outputs": [
        {
          "output_type": "execute_result",
          "data": {
            "text/html": [
              "<div>\n",
              "<style scoped>\n",
              "    .dataframe tbody tr th:only-of-type {\n",
              "        vertical-align: middle;\n",
              "    }\n",
              "\n",
              "    .dataframe tbody tr th {\n",
              "        vertical-align: top;\n",
              "    }\n",
              "\n",
              "    .dataframe thead th {\n",
              "        text-align: right;\n",
              "    }\n",
              "</style>\n",
              "<table border=\"1\" class=\"dataframe\">\n",
              "  <thead>\n",
              "    <tr style=\"text-align: right;\">\n",
              "      <th></th>\n",
              "      <th>verified</th>\n",
              "      <th>reviewTime</th>\n",
              "      <th>reviewerID</th>\n",
              "      <th>asin</th>\n",
              "      <th>reviewerName</th>\n",
              "      <th>reviewText</th>\n",
              "      <th>summary</th>\n",
              "      <th>unixReviewTime</th>\n",
              "      <th>vote</th>\n",
              "      <th>style</th>\n",
              "      <th>image</th>\n",
              "    </tr>\n",
              "    <tr>\n",
              "      <th>overall</th>\n",
              "      <th></th>\n",
              "      <th></th>\n",
              "      <th></th>\n",
              "      <th></th>\n",
              "      <th></th>\n",
              "      <th></th>\n",
              "      <th></th>\n",
              "      <th></th>\n",
              "      <th></th>\n",
              "      <th></th>\n",
              "      <th></th>\n",
              "    </tr>\n",
              "  </thead>\n",
              "  <tbody>\n",
              "    <tr>\n",
              "      <th>5.0</th>\n",
              "      <td>True</td>\n",
              "      <td>10 17, 2015</td>\n",
              "      <td>A1HP7NVNPFMA4N</td>\n",
              "      <td>0700026657</td>\n",
              "      <td>Ambrosia075</td>\n",
              "      <td>This game is a bit hard to get the hang of, bu...</td>\n",
              "      <td>but when you do it's great.</td>\n",
              "      <td>1445040000</td>\n",
              "      <td>NaN</td>\n",
              "      <td>NaN</td>\n",
              "      <td>NaN</td>\n",
              "    </tr>\n",
              "    <tr>\n",
              "      <th>4.0</th>\n",
              "      <td>False</td>\n",
              "      <td>07 27, 2015</td>\n",
              "      <td>A1JGAP0185YJI6</td>\n",
              "      <td>0700026657</td>\n",
              "      <td>travis</td>\n",
              "      <td>I played it a while but it was alright. The st...</td>\n",
              "      <td>But in spite of that it was fun, I liked it</td>\n",
              "      <td>1437955200</td>\n",
              "      <td>NaN</td>\n",
              "      <td>NaN</td>\n",
              "      <td>NaN</td>\n",
              "    </tr>\n",
              "    <tr>\n",
              "      <th>3.0</th>\n",
              "      <td>True</td>\n",
              "      <td>02 23, 2015</td>\n",
              "      <td>A1YJWEXHQBWK2B</td>\n",
              "      <td>0700026657</td>\n",
              "      <td>Vincent G. Mezera</td>\n",
              "      <td>ok game.</td>\n",
              "      <td>Three Stars</td>\n",
              "      <td>1424649600</td>\n",
              "      <td>NaN</td>\n",
              "      <td>NaN</td>\n",
              "      <td>NaN</td>\n",
              "    </tr>\n",
              "    <tr>\n",
              "      <th>2.0</th>\n",
              "      <td>True</td>\n",
              "      <td>02 20, 2015</td>\n",
              "      <td>A2204E1TH211HT</td>\n",
              "      <td>0700026657</td>\n",
              "      <td>Grandma KR</td>\n",
              "      <td>found the game a bit too complicated, not what...</td>\n",
              "      <td>Two Stars</td>\n",
              "      <td>1424390400</td>\n",
              "      <td>NaN</td>\n",
              "      <td>NaN</td>\n",
              "      <td>NaN</td>\n",
              "    </tr>\n",
              "    <tr>\n",
              "      <th>5.0</th>\n",
              "      <td>True</td>\n",
              "      <td>12 25, 2014</td>\n",
              "      <td>A2RF5B5H74JLPE</td>\n",
              "      <td>0700026657</td>\n",
              "      <td>jon</td>\n",
              "      <td>great game, I love it and have played it since...</td>\n",
              "      <td>love this game</td>\n",
              "      <td>1419465600</td>\n",
              "      <td>NaN</td>\n",
              "      <td>NaN</td>\n",
              "      <td>NaN</td>\n",
              "    </tr>\n",
              "  </tbody>\n",
              "</table>\n",
              "</div>"
            ],
            "text/plain": [
              "         verified   reviewTime      reviewerID  ... vote style image\n",
              "overall                                         ...                 \n",
              "5.0          True  10 17, 2015  A1HP7NVNPFMA4N  ...  NaN   NaN   NaN\n",
              "4.0         False  07 27, 2015  A1JGAP0185YJI6  ...  NaN   NaN   NaN\n",
              "3.0          True  02 23, 2015  A1YJWEXHQBWK2B  ...  NaN   NaN   NaN\n",
              "2.0          True  02 20, 2015  A2204E1TH211HT  ...  NaN   NaN   NaN\n",
              "5.0          True  12 25, 2014  A2RF5B5H74JLPE  ...  NaN   NaN   NaN\n",
              "\n",
              "[5 rows x 11 columns]"
            ]
          },
          "metadata": {
            "tags": []
          },
          "execution_count": 7
        }
      ]
    },
    {
      "cell_type": "code",
      "metadata": {
        "id": "kfX02wz-ZBPE",
        "colab_type": "code",
        "outputId": "f2c2d26a-490d-4aca-fb1f-aa0618f5ae01",
        "colab": {
          "base_uri": "https://localhost:8080/",
          "height": 253
        }
      },
      "source": [
        "# group data by column overall (currently as index) and count the variants\n",
        "dfo.groupby(dfo.index).count()"
      ],
      "execution_count": 8,
      "outputs": [
        {
          "output_type": "execute_result",
          "data": {
            "text/html": [
              "<div>\n",
              "<style scoped>\n",
              "    .dataframe tbody tr th:only-of-type {\n",
              "        vertical-align: middle;\n",
              "    }\n",
              "\n",
              "    .dataframe tbody tr th {\n",
              "        vertical-align: top;\n",
              "    }\n",
              "\n",
              "    .dataframe thead th {\n",
              "        text-align: right;\n",
              "    }\n",
              "</style>\n",
              "<table border=\"1\" class=\"dataframe\">\n",
              "  <thead>\n",
              "    <tr style=\"text-align: right;\">\n",
              "      <th></th>\n",
              "      <th>verified</th>\n",
              "      <th>reviewTime</th>\n",
              "      <th>reviewerID</th>\n",
              "      <th>asin</th>\n",
              "      <th>reviewerName</th>\n",
              "      <th>reviewText</th>\n",
              "      <th>summary</th>\n",
              "      <th>unixReviewTime</th>\n",
              "      <th>vote</th>\n",
              "      <th>style</th>\n",
              "      <th>image</th>\n",
              "    </tr>\n",
              "    <tr>\n",
              "      <th>overall</th>\n",
              "      <th></th>\n",
              "      <th></th>\n",
              "      <th></th>\n",
              "      <th></th>\n",
              "      <th></th>\n",
              "      <th></th>\n",
              "      <th></th>\n",
              "      <th></th>\n",
              "      <th></th>\n",
              "      <th></th>\n",
              "      <th></th>\n",
              "    </tr>\n",
              "  </thead>\n",
              "  <tbody>\n",
              "    <tr>\n",
              "      <th>1.0</th>\n",
              "      <td>30883</td>\n",
              "      <td>30883</td>\n",
              "      <td>30883</td>\n",
              "      <td>30883</td>\n",
              "      <td>30877</td>\n",
              "      <td>30879</td>\n",
              "      <td>30876</td>\n",
              "      <td>30883</td>\n",
              "      <td>14241</td>\n",
              "      <td>18613</td>\n",
              "      <td>277</td>\n",
              "    </tr>\n",
              "    <tr>\n",
              "      <th>2.0</th>\n",
              "      <td>24135</td>\n",
              "      <td>24135</td>\n",
              "      <td>24135</td>\n",
              "      <td>24135</td>\n",
              "      <td>24132</td>\n",
              "      <td>24133</td>\n",
              "      <td>24130</td>\n",
              "      <td>24135</td>\n",
              "      <td>8902</td>\n",
              "      <td>14295</td>\n",
              "      <td>121</td>\n",
              "    </tr>\n",
              "    <tr>\n",
              "      <th>3.0</th>\n",
              "      <td>49146</td>\n",
              "      <td>49146</td>\n",
              "      <td>49146</td>\n",
              "      <td>49146</td>\n",
              "      <td>49132</td>\n",
              "      <td>49140</td>\n",
              "      <td>49144</td>\n",
              "      <td>49146</td>\n",
              "      <td>14354</td>\n",
              "      <td>28954</td>\n",
              "      <td>259</td>\n",
              "    </tr>\n",
              "    <tr>\n",
              "      <th>4.0</th>\n",
              "      <td>93654</td>\n",
              "      <td>93654</td>\n",
              "      <td>93654</td>\n",
              "      <td>93654</td>\n",
              "      <td>93640</td>\n",
              "      <td>93644</td>\n",
              "      <td>93645</td>\n",
              "      <td>93654</td>\n",
              "      <td>22790</td>\n",
              "      <td>53656</td>\n",
              "      <td>648</td>\n",
              "    </tr>\n",
              "    <tr>\n",
              "      <th>5.0</th>\n",
              "      <td>299759</td>\n",
              "      <td>299759</td>\n",
              "      <td>299759</td>\n",
              "      <td>299759</td>\n",
              "      <td>299720</td>\n",
              "      <td>299623</td>\n",
              "      <td>299673</td>\n",
              "      <td>299759</td>\n",
              "      <td>47506</td>\n",
              "      <td>173719</td>\n",
              "      <td>2329</td>\n",
              "    </tr>\n",
              "  </tbody>\n",
              "</table>\n",
              "</div>"
            ],
            "text/plain": [
              "         verified  reviewTime  reviewerID  ...   vote   style  image\n",
              "overall                                    ...                      \n",
              "1.0         30883       30883       30883  ...  14241   18613    277\n",
              "2.0         24135       24135       24135  ...   8902   14295    121\n",
              "3.0         49146       49146       49146  ...  14354   28954    259\n",
              "4.0         93654       93654       93654  ...  22790   53656    648\n",
              "5.0        299759      299759      299759  ...  47506  173719   2329\n",
              "\n",
              "[5 rows x 11 columns]"
            ]
          },
          "metadata": {
            "tags": []
          },
          "execution_count": 8
        }
      ]
    },
    {
      "cell_type": "code",
      "metadata": {
        "id": "cHQyhDhMZHsv",
        "colab_type": "code",
        "outputId": "a61ea1ec-4011-47ba-8895-fd81303573c6",
        "colab": {
          "base_uri": "https://localhost:8080/",
          "height": 303
        }
      },
      "source": [
        "# plot grouped data by overall related to column reviewText (next as reviews)\n",
        "dfo.groupby(dfo.index)['reviewText'].count().plot(kind='bar')"
      ],
      "execution_count": 9,
      "outputs": [
        {
          "output_type": "execute_result",
          "data": {
            "text/plain": [
              "<matplotlib.axes._subplots.AxesSubplot at 0x7fb453ac9470>"
            ]
          },
          "metadata": {
            "tags": []
          },
          "execution_count": 9
        },
        {
          "output_type": "display_data",
          "data": {
            "image/png": "[encoded data removed]",
            "text/plain": [
              "<Figure size 432x288 with 1 Axes>"
            ]
          },
          "metadata": {
            "tags": [],
            "needs_background": "light"
          }
        }
      ]
    },
    {
      "cell_type": "code",
      "metadata": {
        "id": "Tpwaamjopb-W",
        "colab_type": "code",
        "outputId": "bebc728d-ba79-4420-d050-c6c926716dec",
        "colab": {
          "base_uri": "https://localhost:8080/",
          "height": 52
        }
      },
      "source": [
        "# dataset with only two columns (overall, reviewText) as numpy array\n",
        "X = df[['overall', 'reviewText']].to_numpy()\n",
        "print('dataset X shape: {} type: {}'.format(X.shape, type(X)))\n",
        "# using column overall as label\n",
        "y = df['overall'].to_numpy()\n",
        "print('label y shape: {} type: {}'.format(y.shape, type(y)))\n"
      ],
      "execution_count": 10,
      "outputs": [
        {
          "output_type": "stream",
          "text": [
            "dataset X shape: (497577, 2) type: <class 'numpy.ndarray'>\n",
            "label y shape: (497577,) type: <class 'numpy.ndarray'>\n"
          ],
          "name": "stdout"
        }
      ]
    },
    {
      "cell_type": "markdown",
      "metadata": {
        "id": "AFPpGti1lcRd",
        "colab_type": "text"
      },
      "source": [
        "# Generating small_corpus"
      ]
    },
    {
      "cell_type": "code",
      "metadata": {
        "id": "aj-9jsaMZSkR",
        "colab_type": "code",
        "outputId": "a13cb75d-1a78-47e9-ff4d-d913d7ee7d97",
        "colab": {
          "base_uri": "https://localhost:8080/",
          "height": 52
        }
      },
      "source": [
        "# predefined sampling strategy\n",
        "sampling_strategy = {1.0: 1500, 2.0: 500, 3.0: 500, 4.0: 500, 5.0: 1500}\n",
        "\n",
        "random_state = 42  # to get identical results with sample solution\n",
        "\n",
        "rus = RandomUnderSampler(random_state=random_state,\n",
        "                         sampling_strategy=sampling_strategy)\n",
        "X_res, y_res = rus.fit_resample(X, y)\n",
        "\n",
        "print('initial label: {}'.format(Counter(y)))\n",
        "print('result label: {}'.format(Counter(y_res)))"
      ],
      "execution_count": 11,
      "outputs": [
        {
          "output_type": "stream",
          "text": [
            "initial label: Counter({5.0: 299759, 4.0: 93654, 3.0: 49146, 1.0: 30883, 2.0: 24135})\n",
            "result label: Counter({1.0: 1500, 5.0: 1500, 2.0: 500, 3.0: 500, 4.0: 500})\n"
          ],
          "name": "stdout"
        }
      ]
    },
    {
      "cell_type": "code",
      "metadata": {
        "id": "L7etxQ1Orfpp",
        "colab_type": "code",
        "outputId": "04b9309d-a283-42a0-8606-05cd7c901fa7",
        "colab": {
          "base_uri": "https://localhost:8080/",
          "height": 358
        }
      },
      "source": [
        "# convert from numpy array back to pandas DataFrame\n",
        "small_corpus = pd.DataFrame({'ratings': X_res[:, 0], 'reviews': X_res[:, 1]})\n",
        "# set ratings column type as int32\n",
        "small_corpus['ratings'] = small_corpus['ratings'].astype('int32')\n",
        "# get info of small_corpus DataFrame with total 1500+500+500+500+1500 entries\n",
        "small_corpus.info()\n",
        "small_corpus.head()"
      ],
      "execution_count": 12,
      "outputs": [
        {
          "output_type": "stream",
          "text": [
            "<class 'pandas.core.frame.DataFrame'>\n",
            "RangeIndex: 4500 entries, 0 to 4499\n",
            "Data columns (total 2 columns):\n",
            " #   Column   Non-Null Count  Dtype \n",
            "---  ------   --------------  ----- \n",
            " 0   ratings  4500 non-null   int32 \n",
            " 1   reviews  4496 non-null   object\n",
            "dtypes: int32(1), object(1)\n",
            "memory usage: 52.9+ KB\n"
          ],
          "name": "stdout"
        },
        {
          "output_type": "execute_result",
          "data": {
            "text/html": [
              "<div>\n",
              "<style scoped>\n",
              "    .dataframe tbody tr th:only-of-type {\n",
              "        vertical-align: middle;\n",
              "    }\n",
              "\n",
              "    .dataframe tbody tr th {\n",
              "        vertical-align: top;\n",
              "    }\n",
              "\n",
              "    .dataframe thead th {\n",
              "        text-align: right;\n",
              "    }\n",
              "</style>\n",
              "<table border=\"1\" class=\"dataframe\">\n",
              "  <thead>\n",
              "    <tr style=\"text-align: right;\">\n",
              "      <th></th>\n",
              "      <th>ratings</th>\n",
              "      <th>reviews</th>\n",
              "    </tr>\n",
              "  </thead>\n",
              "  <tbody>\n",
              "    <tr>\n",
              "      <th>0</th>\n",
              "      <td>1</td>\n",
              "      <td>Recently UBISOFT had to settle a huge class-ac...</td>\n",
              "    </tr>\n",
              "    <tr>\n",
              "      <th>1</th>\n",
              "      <td>1</td>\n",
              "      <td>code didn't work, got me a refund.</td>\n",
              "    </tr>\n",
              "    <tr>\n",
              "      <th>2</th>\n",
              "      <td>1</td>\n",
              "      <td>these do not work at all, all i get is static ...</td>\n",
              "    </tr>\n",
              "    <tr>\n",
              "      <th>3</th>\n",
              "      <td>1</td>\n",
              "      <td>well let me start by saying that when i first ...</td>\n",
              "    </tr>\n",
              "    <tr>\n",
              "      <th>4</th>\n",
              "      <td>1</td>\n",
              "      <td>Dont waste your money, you will just end up us...</td>\n",
              "    </tr>\n",
              "  </tbody>\n",
              "</table>\n",
              "</div>"
            ],
            "text/plain": [
              "   ratings                                            reviews\n",
              "0        1  Recently UBISOFT had to settle a huge class-ac...\n",
              "1        1                 code didn't work, got me a refund.\n",
              "2        1  these do not work at all, all i get is static ...\n",
              "3        1  well let me start by saying that when i first ...\n",
              "4        1  Dont waste your money, you will just end up us..."
            ]
          },
          "metadata": {
            "tags": []
          },
          "execution_count": 12
        }
      ]
    },
    {
      "cell_type": "code",
      "metadata": {
        "id": "G3Tla5VwvmP_",
        "colab_type": "code",
        "colab": {}
      },
      "source": [
        "# export small_corpus to csv (1500+500+500+500+1500), without index\n",
        "small_corpus.to_csv('small_corpus.csv', index=False)"
      ],
      "execution_count": 0,
      "outputs": []
    },
    {
      "cell_type": "markdown",
      "metadata": {
        "id": "csadWUGAlnBI",
        "colab_type": "text"
      },
      "source": [
        "# Generating big_corpus"
      ]
    },
    {
      "cell_type": "code",
      "metadata": {
        "id": "t0_NoS5Lxr5P",
        "colab_type": "code",
        "colab": {}
      },
      "source": [
        "random_state = 42  # to get identical results with sample solution\n",
        "np.random.seed(random_state)\n",
        "\n",
        "# get 100.000 on random ratings (1-5) as numpy array\n",
        "random_ratings = np.random.randint(low=1, high=6, size=100000)"
      ],
      "execution_count": 0,
      "outputs": []
    },
    {
      "cell_type": "code",
      "metadata": {
        "id": "ilZCTgYStyqA",
        "colab_type": "code",
        "outputId": "95727de2-6599-42c6-9ee6-fe8d04cb329c",
        "colab": {
          "base_uri": "https://localhost:8080/",
          "height": 35
        }
      },
      "source": [
        "# create sampling strategy by count total ratings on random_ratings (dataframe)\n",
        "unique, counts = np.unique(random_ratings, return_counts=True)\n",
        "sampling_strategy = {}\n",
        "for k, v in zip(unique, counts):\n",
        "    sampling_strategy[k] = v\n",
        "print('sampling_strategy: {}'.format(sampling_strategy))"
      ],
      "execution_count": 16,
      "outputs": [
        {
          "output_type": "stream",
          "text": [
            "sampling_strategy: {1: 20018, 2: 20082, 3: 19732, 4: 19981, 5: 20187}\n"
          ],
          "name": "stdout"
        }
      ]
    },
    {
      "cell_type": "code",
      "metadata": {
        "id": "uvUwLSqvmSY4",
        "colab_type": "code",
        "outputId": "aed6994f-75df-4251-c96d-88d57322cb53",
        "colab": {
          "base_uri": "https://localhost:8080/",
          "height": 52
        }
      },
      "source": [
        "rus = RandomUnderSampler(random_state=random_state,\n",
        "                         sampling_strategy=sampling_strategy)\n",
        "X_res, y_res = rus.fit_resample(X, y)\n",
        "\n",
        "print('initial label: {}'.format(Counter(y)))\n",
        "print('result label: {}'.format(Counter(y_res)))"
      ],
      "execution_count": 17,
      "outputs": [
        {
          "output_type": "stream",
          "text": [
            "initial label: Counter({5.0: 299759, 4.0: 93654, 3.0: 49146, 1.0: 30883, 2.0: 24135})\n",
            "result label: Counter({5.0: 20187, 2.0: 20082, 1.0: 20018, 4.0: 19981, 3.0: 19732})\n"
          ],
          "name": "stdout"
        }
      ]
    },
    {
      "cell_type": "code",
      "metadata": {
        "id": "XawDBaItn5k6",
        "colab_type": "code",
        "outputId": "dcb279a3-8040-4ce6-e233-cd13f0810b45",
        "colab": {
          "base_uri": "https://localhost:8080/",
          "height": 358
        }
      },
      "source": [
        "# convert from numpy array back to pandas DataFrame\n",
        "big_corpus = pd.DataFrame({'ratings': X_res[:, 0], 'reviews': X_res[:, 1]})\n",
        "# set ratings column type as int32\n",
        "big_corpus['ratings'] = big_corpus['ratings'].astype('int32')\n",
        "big_corpus.info()\n",
        "big_corpus.head()"
      ],
      "execution_count": 18,
      "outputs": [
        {
          "output_type": "stream",
          "text": [
            "<class 'pandas.core.frame.DataFrame'>\n",
            "RangeIndex: 100000 entries, 0 to 99999\n",
            "Data columns (total 2 columns):\n",
            " #   Column   Non-Null Count   Dtype \n",
            "---  ------   --------------   ----- \n",
            " 0   ratings  100000 non-null  int32 \n",
            " 1   reviews  99985 non-null   object\n",
            "dtypes: int32(1), object(1)\n",
            "memory usage: 1.1+ MB\n"
          ],
          "name": "stdout"
        },
        {
          "output_type": "execute_result",
          "data": {
            "text/html": [
              "<div>\n",
              "<style scoped>\n",
              "    .dataframe tbody tr th:only-of-type {\n",
              "        vertical-align: middle;\n",
              "    }\n",
              "\n",
              "    .dataframe tbody tr th {\n",
              "        vertical-align: top;\n",
              "    }\n",
              "\n",
              "    .dataframe thead th {\n",
              "        text-align: right;\n",
              "    }\n",
              "</style>\n",
              "<table border=\"1\" class=\"dataframe\">\n",
              "  <thead>\n",
              "    <tr style=\"text-align: right;\">\n",
              "      <th></th>\n",
              "      <th>ratings</th>\n",
              "      <th>reviews</th>\n",
              "    </tr>\n",
              "  </thead>\n",
              "  <tbody>\n",
              "    <tr>\n",
              "      <th>0</th>\n",
              "      <td>1</td>\n",
              "      <td>Recently UBISOFT had to settle a huge class-ac...</td>\n",
              "    </tr>\n",
              "    <tr>\n",
              "      <th>1</th>\n",
              "      <td>1</td>\n",
              "      <td>code didn't work, got me a refund.</td>\n",
              "    </tr>\n",
              "    <tr>\n",
              "      <th>2</th>\n",
              "      <td>1</td>\n",
              "      <td>these do not work at all, all i get is static ...</td>\n",
              "    </tr>\n",
              "    <tr>\n",
              "      <th>3</th>\n",
              "      <td>1</td>\n",
              "      <td>well let me start by saying that when i first ...</td>\n",
              "    </tr>\n",
              "    <tr>\n",
              "      <th>4</th>\n",
              "      <td>1</td>\n",
              "      <td>Dont waste your money, you will just end up us...</td>\n",
              "    </tr>\n",
              "  </tbody>\n",
              "</table>\n",
              "</div>"
            ],
            "text/plain": [
              "   ratings                                            reviews\n",
              "0        1  Recently UBISOFT had to settle a huge class-ac...\n",
              "1        1                 code didn't work, got me a refund.\n",
              "2        1  these do not work at all, all i get is static ...\n",
              "3        1  well let me start by saying that when i first ...\n",
              "4        1  Dont waste your money, you will just end up us..."
            ]
          },
          "metadata": {
            "tags": []
          },
          "execution_count": 18
        }
      ]
    },
    {
      "cell_type": "code",
      "metadata": {
        "id": "zqbdHSzDnuTZ",
        "colab_type": "code",
        "colab": {}
      },
      "source": [
        "# export big_corpus to csv (100000)\n",
        "big_corpus.to_csv('big_corpus.csv')"
      ],
      "execution_count": 0,
      "outputs": []
    },
    {
      "cell_type": "code",
      "metadata": {
        "id": "3P3gVB0uo2pD",
        "colab_type": "code",
        "colab": {}
      },
      "source": [
        ""
      ],
      "execution_count": 0,
      "outputs": []
    }
  ]
}