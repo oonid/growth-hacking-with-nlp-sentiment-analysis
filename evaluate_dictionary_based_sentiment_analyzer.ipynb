{
  "nbformat": 4,
  "nbformat_minor": 0,
  "metadata": {
    "colab": {
      "name": "evaluate_dictionary_based_sentiment_analyzer.ipynb",
      "provenance": [],
      "collapsed_sections": [],
      "toc_visible": true,
      "authorship_tag": "ABX9TyMrSrDUapQewh1OPrSKoEMA",
      "include_colab_link": true
    },
    "kernelspec": {
      "name": "python3",
      "display_name": "Python 3"
    }
  },
  "cells": [
    {
      "cell_type": "markdown",
      "metadata": {
        "id": "view-in-github",
        "colab_type": "text"
      },
      "source": [
        "<a href=\"https://colab.research.google.com/github/oonid/growth-hacking-with-nlp-sentiment-analysis/blob/master/evaluate_dictionary_based_sentiment_analyzer.ipynb\" target=\"_parent\"><img src=\"https://colab.research.google.com/assets/colab-badge.svg\" alt=\"Open In Colab\"/></a>"
      ]
    },
    {
      "cell_type": "code",
      "metadata": {
        "id": "s4I7RtdcHPqx",
        "colab_type": "code",
        "colab": {
          "base_uri": "https://localhost:8080/",
          "height": 141
        },
        "outputId": "7e05b0ba-9039-4dcb-97ca-a95e69ff3e0d"
      },
      "source": [
        "# all imports and related\n",
        "\n",
        "%matplotlib inline\n",
        "\n",
        "import pandas as pd\n",
        "import numpy as np\n",
        "import altair as alt\n",
        "import seaborn as sn\n",
        "import matplotlib.pyplot as plt\n",
        "\n",
        "from nltk import download as nltk_download\n",
        "from nltk.tokenize import word_tokenize, sent_tokenize\n",
        "from nltk.sentiment.util import mark_negation\n",
        "\n",
        "nltk_download('punkt')  # required by word_tokenize\n",
        "\n",
        "from itertools import product\n"
      ],
      "execution_count": 1,
      "outputs": [
        {
          "output_type": "stream",
          "text": [
            "/usr/local/lib/python3.6/dist-packages/statsmodels/tools/_testing.py:19: FutureWarning: pandas.util.testing is deprecated. Use the functions in the public API at pandas.testing instead.\n",
            "  import pandas.util.testing as tm\n",
            "/usr/local/lib/python3.6/dist-packages/nltk/twitter/__init__.py:20: UserWarning: The twython library has not been installed. Some functionality from the twitter package will not be available.\n",
            "  warnings.warn(\"The twython library has not been installed. \"\n"
          ],
          "name": "stderr"
        },
        {
          "output_type": "stream",
          "text": [
            "[nltk_data] Downloading package punkt to /root/nltk_data...\n",
            "[nltk_data]   Unzipping tokenizers/punkt.zip.\n"
          ],
          "name": "stdout"
        }
      ]
    },
    {
      "cell_type": "markdown",
      "metadata": {
        "id": "rvOOGkJXHE_e",
        "colab_type": "text"
      },
      "source": [
        "# Convert the sentiment scores of the small_corpus.csv into sentiment values"
      ]
    },
    {
      "cell_type": "markdown",
      "metadata": {
        "id": "qVdi58D8IDMN",
        "colab_type": "text"
      },
      "source": [
        "### load the dictionary_based_sentiment CSV\n",
        "\n",
        "run process from\n",
        "[create_dictionary_based_sentiment_analyzer.ipynb](https://github.com/oonid/growth-hacking-with-nlp-sentiment-analysis/blob/master/create_dictionary_based_sentiment_analyzer.ipynb)\n",
        "\n",
        "copy file **dictionary_based_sentiment.csv** to this Google Colab Files (via file upload or mount drive).\n"
      ]
    },
    {
      "cell_type": "code",
      "metadata": {
        "id": "XTUPrzHmG1Lk",
        "colab_type": "code",
        "colab": {
          "base_uri": "https://localhost:8080/",
          "height": 415
        },
        "outputId": "db121798-c283-4161-c966-d61798205f15"
      },
      "source": [
        "df = pd.read_csv('dictionary_based_sentiment.csv')\n",
        "df"
      ],
      "execution_count": 2,
      "outputs": [
        {
          "output_type": "execute_result",
          "data": {
            "text/html": [
              "<div>\n",
              "<style scoped>\n",
              "    .dataframe tbody tr th:only-of-type {\n",
              "        vertical-align: middle;\n",
              "    }\n",
              "\n",
              "    .dataframe tbody tr th {\n",
              "        vertical-align: top;\n",
              "    }\n",
              "\n",
              "    .dataframe thead th {\n",
              "        text-align: right;\n",
              "    }\n",
              "</style>\n",
              "<table border=\"1\" class=\"dataframe\">\n",
              "  <thead>\n",
              "    <tr style=\"text-align: right;\">\n",
              "      <th></th>\n",
              "      <th>rating</th>\n",
              "      <th>review</th>\n",
              "      <th>review dictionary based sentiment</th>\n",
              "    </tr>\n",
              "  </thead>\n",
              "  <tbody>\n",
              "    <tr>\n",
              "      <th>0</th>\n",
              "      <td>1</td>\n",
              "      <td>Recently UBISOFT had to settle a huge class-ac...</td>\n",
              "      <td>-0.013158</td>\n",
              "    </tr>\n",
              "    <tr>\n",
              "      <th>1</th>\n",
              "      <td>1</td>\n",
              "      <td>code didn't work, got me a refund.</td>\n",
              "      <td>0.285714</td>\n",
              "    </tr>\n",
              "    <tr>\n",
              "      <th>2</th>\n",
              "      <td>1</td>\n",
              "      <td>these do not work at all, all i get is static ...</td>\n",
              "      <td>0.000000</td>\n",
              "    </tr>\n",
              "    <tr>\n",
              "      <th>3</th>\n",
              "      <td>1</td>\n",
              "      <td>well let me start by saying that when i first ...</td>\n",
              "      <td>-0.020521</td>\n",
              "    </tr>\n",
              "    <tr>\n",
              "      <th>4</th>\n",
              "      <td>1</td>\n",
              "      <td>Dont waste your money, you will just end up us...</td>\n",
              "      <td>0.000000</td>\n",
              "    </tr>\n",
              "    <tr>\n",
              "      <th>...</th>\n",
              "      <td>...</td>\n",
              "      <td>...</td>\n",
              "      <td>...</td>\n",
              "    </tr>\n",
              "    <tr>\n",
              "      <th>4495</th>\n",
              "      <td>5</td>\n",
              "      <td>Nice long micro USB cable, battery lasts a lon...</td>\n",
              "      <td>0.058824</td>\n",
              "    </tr>\n",
              "    <tr>\n",
              "      <th>4496</th>\n",
              "      <td>5</td>\n",
              "      <td>I've been having a great time with this game. ...</td>\n",
              "      <td>0.222222</td>\n",
              "    </tr>\n",
              "    <tr>\n",
              "      <th>4497</th>\n",
              "      <td>5</td>\n",
              "      <td>d</td>\n",
              "      <td>0.000000</td>\n",
              "    </tr>\n",
              "    <tr>\n",
              "      <th>4498</th>\n",
              "      <td>5</td>\n",
              "      <td>Really pretty, funny, interesting game. Works ...</td>\n",
              "      <td>0.455556</td>\n",
              "    </tr>\n",
              "    <tr>\n",
              "      <th>4499</th>\n",
              "      <td>5</td>\n",
              "      <td>i had a lot of fun playing this game, if your ...</td>\n",
              "      <td>0.038462</td>\n",
              "    </tr>\n",
              "  </tbody>\n",
              "</table>\n",
              "<p>4500 rows × 3 columns</p>\n",
              "</div>"
            ],
            "text/plain": [
              "      rating  ... review dictionary based sentiment\n",
              "0          1  ...                         -0.013158\n",
              "1          1  ...                          0.285714\n",
              "2          1  ...                          0.000000\n",
              "3          1  ...                         -0.020521\n",
              "4          1  ...                          0.000000\n",
              "...      ...  ...                               ...\n",
              "4495       5  ...                          0.058824\n",
              "4496       5  ...                          0.222222\n",
              "4497       5  ...                          0.000000\n",
              "4498       5  ...                          0.455556\n",
              "4499       5  ...                          0.038462\n",
              "\n",
              "[4500 rows x 3 columns]"
            ]
          },
          "metadata": {
            "tags": []
          },
          "execution_count": 2
        }
      ]
    },
    {
      "cell_type": "markdown",
      "metadata": {
        "id": "4DuhHWYbNdaH",
        "colab_type": "text"
      },
      "source": [
        "### Categorize the reviews as positive, negative, or neutral on the basis of the sentiment scores"
      ]
    },
    {
      "cell_type": "code",
      "metadata": {
        "id": "-j_32Q2BNUI9",
        "colab_type": "code",
        "colab": {
          "base_uri": "https://localhost:8080/",
          "height": 225
        },
        "outputId": "d139d0c6-17b7-45e4-8ea1-a377a5f4649c"
      },
      "source": [
        "def categorize_review(sentiment):\n",
        "    if sentiment > 0.2:\n",
        "        return 1  # 'positive'\n",
        "    elif -0.2 <= sentiment <= 0.2:\n",
        "        return 0  # 'neutral'\n",
        "    else:  # sentiment < 0.2\n",
        "        return -1  # 'negative'\n",
        "\n",
        "review_category = df['review dictionary based sentiment'].apply(categorize_review)\n",
        "review_category "
      ],
      "execution_count": 3,
      "outputs": [
        {
          "output_type": "execute_result",
          "data": {
            "text/plain": [
              "0       0\n",
              "1       1\n",
              "2       0\n",
              "3       0\n",
              "4       0\n",
              "       ..\n",
              "4495    0\n",
              "4496    1\n",
              "4497    0\n",
              "4498    1\n",
              "4499    0\n",
              "Name: review dictionary based sentiment, Length: 4500, dtype: int64"
            ]
          },
          "metadata": {
            "tags": []
          },
          "execution_count": 3
        }
      ]
    },
    {
      "cell_type": "code",
      "metadata": {
        "id": "g4vhjzWcOoID",
        "colab_type": "code",
        "colab": {
          "base_uri": "https://localhost:8080/",
          "height": 225
        },
        "outputId": "c25cb4ed-f1b7-4f6a-9ee6-fdf61697455a"
      },
      "source": [
        "def categorize_rating(rating):\n",
        "    if rating == 5:\n",
        "        return 1  # 'positive'\n",
        "    elif 2 <= rating <= 4:\n",
        "        return 0  # 'neutral'\n",
        "    else:  # rating == 1\n",
        "        return -1  # 'negative'\n",
        "\n",
        "rating_classes = df['rating'].apply(categorize_rating)\n",
        "rating_classes\n"
      ],
      "execution_count": 4,
      "outputs": [
        {
          "output_type": "execute_result",
          "data": {
            "text/plain": [
              "0      -1\n",
              "1      -1\n",
              "2      -1\n",
              "3      -1\n",
              "4      -1\n",
              "       ..\n",
              "4495    1\n",
              "4496    1\n",
              "4497    1\n",
              "4498    1\n",
              "4499    1\n",
              "Name: rating, Length: 4500, dtype: int64"
            ]
          },
          "metadata": {
            "tags": []
          },
          "execution_count": 4
        }
      ]
    },
    {
      "cell_type": "code",
      "metadata": {
        "id": "IrVCu0EZPLq7",
        "colab_type": "code",
        "colab": {
          "base_uri": "https://localhost:8080/",
          "height": 433
        },
        "outputId": "758baf05-d5c3-47fc-b9b1-d8132340a4f1"
      },
      "source": [
        "df['review category'] = review_category\n",
        "df['rating classes'] = rating_classes\n",
        "df"
      ],
      "execution_count": 5,
      "outputs": [
        {
          "output_type": "execute_result",
          "data": {
            "text/html": [
              "<div>\n",
              "<style scoped>\n",
              "    .dataframe tbody tr th:only-of-type {\n",
              "        vertical-align: middle;\n",
              "    }\n",
              "\n",
              "    .dataframe tbody tr th {\n",
              "        vertical-align: top;\n",
              "    }\n",
              "\n",
              "    .dataframe thead th {\n",
              "        text-align: right;\n",
              "    }\n",
              "</style>\n",
              "<table border=\"1\" class=\"dataframe\">\n",
              "  <thead>\n",
              "    <tr style=\"text-align: right;\">\n",
              "      <th></th>\n",
              "      <th>rating</th>\n",
              "      <th>review</th>\n",
              "      <th>review dictionary based sentiment</th>\n",
              "      <th>review category</th>\n",
              "      <th>rating classes</th>\n",
              "    </tr>\n",
              "  </thead>\n",
              "  <tbody>\n",
              "    <tr>\n",
              "      <th>0</th>\n",
              "      <td>1</td>\n",
              "      <td>Recently UBISOFT had to settle a huge class-ac...</td>\n",
              "      <td>-0.013158</td>\n",
              "      <td>0</td>\n",
              "      <td>-1</td>\n",
              "    </tr>\n",
              "    <tr>\n",
              "      <th>1</th>\n",
              "      <td>1</td>\n",
              "      <td>code didn't work, got me a refund.</td>\n",
              "      <td>0.285714</td>\n",
              "      <td>1</td>\n",
              "      <td>-1</td>\n",
              "    </tr>\n",
              "    <tr>\n",
              "      <th>2</th>\n",
              "      <td>1</td>\n",
              "      <td>these do not work at all, all i get is static ...</td>\n",
              "      <td>0.000000</td>\n",
              "      <td>0</td>\n",
              "      <td>-1</td>\n",
              "    </tr>\n",
              "    <tr>\n",
              "      <th>3</th>\n",
              "      <td>1</td>\n",
              "      <td>well let me start by saying that when i first ...</td>\n",
              "      <td>-0.020521</td>\n",
              "      <td>0</td>\n",
              "      <td>-1</td>\n",
              "    </tr>\n",
              "    <tr>\n",
              "      <th>4</th>\n",
              "      <td>1</td>\n",
              "      <td>Dont waste your money, you will just end up us...</td>\n",
              "      <td>0.000000</td>\n",
              "      <td>0</td>\n",
              "      <td>-1</td>\n",
              "    </tr>\n",
              "    <tr>\n",
              "      <th>...</th>\n",
              "      <td>...</td>\n",
              "      <td>...</td>\n",
              "      <td>...</td>\n",
              "      <td>...</td>\n",
              "      <td>...</td>\n",
              "    </tr>\n",
              "    <tr>\n",
              "      <th>4495</th>\n",
              "      <td>5</td>\n",
              "      <td>Nice long micro USB cable, battery lasts a lon...</td>\n",
              "      <td>0.058824</td>\n",
              "      <td>0</td>\n",
              "      <td>1</td>\n",
              "    </tr>\n",
              "    <tr>\n",
              "      <th>4496</th>\n",
              "      <td>5</td>\n",
              "      <td>I've been having a great time with this game. ...</td>\n",
              "      <td>0.222222</td>\n",
              "      <td>1</td>\n",
              "      <td>1</td>\n",
              "    </tr>\n",
              "    <tr>\n",
              "      <th>4497</th>\n",
              "      <td>5</td>\n",
              "      <td>d</td>\n",
              "      <td>0.000000</td>\n",
              "      <td>0</td>\n",
              "      <td>1</td>\n",
              "    </tr>\n",
              "    <tr>\n",
              "      <th>4498</th>\n",
              "      <td>5</td>\n",
              "      <td>Really pretty, funny, interesting game. Works ...</td>\n",
              "      <td>0.455556</td>\n",
              "      <td>1</td>\n",
              "      <td>1</td>\n",
              "    </tr>\n",
              "    <tr>\n",
              "      <th>4499</th>\n",
              "      <td>5</td>\n",
              "      <td>i had a lot of fun playing this game, if your ...</td>\n",
              "      <td>0.038462</td>\n",
              "      <td>0</td>\n",
              "      <td>1</td>\n",
              "    </tr>\n",
              "  </tbody>\n",
              "</table>\n",
              "<p>4500 rows × 5 columns</p>\n",
              "</div>"
            ],
            "text/plain": [
              "      rating  ... rating classes\n",
              "0          1  ...             -1\n",
              "1          1  ...             -1\n",
              "2          1  ...             -1\n",
              "3          1  ...             -1\n",
              "4          1  ...             -1\n",
              "...      ...  ...            ...\n",
              "4495       5  ...              1\n",
              "4496       5  ...              1\n",
              "4497       5  ...              1\n",
              "4498       5  ...              1\n",
              "4499       5  ...              1\n",
              "\n",
              "[4500 rows x 5 columns]"
            ]
          },
          "metadata": {
            "tags": []
          },
          "execution_count": 5
        }
      ]
    },
    {
      "cell_type": "code",
      "metadata": {
        "id": "i0uuXgJuPyVV",
        "colab_type": "code",
        "colab": {}
      },
      "source": [
        "df.to_csv('dictionary_based_sentiment_evaluation.csv')"
      ],
      "execution_count": 6,
      "outputs": []
    },
    {
      "cell_type": "markdown",
      "metadata": {
        "id": "d6PM7nOYU6jx",
        "colab_type": "text"
      },
      "source": [
        "# Evaluate your dictionary-based sentiment analyzer\n"
      ]
    },
    {
      "cell_type": "markdown",
      "metadata": {
        "id": "FkDonhvSVTR3",
        "colab_type": "text"
      },
      "source": [
        "### How many reviews are categorized correctly as positive, negative, or neutral by your dictionary-based sentiment analyzer? (This value is called accuracy.)"
      ]
    },
    {
      "cell_type": "code",
      "metadata": {
        "id": "vB3MxM90Vc6m",
        "colab_type": "code",
        "colab": {
          "base_uri": "https://localhost:8080/",
          "height": 52
        },
        "outputId": "4265047b-719b-4bef-ace1-595f7f7cc1b0"
      },
      "source": [
        "# check if review category is correctly classified with rating classes\n",
        "s = np.where(df['review category'] == df['rating classes'], 1, 0)\n",
        "print('array of correctly classified (len: {}): {}'.format(len(s), s))\n",
        "\n",
        "# sum value 1 (correctly classified) div by total categorized data\n",
        "a = sum(s) / len(s)\n",
        "print('accuracy of correctly classified category: {} / {} = {}'\\\n",
        "      .format(sum(s), len(s), a))"
      ],
      "execution_count": 7,
      "outputs": [
        {
          "output_type": "stream",
          "text": [
            "array of correctly classified (len: 4500): [0 0 0 ... 0 1 0]\n",
            "accuracy of correctly classified category: 1866 / 4500 = 0.4146666666666667\n"
          ],
          "name": "stdout"
        }
      ]
    },
    {
      "cell_type": "markdown",
      "metadata": {
        "id": "dWisL2Zki5we",
        "colab_type": "text"
      },
      "source": [
        "### use the metrics module of scikit learn package\n",
        "\n",
        "import functions from sklearn.metrics"
      ]
    },
    {
      "cell_type": "code",
      "metadata": {
        "id": "FK7G6LO3XvB_",
        "colab_type": "code",
        "colab": {
          "base_uri": "https://localhost:8080/",
          "height": 52
        },
        "outputId": "d1f3d42d-38e7-46f4-b758-7c45baf1be1c"
      },
      "source": [
        "from sklearn.metrics import accuracy_score\n",
        "\n",
        "y_pred = list(df['review category'])\n",
        "y_true = list(df['rating classes'])\n",
        "\n",
        "print('accuracy score: {}'.format(accuracy_score(y_true=y_true, y_pred=y_pred)))\n",
        "print('accuracy score (normalized): {}'\\\n",
        "      .format(accuracy_score(y_true=y_true, y_pred=y_pred, normalize=True)))"
      ],
      "execution_count": 8,
      "outputs": [
        {
          "output_type": "stream",
          "text": [
            "accuracy score: 0.4146666666666667\n",
            "accuracy score (normalized): 0.4146666666666667\n"
          ],
          "name": "stdout"
        }
      ]
    },
    {
      "cell_type": "code",
      "metadata": {
        "id": "UGwE980knsDG",
        "colab_type": "code",
        "colab": {
          "base_uri": "https://localhost:8080/",
          "height": 208
        },
        "outputId": "d2cd1c2c-c339-4948-edc5-a7808ebf9ee8"
      },
      "source": [
        "from sklearn.metrics import classification_report\n",
        "\n",
        "target_names = ['class Negative', 'class Neutral', 'class Positive']\n",
        "\n",
        "print('classification report:\\n{}'\\\n",
        "      .format(classification_report(y_true=y_true, y_pred=y_pred,\n",
        "                                    target_names=target_names)))"
      ],
      "execution_count": 9,
      "outputs": [
        {
          "output_type": "stream",
          "text": [
            "classification report:\n",
            "                precision    recall  f1-score   support\n",
            "\n",
            "class Negative       0.76      0.05      0.09      1500\n",
            " class Neutral       0.36      0.94      0.52      1500\n",
            "class Positive       0.80      0.26      0.40      1500\n",
            "\n",
            "      accuracy                           0.41      4500\n",
            "     macro avg       0.64      0.41      0.33      4500\n",
            "  weighted avg       0.64      0.41      0.33      4500\n",
            "\n"
          ],
          "name": "stdout"
        }
      ]
    },
    {
      "cell_type": "markdown",
      "metadata": {
        "id": "eQru_iYIppCs",
        "colab_type": "text"
      },
      "source": [
        "### create confusion matrix\n",
        "\n",
        "plot with matplotlib and seaborn heatmap"
      ]
    },
    {
      "cell_type": "code",
      "metadata": {
        "id": "lA2Z-SYMtr-d",
        "colab_type": "code",
        "colab": {
          "base_uri": "https://localhost:8080/",
          "height": 367
        },
        "outputId": "66afc405-7c4b-4328-e83f-7fd711cde183"
      },
      "source": [
        "from sklearn.metrics import confusion_matrix\n",
        "\n",
        "cm = confusion_matrix(y_true=y_true, y_pred=y_pred)\n",
        "print('confusion matrix:\\n{}'.format(cm))\n",
        "\n",
        "plt.figure()\n",
        "target_names = ['Negative', 'Neutral', 'Positive']\n",
        "normalize = False\n",
        "\n",
        "plt.imshow(cm, interpolation='nearest', cmap=plt.cm.Blues)\n",
        "plt.title('confusion matrix without normalization')\n",
        "plt.colorbar()\n",
        "tick_marks = np.arange(len(target_names))\n",
        "plt.xticks(tick_marks, target_names, rotation=45)\n",
        "plt.yticks(tick_marks, target_names)\n",
        "\n",
        "fmt = '.2f' if normalize else 'd'\n",
        "thresh = cm.max() / 2.\n",
        "for i, j in product(range(cm.shape[0]), range(cm.shape[1])):\n",
        "    plt.text(j, i, format(cm[i, j], fmt),\n",
        "             horizontalalignment=\"center\",\n",
        "             color=\"white\" if cm[i, j] > thresh else \"black\")\n",
        "\n",
        "plt.ylabel('True label')\n",
        "plt.xlabel('Predicted label')\n",
        "plt.tight_layout()\n"
      ],
      "execution_count": 10,
      "outputs": [
        {
          "output_type": "stream",
          "text": [
            "confusion matrix:\n",
            "[[  68 1411   21]\n",
            " [  20 1404   76]\n",
            " [   2 1104  394]]\n"
          ],
          "name": "stdout"
        },
        {
          "output_type": "display_data",
          "data": {
            "image/png": "[encoded data removed]",
            "text/plain": [
              "<Figure size 432x288 with 2 Axes>"
            ]
          },
          "metadata": {
            "tags": [],
            "needs_background": "light"
          }
        }
      ]
    },
    {
      "cell_type": "code",
      "metadata": {
        "id": "6U9NCMRTfIj2",
        "colab_type": "code",
        "colab": {
          "base_uri": "https://localhost:8080/",
          "height": 360
        },
        "outputId": "66763cf6-97fa-400a-af02-cacf519dde6a"
      },
      "source": [
        "sn.set(font_scale=1.4)  # seaborn\n",
        "\n",
        "target_names = ['Negative', 'Neutral', 'Positive']\n",
        "\n",
        "cmn = confusion_matrix(y_true=y_true, y_pred=y_pred, normalize='all')\n",
        "print('confusion matrix (normalized):\\n{}'.format(cmn))\n",
        "df_cmn = pd.DataFrame(cmn, index=target_names, columns=target_names)\n",
        "sn.heatmap(df_cmn, annot=True, annot_kws={\"size\": 16})\n",
        "\n",
        "plt.plot()"
      ],
      "execution_count": 11,
      "outputs": [
        {
          "output_type": "stream",
          "text": [
            "confusion matrix (normalized):\n",
            "[[0.01511111 0.31355556 0.00466667]\n",
            " [0.00444444 0.312      0.01688889]\n",
            " [0.00044444 0.24533333 0.08755556]]\n"
          ],
          "name": "stdout"
        },
        {
          "output_type": "execute_result",
          "data": {
            "text/plain": [
              "[]"
            ]
          },
          "metadata": {
            "tags": []
          },
          "execution_count": 11
        },
        {
          "output_type": "display_data",
          "data": {
            "image/png": "[encoded data removed]",
            "text/plain": [
              "<Figure size 432x288 with 2 Axes>"
            ]
          },
          "metadata": {
            "tags": []
          }
        }
      ]
    },
    {
      "cell_type": "markdown",
      "metadata": {
        "id": "Fnh2gq-Xo1gk",
        "colab_type": "text"
      },
      "source": [
        "### Write a textual summary on the performance of your sentiment analyzer\n",
        "\n",
        "use the evaluation text report function of the metrics module"
      ]
    },
    {
      "cell_type": "code",
      "metadata": {
        "id": "fUApk8F1kgyh",
        "colab_type": "code",
        "colab": {
          "base_uri": "https://localhost:8080/",
          "height": 208
        },
        "outputId": "b680c29a-ea81-449a-e02e-1a3c93266a83"
      },
      "source": [
        "from sklearn.metrics import classification_report\n",
        "\n",
        "y_pred = list(df['review category'])\n",
        "y_true = list(df['rating classes'])\n",
        "target_names = ['class Negative', 'class Neutral', 'class Positive']\n",
        "\n",
        "print('classification report:\\n{}'\\\n",
        "      .format(classification_report(y_true=y_true, y_pred=y_pred,\n",
        "                                    target_names=target_names)))"
      ],
      "execution_count": 12,
      "outputs": [
        {
          "output_type": "stream",
          "text": [
            "classification report:\n",
            "                precision    recall  f1-score   support\n",
            "\n",
            "class Negative       0.76      0.05      0.09      1500\n",
            " class Neutral       0.36      0.94      0.52      1500\n",
            "class Positive       0.80      0.26      0.40      1500\n",
            "\n",
            "      accuracy                           0.41      4500\n",
            "     macro avg       0.64      0.41      0.33      4500\n",
            "  weighted avg       0.64      0.41      0.33      4500\n",
            "\n"
          ],
          "name": "stdout"
        }
      ]
    },
    {
      "cell_type": "markdown",
      "metadata": {
        "id": "Ghq8vGa1pgiQ",
        "colab_type": "text"
      },
      "source": [
        "# Illustrate the evaluation of your sentiment analyzer\n",
        "\n",
        "create confusion matrix using altair\n"
      ]
    },
    {
      "cell_type": "code",
      "metadata": {
        "id": "8oTw5Rh_pQNp",
        "colab_type": "code",
        "colab": {
          "base_uri": "https://localhost:8080/",
          "height": 542
        },
        "outputId": "37eeb550-2581-4d9e-fc21-5cc9d919a384"
      },
      "source": [
        "y_true = list(df['rating classes'])\n",
        "y_pred = list(df['review category'])\n",
        "\n",
        "# labels = np.unique(y_true)  # no -1 value on y_true(?)\n",
        "labels = [-1, 0, 1]\n",
        "cm = confusion_matrix(y_true=y_true, y_pred=y_pred, labels=labels)\n",
        "cm = [y for i in cm for y in i]\n",
        "roll = list(product(labels, repeat = 2))\n",
        "columns = [\"actual\", \"predicted\", \"confusion_matrix\"]\n",
        "df_cm_alt = pd.DataFrame(columns=columns)\n",
        "for i in range(len(roll)):\n",
        "    df_cm_alt = df_cm_alt.append({\n",
        "        'actual':roll[i][0], \n",
        "        'predicted':roll[i][1], \n",
        "        'confusion_matrix':cm[i]}, ignore_index=True)\n",
        "\n",
        "# create chart\n",
        "cm_alt_chart = alt.Chart(df_cm_alt).mark_rect()\\\n",
        "    .encode(x=\"predicted:O\", y=\"actual:O\", color=\"confusion_matrix:Q\")\\\n",
        "    .properties(width=640, height=480)\n",
        "cm_alt_chart"
      ],
      "execution_count": 13,
      "outputs": [
        {
          "output_type": "execute_result",
          "data": {
            "text/plain": [
              "alt.Chart(...)"
            ],
            "text/html": [
              "\n",
              "<div id=\"altair-viz-080a725ab7e5406ba248eb31a7775ec9\"></div>\n",
              "<script type=\"text/javascript\">\n",
              "  (function(spec, embedOpt){\n",
              "    let outputDiv = document.currentScript.previousElementSibling;\n",
              "    if (outputDiv.id !== \"altair-viz-080a725ab7e5406ba248eb31a7775ec9\") {\n",
              "      outputDiv = document.getElementById(\"altair-viz-080a725ab7e5406ba248eb31a7775ec9\");\n",
              "    }\n",
              "    const paths = {\n",
              "      \"vega\": \"https://cdn.jsdelivr.net/npm//vega@5?noext\",\n",
              "      \"vega-lib\": \"https://cdn.jsdelivr.net/npm//vega-lib?noext\",\n",
              "      \"vega-lite\": \"https://cdn.jsdelivr.net/npm//vega-lite@4.8.1?noext\",\n",
              "      \"vega-embed\": \"https://cdn.jsdelivr.net/npm//vega-embed@6?noext\",\n",
              "    };\n",
              "\n",
              "    function loadScript(lib) {\n",
              "      return new Promise(function(resolve, reject) {\n",
              "        var s = document.createElement('script');\n",
              "        s.src = paths[lib];\n",
              "        s.async = true;\n",
              "        s.onload = () => resolve(paths[lib]);\n",
              "        s.onerror = () => reject(`Error loading script: ${paths[lib]}`);\n",
              "        document.getElementsByTagName(\"head\")[0].appendChild(s);\n",
              "      });\n",
              "    }\n",
              "\n",
              "    function showError(err) {\n",
              "      outputDiv.innerHTML = `<div class=\"error\" style=\"color:red;\">${err}</div>`;\n",
              "      throw err;\n",
              "    }\n",
              "\n",
              "    function displayChart(vegaEmbed) {\n",
              "      vegaEmbed(outputDiv, spec, embedOpt)\n",
              "        .catch(err => showError(`Javascript Error: ${err.message}<br>This usually means there's a typo in your chart specification. See the javascript console for the full traceback.`));\n",
              "    }\n",
              "\n",
              "    if(typeof define === \"function\" && define.amd) {\n",
              "      requirejs.config({paths});\n",
              "      require([\"vega-embed\"], displayChart, err => showError(`Error loading script: ${err.message}`));\n",
              "    } else if (typeof vegaEmbed === \"function\") {\n",
              "      displayChart(vegaEmbed);\n",
              "    } else {\n",
              "      loadScript(\"vega\")\n",
              "        .then(() => loadScript(\"vega-lite\"))\n",
              "        .then(() => loadScript(\"vega-embed\"))\n",
              "        .catch(showError)\n",
              "        .then(() => displayChart(vegaEmbed));\n",
              "    }\n",
              "  })({\"config\": {\"view\": {\"continuousWidth\": 400, \"continuousHeight\": 300}}, \"data\": {\"name\": \"data-31901ff555efe084d4e8fed334ddbb65\"}, \"mark\": \"rect\", \"encoding\": {\"color\": {\"type\": \"quantitative\", \"field\": \"confusion_matrix\"}, \"x\": {\"type\": \"ordinal\", \"field\": \"predicted\"}, \"y\": {\"type\": \"ordinal\", \"field\": \"actual\"}}, \"height\": 480, \"width\": 640, \"$schema\": \"https://vega.github.io/schema/vega-lite/v4.8.1.json\", \"datasets\": {\"data-31901ff555efe084d4e8fed334ddbb65\": [{\"actual\": -1, \"predicted\": -1, \"confusion_matrix\": 68}, {\"actual\": -1, \"predicted\": 0, \"confusion_matrix\": 1411}, {\"actual\": -1, \"predicted\": 1, \"confusion_matrix\": 21}, {\"actual\": 0, \"predicted\": -1, \"confusion_matrix\": 20}, {\"actual\": 0, \"predicted\": 0, \"confusion_matrix\": 1404}, {\"actual\": 0, \"predicted\": 1, \"confusion_matrix\": 76}, {\"actual\": 1, \"predicted\": -1, \"confusion_matrix\": 2}, {\"actual\": 1, \"predicted\": 0, \"confusion_matrix\": 1104}, {\"actual\": 1, \"predicted\": 1, \"confusion_matrix\": 394}]}}, {\"mode\": \"vega-lite\"});\n",
              "</script>"
            ]
          },
          "metadata": {
            "tags": []
          },
          "execution_count": 13
        }
      ]
    },
    {
      "cell_type": "code",
      "metadata": {
        "id": "FLjS8y67zX8T",
        "colab_type": "code",
        "colab": {}
      },
      "source": [
        ""
      ],
      "execution_count": 13,
      "outputs": []
    }
  ]
}
