{
  "nbformat": 4,
  "nbformat_minor": 0,
  "metadata": {
    "colab": {
      "name": "create_dictionary_based_sentiment_analyzer.ipynb",
      "provenance": [],
      "toc_visible": true,
      "authorship_tag": "ABX9TyMDA92Fc4olaltT+kUnjHf3",
      "include_colab_link": true
    },
    "kernelspec": {
      "name": "python3",
      "display_name": "Python 3"
    }
  },
  "cells": [
    {
      "cell_type": "markdown",
      "metadata": {
        "id": "view-in-github",
        "colab_type": "text"
      },
      "source": [
        "<a href=\"https://colab.research.google.com/github/oonid/growth-hacking-with-nlp-sentiment-analysis/blob/master/create_dictionary_based_sentiment_analyzer.ipynb\" target=\"_parent\"><img src=\"https://colab.research.google.com/assets/colab-badge.svg\" alt=\"Open In Colab\"/></a>"
      ]
    },
    {
      "cell_type": "markdown",
      "metadata": {
        "id": "fv0gaMFmHwra",
        "colab_type": "text"
      },
      "source": [
        "# Dictionary Based Sentiment Analyzer\n",
        "\n",
        "* Word tokenization\n",
        "* Sentence tokenization\n",
        "* Scoring of the reviews\n",
        "* Comparison of the scores with the reviews in plots\n",
        "* Measuring the distribution\n",
        "* Handling negation\n",
        "* Adjusting your dictionary-based sentiment analyzer\n",
        "* Checking your results"
      ]
    },
    {
      "cell_type": "code",
      "metadata": {
        "id": "yo6ViHkBKc6x",
        "colab_type": "code",
        "outputId": "473908e6-dd8d-4fd0-a245-be2c59cde192",
        "colab": {
          "base_uri": "https://localhost:8080/",
          "height": 69
        }
      },
      "source": [
        "# all imports and related\n",
        "\n",
        "%matplotlib inline\n",
        "\n",
        "import pandas as pd\n",
        "import numpy as np\n",
        "import altair as alt\n",
        "\n",
        "from nltk import download as nltk_download\n",
        "from nltk.tokenize import word_tokenize, sent_tokenize\n",
        "\n",
        "nltk_download('punkt')  # required by word_tokenize"
      ],
      "execution_count": 1,
      "outputs": [
        {
          "output_type": "stream",
          "text": [
            "[nltk_data] Downloading package punkt to /root/nltk_data...\n",
            "[nltk_data]   Unzipping tokenizers/punkt.zip.\n"
          ],
          "name": "stdout"
        },
        {
          "output_type": "execute_result",
          "data": {
            "text/plain": [
              "True"
            ]
          },
          "metadata": {
            "tags": []
          },
          "execution_count": 1
        }
      ]
    },
    {
      "cell_type": "markdown",
      "metadata": {
        "id": "81cswx9RIFFt",
        "colab_type": "text"
      },
      "source": [
        "### load the small_corpus CSV\n",
        "\n",
        "run process from\n",
        "[create_dataset.ipynb](https://github.com/oonid/growth-hacking-with-nlp-sentiment-analysis/blob/master/create_dataset.ipynb)\n",
        "\n",
        "copy file **small_corpus.csv** to this Google Colab Files (via file upload or mount drive).\n"
      ]
    },
    {
      "cell_type": "code",
      "metadata": {
        "id": "LxyLiywrHXBE",
        "colab_type": "code",
        "outputId": "8863883e-10a0-4a28-b475-3e5a0c71da0f",
        "colab": {
          "base_uri": "https://localhost:8080/",
          "height": 415
        }
      },
      "source": [
        "df = pd.read_csv('small_corpus.csv')\n",
        "df"
      ],
      "execution_count": 2,
      "outputs": [
        {
          "output_type": "execute_result",
          "data": {
            "text/html": [
              "<div>\n",
              "<style scoped>\n",
              "    .dataframe tbody tr th:only-of-type {\n",
              "        vertical-align: middle;\n",
              "    }\n",
              "\n",
              "    .dataframe tbody tr th {\n",
              "        vertical-align: top;\n",
              "    }\n",
              "\n",
              "    .dataframe thead th {\n",
              "        text-align: right;\n",
              "    }\n",
              "</style>\n",
              "<table border=\"1\" class=\"dataframe\">\n",
              "  <thead>\n",
              "    <tr style=\"text-align: right;\">\n",
              "      <th></th>\n",
              "      <th>ratings</th>\n",
              "      <th>reviews</th>\n",
              "    </tr>\n",
              "  </thead>\n",
              "  <tbody>\n",
              "    <tr>\n",
              "      <th>0</th>\n",
              "      <td>1</td>\n",
              "      <td>Recently UBISOFT had to settle a huge class-ac...</td>\n",
              "    </tr>\n",
              "    <tr>\n",
              "      <th>1</th>\n",
              "      <td>1</td>\n",
              "      <td>code didn't work, got me a refund.</td>\n",
              "    </tr>\n",
              "    <tr>\n",
              "      <th>2</th>\n",
              "      <td>1</td>\n",
              "      <td>these do not work at all, all i get is static ...</td>\n",
              "    </tr>\n",
              "    <tr>\n",
              "      <th>3</th>\n",
              "      <td>1</td>\n",
              "      <td>well let me start by saying that when i first ...</td>\n",
              "    </tr>\n",
              "    <tr>\n",
              "      <th>4</th>\n",
              "      <td>1</td>\n",
              "      <td>Dont waste your money, you will just end up us...</td>\n",
              "    </tr>\n",
              "    <tr>\n",
              "      <th>...</th>\n",
              "      <td>...</td>\n",
              "      <td>...</td>\n",
              "    </tr>\n",
              "    <tr>\n",
              "      <th>4495</th>\n",
              "      <td>5</td>\n",
              "      <td>Nice long micro USB cable, battery lasts a lon...</td>\n",
              "    </tr>\n",
              "    <tr>\n",
              "      <th>4496</th>\n",
              "      <td>5</td>\n",
              "      <td>I've been having a great time with this game. ...</td>\n",
              "    </tr>\n",
              "    <tr>\n",
              "      <th>4497</th>\n",
              "      <td>5</td>\n",
              "      <td>d</td>\n",
              "    </tr>\n",
              "    <tr>\n",
              "      <th>4498</th>\n",
              "      <td>5</td>\n",
              "      <td>Really pretty, funny, interesting game. Works ...</td>\n",
              "    </tr>\n",
              "    <tr>\n",
              "      <th>4499</th>\n",
              "      <td>5</td>\n",
              "      <td>i had a lot of fun playing this game, if your ...</td>\n",
              "    </tr>\n",
              "  </tbody>\n",
              "</table>\n",
              "<p>4500 rows × 2 columns</p>\n",
              "</div>"
            ],
            "text/plain": [
              "      ratings                                            reviews\n",
              "0           1  Recently UBISOFT had to settle a huge class-ac...\n",
              "1           1                 code didn't work, got me a refund.\n",
              "2           1  these do not work at all, all i get is static ...\n",
              "3           1  well let me start by saying that when i first ...\n",
              "4           1  Dont waste your money, you will just end up us...\n",
              "...       ...                                                ...\n",
              "4495        5  Nice long micro USB cable, battery lasts a lon...\n",
              "4496        5  I've been having a great time with this game. ...\n",
              "4497        5                                                  d\n",
              "4498        5  Really pretty, funny, interesting game. Works ...\n",
              "4499        5  i had a lot of fun playing this game, if your ...\n",
              "\n",
              "[4500 rows x 2 columns]"
            ]
          },
          "metadata": {
            "tags": []
          },
          "execution_count": 2
        }
      ]
    },
    {
      "cell_type": "code",
      "metadata": {
        "id": "PFxrdXW-OLvp",
        "colab_type": "code",
        "outputId": "7a3aaac2-0990-4a1e-f52f-6b5d40df8267",
        "colab": {
          "base_uri": "https://localhost:8080/",
          "height": 69
        }
      },
      "source": [
        "# check if any columns has null, and yes the reviews columns has\n",
        "df.isnull().any()"
      ],
      "execution_count": 3,
      "outputs": [
        {
          "output_type": "execute_result",
          "data": {
            "text/plain": [
              "ratings    False\n",
              "reviews     True\n",
              "dtype: bool"
            ]
          },
          "metadata": {
            "tags": []
          },
          "execution_count": 3
        }
      ]
    },
    {
      "cell_type": "code",
      "metadata": {
        "id": "BEXN07u-Osnm",
        "colab_type": "code",
        "outputId": "d9cc0a7b-3ee4-4640-dac2-4311a8907725",
        "colab": {
          "base_uri": "https://localhost:8080/",
          "height": 69
        }
      },
      "source": [
        "# repair null in column reviews with empty string ''\n",
        "df.reviews = df.reviews.fillna('')\n",
        "\n",
        "# test again\n",
        "df.isnull().any()"
      ],
      "execution_count": 4,
      "outputs": [
        {
          "output_type": "execute_result",
          "data": {
            "text/plain": [
              "ratings    False\n",
              "reviews    False\n",
              "dtype: bool"
            ]
          },
          "metadata": {
            "tags": []
          },
          "execution_count": 4
        }
      ]
    },
    {
      "cell_type": "markdown",
      "metadata": {
        "id": "47i2oNUgQU-F",
        "colab_type": "text"
      },
      "source": [
        "### tokenize the sentences and words of the reviews"
      ]
    },
    {
      "cell_type": "code",
      "metadata": {
        "id": "lufWRnRULCbQ",
        "colab_type": "code",
        "outputId": "81c3decb-cffa-4456-8bed-e4c72b672844",
        "colab": {
          "base_uri": "https://localhost:8080/",
          "height": 225
        }
      },
      "source": [
        "word_tokenized = df['reviews'].apply(word_tokenize)\n",
        "word_tokenized"
      ],
      "execution_count": 5,
      "outputs": [
        {
          "output_type": "execute_result",
          "data": {
            "text/plain": [
              "0       [Recently, UBISOFT, had, to, settle, a, huge, ...\n",
              "1        [code, did, n't, work, ,, got, me, a, refund, .]\n",
              "2       [these, do, not, work, at, all, ,, all, i, get...\n",
              "3       [well, let, me, start, by, saying, that, when,...\n",
              "4       [Dont, waste, your, money, ,, you, will, just,...\n",
              "                              ...                        \n",
              "4495    [Nice, long, micro, USB, cable, ,, battery, la...\n",
              "4496    [I, 've, been, having, a, great, time, with, t...\n",
              "4497                                                  [d]\n",
              "4498    [Really, pretty, ,, funny, ,, interesting, gam...\n",
              "4499    [i, had, a, lot, of, fun, playing, this, game,...\n",
              "Name: reviews, Length: 4500, dtype: object"
            ]
          },
          "metadata": {
            "tags": []
          },
          "execution_count": 5
        }
      ]
    },
    {
      "cell_type": "code",
      "metadata": {
        "id": "KWe_2rN2LmmK",
        "colab_type": "code",
        "outputId": "014a0281-ec8f-4f04-f153-9bdf80e37f4b",
        "colab": {
          "base_uri": "https://localhost:8080/",
          "height": 225
        }
      },
      "source": [
        "sent_tokenized = df['reviews'].apply(sent_tokenize)\n",
        "sent_tokenized"
      ],
      "execution_count": 6,
      "outputs": [
        {
          "output_type": "execute_result",
          "data": {
            "text/plain": [
              "0       [Recently UBISOFT had to settle a huge class-a...\n",
              "1                    [code didn't work, got me a refund.]\n",
              "2       [these do not work at all, all i get is static...\n",
              "3       [well let me start by saying that when i first...\n",
              "4       [Dont waste your money, you will just end up u...\n",
              "                              ...                        \n",
              "4495    [Nice long micro USB cable, battery lasts a lo...\n",
              "4496    [I've been having a great time with this game....\n",
              "4497                                                  [d]\n",
              "4498    [Really pretty, funny, interesting game., Work...\n",
              "4499    [i had a lot of fun playing this game, if your...\n",
              "Name: reviews, Length: 4500, dtype: object"
            ]
          },
          "metadata": {
            "tags": []
          },
          "execution_count": 6
        }
      ]
    },
    {
      "cell_type": "markdown",
      "metadata": {
        "id": "9J4INBoDQgIi",
        "colab_type": "text"
      },
      "source": [
        "### download the opinion lexicon of NLTK\n",
        "\n",
        "use it with reference to it source:\n",
        "\n",
        "https://www.nltk.org/_modules/nltk/corpus/reader/opinion_lexicon.html\n",
        "\n"
      ]
    },
    {
      "cell_type": "code",
      "metadata": {
        "id": "B5a72gM7Pl6N",
        "colab_type": "code",
        "outputId": "ccc91f8a-d7d3-4c9d-a88c-361254524c15",
        "colab": {
          "base_uri": "https://localhost:8080/",
          "height": 52
        }
      },
      "source": [
        "# imports and related\n",
        "\n",
        "nltk_download('opinion_lexicon')\n",
        "\n",
        "from nltk.corpus import opinion_lexicon"
      ],
      "execution_count": 7,
      "outputs": [
        {
          "output_type": "stream",
          "text": [
            "[nltk_data] Downloading package opinion_lexicon to /root/nltk_data...\n",
            "[nltk_data]   Unzipping corpora/opinion_lexicon.zip.\n"
          ],
          "name": "stdout"
        }
      ]
    },
    {
      "cell_type": "code",
      "metadata": {
        "id": "aE_AwlMwQxB6",
        "colab_type": "code",
        "colab": {
          "base_uri": "https://localhost:8080/",
          "height": 124
        },
        "outputId": "95ad567d-7386-4202-f0ba-e58b693713bd"
      },
      "source": [
        "print(len(opinion_lexicon.words()))\n",
        "print(len(opinion_lexicon.negative()))\n",
        "print(len(opinion_lexicon.positive()))\n",
        "print(opinion_lexicon.words()[:10])  # print first 10 sorted by file id\n",
        "print(sorted(opinion_lexicon.words())[:10])  # print first 10 sorted alphabet"
      ],
      "execution_count": 8,
      "outputs": [
        {
          "output_type": "stream",
          "text": [
            "6789\n",
            "4783\n",
            "2006\n",
            "['2-faced', '2-faces', 'abnormal', 'abolish', 'abominable', 'abominably', 'abominate', 'abomination', 'abort', 'aborted']\n",
            "['2-faced', '2-faces', 'a+', 'abnormal', 'abolish', 'abominable', 'abominably', 'abominate', 'abomination', 'abort']\n"
          ],
          "name": "stdout"
        }
      ]
    },
    {
      "cell_type": "code",
      "metadata": {
        "id": "3X92TU6UGb6Y",
        "colab_type": "code",
        "colab": {
          "base_uri": "https://localhost:8080/",
          "height": 104
        },
        "outputId": "c52df93b-c385-482c-e1ae-069892c203ca"
      },
      "source": [
        "def simple_opinion_test(words):\n",
        "    if words not in opinion_lexicon.words():\n",
        "        print('{} not covered on opinion_lexicon'.format(words))\n",
        "    else:\n",
        "        if words in opinion_lexicon.negative():\n",
        "            print('{} is negative'.format(words))\n",
        "        if words in opinion_lexicon.positive():\n",
        "            print('{} is positive'.format(words))\n",
        "\n",
        "simple_opinion_test('awful')\n",
        "simple_opinion_test('beautiful')\n",
        "simple_opinion_test('useless')\n",
        "simple_opinion_test('Great')  # must be lower case\n",
        "simple_opinion_test('warming')\n"
      ],
      "execution_count": 9,
      "outputs": [
        {
          "output_type": "stream",
          "text": [
            "awful is negative\n",
            "beautiful is positive\n",
            "useless is negative\n",
            "Great not covered on opinion_lexicon\n",
            "warming not covered on opinion_lexicon\n"
          ],
          "name": "stdout"
        }
      ]
    },
    {
      "cell_type": "markdown",
      "metadata": {
        "id": "eZlGLTnEQRjX",
        "colab_type": "text"
      },
      "source": [
        "### classify each review in a scale of -1 to +1"
      ]
    },
    {
      "cell_type": "code",
      "metadata": {
        "id": "0qgOKjB8QXp-",
        "colab_type": "code",
        "colab": {
          "base_uri": "https://localhost:8080/",
          "height": 415
        },
        "outputId": "ae9b71e9-7626-4751-a52c-5d0f314a709e"
      },
      "source": [
        "dfc = pd.DataFrame()\n",
        "dfc['word_tokenized'] = word_tokenized\n",
        "dfc"
      ],
      "execution_count": 10,
      "outputs": [
        {
          "output_type": "execute_result",
          "data": {
            "text/html": [
              "<div>\n",
              "<style scoped>\n",
              "    .dataframe tbody tr th:only-of-type {\n",
              "        vertical-align: middle;\n",
              "    }\n",
              "\n",
              "    .dataframe tbody tr th {\n",
              "        vertical-align: top;\n",
              "    }\n",
              "\n",
              "    .dataframe thead th {\n",
              "        text-align: right;\n",
              "    }\n",
              "</style>\n",
              "<table border=\"1\" class=\"dataframe\">\n",
              "  <thead>\n",
              "    <tr style=\"text-align: right;\">\n",
              "      <th></th>\n",
              "      <th>word_tokenized</th>\n",
              "    </tr>\n",
              "  </thead>\n",
              "  <tbody>\n",
              "    <tr>\n",
              "      <th>0</th>\n",
              "      <td>[Recently, UBISOFT, had, to, settle, a, huge, ...</td>\n",
              "    </tr>\n",
              "    <tr>\n",
              "      <th>1</th>\n",
              "      <td>[code, did, n't, work, ,, got, me, a, refund, .]</td>\n",
              "    </tr>\n",
              "    <tr>\n",
              "      <th>2</th>\n",
              "      <td>[these, do, not, work, at, all, ,, all, i, get...</td>\n",
              "    </tr>\n",
              "    <tr>\n",
              "      <th>3</th>\n",
              "      <td>[well, let, me, start, by, saying, that, when,...</td>\n",
              "    </tr>\n",
              "    <tr>\n",
              "      <th>4</th>\n",
              "      <td>[Dont, waste, your, money, ,, you, will, just,...</td>\n",
              "    </tr>\n",
              "    <tr>\n",
              "      <th>...</th>\n",
              "      <td>...</td>\n",
              "    </tr>\n",
              "    <tr>\n",
              "      <th>4495</th>\n",
              "      <td>[Nice, long, micro, USB, cable, ,, battery, la...</td>\n",
              "    </tr>\n",
              "    <tr>\n",
              "      <th>4496</th>\n",
              "      <td>[I, 've, been, having, a, great, time, with, t...</td>\n",
              "    </tr>\n",
              "    <tr>\n",
              "      <th>4497</th>\n",
              "      <td>[d]</td>\n",
              "    </tr>\n",
              "    <tr>\n",
              "      <th>4498</th>\n",
              "      <td>[Really, pretty, ,, funny, ,, interesting, gam...</td>\n",
              "    </tr>\n",
              "    <tr>\n",
              "      <th>4499</th>\n",
              "      <td>[i, had, a, lot, of, fun, playing, this, game,...</td>\n",
              "    </tr>\n",
              "  </tbody>\n",
              "</table>\n",
              "<p>4500 rows × 1 columns</p>\n",
              "</div>"
            ],
            "text/plain": [
              "                                         word_tokenized\n",
              "0     [Recently, UBISOFT, had, to, settle, a, huge, ...\n",
              "1      [code, did, n't, work, ,, got, me, a, refund, .]\n",
              "2     [these, do, not, work, at, all, ,, all, i, get...\n",
              "3     [well, let, me, start, by, saying, that, when,...\n",
              "4     [Dont, waste, your, money, ,, you, will, just,...\n",
              "...                                                 ...\n",
              "4495  [Nice, long, micro, USB, cable, ,, battery, la...\n",
              "4496  [I, 've, been, having, a, great, time, with, t...\n",
              "4497                                                [d]\n",
              "4498  [Really, pretty, ,, funny, ,, interesting, gam...\n",
              "4499  [i, had, a, lot, of, fun, playing, this, game,...\n",
              "\n",
              "[4500 rows x 1 columns]"
            ]
          },
          "metadata": {
            "tags": []
          },
          "execution_count": 10
        }
      ]
    },
    {
      "cell_type": "code",
      "metadata": {
        "id": "ounKyn4iQQj2",
        "colab_type": "code",
        "colab": {}
      },
      "source": [
        "def score_review(l):\n",
        "    total = 0\n",
        "    for w in l:\n",
        "        if w not in [',', '.', ':', \"'\", '\"', '(', ')', '!', '?', '...']:\n",
        "            if w.lower() in opinion_lexicon.negative():\n",
        "                total -= 1\n",
        "            if w.lower() in opinion_lexicon.positive():\n",
        "                total += 1\n",
        "    if total > 0:\n",
        "        return 1\n",
        "    elif total < 0:\n",
        "        return -1\n",
        "    else:\n",
        "        return 0\n",
        "\n",
        "dfc['score'] = dfc['word_tokenized'].apply(score_review)"
      ],
      "execution_count": 0,
      "outputs": []
    },
    {
      "cell_type": "code",
      "metadata": {
        "id": "uUnVZm-XKQUi",
        "colab_type": "code",
        "colab": {}
      },
      "source": [
        "dfc"
      ],
      "execution_count": 0,
      "outputs": []
    }
  ]
}