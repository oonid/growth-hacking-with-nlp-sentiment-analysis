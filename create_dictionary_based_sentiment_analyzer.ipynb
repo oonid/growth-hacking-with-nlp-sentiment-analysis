{
  "nbformat": 4,
  "nbformat_minor": 0,
  "metadata": {
    "colab": {
      "name": "create_dictionary_based_sentiment_analyzer.ipynb",
      "provenance": [],
      "collapsed_sections": []
    },
    "kernelspec": {
      "name": "python3",
      "display_name": "Python 3"
    }
  },
  "cells": [
    {
      "cell_type": "markdown",
      "metadata": {
        "id": "fv0gaMFmHwra",
        "colab_type": "text"
      },
      "source": [
        "# Dictionary Based Sentiment Analyzer\n",
        "\n",
        "* Word tokenization\n",
        "* Sentence tokenization\n",
        "* Scoring of the reviews\n",
        "* Comparison of the scores with the reviews in plots\n",
        "* Measuring the distribution\n",
        "* Handling negation\n",
        "* Adjusting your dictionary-based sentiment analyzer\n",
        "* Checking your results"
      ]
    },
    {
      "cell_type": "code",
      "metadata": {
        "id": "yo6ViHkBKc6x",
        "colab_type": "code",
        "outputId": "d670ca5e-a91a-4263-d686-02c4bd63baef",
        "colab": {
          "base_uri": "https://localhost:8080/",
          "height": 107
        }
      },
      "source": [
        "# all imports and related\n",
        "\n",
        "%matplotlib inline\n",
        "\n",
        "import pandas as pd\n",
        "import numpy as np\n",
        "import altair as alt\n",
        "\n",
        "from nltk import download as nltk_download\n",
        "from nltk.tokenize import word_tokenize, sent_tokenize\n",
        "from nltk.sentiment.util import mark_negation\n",
        "\n",
        "nltk_download('punkt')  # required by word_tokenize\n",
        "\n",
        "from collections import Counter\n"
      ],
      "execution_count": 1,
      "outputs": [
        {
          "output_type": "stream",
          "text": [
            "/usr/local/lib/python3.6/dist-packages/nltk/twitter/__init__.py:20: UserWarning: The twython library has not been installed. Some functionality from the twitter package will not be available.\n",
            "  warnings.warn(\"The twython library has not been installed. \"\n"
          ],
          "name": "stderr"
        },
        {
          "output_type": "stream",
          "text": [
            "[nltk_data] Downloading package punkt to /root/nltk_data...\n",
            "[nltk_data]   Unzipping tokenizers/punkt.zip.\n"
          ],
          "name": "stdout"
        }
      ]
    },
    {
      "cell_type": "markdown",
      "metadata": {
        "id": "81cswx9RIFFt",
        "colab_type": "text"
      },
      "source": [
        "### load the small_corpus CSV\n",
        "\n",
        "run process from\n",
        "[create_dataset.ipynb](https://github.com/oonid/growth-hacking-with-nlp-sentiment-analysis/blob/master/create_dataset.ipynb)\n",
        "\n",
        "copy file **small_corpus.csv** to this Google Colab Files (via file upload or mount drive).\n"
      ]
    },
    {
      "cell_type": "code",
      "metadata": {
        "id": "LxyLiywrHXBE",
        "colab_type": "code",
        "outputId": "b9630401-04ea-438b-f406-40d0b484ea93",
        "colab": {
          "base_uri": "https://localhost:8080/",
          "height": 415
        }
      },
      "source": [
        "df = pd.read_csv('small_corpus.csv')\n",
        "df"
      ],
      "execution_count": 2,
      "outputs": [
        {
          "output_type": "execute_result",
          "data": {
            "text/html": [
              "<div>\n",
              "<style scoped>\n",
              "    .dataframe tbody tr th:only-of-type {\n",
              "        vertical-align: middle;\n",
              "    }\n",
              "\n",
              "    .dataframe tbody tr th {\n",
              "        vertical-align: top;\n",
              "    }\n",
              "\n",
              "    .dataframe thead th {\n",
              "        text-align: right;\n",
              "    }\n",
              "</style>\n",
              "<table border=\"1\" class=\"dataframe\">\n",
              "  <thead>\n",
              "    <tr style=\"text-align: right;\">\n",
              "      <th></th>\n",
              "      <th>ratings</th>\n",
              "      <th>reviews</th>\n",
              "    </tr>\n",
              "  </thead>\n",
              "  <tbody>\n",
              "    <tr>\n",
              "      <th>0</th>\n",
              "      <td>1</td>\n",
              "      <td>Recently UBISOFT had to settle a huge class-ac...</td>\n",
              "    </tr>\n",
              "    <tr>\n",
              "      <th>1</th>\n",
              "      <td>1</td>\n",
              "      <td>code didn't work, got me a refund.</td>\n",
              "    </tr>\n",
              "    <tr>\n",
              "      <th>2</th>\n",
              "      <td>1</td>\n",
              "      <td>these do not work at all, all i get is static ...</td>\n",
              "    </tr>\n",
              "    <tr>\n",
              "      <th>3</th>\n",
              "      <td>1</td>\n",
              "      <td>well let me start by saying that when i first ...</td>\n",
              "    </tr>\n",
              "    <tr>\n",
              "      <th>4</th>\n",
              "      <td>1</td>\n",
              "      <td>Dont waste your money, you will just end up us...</td>\n",
              "    </tr>\n",
              "    <tr>\n",
              "      <th>...</th>\n",
              "      <td>...</td>\n",
              "      <td>...</td>\n",
              "    </tr>\n",
              "    <tr>\n",
              "      <th>4495</th>\n",
              "      <td>5</td>\n",
              "      <td>Nice long micro USB cable, battery lasts a lon...</td>\n",
              "    </tr>\n",
              "    <tr>\n",
              "      <th>4496</th>\n",
              "      <td>5</td>\n",
              "      <td>I've been having a great time with this game. ...</td>\n",
              "    </tr>\n",
              "    <tr>\n",
              "      <th>4497</th>\n",
              "      <td>5</td>\n",
              "      <td>d</td>\n",
              "    </tr>\n",
              "    <tr>\n",
              "      <th>4498</th>\n",
              "      <td>5</td>\n",
              "      <td>Really pretty, funny, interesting game. Works ...</td>\n",
              "    </tr>\n",
              "    <tr>\n",
              "      <th>4499</th>\n",
              "      <td>5</td>\n",
              "      <td>i had a lot of fun playing this game, if your ...</td>\n",
              "    </tr>\n",
              "  </tbody>\n",
              "</table>\n",
              "<p>4500 rows × 2 columns</p>\n",
              "</div>"
            ],
            "text/plain": [
              "      ratings                                            reviews\n",
              "0           1  Recently UBISOFT had to settle a huge class-ac...\n",
              "1           1                 code didn't work, got me a refund.\n",
              "2           1  these do not work at all, all i get is static ...\n",
              "3           1  well let me start by saying that when i first ...\n",
              "4           1  Dont waste your money, you will just end up us...\n",
              "...       ...                                                ...\n",
              "4495        5  Nice long micro USB cable, battery lasts a lon...\n",
              "4496        5  I've been having a great time with this game. ...\n",
              "4497        5                                                  d\n",
              "4498        5  Really pretty, funny, interesting game. Works ...\n",
              "4499        5  i had a lot of fun playing this game, if your ...\n",
              "\n",
              "[4500 rows x 2 columns]"
            ]
          },
          "metadata": {
            "tags": []
          },
          "execution_count": 2
        }
      ]
    },
    {
      "cell_type": "code",
      "metadata": {
        "id": "PFxrdXW-OLvp",
        "colab_type": "code",
        "outputId": "8b801f8b-79ac-401a-ada1-6d141934fe12",
        "colab": {
          "base_uri": "https://localhost:8080/",
          "height": 69
        }
      },
      "source": [
        "# check if any columns has null, and yes the reviews column has\n",
        "df.isnull().any()"
      ],
      "execution_count": 3,
      "outputs": [
        {
          "output_type": "execute_result",
          "data": {
            "text/plain": [
              "ratings    False\n",
              "reviews     True\n",
              "dtype: bool"
            ]
          },
          "metadata": {
            "tags": []
          },
          "execution_count": 3
        }
      ]
    },
    {
      "cell_type": "code",
      "metadata": {
        "id": "BEXN07u-Osnm",
        "colab_type": "code",
        "outputId": "afb85f37-2ae5-4c00-ab10-99a9ce1575ca",
        "colab": {
          "base_uri": "https://localhost:8080/",
          "height": 69
        }
      },
      "source": [
        "# repair null in column reviews with empty string ''\n",
        "df.reviews = df.reviews.fillna('')\n",
        "\n",
        "# test again\n",
        "df.isnull().any()"
      ],
      "execution_count": 4,
      "outputs": [
        {
          "output_type": "execute_result",
          "data": {
            "text/plain": [
              "ratings    False\n",
              "reviews    False\n",
              "dtype: bool"
            ]
          },
          "metadata": {
            "tags": []
          },
          "execution_count": 4
        }
      ]
    },
    {
      "cell_type": "code",
      "metadata": {
        "id": "M9c65mzkHDDE",
        "colab_type": "code",
        "outputId": "834024a0-cbc8-4c75-eaa4-c21132ddb4d3",
        "colab": {
          "base_uri": "https://localhost:8080/",
          "height": 575
        }
      },
      "source": [
        "rating_list = list(df['ratings'])\n",
        "review_list = list(df['reviews'])\n",
        "\n",
        "print(rating_list[:5])\n",
        "for r in review_list[:5]:\n",
        "    print('--\\n{}'.format(r))"
      ],
      "execution_count": 5,
      "outputs": [
        {
          "output_type": "stream",
          "text": [
            "[1, 1, 1, 1, 1]\n",
            "--\n",
            "Recently UBISOFT had to settle a huge class-action suit brought against the company for bundling (the notoriously harmful) StarFORCE DRM with its released games. So what the geniuses at the helm do next? They decide to make the same mistake yet again - by choosing the same DRM scheme that made BIOSHOCK, MASS EFFECT and SPORE infamous: SecuROM 7.xx with LIMITED ACTIVATIONS!\n",
            "\n",
            "MASS EFFECT can be found in clearance bins only months after its release; SPORE not only undersold miserably but also made history as the boiling point of gamers lashing back, fed up with idiotic DRM schemes. And the clueless MBAs that run an art-form as any other commodity business decided that, \"hey, why not jump into THAT mud-pond ourselves?\"\n",
            "\n",
            "The original FAR CRY was such a GREAT game that any sequel of it would have to fight an uphill battle to begin with (especially without its original developing team). Now imagine shooting this sequel on the foot with a well known, much hated and totally useless DRM scheme that turns it into another Rent-A-Game no one wants. Were I a UBISOFT stock-holder I would be ordering my broker to \"Sell-Sell!-SELL!!\" instead of posting this...\n",
            "\n",
            "Ever since its 7.xx version, SecuROM has NOTHING to do with \"fighting piracy\". All it does in this direction (blocking certain optical and virtual drives) is a very old, lame and already bypassed attempt that serves as a thin smoke-screen. SecuROM is, in fact, an intruding and silent Data-Miner and Root-Hijacker that is delivered by means of popular games.\n",
            "That is why even the STEAM versions as well as the (free) Demos of such games are infected with it. SecuROM will borrow deep into our PC systems and will refuse to be removed completely even after uninstalling the game it came with. It will retain backdoor access and will keep reporting to its mothership.\n",
            "\n",
            "Lately, these security concerns have been accentuated as known Trojans seem to be exploiting SecuROM's backdoor access for their own purposes. In effect, installing a SecuROM-infected game in our computer will be placing your hardware and data at risk long after having uninstalled the game.\n",
            "\n",
            "And the latest vehicle to deliver this hazardous snoopware is FAR CRY 2 - a game crippled by LIMITED INSTALLATIONS! No, thanks. I think I 'll pass this one too.\n",
            "\n",
            "The only people who do not care about SecuROM are, in fact,...pirates! Because cracking games \"protected\" by this contraption apparently is very easy. Every single game that was supposedly \"protected\" by SecuROM was cracked hours withing its release!\n",
            "To everyone else though, SecuROM (or StarFORCE or any other hazardous DRM scheme) is a core issue that needs to be resolved before PC gaming can evolve any further. And the best way to resolve such issues is market correction.\n",
            "\n",
            "That is why it is important for gamers to keep voting with their wallets. And as with any vote, well informed decisions are paramount in making the right choice.\n",
            "--\n",
            "code didn't work, got me a refund.\n",
            "--\n",
            "these do not work at all, all i get is static and they came with nothing in the box to give any help.\n",
            "--\n",
            "well let me start by saying that when i first started this game up i was so excited, but when i started playing OMG was i pissed off. The graphics where that of a xbox original, i am not joking they are some of the WORST graphics i have seen in a long time. NOT only are the graphics bad but the game play is not much better. Besides the fact that when you walk you look like you have something rather large in your butt making your player look VERY stiff, and has for the story, WAIT there was a story here??? well if there was anything to do with a story then i must have missed it, the so called story here is not at ALL good in fact it was just pain boring and luckily for me was VERY short beating it in under 2 hours. Ok now on to the level design, well lets just say that it was some of the worst i have seen. It goes like this, run into to dark boring room shoot a few bad guys or zombies then move to the next room that looks almost the same then repeat and do again for the next few hours. Ok so now i will move to the sound of the game, so the zombies when you kill them it sounds OK at best, but as for the sound of the guns WOW OMFG the worst EVER sounds weaker then a nerf guns!!!! the voice overs are very bad as well. Ok now onto the only kind of fun in this game, the only time i had ANY fun on this game was when i played with friends, but even still it was very boring. There is a ranking system that is mediocre at best, the more enemy's you kill the more XP you will get, and when you earn XP you can buy guns that won't really care to use because they all for the most part suck, or you can buy powers for the different players you can choose from. I would also like to add in the fact that when i you enemy it is almost completely random as to when they die, sometimes it will only take a few shoots to kill a simple solder and other time the same kind of enemy will take a clip and a half to kill, as well as that but the hit indication is very OFF. So i will wrap this up by saying this, DO NOT BUY THIS GAME, rent it first to see for yourself. i hope someone can find fun in this game, but for me i could not find much fun here.\n",
            "\n",
            "I forgot to add in here that the AI IS THE WORST IN ANY GAME EVER. your team mates make no attempt whatsoever to avoid danger or even bother to shoot at the enemy, your friendly AI will spend the bulk of their time wasting ammo on a wall or ceiling if they are even shooting at ALL, the rest of the time they are just in your way block you in doorways or blocking your shots, never before have i ever seen AI worse than this. As for the enemy AI they are just as bad, half the time the enemy is just standing there as i am shooting them.\n",
            "\n",
            "SO this game is pretty much a FAIL on every level, its a broken game, But lets hope that resident evil 6 will make up for this REALLY REALLY BAD GAME\n",
            "--\n",
            "Dont waste your money, you will just end up using the nunchuck, or a classic controler in the end, and more over don't waste your money on the new Mario Cart, just keep, or get one of the older ones, its just recycled maps with new controls that aren't that good anyways.\n"
          ],
          "name": "stdout"
        }
      ]
    },
    {
      "cell_type": "markdown",
      "metadata": {
        "id": "47i2oNUgQU-F",
        "colab_type": "text"
      },
      "source": [
        "### tokenize the sentences and words of the reviews"
      ]
    },
    {
      "cell_type": "code",
      "metadata": {
        "id": "lufWRnRULCbQ",
        "colab_type": "code",
        "outputId": "22a04d20-28b6-4240-bada-4577b17c6d36",
        "colab": {
          "base_uri": "https://localhost:8080/",
          "height": 225
        }
      },
      "source": [
        "word_tokenized = df['reviews'].apply(word_tokenize)\n",
        "word_tokenized"
      ],
      "execution_count": 6,
      "outputs": [
        {
          "output_type": "execute_result",
          "data": {
            "text/plain": [
              "0       [Recently, UBISOFT, had, to, settle, a, huge, ...\n",
              "1        [code, did, n't, work, ,, got, me, a, refund, .]\n",
              "2       [these, do, not, work, at, all, ,, all, i, get...\n",
              "3       [well, let, me, start, by, saying, that, when,...\n",
              "4       [Dont, waste, your, money, ,, you, will, just,...\n",
              "                              ...                        \n",
              "4495    [Nice, long, micro, USB, cable, ,, battery, la...\n",
              "4496    [I, 've, been, having, a, great, time, with, t...\n",
              "4497                                                  [d]\n",
              "4498    [Really, pretty, ,, funny, ,, interesting, gam...\n",
              "4499    [i, had, a, lot, of, fun, playing, this, game,...\n",
              "Name: reviews, Length: 4500, dtype: object"
            ]
          },
          "metadata": {
            "tags": []
          },
          "execution_count": 6
        }
      ]
    },
    {
      "cell_type": "code",
      "metadata": {
        "id": "KWe_2rN2LmmK",
        "colab_type": "code",
        "outputId": "f11a386e-bf0f-4de4-8ace-ec101201d160",
        "colab": {
          "base_uri": "https://localhost:8080/",
          "height": 225
        }
      },
      "source": [
        "sent_tokenized = df['reviews'].apply(sent_tokenize)\n",
        "sent_tokenized"
      ],
      "execution_count": 7,
      "outputs": [
        {
          "output_type": "execute_result",
          "data": {
            "text/plain": [
              "0       [Recently UBISOFT had to settle a huge class-a...\n",
              "1                    [code didn't work, got me a refund.]\n",
              "2       [these do not work at all, all i get is static...\n",
              "3       [well let me start by saying that when i first...\n",
              "4       [Dont waste your money, you will just end up u...\n",
              "                              ...                        \n",
              "4495    [Nice long micro USB cable, battery lasts a lo...\n",
              "4496    [I've been having a great time with this game....\n",
              "4497                                                  [d]\n",
              "4498    [Really pretty, funny, interesting game., Work...\n",
              "4499    [i had a lot of fun playing this game, if your...\n",
              "Name: reviews, Length: 4500, dtype: object"
            ]
          },
          "metadata": {
            "tags": []
          },
          "execution_count": 7
        }
      ]
    },
    {
      "cell_type": "markdown",
      "metadata": {
        "id": "9J4INBoDQgIi",
        "colab_type": "text"
      },
      "source": [
        "### download the opinion lexicon of NLTK\n",
        "\n",
        "use it with reference to it source:\n",
        "\n",
        "https://www.nltk.org/_modules/nltk/corpus/reader/opinion_lexicon.html\n",
        "\n"
      ]
    },
    {
      "cell_type": "code",
      "metadata": {
        "id": "B5a72gM7Pl6N",
        "colab_type": "code",
        "outputId": "da5efd57-7787-4bc1-96ab-f0e8bfbd4295",
        "colab": {
          "base_uri": "https://localhost:8080/",
          "height": 52
        }
      },
      "source": [
        "# imports and related\n",
        "\n",
        "nltk_download('opinion_lexicon')\n",
        "\n",
        "from nltk.corpus import opinion_lexicon"
      ],
      "execution_count": 8,
      "outputs": [
        {
          "output_type": "stream",
          "text": [
            "[nltk_data] Downloading package opinion_lexicon to /root/nltk_data...\n",
            "[nltk_data]   Unzipping corpora/opinion_lexicon.zip.\n"
          ],
          "name": "stdout"
        }
      ]
    },
    {
      "cell_type": "code",
      "metadata": {
        "id": "aE_AwlMwQxB6",
        "colab_type": "code",
        "outputId": "7976a0ec-1367-4a89-f888-99b09cb496d9",
        "colab": {
          "base_uri": "https://localhost:8080/",
          "height": 193
        }
      },
      "source": [
        "print('total lexicon words: {}'.format(len(opinion_lexicon.words())))\n",
        "print('total lexicon negatives: {}'.format(len(opinion_lexicon.negative())))\n",
        "print('total lexicon positives: {}'.format(len(opinion_lexicon.positive())))\n",
        "print('sample of lexicon words (first 10, by id):')\n",
        "print(opinion_lexicon.words()[:10])  # print first 10 sorted by file id\n",
        "print('sample of lexicon words (first 10, by alphabet):')\n",
        "print(sorted(opinion_lexicon.words())[:10])  # print first 10 sorted alphabet\n",
        "\n",
        "positive_set = set(opinion_lexicon.positive())\n",
        "negative_set = set(opinion_lexicon.negative())\n",
        "print(len(positive_set))\n",
        "print(len(negative_set))\n"
      ],
      "execution_count": 9,
      "outputs": [
        {
          "output_type": "stream",
          "text": [
            "total lexicon words: 6789\n",
            "total lexicon negatives: 4783\n",
            "total lexicon positives: 2006\n",
            "sample of lexicon words (first 10, by id):\n",
            "['2-faced', '2-faces', 'abnormal', 'abolish', 'abominable', 'abominably', 'abominate', 'abomination', 'abort', 'aborted']\n",
            "sample of lexicon words (first 10, by alphabet):\n",
            "['2-faced', '2-faces', 'a+', 'abnormal', 'abolish', 'abominable', 'abominably', 'abominate', 'abomination', 'abort']\n",
            "2006\n",
            "4783\n"
          ],
          "name": "stdout"
        }
      ]
    },
    {
      "cell_type": "code",
      "metadata": {
        "id": "3X92TU6UGb6Y",
        "colab_type": "code",
        "outputId": "c4ce426a-6769-415e-e38a-7b4a7f092fc8",
        "colab": {
          "base_uri": "https://localhost:8080/",
          "height": 104
        }
      },
      "source": [
        "def simple_opinion_test(words):\n",
        "    if words not in opinion_lexicon.words():\n",
        "        print('{} not covered on opinion_lexicon'.format(words))\n",
        "    else:\n",
        "        if words in opinion_lexicon.negative():\n",
        "            print('{} is negative'.format(words))\n",
        "        if words in opinion_lexicon.positive():\n",
        "            print('{} is positive'.format(words))\n",
        "\n",
        "simple_opinion_test('awful')\n",
        "simple_opinion_test('beautiful')\n",
        "simple_opinion_test('useless')\n",
        "simple_opinion_test('Great')  # must be lower case\n",
        "simple_opinion_test('warming')\n"
      ],
      "execution_count": 10,
      "outputs": [
        {
          "output_type": "stream",
          "text": [
            "awful is negative\n",
            "beautiful is positive\n",
            "useless is negative\n",
            "Great not covered on opinion_lexicon\n",
            "warming not covered on opinion_lexicon\n"
          ],
          "name": "stdout"
        }
      ]
    },
    {
      "cell_type": "markdown",
      "metadata": {
        "id": "eZlGLTnEQRjX",
        "colab_type": "text"
      },
      "source": [
        "### classify each review in a scale of -1 to +1"
      ]
    },
    {
      "cell_type": "code",
      "metadata": {
        "id": "SNP52NhPKqGH",
        "colab_type": "code",
        "colab": {}
      },
      "source": [
        "# the process to score review:\n",
        "# * tokenize review (from multiple sentence) become sentences\n",
        "# * so sentence score will be build from it words\n",
        "\n",
        "def score_sentence(sentence):\n",
        "    \"\"\"sentence (input) are words that tokenize from sentence.\n",
        "    return score between -1 and 1\n",
        "    if the total positive greater than total negative then return 0 to 1\n",
        "    if the total negative greater than total positive then return -1 to 0\n",
        "    \"\"\"\n",
        "    # opinion lexicon not contains any symbol character, and must be set lower\n",
        "    selective_words = [w.lower() for w in sentence if w.isalnum()]\n",
        "    total_selective_words = len(selective_words)\n",
        "    # count total words that categorized as positive from opinion lexicon\n",
        "    total_positive = len([w for w in selective_words if w in positive_set])\n",
        "    # count total words that categorized as negative from opinion lexicon\n",
        "    total_negative = len([w for w in selective_words if w in negative_set])\n",
        "\n",
        "    if total_selective_words > 0:  # has at least 1 word to categorize\n",
        "        return (total_positive - total_negative) / total_selective_words\n",
        "    else:  # no selective words\n",
        "        return 0\n",
        "\n",
        "def score_review(review):\n",
        "    \"\"\"review (input) is single review, could be multiple sentences.\n",
        "    tokenize review become sentences.\n",
        "    tokenize sentence become words.\n",
        "    collect sentence scores as list, called sentiment scores.\n",
        "    score of review = sum of all sentence scores / total of all sentence scores\n",
        "    return score of review\n",
        "    \"\"\"\n",
        "    sentiment_scores = []\n",
        "    sentences = sent_tokenize(review)\n",
        "    # process per sentence\n",
        "    for sentence in sentences:\n",
        "        # tokenize sentence become words\n",
        "        words = word_tokenize(sentence)\n",
        "        # calculate score per sentence, passing tokenized words as input\n",
        "        sentence_score = score_sentence(words)\n",
        "        # add to list of sentiment scores\n",
        "        sentiment_scores.append(sentence_score)\n",
        "    # mean value = sum of all sentiment scores / total of sentiment scores\n",
        "    if sentiment_scores:  # has at least 1 sentence score\n",
        "        return sum(sentiment_scores) / len(sentiment_scores)\n",
        "    else:  # return 0 if no sentiment_scores, avoid division by zero\n",
        "        return 0\n"
      ],
      "execution_count": 0,
      "outputs": []
    },
    {
      "cell_type": "code",
      "metadata": {
        "id": "TDLK8lhORwxI",
        "colab_type": "code",
        "outputId": "80ab5e55-b2bd-403c-e2b5-a8082ca30e1c",
        "colab": {
          "base_uri": "https://localhost:8080/",
          "height": 35
        }
      },
      "source": [
        "review_sentiments = [score_review(r) for r in review_list]\n",
        "print(review_sentiments[:5])"
      ],
      "execution_count": 12,
      "outputs": [
        {
          "output_type": "stream",
          "text": [
            "[-0.013158071747989037, 0.2857142857142857, 0.0, -0.02052123414370017, 0.0]\n"
          ],
          "name": "stdout"
        }
      ]
    },
    {
      "cell_type": "code",
      "metadata": {
        "id": "LEJRmJhJWitq",
        "colab_type": "code",
        "outputId": "a8e45411-75ca-444b-d634-63b6350dd21d",
        "colab": {
          "base_uri": "https://localhost:8080/",
          "height": 592
        }
      },
      "source": [
        "print(rating_list[:5])\n",
        "print(review_sentiments[:5])\n",
        "for r in review_list[:5]:\n",
        "    print('--\\n{}'.format(r))"
      ],
      "execution_count": 13,
      "outputs": [
        {
          "output_type": "stream",
          "text": [
            "[1, 1, 1, 1, 1]\n",
            "[-0.013158071747989037, 0.2857142857142857, 0.0, -0.02052123414370017, 0.0]\n",
            "--\n",
            "Recently UBISOFT had to settle a huge class-action suit brought against the company for bundling (the notoriously harmful) StarFORCE DRM with its released games. So what the geniuses at the helm do next? They decide to make the same mistake yet again - by choosing the same DRM scheme that made BIOSHOCK, MASS EFFECT and SPORE infamous: SecuROM 7.xx with LIMITED ACTIVATIONS!\n",
            "\n",
            "MASS EFFECT can be found in clearance bins only months after its release; SPORE not only undersold miserably but also made history as the boiling point of gamers lashing back, fed up with idiotic DRM schemes. And the clueless MBAs that run an art-form as any other commodity business decided that, \"hey, why not jump into THAT mud-pond ourselves?\"\n",
            "\n",
            "The original FAR CRY was such a GREAT game that any sequel of it would have to fight an uphill battle to begin with (especially without its original developing team). Now imagine shooting this sequel on the foot with a well known, much hated and totally useless DRM scheme that turns it into another Rent-A-Game no one wants. Were I a UBISOFT stock-holder I would be ordering my broker to \"Sell-Sell!-SELL!!\" instead of posting this...\n",
            "\n",
            "Ever since its 7.xx version, SecuROM has NOTHING to do with \"fighting piracy\". All it does in this direction (blocking certain optical and virtual drives) is a very old, lame and already bypassed attempt that serves as a thin smoke-screen. SecuROM is, in fact, an intruding and silent Data-Miner and Root-Hijacker that is delivered by means of popular games.\n",
            "That is why even the STEAM versions as well as the (free) Demos of such games are infected with it. SecuROM will borrow deep into our PC systems and will refuse to be removed completely even after uninstalling the game it came with. It will retain backdoor access and will keep reporting to its mothership.\n",
            "\n",
            "Lately, these security concerns have been accentuated as known Trojans seem to be exploiting SecuROM's backdoor access for their own purposes. In effect, installing a SecuROM-infected game in our computer will be placing your hardware and data at risk long after having uninstalled the game.\n",
            "\n",
            "And the latest vehicle to deliver this hazardous snoopware is FAR CRY 2 - a game crippled by LIMITED INSTALLATIONS! No, thanks. I think I 'll pass this one too.\n",
            "\n",
            "The only people who do not care about SecuROM are, in fact,...pirates! Because cracking games \"protected\" by this contraption apparently is very easy. Every single game that was supposedly \"protected\" by SecuROM was cracked hours withing its release!\n",
            "To everyone else though, SecuROM (or StarFORCE or any other hazardous DRM scheme) is a core issue that needs to be resolved before PC gaming can evolve any further. And the best way to resolve such issues is market correction.\n",
            "\n",
            "That is why it is important for gamers to keep voting with their wallets. And as with any vote, well informed decisions are paramount in making the right choice.\n",
            "--\n",
            "code didn't work, got me a refund.\n",
            "--\n",
            "these do not work at all, all i get is static and they came with nothing in the box to give any help.\n",
            "--\n",
            "well let me start by saying that when i first started this game up i was so excited, but when i started playing OMG was i pissed off. The graphics where that of a xbox original, i am not joking they are some of the WORST graphics i have seen in a long time. NOT only are the graphics bad but the game play is not much better. Besides the fact that when you walk you look like you have something rather large in your butt making your player look VERY stiff, and has for the story, WAIT there was a story here??? well if there was anything to do with a story then i must have missed it, the so called story here is not at ALL good in fact it was just pain boring and luckily for me was VERY short beating it in under 2 hours. Ok now on to the level design, well lets just say that it was some of the worst i have seen. It goes like this, run into to dark boring room shoot a few bad guys or zombies then move to the next room that looks almost the same then repeat and do again for the next few hours. Ok so now i will move to the sound of the game, so the zombies when you kill them it sounds OK at best, but as for the sound of the guns WOW OMFG the worst EVER sounds weaker then a nerf guns!!!! the voice overs are very bad as well. Ok now onto the only kind of fun in this game, the only time i had ANY fun on this game was when i played with friends, but even still it was very boring. There is a ranking system that is mediocre at best, the more enemy's you kill the more XP you will get, and when you earn XP you can buy guns that won't really care to use because they all for the most part suck, or you can buy powers for the different players you can choose from. I would also like to add in the fact that when i you enemy it is almost completely random as to when they die, sometimes it will only take a few shoots to kill a simple solder and other time the same kind of enemy will take a clip and a half to kill, as well as that but the hit indication is very OFF. So i will wrap this up by saying this, DO NOT BUY THIS GAME, rent it first to see for yourself. i hope someone can find fun in this game, but for me i could not find much fun here.\n",
            "\n",
            "I forgot to add in here that the AI IS THE WORST IN ANY GAME EVER. your team mates make no attempt whatsoever to avoid danger or even bother to shoot at the enemy, your friendly AI will spend the bulk of their time wasting ammo on a wall or ceiling if they are even shooting at ALL, the rest of the time they are just in your way block you in doorways or blocking your shots, never before have i ever seen AI worse than this. As for the enemy AI they are just as bad, half the time the enemy is just standing there as i am shooting them.\n",
            "\n",
            "SO this game is pretty much a FAIL on every level, its a broken game, But lets hope that resident evil 6 will make up for this REALLY REALLY BAD GAME\n",
            "--\n",
            "Dont waste your money, you will just end up using the nunchuck, or a classic controler in the end, and more over don't waste your money on the new Mario Cart, just keep, or get one of the older ones, its just recycled maps with new controls that aren't that good anyways.\n"
          ],
          "name": "stdout"
        }
      ]
    },
    {
      "cell_type": "code",
      "metadata": {
        "id": "fkDNwlnrXLWE",
        "colab_type": "code",
        "outputId": "a9d3d16e-3375-4629-d117-1c2dbb7216ff",
        "colab": {
          "base_uri": "https://localhost:8080/",
          "height": 415
        }
      },
      "source": [
        "df = pd.DataFrame({\n",
        "    \"rating\": rating_list,\n",
        "    \"review\": review_list,\n",
        "    \"review dictionary based sentiment\": review_sentiments,\n",
        "})\n",
        "df"
      ],
      "execution_count": 14,
      "outputs": [
        {
          "output_type": "execute_result",
          "data": {
            "text/html": [
              "<div>\n",
              "<style scoped>\n",
              "    .dataframe tbody tr th:only-of-type {\n",
              "        vertical-align: middle;\n",
              "    }\n",
              "\n",
              "    .dataframe tbody tr th {\n",
              "        vertical-align: top;\n",
              "    }\n",
              "\n",
              "    .dataframe thead th {\n",
              "        text-align: right;\n",
              "    }\n",
              "</style>\n",
              "<table border=\"1\" class=\"dataframe\">\n",
              "  <thead>\n",
              "    <tr style=\"text-align: right;\">\n",
              "      <th></th>\n",
              "      <th>rating</th>\n",
              "      <th>review</th>\n",
              "      <th>review dictionary based sentiment</th>\n",
              "    </tr>\n",
              "  </thead>\n",
              "  <tbody>\n",
              "    <tr>\n",
              "      <th>0</th>\n",
              "      <td>1</td>\n",
              "      <td>Recently UBISOFT had to settle a huge class-ac...</td>\n",
              "      <td>-0.013158</td>\n",
              "    </tr>\n",
              "    <tr>\n",
              "      <th>1</th>\n",
              "      <td>1</td>\n",
              "      <td>code didn't work, got me a refund.</td>\n",
              "      <td>0.285714</td>\n",
              "    </tr>\n",
              "    <tr>\n",
              "      <th>2</th>\n",
              "      <td>1</td>\n",
              "      <td>these do not work at all, all i get is static ...</td>\n",
              "      <td>0.000000</td>\n",
              "    </tr>\n",
              "    <tr>\n",
              "      <th>3</th>\n",
              "      <td>1</td>\n",
              "      <td>well let me start by saying that when i first ...</td>\n",
              "      <td>-0.020521</td>\n",
              "    </tr>\n",
              "    <tr>\n",
              "      <th>4</th>\n",
              "      <td>1</td>\n",
              "      <td>Dont waste your money, you will just end up us...</td>\n",
              "      <td>0.000000</td>\n",
              "    </tr>\n",
              "    <tr>\n",
              "      <th>...</th>\n",
              "      <td>...</td>\n",
              "      <td>...</td>\n",
              "      <td>...</td>\n",
              "    </tr>\n",
              "    <tr>\n",
              "      <th>4495</th>\n",
              "      <td>5</td>\n",
              "      <td>Nice long micro USB cable, battery lasts a lon...</td>\n",
              "      <td>0.058824</td>\n",
              "    </tr>\n",
              "    <tr>\n",
              "      <th>4496</th>\n",
              "      <td>5</td>\n",
              "      <td>I've been having a great time with this game. ...</td>\n",
              "      <td>0.222222</td>\n",
              "    </tr>\n",
              "    <tr>\n",
              "      <th>4497</th>\n",
              "      <td>5</td>\n",
              "      <td>d</td>\n",
              "      <td>0.000000</td>\n",
              "    </tr>\n",
              "    <tr>\n",
              "      <th>4498</th>\n",
              "      <td>5</td>\n",
              "      <td>Really pretty, funny, interesting game. Works ...</td>\n",
              "      <td>0.455556</td>\n",
              "    </tr>\n",
              "    <tr>\n",
              "      <th>4499</th>\n",
              "      <td>5</td>\n",
              "      <td>i had a lot of fun playing this game, if your ...</td>\n",
              "      <td>0.038462</td>\n",
              "    </tr>\n",
              "  </tbody>\n",
              "</table>\n",
              "<p>4500 rows × 3 columns</p>\n",
              "</div>"
            ],
            "text/plain": [
              "      rating  ... review dictionary based sentiment\n",
              "0          1  ...                         -0.013158\n",
              "1          1  ...                          0.285714\n",
              "2          1  ...                          0.000000\n",
              "3          1  ...                         -0.020521\n",
              "4          1  ...                          0.000000\n",
              "...      ...  ...                               ...\n",
              "4495       5  ...                          0.058824\n",
              "4496       5  ...                          0.222222\n",
              "4497       5  ...                          0.000000\n",
              "4498       5  ...                          0.455556\n",
              "4499       5  ...                          0.038462\n",
              "\n",
              "[4500 rows x 3 columns]"
            ]
          },
          "metadata": {
            "tags": []
          },
          "execution_count": 14
        }
      ]
    },
    {
      "cell_type": "code",
      "metadata": {
        "id": "THjjD3F8XjI_",
        "colab_type": "code",
        "colab": {}
      },
      "source": [
        "df.to_csv('dictionary_based_sentiment.csv', index=False)"
      ],
      "execution_count": 0,
      "outputs": []
    },
    {
      "cell_type": "markdown",
      "metadata": {
        "id": "NjOPECvRhWNp",
        "colab_type": "text"
      },
      "source": [
        "# Compare the scores of the product reviews with the product ratings using a plot"
      ]
    },
    {
      "cell_type": "code",
      "metadata": {
        "id": "yKMJV8K3YUxV",
        "colab_type": "code",
        "outputId": "a6ea62a0-3ff5-41bf-ef28-0e2640035779",
        "colab": {
          "base_uri": "https://localhost:8080/",
          "height": 35
        }
      },
      "source": [
        "rating_counts = Counter(rating_list)\n",
        "print('distribution of rating as dictionary: {}'.format(rating_counts))"
      ],
      "execution_count": 16,
      "outputs": [
        {
          "output_type": "stream",
          "text": [
            "distribution of rating as dictionary: Counter({1: 1500, 5: 1500, 2: 500, 3: 500, 4: 500})\n"
          ],
          "name": "stdout"
        }
      ]
    },
    {
      "cell_type": "markdown",
      "metadata": {
        "id": "rw3_s1u5h6vk",
        "colab_type": "text"
      },
      "source": [
        "### a plot of the distribution of the ratings"
      ]
    },
    {
      "cell_type": "code",
      "metadata": {
        "id": "ds84rsVuaUOY",
        "colab_type": "code",
        "outputId": "02e4c5c7-08d7-4791-fbf4-726bc733f501",
        "colab": {
          "base_uri": "https://localhost:8080/",
          "height": 202
        }
      },
      "source": [
        "# ratings as str will be different with ratings as int from keys()\n",
        "dfrc = pd.DataFrame({\n",
        "    \"ratings\": [str(k) for k in rating_counts.keys()],\n",
        "    \"counts\": list(rating_counts.values())\n",
        "})\n",
        "dfrc"
      ],
      "execution_count": 17,
      "outputs": [
        {
          "output_type": "execute_result",
          "data": {
            "text/html": [
              "<div>\n",
              "<style scoped>\n",
              "    .dataframe tbody tr th:only-of-type {\n",
              "        vertical-align: middle;\n",
              "    }\n",
              "\n",
              "    .dataframe tbody tr th {\n",
              "        vertical-align: top;\n",
              "    }\n",
              "\n",
              "    .dataframe thead th {\n",
              "        text-align: right;\n",
              "    }\n",
              "</style>\n",
              "<table border=\"1\" class=\"dataframe\">\n",
              "  <thead>\n",
              "    <tr style=\"text-align: right;\">\n",
              "      <th></th>\n",
              "      <th>ratings</th>\n",
              "      <th>counts</th>\n",
              "    </tr>\n",
              "  </thead>\n",
              "  <tbody>\n",
              "    <tr>\n",
              "      <th>0</th>\n",
              "      <td>1</td>\n",
              "      <td>1500</td>\n",
              "    </tr>\n",
              "    <tr>\n",
              "      <th>1</th>\n",
              "      <td>2</td>\n",
              "      <td>500</td>\n",
              "    </tr>\n",
              "    <tr>\n",
              "      <th>2</th>\n",
              "      <td>3</td>\n",
              "      <td>500</td>\n",
              "    </tr>\n",
              "    <tr>\n",
              "      <th>3</th>\n",
              "      <td>4</td>\n",
              "      <td>500</td>\n",
              "    </tr>\n",
              "    <tr>\n",
              "      <th>4</th>\n",
              "      <td>5</td>\n",
              "      <td>1500</td>\n",
              "    </tr>\n",
              "  </tbody>\n",
              "</table>\n",
              "</div>"
            ],
            "text/plain": [
              "  ratings  counts\n",
              "0       1    1500\n",
              "1       2     500\n",
              "2       3     500\n",
              "3       4     500\n",
              "4       5    1500"
            ]
          },
          "metadata": {
            "tags": []
          },
          "execution_count": 17
        }
      ]
    },
    {
      "cell_type": "code",
      "metadata": {
        "id": "GR6Sy7iqbNw4",
        "colab_type": "code",
        "outputId": "4da7dc5d-957e-48ed-eb28-be636b9259f1",
        "colab": {
          "base_uri": "https://localhost:8080/",
          "height": 364
        }
      },
      "source": [
        "rating_counts_chart = alt.Chart(dfrc).mark_bar().encode(x=\"ratings\", y=\"counts\")\n",
        "rating_counts_chart"
      ],
      "execution_count": 18,
      "outputs": [
        {
          "output_type": "execute_result",
          "data": {
            "text/plain": [
              "alt.Chart(...)"
            ],
            "text/html": [
              "\n",
              "<div id=\"altair-viz-32bdb3a1f456498282190f6b2e9ef4a8\"></div>\n",
              "<script type=\"text/javascript\">\n",
              "  (function(spec, embedOpt){\n",
              "    let outputDiv = document.currentScript.previousElementSibling;\n",
              "    if (outputDiv.id !== \"altair-viz-32bdb3a1f456498282190f6b2e9ef4a8\") {\n",
              "      outputDiv = document.getElementById(\"altair-viz-32bdb3a1f456498282190f6b2e9ef4a8\");\n",
              "    }\n",
              "    const paths = {\n",
              "      \"vega\": \"https://cdn.jsdelivr.net/npm//vega@5?noext\",\n",
              "      \"vega-lib\": \"https://cdn.jsdelivr.net/npm//vega-lib?noext\",\n",
              "      \"vega-lite\": \"https://cdn.jsdelivr.net/npm//vega-lite@4.8.1?noext\",\n",
              "      \"vega-embed\": \"https://cdn.jsdelivr.net/npm//vega-embed@6?noext\",\n",
              "    };\n",
              "\n",
              "    function loadScript(lib) {\n",
              "      return new Promise(function(resolve, reject) {\n",
              "        var s = document.createElement('script');\n",
              "        s.src = paths[lib];\n",
              "        s.async = true;\n",
              "        s.onload = () => resolve(paths[lib]);\n",
              "        s.onerror = () => reject(`Error loading script: ${paths[lib]}`);\n",
              "        document.getElementsByTagName(\"head\")[0].appendChild(s);\n",
              "      });\n",
              "    }\n",
              "\n",
              "    function showError(err) {\n",
              "      outputDiv.innerHTML = `<div class=\"error\" style=\"color:red;\">${err}</div>`;\n",
              "      throw err;\n",
              "    }\n",
              "\n",
              "    function displayChart(vegaEmbed) {\n",
              "      vegaEmbed(outputDiv, spec, embedOpt)\n",
              "        .catch(err => showError(`Javascript Error: ${err.message}<br>This usually means there's a typo in your chart specification. See the javascript console for the full traceback.`));\n",
              "    }\n",
              "\n",
              "    if(typeof define === \"function\" && define.amd) {\n",
              "      requirejs.config({paths});\n",
              "      require([\"vega-embed\"], displayChart, err => showError(`Error loading script: ${err.message}`));\n",
              "    } else if (typeof vegaEmbed === \"function\") {\n",
              "      displayChart(vegaEmbed);\n",
              "    } else {\n",
              "      loadScript(\"vega\")\n",
              "        .then(() => loadScript(\"vega-lite\"))\n",
              "        .then(() => loadScript(\"vega-embed\"))\n",
              "        .catch(showError)\n",
              "        .then(() => displayChart(vegaEmbed));\n",
              "    }\n",
              "  })({\"config\": {\"view\": {\"continuousWidth\": 400, \"continuousHeight\": 300}}, \"data\": {\"name\": \"data-6d0eb74cbe53ed418e2ab884c734276b\"}, \"mark\": \"bar\", \"encoding\": {\"x\": {\"type\": \"nominal\", \"field\": \"ratings\"}, \"y\": {\"type\": \"quantitative\", \"field\": \"counts\"}}, \"$schema\": \"https://vega.github.io/schema/vega-lite/v4.8.1.json\", \"datasets\": {\"data-6d0eb74cbe53ed418e2ab884c734276b\": [{\"ratings\": \"1\", \"counts\": 1500}, {\"ratings\": \"2\", \"counts\": 500}, {\"ratings\": \"3\", \"counts\": 500}, {\"ratings\": \"4\", \"counts\": 500}, {\"ratings\": \"5\", \"counts\": 1500}]}}, {\"mode\": \"vega-lite\"});\n",
              "</script>"
            ]
          },
          "metadata": {
            "tags": []
          },
          "execution_count": 18
        }
      ]
    },
    {
      "cell_type": "markdown",
      "metadata": {
        "id": "BR8nkkyLiBPN",
        "colab_type": "text"
      },
      "source": [
        "### a plot of the distribution of the sentiment scores"
      ]
    },
    {
      "cell_type": "code",
      "metadata": {
        "id": "MVcar_wGbeu_",
        "colab_type": "code",
        "outputId": "1dee8837-2147-4823-cfe0-a2b16ae6785b",
        "colab": {
          "base_uri": "https://localhost:8080/",
          "height": 159
        }
      },
      "source": [
        "# get histogram value \n",
        "# with the value of the probability density function at the bin,\n",
        "# normalized such that the integral over the range is 1\n",
        "hist, bin_edges = np.histogram(review_sentiments, density=True)\n",
        "print('histogram value: {}'.format(hist))\n",
        "print('bin_edges value: {}'.format(bin_edges))  # from -1 to 1\n",
        "print()\n",
        "labels = [(str(l[0]), str(l[1])) for l in zip(bin_edges, bin_edges[1:])]\n",
        "print('labels: {}'.format(labels))\n",
        "labels = [\" \".join(label) for label in labels]\n",
        "print('labels: {}'.format(labels))\n"
      ],
      "execution_count": 19,
      "outputs": [
        {
          "output_type": "stream",
          "text": [
            "histogram value: [1.44444444e-02 1.11111111e-03 2.11111111e-02 6.55555556e-02\n",
            " 1.38555556e+00 2.96777778e+00 2.66666667e-01 1.57777778e-01\n",
            " 1.11111111e-02 1.08888889e-01]\n",
            "bin_edges value: [-1.  -0.8 -0.6 -0.4 -0.2  0.   0.2  0.4  0.6  0.8  1. ]\n",
            "\n",
            "labels: [('-1.0', '-0.8'), ('-0.8', '-0.6'), ('-0.6', '-0.3999999999999999'), ('-0.3999999999999999', '-0.19999999999999996'), ('-0.19999999999999996', '0.0'), ('0.0', '0.20000000000000018'), ('0.20000000000000018', '0.40000000000000013'), ('0.40000000000000013', '0.6000000000000001'), ('0.6000000000000001', '0.8'), ('0.8', '1.0')]\n",
            "labels: ['-1.0 -0.8', '-0.8 -0.6', '-0.6 -0.3999999999999999', '-0.3999999999999999 -0.19999999999999996', '-0.19999999999999996 0.0', '0.0 0.20000000000000018', '0.20000000000000018 0.40000000000000013', '0.40000000000000013 0.6000000000000001', '0.6000000000000001 0.8', '0.8 1.0']\n"
          ],
          "name": "stdout"
        }
      ]
    },
    {
      "cell_type": "code",
      "metadata": {
        "id": "LZgUfH6edTxk",
        "colab_type": "code",
        "outputId": "8a8b5aa1-6a00-42ad-f992-a5177e2c082a",
        "colab": {
          "base_uri": "https://localhost:8080/",
          "height": 355
        }
      },
      "source": [
        "dfsc = pd.DataFrame({\n",
        "    \"sentiment scores\": labels,\n",
        "    \"counts\": hist,\n",
        "})\n",
        "dfsc"
      ],
      "execution_count": 20,
      "outputs": [
        {
          "output_type": "execute_result",
          "data": {
            "text/html": [
              "<div>\n",
              "<style scoped>\n",
              "    .dataframe tbody tr th:only-of-type {\n",
              "        vertical-align: middle;\n",
              "    }\n",
              "\n",
              "    .dataframe tbody tr th {\n",
              "        vertical-align: top;\n",
              "    }\n",
              "\n",
              "    .dataframe thead th {\n",
              "        text-align: right;\n",
              "    }\n",
              "</style>\n",
              "<table border=\"1\" class=\"dataframe\">\n",
              "  <thead>\n",
              "    <tr style=\"text-align: right;\">\n",
              "      <th></th>\n",
              "      <th>sentiment scores</th>\n",
              "      <th>counts</th>\n",
              "    </tr>\n",
              "  </thead>\n",
              "  <tbody>\n",
              "    <tr>\n",
              "      <th>0</th>\n",
              "      <td>-1.0 -0.8</td>\n",
              "      <td>0.014444</td>\n",
              "    </tr>\n",
              "    <tr>\n",
              "      <th>1</th>\n",
              "      <td>-0.8 -0.6</td>\n",
              "      <td>0.001111</td>\n",
              "    </tr>\n",
              "    <tr>\n",
              "      <th>2</th>\n",
              "      <td>-0.6 -0.3999999999999999</td>\n",
              "      <td>0.021111</td>\n",
              "    </tr>\n",
              "    <tr>\n",
              "      <th>3</th>\n",
              "      <td>-0.3999999999999999 -0.19999999999999996</td>\n",
              "      <td>0.065556</td>\n",
              "    </tr>\n",
              "    <tr>\n",
              "      <th>4</th>\n",
              "      <td>-0.19999999999999996 0.0</td>\n",
              "      <td>1.385556</td>\n",
              "    </tr>\n",
              "    <tr>\n",
              "      <th>5</th>\n",
              "      <td>0.0 0.20000000000000018</td>\n",
              "      <td>2.967778</td>\n",
              "    </tr>\n",
              "    <tr>\n",
              "      <th>6</th>\n",
              "      <td>0.20000000000000018 0.40000000000000013</td>\n",
              "      <td>0.266667</td>\n",
              "    </tr>\n",
              "    <tr>\n",
              "      <th>7</th>\n",
              "      <td>0.40000000000000013 0.6000000000000001</td>\n",
              "      <td>0.157778</td>\n",
              "    </tr>\n",
              "    <tr>\n",
              "      <th>8</th>\n",
              "      <td>0.6000000000000001 0.8</td>\n",
              "      <td>0.011111</td>\n",
              "    </tr>\n",
              "    <tr>\n",
              "      <th>9</th>\n",
              "      <td>0.8 1.0</td>\n",
              "      <td>0.108889</td>\n",
              "    </tr>\n",
              "  </tbody>\n",
              "</table>\n",
              "</div>"
            ],
            "text/plain": [
              "                           sentiment scores    counts\n",
              "0                                 -1.0 -0.8  0.014444\n",
              "1                                 -0.8 -0.6  0.001111\n",
              "2                  -0.6 -0.3999999999999999  0.021111\n",
              "3  -0.3999999999999999 -0.19999999999999996  0.065556\n",
              "4                  -0.19999999999999996 0.0  1.385556\n",
              "5                   0.0 0.20000000000000018  2.967778\n",
              "6   0.20000000000000018 0.40000000000000013  0.266667\n",
              "7    0.40000000000000013 0.6000000000000001  0.157778\n",
              "8                    0.6000000000000001 0.8  0.011111\n",
              "9                                   0.8 1.0  0.108889"
            ]
          },
          "metadata": {
            "tags": []
          },
          "execution_count": 20
        }
      ]
    },
    {
      "cell_type": "code",
      "metadata": {
        "id": "efGd6CaCeues",
        "colab_type": "code",
        "outputId": "1bf5cf41-31e6-452e-c84b-4e8519dc37d9",
        "colab": {
          "base_uri": "https://localhost:8080/",
          "height": 536
        }
      },
      "source": [
        "# sentiment_counts_chart = alt.Chart(dfsc).mark_bar() \\\n",
        "#     .encode(x=\"sentiment scores\", y=\"counts\")\n",
        "sentiment_counts_chart = alt.Chart(dfsc).mark_bar() \\\n",
        "    .encode(x=alt.X(\"sentiment scores\", sort=labels), y=\"counts\")\n",
        "sentiment_counts_chart\n"
      ],
      "execution_count": 21,
      "outputs": [
        {
          "output_type": "execute_result",
          "data": {
            "text/plain": [
              "alt.Chart(...)"
            ],
            "text/html": [
              "\n",
              "<div id=\"altair-viz-09af62fa27cc4e0b885d1f789d1a26f6\"></div>\n",
              "<script type=\"text/javascript\">\n",
              "  (function(spec, embedOpt){\n",
              "    let outputDiv = document.currentScript.previousElementSibling;\n",
              "    if (outputDiv.id !== \"altair-viz-09af62fa27cc4e0b885d1f789d1a26f6\") {\n",
              "      outputDiv = document.getElementById(\"altair-viz-09af62fa27cc4e0b885d1f789d1a26f6\");\n",
              "    }\n",
              "    const paths = {\n",
              "      \"vega\": \"https://cdn.jsdelivr.net/npm//vega@5?noext\",\n",
              "      \"vega-lib\": \"https://cdn.jsdelivr.net/npm//vega-lib?noext\",\n",
              "      \"vega-lite\": \"https://cdn.jsdelivr.net/npm//vega-lite@4.8.1?noext\",\n",
              "      \"vega-embed\": \"https://cdn.jsdelivr.net/npm//vega-embed@6?noext\",\n",
              "    };\n",
              "\n",
              "    function loadScript(lib) {\n",
              "      return new Promise(function(resolve, reject) {\n",
              "        var s = document.createElement('script');\n",
              "        s.src = paths[lib];\n",
              "        s.async = true;\n",
              "        s.onload = () => resolve(paths[lib]);\n",
              "        s.onerror = () => reject(`Error loading script: ${paths[lib]}`);\n",
              "        document.getElementsByTagName(\"head\")[0].appendChild(s);\n",
              "      });\n",
              "    }\n",
              "\n",
              "    function showError(err) {\n",
              "      outputDiv.innerHTML = `<div class=\"error\" style=\"color:red;\">${err}</div>`;\n",
              "      throw err;\n",
              "    }\n",
              "\n",
              "    function displayChart(vegaEmbed) {\n",
              "      vegaEmbed(outputDiv, spec, embedOpt)\n",
              "        .catch(err => showError(`Javascript Error: ${err.message}<br>This usually means there's a typo in your chart specification. See the javascript console for the full traceback.`));\n",
              "    }\n",
              "\n",
              "    if(typeof define === \"function\" && define.amd) {\n",
              "      requirejs.config({paths});\n",
              "      require([\"vega-embed\"], displayChart, err => showError(`Error loading script: ${err.message}`));\n",
              "    } else if (typeof vegaEmbed === \"function\") {\n",
              "      displayChart(vegaEmbed);\n",
              "    } else {\n",
              "      loadScript(\"vega\")\n",
              "        .then(() => loadScript(\"vega-lite\"))\n",
              "        .then(() => loadScript(\"vega-embed\"))\n",
              "        .catch(showError)\n",
              "        .then(() => displayChart(vegaEmbed));\n",
              "    }\n",
              "  })({\"config\": {\"view\": {\"continuousWidth\": 400, \"continuousHeight\": 300}}, \"data\": {\"name\": \"data-156de536cb82829fb913663bd82dabaa\"}, \"mark\": \"bar\", \"encoding\": {\"x\": {\"type\": \"nominal\", \"field\": \"sentiment scores\", \"sort\": [\"-1.0 -0.8\", \"-0.8 -0.6\", \"-0.6 -0.3999999999999999\", \"-0.3999999999999999 -0.19999999999999996\", \"-0.19999999999999996 0.0\", \"0.0 0.20000000000000018\", \"0.20000000000000018 0.40000000000000013\", \"0.40000000000000013 0.6000000000000001\", \"0.6000000000000001 0.8\", \"0.8 1.0\"]}, \"y\": {\"type\": \"quantitative\", \"field\": \"counts\"}}, \"$schema\": \"https://vega.github.io/schema/vega-lite/v4.8.1.json\", \"datasets\": {\"data-156de536cb82829fb913663bd82dabaa\": [{\"sentiment scores\": \"-1.0 -0.8\", \"counts\": 0.014444444444444447}, {\"sentiment scores\": \"-0.8 -0.6\", \"counts\": 0.0011111111111111107}, {\"sentiment scores\": \"-0.6 -0.3999999999999999\", \"counts\": 0.021111111111111105}, {\"sentiment scores\": \"-0.3999999999999999 -0.19999999999999996\", \"counts\": 0.06555555555555556}, {\"sentiment scores\": \"-0.19999999999999996 0.0\", \"counts\": 1.3855555555555559}, {\"sentiment scores\": \"0.0 0.20000000000000018\", \"counts\": 2.967777777777775}, {\"sentiment scores\": \"0.20000000000000018 0.40000000000000013\", \"counts\": 0.2666666666666667}, {\"sentiment scores\": \"0.40000000000000013 0.6000000000000001\", \"counts\": 0.1577777777777778}, {\"sentiment scores\": \"0.6000000000000001 0.8\", \"counts\": 0.011111111111111115}, {\"sentiment scores\": \"0.8 1.0\", \"counts\": 0.10888888888888891}]}}, {\"mode\": \"vega-lite\"});\n",
              "</script>"
            ]
          },
          "metadata": {
            "tags": []
          },
          "execution_count": 21
        }
      ]
    },
    {
      "cell_type": "markdown",
      "metadata": {
        "id": "DnyGwN9MiPYm",
        "colab_type": "text"
      },
      "source": [
        "### a plot about the relation of the sentiment scores and product ratings"
      ]
    },
    {
      "cell_type": "code",
      "metadata": {
        "id": "yDujLuF7fPBq",
        "colab_type": "code",
        "outputId": "74bf1dc3-169d-44a4-f51c-0a82787fb004",
        "colab": {
          "base_uri": "https://localhost:8080/",
          "height": 415
        }
      },
      "source": [
        "# explore if there's relationship between ratings and sentiments\n",
        "dfrs = pd.DataFrame({\n",
        "    \"ratings\": [str(r) for r in rating_list],\n",
        "    \"sentiments\": review_sentiments,\n",
        "})\n",
        "dfrs"
      ],
      "execution_count": 22,
      "outputs": [
        {
          "output_type": "execute_result",
          "data": {
            "text/html": [
              "<div>\n",
              "<style scoped>\n",
              "    .dataframe tbody tr th:only-of-type {\n",
              "        vertical-align: middle;\n",
              "    }\n",
              "\n",
              "    .dataframe tbody tr th {\n",
              "        vertical-align: top;\n",
              "    }\n",
              "\n",
              "    .dataframe thead th {\n",
              "        text-align: right;\n",
              "    }\n",
              "</style>\n",
              "<table border=\"1\" class=\"dataframe\">\n",
              "  <thead>\n",
              "    <tr style=\"text-align: right;\">\n",
              "      <th></th>\n",
              "      <th>ratings</th>\n",
              "      <th>sentiments</th>\n",
              "    </tr>\n",
              "  </thead>\n",
              "  <tbody>\n",
              "    <tr>\n",
              "      <th>0</th>\n",
              "      <td>1</td>\n",
              "      <td>-0.013158</td>\n",
              "    </tr>\n",
              "    <tr>\n",
              "      <th>1</th>\n",
              "      <td>1</td>\n",
              "      <td>0.285714</td>\n",
              "    </tr>\n",
              "    <tr>\n",
              "      <th>2</th>\n",
              "      <td>1</td>\n",
              "      <td>0.000000</td>\n",
              "    </tr>\n",
              "    <tr>\n",
              "      <th>3</th>\n",
              "      <td>1</td>\n",
              "      <td>-0.020521</td>\n",
              "    </tr>\n",
              "    <tr>\n",
              "      <th>4</th>\n",
              "      <td>1</td>\n",
              "      <td>0.000000</td>\n",
              "    </tr>\n",
              "    <tr>\n",
              "      <th>...</th>\n",
              "      <td>...</td>\n",
              "      <td>...</td>\n",
              "    </tr>\n",
              "    <tr>\n",
              "      <th>4495</th>\n",
              "      <td>5</td>\n",
              "      <td>0.058824</td>\n",
              "    </tr>\n",
              "    <tr>\n",
              "      <th>4496</th>\n",
              "      <td>5</td>\n",
              "      <td>0.222222</td>\n",
              "    </tr>\n",
              "    <tr>\n",
              "      <th>4497</th>\n",
              "      <td>5</td>\n",
              "      <td>0.000000</td>\n",
              "    </tr>\n",
              "    <tr>\n",
              "      <th>4498</th>\n",
              "      <td>5</td>\n",
              "      <td>0.455556</td>\n",
              "    </tr>\n",
              "    <tr>\n",
              "      <th>4499</th>\n",
              "      <td>5</td>\n",
              "      <td>0.038462</td>\n",
              "    </tr>\n",
              "  </tbody>\n",
              "</table>\n",
              "<p>4500 rows × 2 columns</p>\n",
              "</div>"
            ],
            "text/plain": [
              "     ratings  sentiments\n",
              "0          1   -0.013158\n",
              "1          1    0.285714\n",
              "2          1    0.000000\n",
              "3          1   -0.020521\n",
              "4          1    0.000000\n",
              "...      ...         ...\n",
              "4495       5    0.058824\n",
              "4496       5    0.222222\n",
              "4497       5    0.000000\n",
              "4498       5    0.455556\n",
              "4499       5    0.038462\n",
              "\n",
              "[4500 rows x 2 columns]"
            ]
          },
          "metadata": {
            "tags": []
          },
          "execution_count": 22
        }
      ]
    },
    {
      "cell_type": "code",
      "metadata": {
        "id": "X_wMFf9kgI9y",
        "colab_type": "code",
        "outputId": "0282a799-49ba-4dda-99e5-0a8168de9837",
        "colab": {
          "base_uri": "https://localhost:8080/",
          "height": 364
        }
      },
      "source": [
        "rating_sentiments_chart = alt.Chart(dfrs).mark_bar()\\\n",
        "    .encode(x=\"ratings\", y=\"sentiments\", color=\"ratings\", \\\n",
        "            tooltip=[\"ratings\", \"sentiments\"])\\\n",
        "    .interactive()\n",
        "rating_sentiments_chart"
      ],
      "execution_count": 23,
      "outputs": [
        {
          "output_type": "execute_result",
          "data": {
            "text/plain": [
              "alt.Chart(...)"
            ],
            "text/html": [
              "\n",
              "<div id=\"altair-viz-e0e77aea5de74144b1526cef4c1f384f\"></div>\n",
              "<script type=\"text/javascript\">\n",
              "  (function(spec, embedOpt){\n",
              "    let outputDiv = document.currentScript.previousElementSibling;\n",
              "    if (outputDiv.id !== \"altair-viz-e0e77aea5de74144b1526cef4c1f384f\") {\n",
              "      outputDiv = document.getElementById(\"altair-viz-e0e77aea5de74144b1526cef4c1f384f\");\n",
              "    }\n",
              "    const paths = {\n",
              "      \"vega\": \"https://cdn.jsdelivr.net/npm//vega@5?noext\",\n",
              "      \"vega-lib\": \"https://cdn.jsdelivr.net/npm//vega-lib?noext\",\n",
              "      \"vega-lite\": \"https://cdn.jsdelivr.net/npm//vega-lite@4.8.1?noext\",\n",
              "      \"vega-embed\": \"https://cdn.jsdelivr.net/npm//vega-embed@6?noext\",\n",
              "    };\n",
              "\n",
              "    function loadScript(lib) {\n",
              "      return new Promise(function(resolve, reject) {\n",
              "        var s = document.createElement('script');\n",
              "        s.src = paths[lib];\n",
              "        s.async = true;\n",
              "        s.onload = () => resolve(paths[lib]);\n",
              "        s.onerror = () => reject(`Error loading script: ${paths[lib]}`);\n",
              "        document.getElementsByTagName(\"head\")[0].appendChild(s);\n",
              "      });\n",
              "    }\n",
              "\n",
              "    function showError(err) {\n",
              "      outputDiv.innerHTML = `<div class=\"error\" style=\"color:red;\">${err}</div>`;\n",
              "      throw err;\n",
              "    }\n",
              "\n",
              "    function displayChart(vegaEmbed) {\n",
              "      vegaEmbed(outputDiv, spec, embedOpt)\n",
              "        .catch(err => showError(`Javascript Error: ${err.message}<br>This usually means there's a typo in your chart specification. See the javascript console for the full traceback.`));\n",
              "    }\n",
              "\n",
              "    if(typeof define === \"function\" && define.amd) {\n",
              "      requirejs.config({paths});\n",
              "      require([\"vega-embed\"], displayChart, err => showError(`Error loading script: ${err.message}`));\n",
              "    } else if (typeof vegaEmbed === \"function\") {\n",
              "      displayChart(vegaEmbed);\n",
              "    } else {\n",
              "      loadScript(\"vega\")\n",
              "        .then(() => loadScript(\"vega-lite\"))\n",
              "        .then(() => loadScript(\"vega-embed\"))\n",
              "        .catch(showError)\n",
              "        .then(() => displayChart(vegaEmbed));\n",
              "    }\n",
              "  })({\"config\": {\"view\": {\"continuousWidth\": 400, \"continuousHeight\": 300}}, \"data\": {\"name\": \"data-ee6fc3b780bd9f5ce9484c0a913f5d26\"}, \"mark\": \"bar\", \"encoding\": {\"color\": {\"type\": \"nominal\", \"field\": \"ratings\"}, \"tooltip\": [{\"type\": \"nominal\", \"field\": \"ratings\"}, {\"type\": \"quantitative\", \"field\": \"sentiments\"}], \"x\": {\"type\": \"nominal\", \"field\": \"ratings\"}, \"y\": {\"type\": \"quantitative\", \"field\": \"sentiments\"}}, \"selection\": {\"selector001\": {\"type\": \"interval\", \"bind\": \"scales\", \"encodings\": [\"x\", \"y\"]}}, \"$schema\": \"https://vega.github.io/schema/vega-lite/v4.8.1.json\", \"datasets\": {\"data-ee6fc3b780bd9f5ce9484c0a913f5d26\": [{\"ratings\": \"1\", \"sentiments\": -0.013158071747989037}, {\"ratings\": \"1\", \"sentiments\": 0.2857142857142857}, {\"ratings\": \"1\", \"sentiments\": 0.0}, {\"ratings\": \"1\", \"sentiments\": -0.02052123414370017}, {\"ratings\": \"1\", \"sentiments\": 0.0}, {\"ratings\": \"1\", \"sentiments\": 0.11764705882352941}, {\"ratings\": \"1\", \"sentiments\": -0.05794383444415819}, {\"ratings\": \"1\", \"sentiments\": 0.0}, {\"ratings\": \"1\", \"sentiments\": 0.03333333333333333}, {\"ratings\": \"1\", \"sentiments\": -0.017075517075517077}, {\"ratings\": \"1\", \"sentiments\": 0.008351054403685982}, {\"ratings\": \"1\", \"sentiments\": -0.0018939393939393957}, {\"ratings\": \"1\", \"sentiments\": -0.02564102564102564}, {\"ratings\": \"1\", \"sentiments\": 0.07307692307692308}, {\"ratings\": \"1\", \"sentiments\": 0.019110275689223057}, {\"ratings\": \"1\", \"sentiments\": -0.021818604537935132}, {\"ratings\": \"1\", \"sentiments\": -0.06917211328976035}, {\"ratings\": \"1\", \"sentiments\": 0.03571428571428571}, {\"ratings\": \"1\", \"sentiments\": -0.09090909090909091}, {\"ratings\": \"1\", \"sentiments\": 0.08333333333333333}, {\"ratings\": \"1\", \"sentiments\": -1.0}, {\"ratings\": \"1\", \"sentiments\": -0.017083333333333336}, {\"ratings\": \"1\", \"sentiments\": -0.02273015873015873}, {\"ratings\": \"1\", \"sentiments\": -0.057656395891690006}, {\"ratings\": \"1\", \"sentiments\": 0.0179073479361366}, {\"ratings\": \"1\", \"sentiments\": -0.008620689655172414}, {\"ratings\": \"1\", \"sentiments\": 0.04040404040404041}, {\"ratings\": \"1\", \"sentiments\": -0.026785714285714288}, {\"ratings\": \"1\", \"sentiments\": -0.022727272727272728}, {\"ratings\": \"1\", \"sentiments\": 0.024943966290120138}, {\"ratings\": \"1\", \"sentiments\": 0.02569305694305694}, {\"ratings\": \"1\", \"sentiments\": -0.01507537688442211}, {\"ratings\": \"1\", \"sentiments\": 0.047619047619047616}, {\"ratings\": \"1\", \"sentiments\": 0.013817619959861338}, {\"ratings\": \"1\", \"sentiments\": 0.6666666666666666}, {\"ratings\": \"1\", \"sentiments\": 0.05}, {\"ratings\": \"1\", \"sentiments\": 0.05429828826567956}, {\"ratings\": \"1\", \"sentiments\": 0.012046389824167602}, {\"ratings\": \"1\", \"sentiments\": -0.03029065860841149}, {\"ratings\": \"1\", \"sentiments\": -0.09032533123442214}, {\"ratings\": \"1\", \"sentiments\": 0.03333333333333333}, {\"ratings\": \"1\", \"sentiments\": -0.024896418767859835}, {\"ratings\": \"1\", \"sentiments\": -0.013513513513513514}, {\"ratings\": \"1\", \"sentiments\": -0.024085659085659086}, {\"ratings\": \"1\", \"sentiments\": 0.008013804817071072}, {\"ratings\": \"1\", \"sentiments\": -0.5}, {\"ratings\": \"1\", \"sentiments\": 0.04333814333814334}, {\"ratings\": \"1\", \"sentiments\": -0.12}, {\"ratings\": \"1\", \"sentiments\": -0.125}, {\"ratings\": \"1\", \"sentiments\": -0.056650405225087075}, {\"ratings\": \"1\", \"sentiments\": 0.004965331766964239}, {\"ratings\": \"1\", \"sentiments\": -0.03721104429232507}, {\"ratings\": \"1\", \"sentiments\": -0.05134322448395674}, {\"ratings\": \"1\", \"sentiments\": -0.07631578947368421}, {\"ratings\": \"1\", \"sentiments\": 0.0065760389036251116}, {\"ratings\": \"1\", \"sentiments\": 0.022965513748923888}, {\"ratings\": \"1\", \"sentiments\": -0.05440305924495647}, {\"ratings\": \"1\", \"sentiments\": -0.05263157894736842}, {\"ratings\": \"1\", \"sentiments\": 0.015873015873015872}, {\"ratings\": \"1\", \"sentiments\": -0.022350704212773177}, {\"ratings\": \"1\", \"sentiments\": 0.024658348187759953}, {\"ratings\": \"1\", \"sentiments\": -0.03081609748276415}, {\"ratings\": \"1\", \"sentiments\": -0.10555555555555557}, {\"ratings\": \"1\", \"sentiments\": 0.06666666666666667}, {\"ratings\": \"1\", \"sentiments\": 0.024603174603174603}, {\"ratings\": \"1\", \"sentiments\": 0.027777777777777776}, {\"ratings\": \"1\", \"sentiments\": -0.10223220407043936}, {\"ratings\": \"1\", \"sentiments\": -0.02564102564102564}, {\"ratings\": \"1\", \"sentiments\": -0.05}, {\"ratings\": \"1\", \"sentiments\": -0.03165584415584416}, {\"ratings\": \"1\", \"sentiments\": 0.03571428571428571}, {\"ratings\": \"1\", \"sentiments\": 0.0}, {\"ratings\": \"1\", \"sentiments\": -0.08571428571428572}, {\"ratings\": \"1\", \"sentiments\": 0.0}, {\"ratings\": \"1\", \"sentiments\": -0.02617287856418291}, {\"ratings\": \"1\", \"sentiments\": 0.008697928901417273}, {\"ratings\": \"1\", \"sentiments\": 0.025252525252525252}, {\"ratings\": \"1\", \"sentiments\": 0.052842226422136256}, {\"ratings\": \"1\", \"sentiments\": -0.030303030303030304}, {\"ratings\": \"1\", \"sentiments\": 0.06267056252018657}, {\"ratings\": \"1\", \"sentiments\": -0.012670068027210882}, {\"ratings\": \"1\", \"sentiments\": 0.0}, {\"ratings\": \"1\", \"sentiments\": -0.061857018308631204}, {\"ratings\": \"1\", \"sentiments\": -0.05663531870428422}, {\"ratings\": \"1\", \"sentiments\": 0.09090909090909091}, {\"ratings\": \"1\", \"sentiments\": 0.022222222222222223}, {\"ratings\": \"1\", \"sentiments\": -0.05}, {\"ratings\": \"1\", \"sentiments\": 0.02}, {\"ratings\": \"1\", \"sentiments\": -0.016957165641376167}, {\"ratings\": \"1\", \"sentiments\": -0.07976420278052199}, {\"ratings\": \"1\", \"sentiments\": -0.11904761904761904}, {\"ratings\": \"1\", \"sentiments\": -0.08486291486291488}, {\"ratings\": \"1\", \"sentiments\": 0.0}, {\"ratings\": \"1\", \"sentiments\": 0.045454545454545456}, {\"ratings\": \"1\", \"sentiments\": 0.011764705882352941}, {\"ratings\": \"1\", \"sentiments\": -0.027809376507889096}, {\"ratings\": \"1\", \"sentiments\": 0.03333333333333333}, {\"ratings\": \"1\", \"sentiments\": 0.0}, {\"ratings\": \"1\", \"sentiments\": -0.06964285714285715}, {\"ratings\": \"1\", \"sentiments\": -0.04962161680911681}, {\"ratings\": \"1\", \"sentiments\": 0.04004835442335443}, {\"ratings\": \"1\", \"sentiments\": 0.1125}, {\"ratings\": \"1\", \"sentiments\": -0.005333333333333333}, {\"ratings\": \"1\", \"sentiments\": 0.031578947368421054}, {\"ratings\": \"1\", \"sentiments\": 0.017543859649122806}, {\"ratings\": \"1\", \"sentiments\": -0.03797852474323062}, {\"ratings\": \"1\", \"sentiments\": 0.03571428571428571}, {\"ratings\": \"1\", \"sentiments\": -0.06728778467908902}, {\"ratings\": \"1\", \"sentiments\": -0.02309891318043492}, {\"ratings\": \"1\", \"sentiments\": -0.022293315916504325}, {\"ratings\": \"1\", \"sentiments\": 0.05615079365079365}, {\"ratings\": \"1\", \"sentiments\": -0.1221025641025641}, {\"ratings\": \"1\", \"sentiments\": 0.0}, {\"ratings\": \"1\", \"sentiments\": 0.0}, {\"ratings\": \"1\", \"sentiments\": -0.01379107981220657}, {\"ratings\": \"1\", \"sentiments\": 0.08173076923076923}, {\"ratings\": \"1\", \"sentiments\": -0.04478458049886621}, {\"ratings\": \"1\", \"sentiments\": 0.012709750566893425}, {\"ratings\": \"1\", \"sentiments\": -0.018746130030959755}, {\"ratings\": \"1\", \"sentiments\": 0.04830301685891748}, {\"ratings\": \"1\", \"sentiments\": -0.005347593582887701}, {\"ratings\": \"1\", \"sentiments\": 0.0}, {\"ratings\": \"1\", \"sentiments\": 0.006896551724137931}, {\"ratings\": \"1\", \"sentiments\": 0.0}, {\"ratings\": \"1\", \"sentiments\": -0.07509324394465058}, {\"ratings\": \"1\", \"sentiments\": 0.0091592394533571}, {\"ratings\": \"1\", \"sentiments\": 0.0}, {\"ratings\": \"1\", \"sentiments\": -0.11111111111111112}, {\"ratings\": \"1\", \"sentiments\": -0.00607142857142857}, {\"ratings\": \"1\", \"sentiments\": 0.03225806451612903}, {\"ratings\": \"1\", \"sentiments\": -0.03867012316932915}, {\"ratings\": \"1\", \"sentiments\": -0.18165171382562686}, {\"ratings\": \"1\", \"sentiments\": -0.05093795093795095}, {\"ratings\": \"1\", \"sentiments\": -0.25}, {\"ratings\": \"1\", \"sentiments\": 0.07381965944272445}, {\"ratings\": \"1\", \"sentiments\": -0.15625}, {\"ratings\": \"1\", \"sentiments\": 0.02448561786797081}, {\"ratings\": \"1\", \"sentiments\": 0.003961894586894586}, {\"ratings\": \"1\", \"sentiments\": 0.05555555555555555}, {\"ratings\": \"1\", \"sentiments\": -0.0019067162783740316}, {\"ratings\": \"1\", \"sentiments\": 0.005802045177045177}, {\"ratings\": \"1\", \"sentiments\": -0.060050366300366295}, {\"ratings\": \"1\", \"sentiments\": -0.17916666666666664}, {\"ratings\": \"1\", \"sentiments\": 0.10897435897435898}, {\"ratings\": \"1\", \"sentiments\": -0.05608465608465609}, {\"ratings\": \"1\", \"sentiments\": -0.0034614985595377754}, {\"ratings\": \"1\", \"sentiments\": -0.003517316017316016}, {\"ratings\": \"1\", \"sentiments\": 0.015873015873015872}, {\"ratings\": \"1\", \"sentiments\": -0.4583333333333333}, {\"ratings\": \"1\", \"sentiments\": -0.01917379679144385}, {\"ratings\": \"1\", \"sentiments\": -0.015873015873015872}, {\"ratings\": \"1\", \"sentiments\": 0.02693978952275776}, {\"ratings\": \"1\", \"sentiments\": 0.041666666666666664}, {\"ratings\": \"1\", \"sentiments\": -0.03931451612903226}, {\"ratings\": \"1\", \"sentiments\": -0.014285714285714285}, {\"ratings\": \"1\", \"sentiments\": -0.02914662798470894}, {\"ratings\": \"1\", \"sentiments\": -0.11979166666666667}, {\"ratings\": \"1\", \"sentiments\": 0.16666666666666666}, {\"ratings\": \"1\", \"sentiments\": -0.025915750915750917}, {\"ratings\": \"1\", \"sentiments\": -0.14285714285714285}, {\"ratings\": \"1\", \"sentiments\": -0.07781493868450391}, {\"ratings\": \"1\", \"sentiments\": 0.03210764768427307}, {\"ratings\": \"1\", \"sentiments\": 0.020098700256666255}, {\"ratings\": \"1\", \"sentiments\": -0.041666666666666664}, {\"ratings\": \"1\", \"sentiments\": -0.0625}, {\"ratings\": \"1\", \"sentiments\": -0.047619047619047616}, {\"ratings\": \"1\", \"sentiments\": -0.08888888888888889}, {\"ratings\": \"1\", \"sentiments\": -0.12619047619047616}, {\"ratings\": \"1\", \"sentiments\": -0.003737810070046914}, {\"ratings\": \"1\", \"sentiments\": 0.0}, {\"ratings\": \"1\", \"sentiments\": -0.294973544973545}, {\"ratings\": \"1\", \"sentiments\": 0.16666666666666666}, {\"ratings\": \"1\", \"sentiments\": -0.16666666666666666}, {\"ratings\": \"1\", \"sentiments\": 0.0}, {\"ratings\": \"1\", \"sentiments\": -0.015873015873015872}, {\"ratings\": \"1\", \"sentiments\": 0.1295306001188354}, {\"ratings\": \"1\", \"sentiments\": 0.0625}, {\"ratings\": \"1\", \"sentiments\": -0.06550111143604308}, {\"ratings\": \"1\", \"sentiments\": -1.0}, {\"ratings\": \"1\", \"sentiments\": -0.046703296703296704}, {\"ratings\": \"1\", \"sentiments\": -0.00869511935813436}, {\"ratings\": \"1\", \"sentiments\": -0.16666666666666666}, {\"ratings\": \"1\", \"sentiments\": -0.08630270798501097}, {\"ratings\": \"1\", \"sentiments\": 0.004409171075837742}, {\"ratings\": \"1\", \"sentiments\": -0.08563603063603062}, {\"ratings\": \"1\", \"sentiments\": 0.12283229441124179}, {\"ratings\": \"1\", \"sentiments\": -0.23484848484848486}, {\"ratings\": \"1\", \"sentiments\": -0.16666666666666666}, {\"ratings\": \"1\", \"sentiments\": 0.0210559704003639}, {\"ratings\": \"1\", \"sentiments\": -0.003086749631780687}, {\"ratings\": \"1\", \"sentiments\": -0.0606060606060606}, {\"ratings\": \"1\", \"sentiments\": -0.020495495495495498}, {\"ratings\": \"1\", \"sentiments\": -0.04669404263702509}, {\"ratings\": \"1\", \"sentiments\": 0.0}, {\"ratings\": \"1\", \"sentiments\": -0.012832614414548391}, {\"ratings\": \"1\", \"sentiments\": 0.002777777777777775}, {\"ratings\": \"1\", \"sentiments\": -0.03430944055944056}, {\"ratings\": \"1\", \"sentiments\": -0.03898809523809524}, {\"ratings\": \"1\", \"sentiments\": -0.04}, {\"ratings\": \"1\", \"sentiments\": -0.12903225806451613}, {\"ratings\": \"1\", \"sentiments\": 0.0011904761904761956}, {\"ratings\": \"1\", \"sentiments\": -0.041157918720245594}, {\"ratings\": \"1\", \"sentiments\": -0.01613809639535531}, {\"ratings\": \"1\", \"sentiments\": -0.16666666666666666}, {\"ratings\": \"1\", \"sentiments\": -0.16666666666666666}, {\"ratings\": \"1\", \"sentiments\": -0.019355839092681196}, {\"ratings\": \"1\", \"sentiments\": 0.0}, {\"ratings\": \"1\", \"sentiments\": 0.00906457836282398}, {\"ratings\": \"1\", \"sentiments\": 0.04155893937837421}, {\"ratings\": \"1\", \"sentiments\": 0.005185185185185184}, {\"ratings\": \"1\", \"sentiments\": -0.015542852888054126}, {\"ratings\": \"1\", \"sentiments\": -0.1465744400527009}, {\"ratings\": \"1\", \"sentiments\": 0.04672619047619047}, {\"ratings\": \"1\", \"sentiments\": 0.002232142857142856}, {\"ratings\": \"1\", \"sentiments\": -0.08666666666666667}, {\"ratings\": \"1\", \"sentiments\": 0.010101010101010097}, {\"ratings\": \"1\", \"sentiments\": -0.1069385242019513}, {\"ratings\": \"1\", \"sentiments\": -0.014058875930670735}, {\"ratings\": \"1\", \"sentiments\": 0.2}, {\"ratings\": \"1\", \"sentiments\": 0.020421245421245418}, {\"ratings\": \"1\", \"sentiments\": -0.06764069264069263}, {\"ratings\": \"1\", \"sentiments\": -0.09199960918710919}, {\"ratings\": \"1\", \"sentiments\": 0.06020408163265306}, {\"ratings\": \"1\", \"sentiments\": 0.049422799422799424}, {\"ratings\": \"1\", \"sentiments\": 0.1}, {\"ratings\": \"1\", \"sentiments\": -0.06854818021484689}, {\"ratings\": \"1\", \"sentiments\": -0.02481413972642043}, {\"ratings\": \"1\", \"sentiments\": -0.03333333333333333}, {\"ratings\": \"1\", \"sentiments\": 0.009411435418335291}, {\"ratings\": \"1\", \"sentiments\": 0.08571428571428572}, {\"ratings\": \"1\", \"sentiments\": 0.0037387177093059464}, {\"ratings\": \"1\", \"sentiments\": 0.02}, {\"ratings\": \"1\", \"sentiments\": -0.11111111111111112}, {\"ratings\": \"1\", \"sentiments\": -0.047591119250023545}, {\"ratings\": \"1\", \"sentiments\": 0.050793650793650794}, {\"ratings\": \"1\", \"sentiments\": -0.01854176687510021}, {\"ratings\": \"1\", \"sentiments\": 0.041666666666666664}, {\"ratings\": \"1\", \"sentiments\": 0.021976856717175704}, {\"ratings\": \"1\", \"sentiments\": 0.011596736596736597}, {\"ratings\": \"1\", \"sentiments\": 0.012345679012345678}, {\"ratings\": \"1\", \"sentiments\": -0.05}, {\"ratings\": \"1\", \"sentiments\": 0.5}, {\"ratings\": \"1\", \"sentiments\": -0.008663976898870666}, {\"ratings\": \"1\", \"sentiments\": 0.0015268466960981684}, {\"ratings\": \"1\", \"sentiments\": 0.01424541745384348}, {\"ratings\": \"1\", \"sentiments\": -0.0014148916926694703}, {\"ratings\": \"1\", \"sentiments\": -0.029077491709070653}, {\"ratings\": \"1\", \"sentiments\": 0.0}, {\"ratings\": \"1\", \"sentiments\": -0.056530214424951264}, {\"ratings\": \"1\", \"sentiments\": 0.02656411049268192}, {\"ratings\": \"1\", \"sentiments\": -0.06357560568086884}, {\"ratings\": \"1\", \"sentiments\": 0.04245425391435579}, {\"ratings\": \"1\", \"sentiments\": -0.0021061910438128738}, {\"ratings\": \"1\", \"sentiments\": 0.02673992673992674}, {\"ratings\": \"1\", \"sentiments\": -0.018518518518518517}, {\"ratings\": \"1\", \"sentiments\": -0.009258331057639017}, {\"ratings\": \"1\", \"sentiments\": 0.3333333333333333}, {\"ratings\": \"1\", \"sentiments\": -0.0654933608058608}, {\"ratings\": \"1\", \"sentiments\": 0.0}, {\"ratings\": \"1\", \"sentiments\": -0.02329861546145594}, {\"ratings\": \"1\", \"sentiments\": -0.003121266427718039}, {\"ratings\": \"1\", \"sentiments\": -0.034892897686089906}, {\"ratings\": \"1\", \"sentiments\": -0.008870214752567693}, {\"ratings\": \"1\", \"sentiments\": 0.5}, {\"ratings\": \"1\", \"sentiments\": 0.04234829497987392}, {\"ratings\": \"1\", \"sentiments\": -0.05555555555555555}, {\"ratings\": \"1\", \"sentiments\": -0.034848484848484844}, {\"ratings\": \"1\", \"sentiments\": -0.10189156122219004}, {\"ratings\": \"1\", \"sentiments\": -0.06712793379460046}, {\"ratings\": \"1\", \"sentiments\": -0.2}, {\"ratings\": \"1\", \"sentiments\": -0.006714285714285714}, {\"ratings\": \"1\", \"sentiments\": 0.012345679012345678}, {\"ratings\": \"1\", \"sentiments\": -0.125}, {\"ratings\": \"1\", \"sentiments\": -0.00636622854269913}, {\"ratings\": \"1\", \"sentiments\": -0.013715425196222982}, {\"ratings\": \"1\", \"sentiments\": -0.010336661546338966}, {\"ratings\": \"1\", \"sentiments\": -0.3333333333333333}, {\"ratings\": \"1\", \"sentiments\": 0.0673076923076923}, {\"ratings\": \"1\", \"sentiments\": 0.017835538895618338}, {\"ratings\": \"1\", \"sentiments\": 0.0}, {\"ratings\": \"1\", \"sentiments\": 0.08333333333333333}, {\"ratings\": \"1\", \"sentiments\": -0.0017596782302664673}, {\"ratings\": \"1\", \"sentiments\": 0.10912598957711739}, {\"ratings\": \"1\", \"sentiments\": 0.04354395604395604}, {\"ratings\": \"1\", \"sentiments\": 0.01279722515336326}, {\"ratings\": \"1\", \"sentiments\": -0.1821648761866153}, {\"ratings\": \"1\", \"sentiments\": 0.0}, {\"ratings\": \"1\", \"sentiments\": -0.06444152576950535}, {\"ratings\": \"1\", \"sentiments\": -0.0748663101604278}, {\"ratings\": \"1\", \"sentiments\": -0.0625}, {\"ratings\": \"1\", \"sentiments\": -0.05416666666666666}, {\"ratings\": \"1\", \"sentiments\": -0.01585121169679993}, {\"ratings\": \"1\", \"sentiments\": -0.03636363636363636}, {\"ratings\": \"1\", \"sentiments\": -0.022222222222222223}, {\"ratings\": \"1\", \"sentiments\": -0.1612121212121212}, {\"ratings\": \"1\", \"sentiments\": -0.03132034632034632}, {\"ratings\": \"1\", \"sentiments\": -0.18125}, {\"ratings\": \"1\", \"sentiments\": 0.03125}, {\"ratings\": \"1\", \"sentiments\": 0.0074074074074074}, {\"ratings\": \"1\", \"sentiments\": 0.03888888888888889}, {\"ratings\": \"1\", \"sentiments\": -0.07302188552188552}, {\"ratings\": \"1\", \"sentiments\": 0.04285714285714286}, {\"ratings\": \"1\", \"sentiments\": -0.0008893280632411016}, {\"ratings\": \"1\", \"sentiments\": -0.29166666666666663}, {\"ratings\": \"1\", \"sentiments\": 0.10833333333333334}, {\"ratings\": \"1\", \"sentiments\": 0.016584320072692164}, {\"ratings\": \"1\", \"sentiments\": -0.25396825396825395}, {\"ratings\": \"1\", \"sentiments\": -0.03314917127071823}, {\"ratings\": \"1\", \"sentiments\": -0.09497076023391812}, {\"ratings\": \"1\", \"sentiments\": 0.026992698636416016}, {\"ratings\": \"1\", \"sentiments\": 0.0}, {\"ratings\": \"1\", \"sentiments\": 0.1111111111111111}, {\"ratings\": \"1\", \"sentiments\": -0.25}, {\"ratings\": \"1\", \"sentiments\": 0.01770152505446623}, {\"ratings\": \"1\", \"sentiments\": -0.019047619047619053}, {\"ratings\": \"1\", \"sentiments\": -0.007936507936507936}, {\"ratings\": \"1\", \"sentiments\": -0.06949891067538126}, {\"ratings\": \"1\", \"sentiments\": 0.0}, {\"ratings\": \"1\", \"sentiments\": 0.0}, {\"ratings\": \"1\", \"sentiments\": -0.017873774509803923}, {\"ratings\": \"1\", \"sentiments\": -0.015714285714285712}, {\"ratings\": \"1\", \"sentiments\": -0.030969030969030968}, {\"ratings\": \"1\", \"sentiments\": -0.04494505494505494}, {\"ratings\": \"1\", \"sentiments\": -0.06818181818181818}, {\"ratings\": \"1\", \"sentiments\": -0.04733324331623008}, {\"ratings\": \"1\", \"sentiments\": -0.07449490889176946}, {\"ratings\": \"1\", \"sentiments\": -0.5}, {\"ratings\": \"1\", \"sentiments\": 0.015499832411597117}, {\"ratings\": \"1\", \"sentiments\": -0.1527777777777778}, {\"ratings\": \"1\", \"sentiments\": -0.10176073926073925}, {\"ratings\": \"1\", \"sentiments\": 0.5}, {\"ratings\": \"1\", \"sentiments\": -0.04324786324786325}, {\"ratings\": \"1\", \"sentiments\": -0.009308191808191807}, {\"ratings\": \"1\", \"sentiments\": 0.004164788520772292}, {\"ratings\": \"1\", \"sentiments\": -0.04139194139194139}, {\"ratings\": \"1\", \"sentiments\": -0.038834951456310676}, {\"ratings\": \"1\", \"sentiments\": 0.02284752284752285}, {\"ratings\": \"1\", \"sentiments\": 0.0}, {\"ratings\": \"1\", \"sentiments\": -0.1619047619047619}, {\"ratings\": \"1\", \"sentiments\": 0.0}, {\"ratings\": \"1\", \"sentiments\": -0.11666666666666665}, {\"ratings\": \"1\", \"sentiments\": -0.02152042700429797}, {\"ratings\": \"1\", \"sentiments\": 0.020833333333333332}, {\"ratings\": \"1\", \"sentiments\": 0.02443181818181818}, {\"ratings\": \"1\", \"sentiments\": -0.037360192393401215}, {\"ratings\": \"1\", \"sentiments\": 0.25}, {\"ratings\": \"1\", \"sentiments\": -0.04822747680201097}, {\"ratings\": \"1\", \"sentiments\": -0.05120712620712621}, {\"ratings\": \"1\", \"sentiments\": -0.07510822510822511}, {\"ratings\": \"1\", \"sentiments\": -0.25}, {\"ratings\": \"1\", \"sentiments\": 0.012878787878787878}, {\"ratings\": \"1\", \"sentiments\": -0.08857142857142856}, {\"ratings\": \"1\", \"sentiments\": 0.03571428571428571}, {\"ratings\": \"1\", \"sentiments\": 0.010227272727272727}, {\"ratings\": \"1\", \"sentiments\": 0.0071341792462849595}, {\"ratings\": \"1\", \"sentiments\": -0.023860708534621577}, {\"ratings\": \"1\", \"sentiments\": 0.0}, {\"ratings\": \"1\", \"sentiments\": -0.020833333333333332}, {\"ratings\": \"1\", \"sentiments\": -0.05001088470916058}, {\"ratings\": \"1\", \"sentiments\": 0.0349859022556391}, {\"ratings\": \"1\", \"sentiments\": 0.0}, {\"ratings\": \"1\", \"sentiments\": 0.03588939840603481}, {\"ratings\": \"1\", \"sentiments\": -0.009477375726444142}, {\"ratings\": \"1\", \"sentiments\": 0.0}, {\"ratings\": \"1\", \"sentiments\": -0.00849436213808684}, {\"ratings\": \"1\", \"sentiments\": 0.06856060606060606}, {\"ratings\": \"1\", \"sentiments\": -0.02174166294612906}, {\"ratings\": \"1\", \"sentiments\": 0.0}, {\"ratings\": \"1\", \"sentiments\": 0.04878048780487805}, {\"ratings\": \"1\", \"sentiments\": 0.0}, {\"ratings\": \"1\", \"sentiments\": -0.0010053442890602133}, {\"ratings\": \"1\", \"sentiments\": 0.0}, {\"ratings\": \"1\", \"sentiments\": -0.07142857142857142}, {\"ratings\": \"1\", \"sentiments\": 0.0}, {\"ratings\": \"1\", \"sentiments\": -0.15079365079365079}, {\"ratings\": \"1\", \"sentiments\": 0.0}, {\"ratings\": \"1\", \"sentiments\": 0.0036572622779519337}, {\"ratings\": \"1\", \"sentiments\": 0.03333333333333333}, {\"ratings\": \"1\", \"sentiments\": 0.0243350311262026}, {\"ratings\": \"1\", \"sentiments\": 0.019047619047619046}, {\"ratings\": \"1\", \"sentiments\": -0.11666666666666667}, {\"ratings\": \"1\", \"sentiments\": -0.23076923076923078}, {\"ratings\": \"1\", \"sentiments\": 0.0}, {\"ratings\": \"1\", \"sentiments\": 0.0}, {\"ratings\": \"1\", \"sentiments\": -0.05555555555555555}, {\"ratings\": \"1\", \"sentiments\": 0.0}, {\"ratings\": \"1\", \"sentiments\": 0.05359723763719324}, {\"ratings\": \"1\", \"sentiments\": -0.2222222222222222}, {\"ratings\": \"1\", \"sentiments\": 0.06547619047619048}, {\"ratings\": \"1\", \"sentiments\": 0.038461538461538464}, {\"ratings\": \"1\", \"sentiments\": -0.25}, {\"ratings\": \"1\", \"sentiments\": -0.026329131652661063}, {\"ratings\": \"1\", \"sentiments\": 0.0}, {\"ratings\": \"1\", \"sentiments\": -0.04166666666666666}, {\"ratings\": \"1\", \"sentiments\": -0.045454545454545456}, {\"ratings\": \"1\", \"sentiments\": 0.0}, {\"ratings\": \"1\", \"sentiments\": -0.037037037037037035}, {\"ratings\": \"1\", \"sentiments\": 0.025663896024810146}, {\"ratings\": \"1\", \"sentiments\": -0.0050167224080267525}, {\"ratings\": \"1\", \"sentiments\": -0.09523809523809523}, {\"ratings\": \"1\", \"sentiments\": 0.0017882101558572144}, {\"ratings\": \"1\", \"sentiments\": 0.1}, {\"ratings\": \"1\", \"sentiments\": -0.008471385542168676}, {\"ratings\": \"1\", \"sentiments\": 0.010872330694985157}, {\"ratings\": \"1\", \"sentiments\": 0.0}, {\"ratings\": \"1\", \"sentiments\": -0.0552565229938811}, {\"ratings\": \"1\", \"sentiments\": -0.5454545454545454}, {\"ratings\": \"1\", \"sentiments\": -0.125}, {\"ratings\": \"1\", \"sentiments\": 0.014223766429648784}, {\"ratings\": \"1\", \"sentiments\": 0.16666666666666666}, {\"ratings\": \"1\", \"sentiments\": 0.13773148148148148}, {\"ratings\": \"1\", \"sentiments\": -0.05}, {\"ratings\": \"1\", \"sentiments\": 0.10246753246753246}, {\"ratings\": \"1\", \"sentiments\": -0.08834422657952068}, {\"ratings\": \"1\", \"sentiments\": 0.037037037037037035}, {\"ratings\": \"1\", \"sentiments\": 0.039387684898520806}, {\"ratings\": \"1\", \"sentiments\": -0.002875117719468527}, {\"ratings\": \"1\", \"sentiments\": 0.027851458885941646}, {\"ratings\": \"1\", \"sentiments\": -0.09090909090909091}, {\"ratings\": \"1\", \"sentiments\": -0.004091288828130933}, {\"ratings\": \"1\", \"sentiments\": 0.0}, {\"ratings\": \"1\", \"sentiments\": -0.08214285714285714}, {\"ratings\": \"1\", \"sentiments\": 0.00260722247937415}, {\"ratings\": \"1\", \"sentiments\": -0.3333333333333333}, {\"ratings\": \"1\", \"sentiments\": -0.06}, {\"ratings\": \"1\", \"sentiments\": -0.012566895279661237}, {\"ratings\": \"1\", \"sentiments\": 0.07142857142857142}, {\"ratings\": \"1\", \"sentiments\": 0.0}, {\"ratings\": \"1\", \"sentiments\": -0.1111111111111111}, {\"ratings\": \"1\", \"sentiments\": -0.12729584726867335}, {\"ratings\": \"1\", \"sentiments\": -0.0347311955778775}, {\"ratings\": \"1\", \"sentiments\": -0.048463061557917596}, {\"ratings\": \"1\", \"sentiments\": -0.14893617021276595}, {\"ratings\": \"1\", \"sentiments\": -0.03168202764976959}, {\"ratings\": \"1\", \"sentiments\": 0.0}, {\"ratings\": \"1\", \"sentiments\": 0.007215007215007216}, {\"ratings\": \"1\", \"sentiments\": -0.009461966604823747}, {\"ratings\": \"1\", \"sentiments\": 0.06349206349206349}, {\"ratings\": \"1\", \"sentiments\": -0.007642563198118753}, {\"ratings\": \"1\", \"sentiments\": 0.02565412528647824}, {\"ratings\": \"1\", \"sentiments\": -0.15235122968044212}, {\"ratings\": \"1\", \"sentiments\": 0.021474433705008143}, {\"ratings\": \"1\", \"sentiments\": -0.08095238095238096}, {\"ratings\": \"1\", \"sentiments\": 0.022727272727272728}, {\"ratings\": \"1\", \"sentiments\": -0.3333333333333333}, {\"ratings\": \"1\", \"sentiments\": 0.16883116883116886}, {\"ratings\": \"1\", \"sentiments\": -0.14285714285714285}, {\"ratings\": \"1\", \"sentiments\": 0.03538961038961039}, {\"ratings\": \"1\", \"sentiments\": 0.031159420289855074}, {\"ratings\": \"1\", \"sentiments\": 0.027346138279642114}, {\"ratings\": \"1\", \"sentiments\": 0.0017751479289940851}, {\"ratings\": \"1\", \"sentiments\": 0.04666666666666666}, {\"ratings\": \"1\", \"sentiments\": -0.023484848484848487}, {\"ratings\": \"1\", \"sentiments\": 0.032738675402319804}, {\"ratings\": \"1\", \"sentiments\": 0.04830301685891748}, {\"ratings\": \"1\", \"sentiments\": -0.06678460428460428}, {\"ratings\": \"1\", \"sentiments\": -0.05444444444444444}, {\"ratings\": \"1\", \"sentiments\": -0.025921342679208616}, {\"ratings\": \"1\", \"sentiments\": 0.0}, {\"ratings\": \"1\", \"sentiments\": -0.08333333333333333}, {\"ratings\": \"1\", \"sentiments\": -0.026048644338118022}, {\"ratings\": \"1\", \"sentiments\": 0.032820512820512814}, {\"ratings\": \"1\", \"sentiments\": 0.00583488876468872}, {\"ratings\": \"1\", \"sentiments\": -0.0516984126984127}, {\"ratings\": \"1\", \"sentiments\": 0.0}, {\"ratings\": \"1\", \"sentiments\": -0.04700854700854701}, {\"ratings\": \"1\", \"sentiments\": -0.005602240896358544}, {\"ratings\": \"1\", \"sentiments\": 0.045454545454545456}, {\"ratings\": \"1\", \"sentiments\": -0.04131944444444445}, {\"ratings\": \"1\", \"sentiments\": -0.09567901234567901}, {\"ratings\": \"1\", \"sentiments\": 0.08333333333333333}, {\"ratings\": \"1\", \"sentiments\": -0.3490740740740741}, {\"ratings\": \"1\", \"sentiments\": 0.0125}, {\"ratings\": \"1\", \"sentiments\": 0.020833333333333332}, {\"ratings\": \"1\", \"sentiments\": 0.0}, {\"ratings\": \"1\", \"sentiments\": -0.020202020202020204}, {\"ratings\": \"1\", \"sentiments\": -0.04052429052429052}, {\"ratings\": \"1\", \"sentiments\": -0.01657395521323634}, {\"ratings\": \"1\", \"sentiments\": -0.010382094757094755}, {\"ratings\": \"1\", \"sentiments\": 0.0196078431372549}, {\"ratings\": \"1\", \"sentiments\": 9.25185853854297e-18}, {\"ratings\": \"1\", \"sentiments\": -0.0625}, {\"ratings\": \"1\", \"sentiments\": -0.027777777777777776}, {\"ratings\": \"1\", \"sentiments\": -0.14285714285714285}, {\"ratings\": \"1\", \"sentiments\": -0.0873015873015873}, {\"ratings\": \"1\", \"sentiments\": -0.022222222222222223}, {\"ratings\": \"1\", \"sentiments\": 0.0}, {\"ratings\": \"1\", \"sentiments\": 0.008993506493506494}, {\"ratings\": \"1\", \"sentiments\": 0.026192019146795628}, {\"ratings\": \"1\", \"sentiments\": -0.019611798457952304}, {\"ratings\": \"1\", \"sentiments\": -0.06613756613756613}, {\"ratings\": \"1\", \"sentiments\": 0.016391138101664416}, {\"ratings\": \"1\", \"sentiments\": -0.05660377358490566}, {\"ratings\": \"1\", \"sentiments\": -0.021493783993783988}, {\"ratings\": \"1\", \"sentiments\": 0.0}, {\"ratings\": \"1\", \"sentiments\": -0.15348389355742298}, {\"ratings\": \"1\", \"sentiments\": -0.25}, {\"ratings\": \"1\", \"sentiments\": 0.017460317460317464}, {\"ratings\": \"1\", \"sentiments\": 0.18181818181818182}, {\"ratings\": \"1\", \"sentiments\": 0.16666666666666666}, {\"ratings\": \"1\", \"sentiments\": -0.10351731601731602}, {\"ratings\": \"1\", \"sentiments\": 0.04292929292929293}, {\"ratings\": \"1\", \"sentiments\": 0.16904761904761906}, {\"ratings\": \"1\", \"sentiments\": -0.03888888888888889}, {\"ratings\": \"1\", \"sentiments\": -0.03125}, {\"ratings\": \"1\", \"sentiments\": 0.024576318742985406}, {\"ratings\": \"1\", \"sentiments\": 0.0}, {\"ratings\": \"1\", \"sentiments\": 0.00337301587301587}, {\"ratings\": \"1\", \"sentiments\": -0.13720238095238096}, {\"ratings\": \"1\", \"sentiments\": -0.04598997493734336}, {\"ratings\": \"1\", \"sentiments\": -0.015733996083543905}, {\"ratings\": \"1\", \"sentiments\": -0.1111111111111111}, {\"ratings\": \"1\", \"sentiments\": 0.045493563994512765}, {\"ratings\": \"1\", \"sentiments\": 0.018518518518518517}, {\"ratings\": \"1\", \"sentiments\": -0.018561872909699004}, {\"ratings\": \"1\", \"sentiments\": 0.02321841444559497}, {\"ratings\": \"1\", \"sentiments\": -0.05555555555555555}, {\"ratings\": \"1\", \"sentiments\": -0.040178571428571425}, {\"ratings\": \"1\", \"sentiments\": -0.04559386973180077}, {\"ratings\": \"1\", \"sentiments\": 0.018386243386243388}, {\"ratings\": \"1\", \"sentiments\": -0.22222222222222224}, {\"ratings\": \"1\", \"sentiments\": -0.07291666666666666}, {\"ratings\": \"1\", \"sentiments\": -0.08}, {\"ratings\": \"1\", \"sentiments\": 0.008999393477840728}, {\"ratings\": \"1\", \"sentiments\": -0.07351383659075966}, {\"ratings\": \"1\", \"sentiments\": -0.08552551455364754}, {\"ratings\": \"1\", \"sentiments\": 0.0}, {\"ratings\": \"1\", \"sentiments\": 0.0}, {\"ratings\": \"1\", \"sentiments\": -0.030009920634920632}, {\"ratings\": \"1\", \"sentiments\": 0.05391433059011719}, {\"ratings\": \"1\", \"sentiments\": 0.25}, {\"ratings\": \"1\", \"sentiments\": -0.25}, {\"ratings\": \"1\", \"sentiments\": -0.06372549019607843}, {\"ratings\": \"1\", \"sentiments\": 0.037037037037037035}, {\"ratings\": \"1\", \"sentiments\": 0.03812636165577342}, {\"ratings\": \"1\", \"sentiments\": 0.0}, {\"ratings\": \"1\", \"sentiments\": -0.04423153099623688}, {\"ratings\": \"1\", \"sentiments\": -0.06319444444444444}, {\"ratings\": \"1\", \"sentiments\": -0.04940255477770157}, {\"ratings\": \"1\", \"sentiments\": -0.06369047619047619}, {\"ratings\": \"1\", \"sentiments\": 0.0024598513026671187}, {\"ratings\": \"1\", \"sentiments\": -0.011666666666666669}, {\"ratings\": \"1\", \"sentiments\": -0.08253968253968254}, {\"ratings\": \"1\", \"sentiments\": -0.020811303321184745}, {\"ratings\": \"1\", \"sentiments\": 0.07777777777777777}, {\"ratings\": \"1\", \"sentiments\": -0.04524611191277858}, {\"ratings\": \"1\", \"sentiments\": 0.05454545454545455}, {\"ratings\": \"1\", \"sentiments\": 0.0}, {\"ratings\": \"1\", \"sentiments\": -0.0535663733203326}, {\"ratings\": \"1\", \"sentiments\": -0.10576923076923077}, {\"ratings\": \"1\", \"sentiments\": 0.008469101104631744}, {\"ratings\": \"1\", \"sentiments\": -0.08695652173913043}, {\"ratings\": \"1\", \"sentiments\": 0.09090909090909091}, {\"ratings\": \"1\", \"sentiments\": 0.125}, {\"ratings\": \"1\", \"sentiments\": -0.10416666666666666}, {\"ratings\": \"1\", \"sentiments\": -0.1}, {\"ratings\": \"1\", \"sentiments\": -0.18}, {\"ratings\": \"1\", \"sentiments\": -0.021904761904761906}, {\"ratings\": \"1\", \"sentiments\": -0.0925925925925926}, {\"ratings\": \"1\", \"sentiments\": -0.1762508809020437}, {\"ratings\": \"1\", \"sentiments\": -0.004464285714285712}, {\"ratings\": \"1\", \"sentiments\": -0.0492063492063492}, {\"ratings\": \"1\", \"sentiments\": 0.0346976951159509}, {\"ratings\": \"1\", \"sentiments\": 0.1875}, {\"ratings\": \"1\", \"sentiments\": -0.18333333333333335}, {\"ratings\": \"1\", \"sentiments\": -0.13523809523809524}, {\"ratings\": \"1\", \"sentiments\": -0.0034983986203498507}, {\"ratings\": \"1\", \"sentiments\": -0.007435897435897435}, {\"ratings\": \"1\", \"sentiments\": 0.0062734939356464655}, {\"ratings\": \"1\", \"sentiments\": 0.0}, {\"ratings\": \"1\", \"sentiments\": -0.03443525030684285}, {\"ratings\": \"1\", \"sentiments\": 0.0}, {\"ratings\": \"1\", \"sentiments\": -0.08823529411764706}, {\"ratings\": \"1\", \"sentiments\": 0.024146695715323168}, {\"ratings\": \"1\", \"sentiments\": 0.016544117647058824}, {\"ratings\": \"1\", \"sentiments\": -0.034482758620689655}, {\"ratings\": \"1\", \"sentiments\": -0.04500498568992814}, {\"ratings\": \"1\", \"sentiments\": 0.028987859966120834}, {\"ratings\": \"1\", \"sentiments\": -0.034154023600390375}, {\"ratings\": \"1\", \"sentiments\": -0.054675324675324675}, {\"ratings\": \"1\", \"sentiments\": 0.005837687824661281}, {\"ratings\": \"1\", \"sentiments\": -0.06349206349206349}, {\"ratings\": \"1\", \"sentiments\": 0.023199860524958586}, {\"ratings\": \"1\", \"sentiments\": 0.020833333333333332}, {\"ratings\": \"1\", \"sentiments\": -0.3333333333333333}, {\"ratings\": \"1\", \"sentiments\": -0.013483299108299108}, {\"ratings\": \"1\", \"sentiments\": -0.05262445887445888}, {\"ratings\": \"1\", \"sentiments\": -0.03518518518518518}, {\"ratings\": \"1\", \"sentiments\": 0.041666666666666664}, {\"ratings\": \"1\", \"sentiments\": -0.024711399711399712}, {\"ratings\": \"1\", \"sentiments\": -0.00641025641025641}, {\"ratings\": \"1\", \"sentiments\": 0.0}, {\"ratings\": \"1\", \"sentiments\": -0.010135462022254476}, {\"ratings\": \"1\", \"sentiments\": -0.024831482381045347}, {\"ratings\": \"1\", \"sentiments\": -0.16666666666666666}, {\"ratings\": \"1\", \"sentiments\": -0.03760465724751439}, {\"ratings\": \"1\", \"sentiments\": 0.15476190476190477}, {\"ratings\": \"1\", \"sentiments\": -0.05337940358815757}, {\"ratings\": \"1\", \"sentiments\": 0.3333333333333333}, {\"ratings\": \"1\", \"sentiments\": -0.025303030303030306}, {\"ratings\": \"1\", \"sentiments\": -0.03571428571428571}, {\"ratings\": \"1\", \"sentiments\": -0.041666666666666664}, {\"ratings\": \"1\", \"sentiments\": -0.04003219003219004}, {\"ratings\": \"1\", \"sentiments\": -0.030357142857142857}, {\"ratings\": \"1\", \"sentiments\": -0.1}, {\"ratings\": \"1\", \"sentiments\": -0.13448510956363066}, {\"ratings\": \"1\", \"sentiments\": -0.1130226480836237}, {\"ratings\": \"1\", \"sentiments\": 0.0}, {\"ratings\": \"1\", \"sentiments\": -0.030303030303030304}, {\"ratings\": \"1\", \"sentiments\": -0.14375}, {\"ratings\": \"1\", \"sentiments\": -0.16666666666666666}, {\"ratings\": \"1\", \"sentiments\": -0.05714285714285714}, {\"ratings\": \"1\", \"sentiments\": -0.053122571872571876}, {\"ratings\": \"1\", \"sentiments\": -0.03764950720911474}, {\"ratings\": \"1\", \"sentiments\": -0.09627405618117692}, {\"ratings\": \"1\", \"sentiments\": -0.05146258503401361}, {\"ratings\": \"1\", \"sentiments\": -0.014583333333333337}, {\"ratings\": \"1\", \"sentiments\": -0.045454545454545456}, {\"ratings\": \"1\", \"sentiments\": -0.06478205128205128}, {\"ratings\": \"1\", \"sentiments\": -0.008333333333333331}, {\"ratings\": \"1\", \"sentiments\": 0.011803410493250066}, {\"ratings\": \"1\", \"sentiments\": -0.008272283272283272}, {\"ratings\": \"1\", \"sentiments\": 0.05}, {\"ratings\": \"1\", \"sentiments\": -0.02724793330179077}, {\"ratings\": \"1\", \"sentiments\": 0.24572649572649574}, {\"ratings\": \"1\", \"sentiments\": 0.0}, {\"ratings\": \"1\", \"sentiments\": -0.03325421265231865}, {\"ratings\": \"1\", \"sentiments\": -0.027736928104575165}, {\"ratings\": \"1\", \"sentiments\": 0.044444444444444446}, {\"ratings\": \"1\", \"sentiments\": -0.011567420528817587}, {\"ratings\": \"1\", \"sentiments\": -0.02791641909288968}, {\"ratings\": \"1\", \"sentiments\": 0.0}, {\"ratings\": \"1\", \"sentiments\": -0.02946745562130178}, {\"ratings\": \"1\", \"sentiments\": -0.02065426403661698}, {\"ratings\": \"1\", \"sentiments\": -0.009219820466837858}, {\"ratings\": \"1\", \"sentiments\": 0.055164149388287315}, {\"ratings\": \"1\", \"sentiments\": -0.04896457924408235}, {\"ratings\": \"1\", \"sentiments\": 0.004909490677991624}, {\"ratings\": \"1\", \"sentiments\": 0.05263157894736842}, {\"ratings\": \"1\", \"sentiments\": -0.013174603174603172}, {\"ratings\": \"1\", \"sentiments\": 0.07170626704788195}, {\"ratings\": \"1\", \"sentiments\": 0.10526315789473684}, {\"ratings\": \"1\", \"sentiments\": 0.0}, {\"ratings\": \"1\", \"sentiments\": -0.029411764705882353}, {\"ratings\": \"1\", \"sentiments\": -0.026695526695526692}, {\"ratings\": \"1\", \"sentiments\": -0.3333333333333333}, {\"ratings\": \"1\", \"sentiments\": 0.012623470440807902}, {\"ratings\": \"1\", \"sentiments\": -0.03596357565397813}, {\"ratings\": \"1\", \"sentiments\": 0.0013363520260071978}, {\"ratings\": \"1\", \"sentiments\": 0.05314828849311608}, {\"ratings\": \"1\", \"sentiments\": 0.2}, {\"ratings\": \"1\", \"sentiments\": -0.010048164769527001}, {\"ratings\": \"1\", \"sentiments\": -0.0015782880922685426}, {\"ratings\": \"1\", \"sentiments\": -0.03036303548057241}, {\"ratings\": \"1\", \"sentiments\": -0.15}, {\"ratings\": \"1\", \"sentiments\": -0.024706694271911665}, {\"ratings\": \"1\", \"sentiments\": -0.05881834215167549}, {\"ratings\": \"1\", \"sentiments\": 0.1}, {\"ratings\": \"1\", \"sentiments\": -0.03125}, {\"ratings\": \"1\", \"sentiments\": -0.11342592592592593}, {\"ratings\": \"1\", \"sentiments\": 0.0001236705443193542}, {\"ratings\": \"1\", \"sentiments\": -0.05875165335253746}, {\"ratings\": \"1\", \"sentiments\": 0.0}, {\"ratings\": \"1\", \"sentiments\": -0.006460848083709518}, {\"ratings\": \"1\", \"sentiments\": 0.03461021835634838}, {\"ratings\": \"1\", \"sentiments\": -0.008782267115600447}, {\"ratings\": \"1\", \"sentiments\": -0.06666666666666667}, {\"ratings\": \"1\", \"sentiments\": -0.02946428571428572}, {\"ratings\": \"1\", \"sentiments\": 0.0010179434092477573}, {\"ratings\": \"1\", \"sentiments\": -0.03260869565217391}, {\"ratings\": \"1\", \"sentiments\": 0.049818840579710144}, {\"ratings\": \"1\", \"sentiments\": 0.0026180609513942864}, {\"ratings\": \"1\", \"sentiments\": -0.026440879382055856}, {\"ratings\": \"1\", \"sentiments\": 0.031183631183631186}, {\"ratings\": \"1\", \"sentiments\": -0.025060125060125064}, {\"ratings\": \"1\", \"sentiments\": -0.01974544203646371}, {\"ratings\": \"1\", \"sentiments\": 0.04347493276108408}, {\"ratings\": \"1\", \"sentiments\": -1.0}, {\"ratings\": \"1\", \"sentiments\": -0.08333333333333333}, {\"ratings\": \"1\", \"sentiments\": -0.05650793650793651}, {\"ratings\": \"1\", \"sentiments\": -0.04218768074031232}, {\"ratings\": \"1\", \"sentiments\": 0.014880952380952377}, {\"ratings\": \"1\", \"sentiments\": 0.0014588760912290413}, {\"ratings\": \"1\", \"sentiments\": 0.0636574074074074}, {\"ratings\": \"1\", \"sentiments\": 0.0}, {\"ratings\": \"1\", \"sentiments\": -0.0071704464299485815}, {\"ratings\": \"1\", \"sentiments\": 0.0}, {\"ratings\": \"1\", \"sentiments\": 0.009103641456582632}, {\"ratings\": \"1\", \"sentiments\": -0.09615384615384615}, {\"ratings\": \"1\", \"sentiments\": -0.020470963505019233}, {\"ratings\": \"1\", \"sentiments\": -0.010561430225461847}, {\"ratings\": \"1\", \"sentiments\": -0.04392911010558069}, {\"ratings\": \"1\", \"sentiments\": 0.036105055538253925}, {\"ratings\": \"1\", \"sentiments\": -0.1356382978723404}, {\"ratings\": \"1\", \"sentiments\": 0.04151155885478311}, {\"ratings\": \"1\", \"sentiments\": 0.010389610389610388}, {\"ratings\": \"1\", \"sentiments\": -0.028216374269005837}, {\"ratings\": \"1\", \"sentiments\": 0.0}, {\"ratings\": \"1\", \"sentiments\": 0.0027272727272727275}, {\"ratings\": \"1\", \"sentiments\": -0.03825824175824175}, {\"ratings\": \"1\", \"sentiments\": -0.5}, {\"ratings\": \"1\", \"sentiments\": -0.05128205128205128}, {\"ratings\": \"1\", \"sentiments\": 0.050395455458746595}, {\"ratings\": \"1\", \"sentiments\": -0.0349048082564566}, {\"ratings\": \"1\", \"sentiments\": 0.0}, {\"ratings\": \"1\", \"sentiments\": -0.029992737835875097}, {\"ratings\": \"1\", \"sentiments\": -0.034450848503883906}, {\"ratings\": \"1\", \"sentiments\": 0.18181818181818182}, {\"ratings\": \"1\", \"sentiments\": -0.011141932141100893}, {\"ratings\": \"1\", \"sentiments\": 0.0}, {\"ratings\": \"1\", \"sentiments\": -0.0025263587745775243}, {\"ratings\": \"1\", \"sentiments\": 0.0}, {\"ratings\": \"1\", \"sentiments\": -0.05126533371969477}, {\"ratings\": \"1\", \"sentiments\": 0.004712127541074907}, {\"ratings\": \"1\", \"sentiments\": 0.07216874628639333}, {\"ratings\": \"1\", \"sentiments\": -0.1035294117647059}, {\"ratings\": \"1\", \"sentiments\": -0.059027777777777776}, {\"ratings\": \"1\", \"sentiments\": -0.07894736842105263}, {\"ratings\": \"1\", \"sentiments\": -0.02010582010582011}, {\"ratings\": \"1\", \"sentiments\": -0.013888888888888888}, {\"ratings\": \"1\", \"sentiments\": -0.5}, {\"ratings\": \"1\", \"sentiments\": -0.01984126984126984}, {\"ratings\": \"1\", \"sentiments\": -0.011363636363636362}, {\"ratings\": \"1\", \"sentiments\": 0.09583333333333333}, {\"ratings\": \"1\", \"sentiments\": -0.11825205907974974}, {\"ratings\": \"1\", \"sentiments\": -0.03787878787878787}, {\"ratings\": \"1\", \"sentiments\": -0.04249084249084249}, {\"ratings\": \"1\", \"sentiments\": -0.011673643816500958}, {\"ratings\": \"1\", \"sentiments\": 0.0837404214559387}, {\"ratings\": \"1\", \"sentiments\": 0.13333333333333333}, {\"ratings\": \"1\", \"sentiments\": 0.03264411027568922}, {\"ratings\": \"1\", \"sentiments\": 0.023809523809523808}, {\"ratings\": \"1\", \"sentiments\": 0.5}, {\"ratings\": \"1\", \"sentiments\": 0.011922244422244422}, {\"ratings\": \"1\", \"sentiments\": 0.001806779880736322}, {\"ratings\": \"1\", \"sentiments\": 0.0}, {\"ratings\": \"1\", \"sentiments\": -0.014291958041958042}, {\"ratings\": \"1\", \"sentiments\": 0.11764705882352941}, {\"ratings\": \"1\", \"sentiments\": 0.03273809523809523}, {\"ratings\": \"1\", \"sentiments\": -0.006338346895622436}, {\"ratings\": \"1\", \"sentiments\": 0.0}, {\"ratings\": \"1\", \"sentiments\": -0.03383838383838384}, {\"ratings\": \"1\", \"sentiments\": -0.0659536541889483}, {\"ratings\": \"1\", \"sentiments\": -0.15555555555555553}, {\"ratings\": \"1\", \"sentiments\": -0.05976430976430976}, {\"ratings\": \"1\", \"sentiments\": -0.002392344497607654}, {\"ratings\": \"1\", \"sentiments\": -0.0054029304029304046}, {\"ratings\": \"1\", \"sentiments\": -0.049753187988482106}, {\"ratings\": \"1\", \"sentiments\": -0.04387254901960784}, {\"ratings\": \"1\", \"sentiments\": -0.12142857142857143}, {\"ratings\": \"1\", \"sentiments\": -0.10101010101010101}, {\"ratings\": \"1\", \"sentiments\": -0.2416666666666667}, {\"ratings\": \"1\", \"sentiments\": -0.3333333333333333}, {\"ratings\": \"1\", \"sentiments\": -0.3333333333333333}, {\"ratings\": \"1\", \"sentiments\": -0.03508771929824561}, {\"ratings\": \"1\", \"sentiments\": 0.01852607709750567}, {\"ratings\": \"1\", \"sentiments\": 0.02912621359223301}, {\"ratings\": \"1\", \"sentiments\": -0.08333333333333333}, {\"ratings\": \"1\", \"sentiments\": -0.16666666666666666}, {\"ratings\": \"1\", \"sentiments\": 0.0027297421616407185}, {\"ratings\": \"1\", \"sentiments\": 0.08680555555555555}, {\"ratings\": \"1\", \"sentiments\": -0.01676587301587302}, {\"ratings\": \"1\", \"sentiments\": -0.6}, {\"ratings\": \"1\", \"sentiments\": -0.05}, {\"ratings\": \"1\", \"sentiments\": -0.01694915254237288}, {\"ratings\": \"1\", \"sentiments\": -0.04365074905400514}, {\"ratings\": \"1\", \"sentiments\": 0.011538461538461537}, {\"ratings\": \"1\", \"sentiments\": -0.08333333333333333}, {\"ratings\": \"1\", \"sentiments\": 0.11428571428571428}, {\"ratings\": \"1\", \"sentiments\": 0.3333333333333333}, {\"ratings\": \"1\", \"sentiments\": -0.030303030303030304}, {\"ratings\": \"1\", \"sentiments\": 0.002277518262172993}, {\"ratings\": \"1\", \"sentiments\": 0.012489177489177487}, {\"ratings\": \"1\", \"sentiments\": -0.03273809523809524}, {\"ratings\": \"1\", \"sentiments\": -0.014285714285714285}, {\"ratings\": \"1\", \"sentiments\": -0.08333333333333333}, {\"ratings\": \"1\", \"sentiments\": 0.0154509615293929}, {\"ratings\": \"1\", \"sentiments\": -0.024186390532544375}, {\"ratings\": \"1\", \"sentiments\": -0.00857142857142857}, {\"ratings\": \"1\", \"sentiments\": 0.025120772946859903}, {\"ratings\": \"1\", \"sentiments\": -0.09090909090909091}, {\"ratings\": \"1\", \"sentiments\": 0.03252140768588137}, {\"ratings\": \"1\", \"sentiments\": 0.16666666666666666}, {\"ratings\": \"1\", \"sentiments\": -0.10966255966255965}, {\"ratings\": \"1\", \"sentiments\": 0.005185185185185182}, {\"ratings\": \"1\", \"sentiments\": -0.027636212418821113}, {\"ratings\": \"1\", \"sentiments\": -0.044609208205699434}, {\"ratings\": \"1\", \"sentiments\": -0.013333333333333334}, {\"ratings\": \"1\", \"sentiments\": -0.09654761904761905}, {\"ratings\": \"1\", \"sentiments\": -0.008333333333333331}, {\"ratings\": \"1\", \"sentiments\": -0.1111111111111111}, {\"ratings\": \"1\", \"sentiments\": 0.02052669552669553}, {\"ratings\": \"1\", \"sentiments\": 0.007202340121903176}, {\"ratings\": \"1\", \"sentiments\": -0.0075448361162646915}, {\"ratings\": \"1\", \"sentiments\": 0.07142857142857142}, {\"ratings\": \"1\", \"sentiments\": 0.0}, {\"ratings\": \"1\", \"sentiments\": 0.010277777777777778}, {\"ratings\": \"1\", \"sentiments\": 0.00705681664014997}, {\"ratings\": \"1\", \"sentiments\": -0.009074769419597005}, {\"ratings\": \"1\", \"sentiments\": 0.0}, {\"ratings\": \"1\", \"sentiments\": -0.045256570713391744}, {\"ratings\": \"1\", \"sentiments\": 0.0}, {\"ratings\": \"1\", \"sentiments\": -0.0345734126984127}, {\"ratings\": \"1\", \"sentiments\": -0.027777777777777776}, {\"ratings\": \"1\", \"sentiments\": -0.009103415874576692}, {\"ratings\": \"1\", \"sentiments\": 0.05553198940435239}, {\"ratings\": \"1\", \"sentiments\": -0.3333333333333333}, {\"ratings\": \"1\", \"sentiments\": -0.024940942924916693}, {\"ratings\": \"1\", \"sentiments\": -0.012554883252059995}, {\"ratings\": \"1\", \"sentiments\": 0.05483558994197292}, {\"ratings\": \"1\", \"sentiments\": -0.0006410256410256387}, {\"ratings\": \"1\", \"sentiments\": -0.06431068931068931}, {\"ratings\": \"1\", \"sentiments\": -0.0015121381886087793}, {\"ratings\": \"1\", \"sentiments\": 0.036277359004631735}, {\"ratings\": \"1\", \"sentiments\": 0.0048979347086126465}, {\"ratings\": \"1\", \"sentiments\": -0.011172589593642224}, {\"ratings\": \"1\", \"sentiments\": -0.08476851851851852}, {\"ratings\": \"1\", \"sentiments\": 0.04746753246753247}, {\"ratings\": \"1\", \"sentiments\": -0.044526143790849675}, {\"ratings\": \"1\", \"sentiments\": 0.04510125889436234}, {\"ratings\": \"1\", \"sentiments\": -0.05714285714285714}, {\"ratings\": \"1\", \"sentiments\": -0.06160714285714286}, {\"ratings\": \"1\", \"sentiments\": 0.001048136645962734}, {\"ratings\": \"1\", \"sentiments\": 0.05607031857031858}, {\"ratings\": \"1\", \"sentiments\": -0.06186914936914937}, {\"ratings\": \"1\", \"sentiments\": -0.010077276524644947}, {\"ratings\": \"1\", \"sentiments\": -0.02}, {\"ratings\": \"1\", \"sentiments\": 0.0}, {\"ratings\": \"1\", \"sentiments\": -0.023255813953488372}, {\"ratings\": \"1\", \"sentiments\": -0.125}, {\"ratings\": \"1\", \"sentiments\": -0.11666666666666667}, {\"ratings\": \"1\", \"sentiments\": -0.07737015940797454}, {\"ratings\": \"1\", \"sentiments\": -0.0024772697414053154}, {\"ratings\": \"1\", \"sentiments\": 0.07293257047212423}, {\"ratings\": \"1\", \"sentiments\": -0.045454545454545456}, {\"ratings\": \"1\", \"sentiments\": 0.01818181818181818}, {\"ratings\": \"1\", \"sentiments\": 0.03514003357753358}, {\"ratings\": \"1\", \"sentiments\": -0.041363636363636366}, {\"ratings\": \"1\", \"sentiments\": -0.019343989343989343}, {\"ratings\": \"1\", \"sentiments\": 0.020945288909360763}, {\"ratings\": \"1\", \"sentiments\": 0.02631578947368421}, {\"ratings\": \"1\", \"sentiments\": 0.03333333333333333}, {\"ratings\": \"1\", \"sentiments\": -0.009935103517991218}, {\"ratings\": \"1\", \"sentiments\": -0.044389978213507625}, {\"ratings\": \"1\", \"sentiments\": -0.25}, {\"ratings\": \"1\", \"sentiments\": -0.03202825216107948}, {\"ratings\": \"1\", \"sentiments\": 0.00378787878787879}, {\"ratings\": \"1\", \"sentiments\": 0.07380952380952381}, {\"ratings\": \"1\", \"sentiments\": 0.07142857142857142}, {\"ratings\": \"1\", \"sentiments\": 0.030303030303030304}, {\"ratings\": \"1\", \"sentiments\": -0.27777777777777773}, {\"ratings\": \"1\", \"sentiments\": 0.028431372549019607}, {\"ratings\": \"1\", \"sentiments\": -0.018518518518518517}, {\"ratings\": \"1\", \"sentiments\": 0.1}, {\"ratings\": \"1\", \"sentiments\": -0.125}, {\"ratings\": \"1\", \"sentiments\": -0.0196078431372549}, {\"ratings\": \"1\", \"sentiments\": -0.028521706728943556}, {\"ratings\": \"1\", \"sentiments\": -0.04273504273504273}, {\"ratings\": \"1\", \"sentiments\": -0.00763125763125763}, {\"ratings\": \"1\", \"sentiments\": -0.00888888888888889}, {\"ratings\": \"1\", \"sentiments\": 0.010416666666666668}, {\"ratings\": \"1\", \"sentiments\": 0.0}, {\"ratings\": \"1\", \"sentiments\": -0.02251486932959074}, {\"ratings\": \"1\", \"sentiments\": 0.05429292929292929}, {\"ratings\": \"1\", \"sentiments\": 0.1111111111111111}, {\"ratings\": \"1\", \"sentiments\": 0.011758920092253424}, {\"ratings\": \"1\", \"sentiments\": -0.015708652530740712}, {\"ratings\": \"1\", \"sentiments\": -0.03538808584755032}, {\"ratings\": \"1\", \"sentiments\": 0.0031184297230215916}, {\"ratings\": \"1\", \"sentiments\": -0.03819444444444444}, {\"ratings\": \"1\", \"sentiments\": -0.10909090909090909}, {\"ratings\": \"1\", \"sentiments\": -0.04}, {\"ratings\": \"1\", \"sentiments\": -0.038407413020416115}, {\"ratings\": \"1\", \"sentiments\": -0.021978021978021983}, {\"ratings\": \"1\", \"sentiments\": 0.03333333333333333}, {\"ratings\": \"1\", \"sentiments\": 0.058823529411764705}, {\"ratings\": \"1\", \"sentiments\": 0.075}, {\"ratings\": \"1\", \"sentiments\": 0.0}, {\"ratings\": \"1\", \"sentiments\": -0.160741341991342}, {\"ratings\": \"1\", \"sentiments\": 0.0}, {\"ratings\": \"1\", \"sentiments\": -0.2075892857142857}, {\"ratings\": \"1\", \"sentiments\": -0.07058823529411765}, {\"ratings\": \"1\", \"sentiments\": -0.018415831244778615}, {\"ratings\": \"1\", \"sentiments\": -0.26785714285714285}, {\"ratings\": \"1\", \"sentiments\": 0.06666666666666668}, {\"ratings\": \"1\", \"sentiments\": 0.06926406926406926}, {\"ratings\": \"1\", \"sentiments\": -0.05185185185185185}, {\"ratings\": \"1\", \"sentiments\": -0.007110237570007685}, {\"ratings\": \"1\", \"sentiments\": -0.06153846153846154}, {\"ratings\": \"1\", \"sentiments\": 0.0}, {\"ratings\": \"1\", \"sentiments\": 0.025}, {\"ratings\": \"1\", \"sentiments\": -0.0592468906754621}, {\"ratings\": \"1\", \"sentiments\": -0.12240024932332624}, {\"ratings\": \"1\", \"sentiments\": 0.019230769230769232}, {\"ratings\": \"1\", \"sentiments\": 0.040088924233661075}, {\"ratings\": \"1\", \"sentiments\": 0.034482758620689655}, {\"ratings\": \"1\", \"sentiments\": 0.16666666666666666}, {\"ratings\": \"1\", \"sentiments\": 0.00111111111111111}, {\"ratings\": \"1\", \"sentiments\": -0.010695631528964862}, {\"ratings\": \"1\", \"sentiments\": -0.2912087912087912}, {\"ratings\": \"1\", \"sentiments\": -0.0034722222222222238}, {\"ratings\": \"1\", \"sentiments\": -0.16508999772157668}, {\"ratings\": \"1\", \"sentiments\": -0.008599624060150376}, {\"ratings\": \"1\", \"sentiments\": 0.02040816326530612}, {\"ratings\": \"1\", \"sentiments\": 0.05897435897435898}, {\"ratings\": \"1\", \"sentiments\": -0.12737771739130435}, {\"ratings\": \"1\", \"sentiments\": -0.053600992352422556}, {\"ratings\": \"1\", \"sentiments\": 0.041666666666666664}, {\"ratings\": \"1\", \"sentiments\": 0.03055555555555555}, {\"ratings\": \"1\", \"sentiments\": 0.04}, {\"ratings\": \"1\", \"sentiments\": 0.024999999999999998}, {\"ratings\": \"1\", \"sentiments\": -0.006205759330759328}, {\"ratings\": \"1\", \"sentiments\": 0.0}, {\"ratings\": \"1\", \"sentiments\": 0.0}, {\"ratings\": \"1\", \"sentiments\": -0.04537355006105006}, {\"ratings\": \"1\", \"sentiments\": 0.0}, {\"ratings\": \"1\", \"sentiments\": 0.006249999999999999}, {\"ratings\": \"1\", \"sentiments\": -0.062034739454094295}, {\"ratings\": \"1\", \"sentiments\": -0.028309600795920903}, {\"ratings\": \"1\", \"sentiments\": -0.021304347826086957}, {\"ratings\": \"1\", \"sentiments\": 0.0}, {\"ratings\": \"1\", \"sentiments\": 0.0036197136401978783}, {\"ratings\": \"1\", \"sentiments\": 0.0}, {\"ratings\": \"1\", \"sentiments\": -0.0125}, {\"ratings\": \"1\", \"sentiments\": 0.07323232323232323}, {\"ratings\": \"1\", \"sentiments\": 0.3333333333333333}, {\"ratings\": \"1\", \"sentiments\": 0.024713619713619718}, {\"ratings\": \"1\", \"sentiments\": 0.0}, {\"ratings\": \"1\", \"sentiments\": 0.01130952380952381}, {\"ratings\": \"1\", \"sentiments\": -0.5}, {\"ratings\": \"1\", \"sentiments\": 0.08}, {\"ratings\": \"1\", \"sentiments\": 0.009545356604180136}, {\"ratings\": \"1\", \"sentiments\": 0.0018910256410256399}, {\"ratings\": \"1\", \"sentiments\": 0.0}, {\"ratings\": \"1\", \"sentiments\": 0.02104377104377104}, {\"ratings\": \"1\", \"sentiments\": 0.054945054945054944}, {\"ratings\": \"1\", \"sentiments\": 0.00950813497603425}, {\"ratings\": \"1\", \"sentiments\": 0.0001665001665001688}, {\"ratings\": \"1\", \"sentiments\": -0.04882154882154882}, {\"ratings\": \"1\", \"sentiments\": -0.02631578947368421}, {\"ratings\": \"1\", \"sentiments\": -0.018115942028985508}, {\"ratings\": \"1\", \"sentiments\": 0.0}, {\"ratings\": \"1\", \"sentiments\": -0.07401175213675215}, {\"ratings\": \"1\", \"sentiments\": 0.037037037037037035}, {\"ratings\": \"1\", \"sentiments\": 0.03387096774193549}, {\"ratings\": \"1\", \"sentiments\": -0.5}, {\"ratings\": \"1\", \"sentiments\": 0.017463235294117647}, {\"ratings\": \"1\", \"sentiments\": 0.0}, {\"ratings\": \"1\", \"sentiments\": 0.025313971742543167}, {\"ratings\": \"1\", \"sentiments\": -0.07704976183237053}, {\"ratings\": \"1\", \"sentiments\": -0.0021943573667711604}, {\"ratings\": \"1\", \"sentiments\": 0.05076923076923077}, {\"ratings\": \"1\", \"sentiments\": 0.047619047619047616}, {\"ratings\": \"1\", \"sentiments\": -0.030288600288600292}, {\"ratings\": \"1\", \"sentiments\": -0.16505633255633254}, {\"ratings\": \"1\", \"sentiments\": -0.032336134453781515}, {\"ratings\": \"1\", \"sentiments\": 0.3333333333333333}, {\"ratings\": \"1\", \"sentiments\": 0.008847701184721037}, {\"ratings\": \"1\", \"sentiments\": -0.020833333333333332}, {\"ratings\": \"1\", \"sentiments\": -0.25}, {\"ratings\": \"1\", \"sentiments\": -0.03201018903633282}, {\"ratings\": \"1\", \"sentiments\": -0.01473684210526316}, {\"ratings\": \"1\", \"sentiments\": -0.06173971861471862}, {\"ratings\": \"1\", \"sentiments\": -0.017523809523809525}, {\"ratings\": \"1\", \"sentiments\": -0.030667305236270752}, {\"ratings\": \"1\", \"sentiments\": 0.014814814814814814}, {\"ratings\": \"1\", \"sentiments\": 0.14285714285714285}, {\"ratings\": \"1\", \"sentiments\": -0.08333333333333333}, {\"ratings\": \"1\", \"sentiments\": -0.012987012987012988}, {\"ratings\": \"1\", \"sentiments\": -0.04928315412186379}, {\"ratings\": \"1\", \"sentiments\": 0.06666666666666665}, {\"ratings\": \"1\", \"sentiments\": -0.05555555555555555}, {\"ratings\": \"1\", \"sentiments\": -0.11575091575091576}, {\"ratings\": \"1\", \"sentiments\": -0.06547619047619048}, {\"ratings\": \"1\", \"sentiments\": -0.07065723019670388}, {\"ratings\": \"1\", \"sentiments\": -0.5}, {\"ratings\": \"1\", \"sentiments\": -0.5}, {\"ratings\": \"1\", \"sentiments\": -0.19047619047619047}, {\"ratings\": \"1\", \"sentiments\": -0.019930069930069932}, {\"ratings\": \"1\", \"sentiments\": -0.0492740857320371}, {\"ratings\": \"1\", \"sentiments\": 0.023558201058201063}, {\"ratings\": \"1\", \"sentiments\": -0.029411764705882353}, {\"ratings\": \"1\", \"sentiments\": -0.3333333333333333}, {\"ratings\": \"1\", \"sentiments\": -0.02304084806797956}, {\"ratings\": \"1\", \"sentiments\": 0.0111007511007511}, {\"ratings\": \"1\", \"sentiments\": 0.015625}, {\"ratings\": \"1\", \"sentiments\": -0.04777777777777778}, {\"ratings\": \"1\", \"sentiments\": -0.07538149216959016}, {\"ratings\": \"1\", \"sentiments\": 0.022671587671587674}, {\"ratings\": \"1\", \"sentiments\": 0.07406494135252306}, {\"ratings\": \"1\", \"sentiments\": -0.014285714285714285}, {\"ratings\": \"1\", \"sentiments\": 0.03055555555555555}, {\"ratings\": \"1\", \"sentiments\": 0.0054528478057889905}, {\"ratings\": \"1\", \"sentiments\": -0.013938492063492064}, {\"ratings\": \"1\", \"sentiments\": 0.0}, {\"ratings\": \"1\", \"sentiments\": -1.0}, {\"ratings\": \"1\", \"sentiments\": 0.0279320987654321}, {\"ratings\": \"1\", \"sentiments\": -0.17207792207792205}, {\"ratings\": \"1\", \"sentiments\": 0.02529761904761904}, {\"ratings\": \"1\", \"sentiments\": 0.07381965944272445}, {\"ratings\": \"1\", \"sentiments\": -0.020027593460353824}, {\"ratings\": \"1\", \"sentiments\": -0.022102143182854535}, {\"ratings\": \"1\", \"sentiments\": -0.044117647058823525}, {\"ratings\": \"1\", \"sentiments\": -0.1111111111111111}, {\"ratings\": \"1\", \"sentiments\": -0.022810565949095238}, {\"ratings\": \"1\", \"sentiments\": 0.052172827172827174}, {\"ratings\": \"1\", \"sentiments\": -0.010726405946994184}, {\"ratings\": \"1\", \"sentiments\": -0.06565656565656565}, {\"ratings\": \"1\", \"sentiments\": -0.13333333333333333}, {\"ratings\": \"1\", \"sentiments\": -0.10526315789473684}, {\"ratings\": \"1\", \"sentiments\": -0.028489550415168482}, {\"ratings\": \"1\", \"sentiments\": 0.025536963036963033}, {\"ratings\": \"1\", \"sentiments\": 0.01961063627730295}, {\"ratings\": \"1\", \"sentiments\": -0.03966836734693878}, {\"ratings\": \"1\", \"sentiments\": 0.01282051282051282}, {\"ratings\": \"1\", \"sentiments\": -0.027777777777777776}, {\"ratings\": \"1\", \"sentiments\": 0.010790598290598289}, {\"ratings\": \"1\", \"sentiments\": 0.0}, {\"ratings\": \"1\", \"sentiments\": -0.030904361709673957}, {\"ratings\": \"1\", \"sentiments\": 0.0}, {\"ratings\": \"1\", \"sentiments\": -0.0003103514132925889}, {\"ratings\": \"1\", \"sentiments\": -0.06761173336550122}, {\"ratings\": \"1\", \"sentiments\": 0.048607103661827154}, {\"ratings\": \"1\", \"sentiments\": -0.013790074659639879}, {\"ratings\": \"1\", \"sentiments\": -0.059523809523809514}, {\"ratings\": \"1\", \"sentiments\": -0.0380952380952381}, {\"ratings\": \"1\", \"sentiments\": -0.012329931972789119}, {\"ratings\": \"1\", \"sentiments\": 0.018803418803418803}, {\"ratings\": \"1\", \"sentiments\": -0.025060125060125064}, {\"ratings\": \"1\", \"sentiments\": 0.015012254901960785}, {\"ratings\": \"1\", \"sentiments\": -0.11726190476190476}, {\"ratings\": \"1\", \"sentiments\": 0.14102564102564102}, {\"ratings\": \"1\", \"sentiments\": -0.00611946532999165}, {\"ratings\": \"1\", \"sentiments\": 0.011994949494949489}, {\"ratings\": \"1\", \"sentiments\": -0.005258607681585858}, {\"ratings\": \"1\", \"sentiments\": -0.005596528246784002}, {\"ratings\": \"1\", \"sentiments\": -0.054252872731133606}, {\"ratings\": \"1\", \"sentiments\": 0.00362446830584086}, {\"ratings\": \"1\", \"sentiments\": 0.016625450502262096}, {\"ratings\": \"1\", \"sentiments\": 0.0}, {\"ratings\": \"1\", \"sentiments\": -0.04853869327553538}, {\"ratings\": \"1\", \"sentiments\": -0.09090909090909091}, {\"ratings\": \"1\", \"sentiments\": 0.0}, {\"ratings\": \"1\", \"sentiments\": 0.009615384615384616}, {\"ratings\": \"1\", \"sentiments\": -0.24047619047619048}, {\"ratings\": \"1\", \"sentiments\": -0.42857142857142855}, {\"ratings\": \"1\", \"sentiments\": 0.006038647342995168}, {\"ratings\": \"1\", \"sentiments\": -0.09090909090909091}, {\"ratings\": \"1\", \"sentiments\": -0.08333333333333333}, {\"ratings\": \"1\", \"sentiments\": 0.0}, {\"ratings\": \"1\", \"sentiments\": -0.14074074074074072}, {\"ratings\": \"1\", \"sentiments\": -0.012490746171391332}, {\"ratings\": \"1\", \"sentiments\": -0.12222222222222223}, {\"ratings\": \"1\", \"sentiments\": 0.018483709273182956}, {\"ratings\": \"1\", \"sentiments\": -0.039038669663669666}, {\"ratings\": \"1\", \"sentiments\": -0.03125}, {\"ratings\": \"1\", \"sentiments\": -0.03888888888888889}, {\"ratings\": \"1\", \"sentiments\": 0.012727272727272726}, {\"ratings\": \"1\", \"sentiments\": -0.14285714285714285}, {\"ratings\": \"1\", \"sentiments\": -0.005137559573043446}, {\"ratings\": \"1\", \"sentiments\": 0.03807814992025518}, {\"ratings\": \"1\", \"sentiments\": -0.07142857142857142}, {\"ratings\": \"1\", \"sentiments\": -0.022727272727272728}, {\"ratings\": \"1\", \"sentiments\": -0.029411764705882353}, {\"ratings\": \"1\", \"sentiments\": 0.0}, {\"ratings\": \"1\", \"sentiments\": 0.00787037037037037}, {\"ratings\": \"1\", \"sentiments\": -0.10714285714285714}, {\"ratings\": \"1\", \"sentiments\": 0.0}, {\"ratings\": \"1\", \"sentiments\": -0.0625}, {\"ratings\": \"1\", \"sentiments\": -0.04797533673131759}, {\"ratings\": \"1\", \"sentiments\": -0.03142424242424243}, {\"ratings\": \"1\", \"sentiments\": 0.05945253759398496}, {\"ratings\": \"1\", \"sentiments\": -0.0432012538470339}, {\"ratings\": \"1\", \"sentiments\": -0.01395538294944067}, {\"ratings\": \"1\", \"sentiments\": -0.021666666666666664}, {\"ratings\": \"1\", \"sentiments\": -0.011904761904761904}, {\"ratings\": \"1\", \"sentiments\": -0.0048813686313686315}, {\"ratings\": \"1\", \"sentiments\": 0.0041666666666666675}, {\"ratings\": \"1\", \"sentiments\": -0.0021164021164021183}, {\"ratings\": \"1\", \"sentiments\": 0.08333333333333333}, {\"ratings\": \"1\", \"sentiments\": -0.05787811222593831}, {\"ratings\": \"1\", \"sentiments\": 0.022222222222222223}, {\"ratings\": \"1\", \"sentiments\": 0.02129645471267144}, {\"ratings\": \"1\", \"sentiments\": 0.0}, {\"ratings\": \"1\", \"sentiments\": 0.03424908424908425}, {\"ratings\": \"1\", \"sentiments\": 0.019615800865800864}, {\"ratings\": \"1\", \"sentiments\": -0.1303775077968626}, {\"ratings\": \"1\", \"sentiments\": 0.0}, {\"ratings\": \"1\", \"sentiments\": -0.125}, {\"ratings\": \"1\", \"sentiments\": 0.07652545730131936}, {\"ratings\": \"1\", \"sentiments\": -1.0}, {\"ratings\": \"1\", \"sentiments\": 0.017391304347826087}, {\"ratings\": \"1\", \"sentiments\": -0.022926332926332924}, {\"ratings\": \"1\", \"sentiments\": 0.08055555555555555}, {\"ratings\": \"1\", \"sentiments\": 0.041666666666666664}, {\"ratings\": \"1\", \"sentiments\": 0.0}, {\"ratings\": \"1\", \"sentiments\": 0.0}, {\"ratings\": \"1\", \"sentiments\": 0.08333333333333333}, {\"ratings\": \"1\", \"sentiments\": -0.03166020325304165}, {\"ratings\": \"1\", \"sentiments\": -0.03571428571428571}, {\"ratings\": \"1\", \"sentiments\": 0.0}, {\"ratings\": \"1\", \"sentiments\": 0.02631578947368421}, {\"ratings\": \"1\", \"sentiments\": -0.016666666666666666}, {\"ratings\": \"1\", \"sentiments\": 0.16666666666666666}, {\"ratings\": \"1\", \"sentiments\": -0.16666666666666666}, {\"ratings\": \"1\", \"sentiments\": 0.015605459355459352}, {\"ratings\": \"1\", \"sentiments\": -0.01333333333333333}, {\"ratings\": \"1\", \"sentiments\": -0.0598669623059867}, {\"ratings\": \"1\", \"sentiments\": -0.07734408774080456}, {\"ratings\": \"1\", \"sentiments\": -0.04219072594072593}, {\"ratings\": \"1\", \"sentiments\": -0.014563492063492067}, {\"ratings\": \"1\", \"sentiments\": -0.0507495438996987}, {\"ratings\": \"1\", \"sentiments\": 0.0625}, {\"ratings\": \"1\", \"sentiments\": -0.02268776330138573}, {\"ratings\": \"1\", \"sentiments\": -0.030303030303030304}, {\"ratings\": \"1\", \"sentiments\": -0.03166308366799639}, {\"ratings\": \"1\", \"sentiments\": -0.06530112044817928}, {\"ratings\": \"1\", \"sentiments\": -0.13846153846153847}, {\"ratings\": \"1\", \"sentiments\": 0.0}, {\"ratings\": \"1\", \"sentiments\": -0.020833333333333332}, {\"ratings\": \"1\", \"sentiments\": -0.3333333333333333}, {\"ratings\": \"1\", \"sentiments\": 0.0057336182336182335}, {\"ratings\": \"1\", \"sentiments\": -0.10101010101010101}, {\"ratings\": \"1\", \"sentiments\": -0.005122882486327864}, {\"ratings\": \"1\", \"sentiments\": -0.045454545454545456}, {\"ratings\": \"1\", \"sentiments\": 0.16666666666666666}, {\"ratings\": \"1\", \"sentiments\": -0.025686941443243967}, {\"ratings\": \"1\", \"sentiments\": 0.00947148090005233}, {\"ratings\": \"1\", \"sentiments\": 0.0}, {\"ratings\": \"1\", \"sentiments\": 0.01638484971818305}, {\"ratings\": \"1\", \"sentiments\": -0.058823529411764705}, {\"ratings\": \"1\", \"sentiments\": -0.022988505747126436}, {\"ratings\": \"1\", \"sentiments\": 0.07326007326007326}, {\"ratings\": \"1\", \"sentiments\": 0.0}, {\"ratings\": \"1\", \"sentiments\": -0.09540409677115864}, {\"ratings\": \"1\", \"sentiments\": 0.011904761904761904}, {\"ratings\": \"1\", \"sentiments\": 0.09404761904761905}, {\"ratings\": \"1\", \"sentiments\": -0.04476933073424302}, {\"ratings\": \"1\", \"sentiments\": 0.0}, {\"ratings\": \"1\", \"sentiments\": 0.0}, {\"ratings\": \"1\", \"sentiments\": -0.020247215231735356}, {\"ratings\": \"1\", \"sentiments\": -0.003720238095238096}, {\"ratings\": \"1\", \"sentiments\": -0.04838709677419355}, {\"ratings\": \"1\", \"sentiments\": -0.21489960656627324}, {\"ratings\": \"1\", \"sentiments\": 0.04079254079254079}, {\"ratings\": \"1\", \"sentiments\": -0.004708325862172012}, {\"ratings\": \"1\", \"sentiments\": 0.041666666666666664}, {\"ratings\": \"1\", \"sentiments\": 0.013888888888888888}, {\"ratings\": \"1\", \"sentiments\": -0.03125}, {\"ratings\": \"1\", \"sentiments\": -0.16666666666666666}, {\"ratings\": \"1\", \"sentiments\": 0.01644999222426961}, {\"ratings\": \"1\", \"sentiments\": -0.016203703703703703}, {\"ratings\": \"1\", \"sentiments\": 0.046474358974358976}, {\"ratings\": \"1\", \"sentiments\": -0.0022619525197359173}, {\"ratings\": \"1\", \"sentiments\": 0.001051417718084384}, {\"ratings\": \"1\", \"sentiments\": 0.0}, {\"ratings\": \"1\", \"sentiments\": 0.019172731017489078}, {\"ratings\": \"1\", \"sentiments\": 0.042735042735042736}, {\"ratings\": \"1\", \"sentiments\": 0.0042287958954625605}, {\"ratings\": \"1\", \"sentiments\": -0.04603174603174603}, {\"ratings\": \"1\", \"sentiments\": -0.020833333333333332}, {\"ratings\": \"1\", \"sentiments\": -0.00366973857811766}, {\"ratings\": \"1\", \"sentiments\": -0.06509543088490456}, {\"ratings\": \"1\", \"sentiments\": 0.04047619047619048}, {\"ratings\": \"1\", \"sentiments\": -0.08660714285714285}, {\"ratings\": \"1\", \"sentiments\": -0.017094017094017092}, {\"ratings\": \"1\", \"sentiments\": -0.14644607843137256}, {\"ratings\": \"1\", \"sentiments\": -0.0033816425120772944}, {\"ratings\": \"1\", \"sentiments\": 0.16666666666666666}, {\"ratings\": \"1\", \"sentiments\": -0.013123799296290733}, {\"ratings\": \"1\", \"sentiments\": 0.008705357142857143}, {\"ratings\": \"1\", \"sentiments\": -0.03423120089786756}, {\"ratings\": \"1\", \"sentiments\": 0.013333333333333332}, {\"ratings\": \"1\", \"sentiments\": 0.03903325816504565}, {\"ratings\": \"1\", \"sentiments\": 0.0040987886382623205}, {\"ratings\": \"1\", \"sentiments\": 0.008919986263736263}, {\"ratings\": \"1\", \"sentiments\": -0.07412649371852408}, {\"ratings\": \"1\", \"sentiments\": 0.0}, {\"ratings\": \"1\", \"sentiments\": 0.06788671023965141}, {\"ratings\": \"1\", \"sentiments\": 0.5}, {\"ratings\": \"1\", \"sentiments\": -0.04525269416573764}, {\"ratings\": \"1\", \"sentiments\": 0.04393244972955118}, {\"ratings\": \"1\", \"sentiments\": -0.21560846560846558}, {\"ratings\": \"1\", \"sentiments\": 0.13333333333333333}, {\"ratings\": \"1\", \"sentiments\": 0.011370573870573872}, {\"ratings\": \"1\", \"sentiments\": -0.01111111111111111}, {\"ratings\": \"1\", \"sentiments\": 0.0}, {\"ratings\": \"1\", \"sentiments\": 0.0}, {\"ratings\": \"1\", \"sentiments\": 0.07670454545454546}, {\"ratings\": \"1\", \"sentiments\": -0.05}, {\"ratings\": \"1\", \"sentiments\": 0.016602188154330236}, {\"ratings\": \"1\", \"sentiments\": -0.010835913312693499}, {\"ratings\": \"1\", \"sentiments\": 0.04189432623854239}, {\"ratings\": \"1\", \"sentiments\": 0.06468531468531469}, {\"ratings\": \"1\", \"sentiments\": -0.05972222222222222}, {\"ratings\": \"1\", \"sentiments\": 0.07545787545787545}, {\"ratings\": \"1\", \"sentiments\": -0.02857142857142857}, {\"ratings\": \"1\", \"sentiments\": 0.01341991341991342}, {\"ratings\": \"1\", \"sentiments\": 0.016472922502334265}, {\"ratings\": \"1\", \"sentiments\": 0.050172780435938334}, {\"ratings\": \"1\", \"sentiments\": 0.008547008547008544}, {\"ratings\": \"1\", \"sentiments\": -0.0125}, {\"ratings\": \"1\", \"sentiments\": -0.019764957264957264}, {\"ratings\": \"1\", \"sentiments\": 0.016666666666666663}, {\"ratings\": \"1\", \"sentiments\": 0.002083333333333333}, {\"ratings\": \"1\", \"sentiments\": 0.0}, {\"ratings\": \"1\", \"sentiments\": -0.2784313725490196}, {\"ratings\": \"1\", \"sentiments\": -0.05998688811188812}, {\"ratings\": \"1\", \"sentiments\": -0.05}, {\"ratings\": \"1\", \"sentiments\": -0.011221340388007055}, {\"ratings\": \"1\", \"sentiments\": -0.02252747252747253}, {\"ratings\": \"1\", \"sentiments\": -0.14285714285714285}, {\"ratings\": \"1\", \"sentiments\": 0.0}, {\"ratings\": \"1\", \"sentiments\": 0.011954698056040769}, {\"ratings\": \"1\", \"sentiments\": 0.0}, {\"ratings\": \"1\", \"sentiments\": 0.0}, {\"ratings\": \"1\", \"sentiments\": 0.2857142857142857}, {\"ratings\": \"1\", \"sentiments\": -1.0}, {\"ratings\": \"1\", \"sentiments\": -0.19444444444444442}, {\"ratings\": \"1\", \"sentiments\": -0.009009009009009009}, {\"ratings\": \"1\", \"sentiments\": -0.05555555555555555}, {\"ratings\": \"1\", \"sentiments\": 0.015637383078596127}, {\"ratings\": \"1\", \"sentiments\": -0.026590693257359927}, {\"ratings\": \"1\", \"sentiments\": -0.058823529411764705}, {\"ratings\": \"1\", \"sentiments\": 0.016190476190476193}, {\"ratings\": \"1\", \"sentiments\": 0.0}, {\"ratings\": \"1\", \"sentiments\": -0.15956043956043955}, {\"ratings\": \"1\", \"sentiments\": 0.0029784230691671694}, {\"ratings\": \"1\", \"sentiments\": -0.008093253757921422}, {\"ratings\": \"1\", \"sentiments\": 0.03174603174603175}, {\"ratings\": \"1\", \"sentiments\": -0.012913275978850672}, {\"ratings\": \"1\", \"sentiments\": -0.15703463203463203}, {\"ratings\": \"1\", \"sentiments\": -0.02140602453102454}, {\"ratings\": \"1\", \"sentiments\": -0.016755614658944717}, {\"ratings\": \"1\", \"sentiments\": 0.13333333333333333}, {\"ratings\": \"1\", \"sentiments\": 0.0}, {\"ratings\": \"1\", \"sentiments\": 0.01280472401162056}, {\"ratings\": \"1\", \"sentiments\": -0.0028985570837233277}, {\"ratings\": \"1\", \"sentiments\": -0.024216524216524215}, {\"ratings\": \"1\", \"sentiments\": -0.024578227977350788}, {\"ratings\": \"1\", \"sentiments\": -0.1111111111111111}, {\"ratings\": \"1\", \"sentiments\": -0.06274509803921569}, {\"ratings\": \"1\", \"sentiments\": -0.02652777777777778}, {\"ratings\": \"1\", \"sentiments\": 0.0}, {\"ratings\": \"1\", \"sentiments\": -0.02834285036547422}, {\"ratings\": \"1\", \"sentiments\": -0.03794803484758011}, {\"ratings\": \"1\", \"sentiments\": -0.0019724043520384007}, {\"ratings\": \"1\", \"sentiments\": 0.125}, {\"ratings\": \"1\", \"sentiments\": 0.0005446623093681921}, {\"ratings\": \"1\", \"sentiments\": 0.002326839826839828}, {\"ratings\": \"1\", \"sentiments\": 0.005218068285368115}, {\"ratings\": \"1\", \"sentiments\": -0.5}, {\"ratings\": \"1\", \"sentiments\": 0.009247143833609996}, {\"ratings\": \"1\", \"sentiments\": 0.013128729752770671}, {\"ratings\": \"1\", \"sentiments\": -0.03333333333333333}, {\"ratings\": \"1\", \"sentiments\": -0.28125}, {\"ratings\": \"1\", \"sentiments\": 0.1}, {\"ratings\": \"1\", \"sentiments\": 0.050457875457875466}, {\"ratings\": \"1\", \"sentiments\": -0.005803571428571427}, {\"ratings\": \"1\", \"sentiments\": -0.004576659038901601}, {\"ratings\": \"1\", \"sentiments\": 0.013157894736842105}, {\"ratings\": \"1\", \"sentiments\": -0.05782312925170069}, {\"ratings\": \"1\", \"sentiments\": -0.1037037037037037}, {\"ratings\": \"1\", \"sentiments\": -0.08333333333333333}, {\"ratings\": \"1\", \"sentiments\": 0.25}, {\"ratings\": \"1\", \"sentiments\": -0.030303030303030304}, {\"ratings\": \"1\", \"sentiments\": 0.3333333333333333}, {\"ratings\": \"1\", \"sentiments\": -0.0007407407407407404}, {\"ratings\": \"1\", \"sentiments\": -0.06153846153846154}, {\"ratings\": \"1\", \"sentiments\": 0.014872014872014871}, {\"ratings\": \"1\", \"sentiments\": -0.16666666666666666}, {\"ratings\": \"1\", \"sentiments\": -0.06696428571428571}, {\"ratings\": \"1\", \"sentiments\": 0.0}, {\"ratings\": \"1\", \"sentiments\": 0.0}, {\"ratings\": \"1\", \"sentiments\": 0.055944055944055944}, {\"ratings\": \"1\", \"sentiments\": 0.010395381089354377}, {\"ratings\": \"1\", \"sentiments\": -0.041567128523650264}, {\"ratings\": \"1\", \"sentiments\": 0.022285714285714287}, {\"ratings\": \"1\", \"sentiments\": -0.14120051085568325}, {\"ratings\": \"1\", \"sentiments\": 0.012777213728300684}, {\"ratings\": \"1\", \"sentiments\": 0.0}, {\"ratings\": \"1\", \"sentiments\": -0.08827686202686204}, {\"ratings\": \"1\", \"sentiments\": -0.03669082125603864}, {\"ratings\": \"1\", \"sentiments\": 0.008928571428571428}, {\"ratings\": \"1\", \"sentiments\": -0.0524715320910973}, {\"ratings\": \"1\", \"sentiments\": 0.0}, {\"ratings\": \"1\", \"sentiments\": 0.015151515151515152}, {\"ratings\": \"1\", \"sentiments\": -0.06633771929824561}, {\"ratings\": \"1\", \"sentiments\": -0.006887772086763398}, {\"ratings\": \"1\", \"sentiments\": -0.01022606457389066}, {\"ratings\": \"1\", \"sentiments\": -0.027777777777777776}, {\"ratings\": \"1\", \"sentiments\": -0.01758207070707071}, {\"ratings\": \"1\", \"sentiments\": 0.08015873015873017}, {\"ratings\": \"1\", \"sentiments\": -0.10526315789473684}, {\"ratings\": \"1\", \"sentiments\": -0.07584227366836062}, {\"ratings\": \"1\", \"sentiments\": -1.0}, {\"ratings\": \"1\", \"sentiments\": -0.0412509534706331}, {\"ratings\": \"1\", \"sentiments\": 0.005434782608695652}, {\"ratings\": \"1\", \"sentiments\": -0.01698412698412699}, {\"ratings\": \"1\", \"sentiments\": -0.125}, {\"ratings\": \"1\", \"sentiments\": 0.00832370359670663}, {\"ratings\": \"1\", \"sentiments\": -0.08881578947368421}, {\"ratings\": \"1\", \"sentiments\": 0.0}, {\"ratings\": \"1\", \"sentiments\": 0.007326007326007327}, {\"ratings\": \"1\", \"sentiments\": -0.019022725754843567}, {\"ratings\": \"1\", \"sentiments\": 0.05718954248366013}, {\"ratings\": \"1\", \"sentiments\": -0.008122335890878091}, {\"ratings\": \"1\", \"sentiments\": 0.0}, {\"ratings\": \"1\", \"sentiments\": -0.05185185185185185}, {\"ratings\": \"1\", \"sentiments\": 0.024693966755335757}, {\"ratings\": \"1\", \"sentiments\": -0.043557168784029036}, {\"ratings\": \"1\", \"sentiments\": -0.1043372319688109}, {\"ratings\": \"1\", \"sentiments\": 0.14061624649859944}, {\"ratings\": \"1\", \"sentiments\": -0.011216931216931217}, {\"ratings\": \"1\", \"sentiments\": -0.065}, {\"ratings\": \"1\", \"sentiments\": -0.15079365079365079}, {\"ratings\": \"1\", \"sentiments\": -0.0566472312783832}, {\"ratings\": \"1\", \"sentiments\": -0.25}, {\"ratings\": \"1\", \"sentiments\": 0.025}, {\"ratings\": \"1\", \"sentiments\": 0.0}, {\"ratings\": \"1\", \"sentiments\": 0.0}, {\"ratings\": \"1\", \"sentiments\": -0.04365079365079364}, {\"ratings\": \"1\", \"sentiments\": 0.0}, {\"ratings\": \"1\", \"sentiments\": -0.005109884244078757}, {\"ratings\": \"1\", \"sentiments\": -0.08630952380952381}, {\"ratings\": \"1\", \"sentiments\": -0.05011976860849639}, {\"ratings\": \"1\", \"sentiments\": -0.002051282051282052}, {\"ratings\": \"1\", \"sentiments\": 0.05911680911680911}, {\"ratings\": \"1\", \"sentiments\": -0.026809188212696986}, {\"ratings\": \"1\", \"sentiments\": -0.08258928571428571}, {\"ratings\": \"1\", \"sentiments\": 0.0}, {\"ratings\": \"1\", \"sentiments\": -0.047979797979797977}, {\"ratings\": \"1\", \"sentiments\": 0.0}, {\"ratings\": \"1\", \"sentiments\": 0.1}, {\"ratings\": \"1\", \"sentiments\": -1.0}, {\"ratings\": \"1\", \"sentiments\": -0.358974358974359}, {\"ratings\": \"1\", \"sentiments\": 0.0037878787878787915}, {\"ratings\": \"1\", \"sentiments\": 0.0}, {\"ratings\": \"1\", \"sentiments\": -0.02}, {\"ratings\": \"1\", \"sentiments\": 0.14285714285714285}, {\"ratings\": \"1\", \"sentiments\": -0.07083539569927955}, {\"ratings\": \"1\", \"sentiments\": -0.025456723569931117}, {\"ratings\": \"1\", \"sentiments\": 0.006714200831847891}, {\"ratings\": \"1\", \"sentiments\": 0.01034405800447457}, {\"ratings\": \"1\", \"sentiments\": 0.0}, {\"ratings\": \"1\", \"sentiments\": 0.0}, {\"ratings\": \"1\", \"sentiments\": -0.024390243902439025}, {\"ratings\": \"1\", \"sentiments\": -0.012987012987012986}, {\"ratings\": \"1\", \"sentiments\": -0.039346517426676254}, {\"ratings\": \"1\", \"sentiments\": 0.012302636575489759}, {\"ratings\": \"1\", \"sentiments\": -0.020833333333333332}, {\"ratings\": \"1\", \"sentiments\": 0.002238342938667117}, {\"ratings\": \"1\", \"sentiments\": 0.022136273232108473}, {\"ratings\": \"1\", \"sentiments\": -0.06666666666666667}, {\"ratings\": \"1\", \"sentiments\": -0.03260869565217391}, {\"ratings\": \"1\", \"sentiments\": 0.5}, {\"ratings\": \"1\", \"sentiments\": 0.006253410455091131}, {\"ratings\": \"1\", \"sentiments\": 0.005005918751164694}, {\"ratings\": \"1\", \"sentiments\": -0.16666666666666666}, {\"ratings\": \"1\", \"sentiments\": 0.00986975986975987}, {\"ratings\": \"1\", \"sentiments\": -0.0053841991341991345}, {\"ratings\": \"1\", \"sentiments\": -0.05}, {\"ratings\": \"1\", \"sentiments\": 0.01808201058201058}, {\"ratings\": \"1\", \"sentiments\": 0.07952380952380952}, {\"ratings\": \"1\", \"sentiments\": 0.0}, {\"ratings\": \"1\", \"sentiments\": -0.014084507042253521}, {\"ratings\": \"1\", \"sentiments\": 0.014280259648268921}, {\"ratings\": \"1\", \"sentiments\": -0.030303030303030304}, {\"ratings\": \"1\", \"sentiments\": 0.016666666666666666}, {\"ratings\": \"1\", \"sentiments\": 0.0}, {\"ratings\": \"1\", \"sentiments\": -0.06099439775910364}, {\"ratings\": \"1\", \"sentiments\": -0.0025366300366300373}, {\"ratings\": \"1\", \"sentiments\": -0.06923076923076923}, {\"ratings\": \"1\", \"sentiments\": 0.016666666666666666}, {\"ratings\": \"1\", \"sentiments\": 0.13444444444444442}, {\"ratings\": \"1\", \"sentiments\": -0.0016025641025641003}, {\"ratings\": \"1\", \"sentiments\": 0.0}, {\"ratings\": \"1\", \"sentiments\": 0.14285714285714285}, {\"ratings\": \"1\", \"sentiments\": -0.07017543859649122}, {\"ratings\": \"1\", \"sentiments\": -0.05555555555555555}, {\"ratings\": \"1\", \"sentiments\": 0.0}, {\"ratings\": \"1\", \"sentiments\": 0.0}, {\"ratings\": \"1\", \"sentiments\": 0.07670454545454546}, {\"ratings\": \"1\", \"sentiments\": -0.030303030303030304}, {\"ratings\": \"1\", \"sentiments\": -0.025000000000000005}, {\"ratings\": \"1\", \"sentiments\": -0.03252104018301801}, {\"ratings\": \"1\", \"sentiments\": -0.18095238095238095}, {\"ratings\": \"1\", \"sentiments\": 0.016666666666666663}, {\"ratings\": \"1\", \"sentiments\": 0.02222623055956389}, {\"ratings\": \"1\", \"sentiments\": 0.001051417718084384}, {\"ratings\": \"1\", \"sentiments\": 0.030071301247771836}, {\"ratings\": \"1\", \"sentiments\": 0.0}, {\"ratings\": \"1\", \"sentiments\": -0.004026261778026589}, {\"ratings\": \"1\", \"sentiments\": 0.0013392857142857095}, {\"ratings\": \"1\", \"sentiments\": -0.18968253968253967}, {\"ratings\": \"1\", \"sentiments\": 0.058823529411764705}, {\"ratings\": \"1\", \"sentiments\": -0.16666666666666666}, {\"ratings\": \"1\", \"sentiments\": 0.010118702767273993}, {\"ratings\": \"1\", \"sentiments\": 0.02409261576971214}, {\"ratings\": \"1\", \"sentiments\": -0.33561771561771564}, {\"ratings\": \"1\", \"sentiments\": -0.036719395525834156}, {\"ratings\": \"1\", \"sentiments\": -0.022727272727272728}, {\"ratings\": \"1\", \"sentiments\": 0.022222222222222223}, {\"ratings\": \"1\", \"sentiments\": -0.15}, {\"ratings\": \"1\", \"sentiments\": -0.041666666666666664}, {\"ratings\": \"1\", \"sentiments\": -0.04354324047301238}, {\"ratings\": \"1\", \"sentiments\": -0.21153846153846154}, {\"ratings\": \"1\", \"sentiments\": -0.019707375957375955}, {\"ratings\": \"1\", \"sentiments\": 0.041666666666666664}, {\"ratings\": \"1\", \"sentiments\": -0.06405045351473923}, {\"ratings\": \"1\", \"sentiments\": -0.7142857142857143}, {\"ratings\": \"1\", \"sentiments\": -0.03770056935817806}, {\"ratings\": \"1\", \"sentiments\": 0.03125}, {\"ratings\": \"1\", \"sentiments\": 0.037037037037037035}, {\"ratings\": \"1\", \"sentiments\": -0.019448144448144446}, {\"ratings\": \"1\", \"sentiments\": 0.0009768009768009753}, {\"ratings\": \"1\", \"sentiments\": 0.0}, {\"ratings\": \"1\", \"sentiments\": 0.01364522417153996}, {\"ratings\": \"1\", \"sentiments\": -1.0}, {\"ratings\": \"1\", \"sentiments\": 0.052963969404186795}, {\"ratings\": \"1\", \"sentiments\": -0.1111111111111111}, {\"ratings\": \"1\", \"sentiments\": -0.05204326923076923}, {\"ratings\": \"1\", \"sentiments\": -0.04419776607599105}, {\"ratings\": \"1\", \"sentiments\": -0.02173669467787115}, {\"ratings\": \"1\", \"sentiments\": -0.09821428571428571}, {\"ratings\": \"1\", \"sentiments\": -0.024038461538461536}, {\"ratings\": \"1\", \"sentiments\": -0.044865208920681195}, {\"ratings\": \"1\", \"sentiments\": 0.01676003734827264}, {\"ratings\": \"1\", \"sentiments\": -0.48}, {\"ratings\": \"1\", \"sentiments\": -0.015404040404040406}, {\"ratings\": \"1\", \"sentiments\": -0.0377743099990275}, {\"ratings\": \"1\", \"sentiments\": -0.02514568764568765}, {\"ratings\": \"1\", \"sentiments\": 0.0}, {\"ratings\": \"1\", \"sentiments\": 0.013392857142857144}, {\"ratings\": \"1\", \"sentiments\": -0.09090909090909091}, {\"ratings\": \"1\", \"sentiments\": -0.01454936594202898}, {\"ratings\": \"1\", \"sentiments\": 0.19642857142857142}, {\"ratings\": \"1\", \"sentiments\": 0.017857142857142856}, {\"ratings\": \"1\", \"sentiments\": -0.3333333333333333}, {\"ratings\": \"1\", \"sentiments\": -0.075}, {\"ratings\": \"1\", \"sentiments\": 0.030220093190018}, {\"ratings\": \"1\", \"sentiments\": 0.005357142857142856}, {\"ratings\": \"1\", \"sentiments\": 0.00843253968253968}, {\"ratings\": \"1\", \"sentiments\": -0.045454545454545456}, {\"ratings\": \"1\", \"sentiments\": -0.04696103310707773}, {\"ratings\": \"1\", \"sentiments\": -0.014248913443441329}, {\"ratings\": \"1\", \"sentiments\": -0.020265627618568798}, {\"ratings\": \"1\", \"sentiments\": -1.0}, {\"ratings\": \"1\", \"sentiments\": 0.09090909090909091}, {\"ratings\": \"1\", \"sentiments\": -0.020018942509454844}, {\"ratings\": \"1\", \"sentiments\": 0.053737373737373736}, {\"ratings\": \"1\", \"sentiments\": -0.20512820512820512}, {\"ratings\": \"1\", \"sentiments\": -0.1111111111111111}, {\"ratings\": \"1\", \"sentiments\": -0.01618166779457102}, {\"ratings\": \"1\", \"sentiments\": -0.013762626262626263}, {\"ratings\": \"1\", \"sentiments\": -0.061875480973900505}, {\"ratings\": \"1\", \"sentiments\": 0.057080613866099805}, {\"ratings\": \"1\", \"sentiments\": -0.03609022556390978}, {\"ratings\": \"1\", \"sentiments\": -0.03418072123954477}, {\"ratings\": \"1\", \"sentiments\": -0.02965367965367965}, {\"ratings\": \"1\", \"sentiments\": -0.06302493627284338}, {\"ratings\": \"1\", \"sentiments\": -0.07546049685341881}, {\"ratings\": \"1\", \"sentiments\": -0.08888888888888889}, {\"ratings\": \"1\", \"sentiments\": 0.16666666666666666}, {\"ratings\": \"1\", \"sentiments\": -0.02}, {\"ratings\": \"1\", \"sentiments\": 0.011904761904761904}, {\"ratings\": \"1\", \"sentiments\": 0.25}, {\"ratings\": \"1\", \"sentiments\": -0.3333333333333333}, {\"ratings\": \"1\", \"sentiments\": -0.006793866386396097}, {\"ratings\": \"1\", \"sentiments\": -0.021815221815221813}, {\"ratings\": \"1\", \"sentiments\": -0.16666666666666666}, {\"ratings\": \"1\", \"sentiments\": -0.01972034411745928}, {\"ratings\": \"1\", \"sentiments\": -0.003944954453369603}, {\"ratings\": \"1\", \"sentiments\": 0.013518347209374037}, {\"ratings\": \"1\", \"sentiments\": 0.25}, {\"ratings\": \"1\", \"sentiments\": -0.010416666666666666}, {\"ratings\": \"1\", \"sentiments\": -0.016878462039752365}, {\"ratings\": \"1\", \"sentiments\": -0.16527777777777777}, {\"ratings\": \"1\", \"sentiments\": 0.020423280423280427}, {\"ratings\": \"1\", \"sentiments\": 0.018969979296066253}, {\"ratings\": \"1\", \"sentiments\": 0.0138034928743741}, {\"ratings\": \"1\", \"sentiments\": -0.017133832351223656}, {\"ratings\": \"1\", \"sentiments\": -0.01923648247177659}, {\"ratings\": \"1\", \"sentiments\": 0.0}, {\"ratings\": \"1\", \"sentiments\": 0.02028888888888889}, {\"ratings\": \"1\", \"sentiments\": 0.012081953993718697}, {\"ratings\": \"1\", \"sentiments\": 0.2}, {\"ratings\": \"1\", \"sentiments\": 0.011013207659549124}, {\"ratings\": \"1\", \"sentiments\": -0.04333333333333333}, {\"ratings\": \"1\", \"sentiments\": 0.07692307692307693}, {\"ratings\": \"1\", \"sentiments\": 0.00829336761354305}, {\"ratings\": \"1\", \"sentiments\": 0.0}, {\"ratings\": \"1\", \"sentiments\": 0.045238095238095244}, {\"ratings\": \"1\", \"sentiments\": -0.01082251082251082}, {\"ratings\": \"1\", \"sentiments\": 0.0}, {\"ratings\": \"1\", \"sentiments\": -0.12006578947368421}, {\"ratings\": \"1\", \"sentiments\": -0.03685758685758685}, {\"ratings\": \"1\", \"sentiments\": 0.001649769649609014}, {\"ratings\": \"1\", \"sentiments\": 0.06150793650793651}, {\"ratings\": \"1\", \"sentiments\": -0.125}, {\"ratings\": \"2\", \"sentiments\": -0.030982905982905977}, {\"ratings\": \"2\", \"sentiments\": 0.05555555555555555}, {\"ratings\": \"2\", \"sentiments\": 0.030676148821310107}, {\"ratings\": \"2\", \"sentiments\": 0.027799043062200955}, {\"ratings\": \"2\", \"sentiments\": 0.10505698005698005}, {\"ratings\": \"2\", \"sentiments\": 0.07252332920535687}, {\"ratings\": \"2\", \"sentiments\": -0.004112554112554118}, {\"ratings\": \"2\", \"sentiments\": 0.0}, {\"ratings\": \"2\", \"sentiments\": -0.023333010404147272}, {\"ratings\": \"2\", \"sentiments\": 0.008225108225108224}, {\"ratings\": \"2\", \"sentiments\": 0.12857142857142856}, {\"ratings\": \"2\", \"sentiments\": -0.0196078431372549}, {\"ratings\": \"2\", \"sentiments\": -0.13752331468158804}, {\"ratings\": \"2\", \"sentiments\": 0.5}, {\"ratings\": \"2\", \"sentiments\": -0.018414918414918414}, {\"ratings\": \"2\", \"sentiments\": -0.03002244668911335}, {\"ratings\": \"2\", \"sentiments\": 0.003246753246753248}, {\"ratings\": \"2\", \"sentiments\": 0.10267857142857142}, {\"ratings\": \"2\", \"sentiments\": -0.0392156862745098}, {\"ratings\": \"2\", \"sentiments\": -0.2777777777777778}, {\"ratings\": \"2\", \"sentiments\": 0.03560069596290089}, {\"ratings\": \"2\", \"sentiments\": 0.10592105263157894}, {\"ratings\": \"2\", \"sentiments\": 0.3333333333333333}, {\"ratings\": \"2\", \"sentiments\": 0.08333333333333333}, {\"ratings\": \"2\", \"sentiments\": -0.008984598502284849}, {\"ratings\": \"2\", \"sentiments\": -0.125}, {\"ratings\": \"2\", \"sentiments\": -0.05075328101245149}, {\"ratings\": \"2\", \"sentiments\": 0.08}, {\"ratings\": \"2\", \"sentiments\": 0.0}, {\"ratings\": \"2\", \"sentiments\": -0.013737076751604597}, {\"ratings\": \"2\", \"sentiments\": 0.013888888888888888}, {\"ratings\": \"2\", \"sentiments\": -0.018967452300785635}, {\"ratings\": \"2\", \"sentiments\": 0.019404009838792445}, {\"ratings\": \"2\", \"sentiments\": -0.01691919191919192}, {\"ratings\": \"2\", \"sentiments\": -0.022621528528686662}, {\"ratings\": \"2\", \"sentiments\": 0.07142857142857142}, {\"ratings\": \"2\", \"sentiments\": -0.0404040404040404}, {\"ratings\": \"2\", \"sentiments\": 0.0553030303030303}, {\"ratings\": \"2\", \"sentiments\": -0.004095804988662133}, {\"ratings\": \"2\", \"sentiments\": 0.05978450911230485}, {\"ratings\": \"2\", \"sentiments\": -0.019647778910393696}, {\"ratings\": \"2\", \"sentiments\": 0.030026990553306345}, {\"ratings\": \"2\", \"sentiments\": 0.0028822808584713353}, {\"ratings\": \"2\", \"sentiments\": -0.08108108108108109}, {\"ratings\": \"2\", \"sentiments\": 0.09262371615312791}, {\"ratings\": \"2\", \"sentiments\": 0.05952380952380952}, {\"ratings\": \"2\", \"sentiments\": 0.07407407407407407}, {\"ratings\": \"2\", \"sentiments\": -0.022685121895648207}, {\"ratings\": \"2\", \"sentiments\": -0.07142857142857142}, {\"ratings\": \"2\", \"sentiments\": -0.16666666666666666}, {\"ratings\": \"2\", \"sentiments\": -0.011304347826086955}, {\"ratings\": \"2\", \"sentiments\": -0.020833333333333332}, {\"ratings\": \"2\", \"sentiments\": -0.13333333333333333}, {\"ratings\": \"2\", \"sentiments\": -0.027175080558539205}, {\"ratings\": \"2\", \"sentiments\": -0.03444701497333076}, {\"ratings\": \"2\", \"sentiments\": 0.020368722631097638}, {\"ratings\": \"2\", \"sentiments\": -0.016666666666666666}, {\"ratings\": \"2\", \"sentiments\": -0.08525233562540065}, {\"ratings\": \"2\", \"sentiments\": -0.02571428571428571}, {\"ratings\": \"2\", \"sentiments\": -0.001523582723303716}, {\"ratings\": \"2\", \"sentiments\": 0.02573152029266058}, {\"ratings\": \"2\", \"sentiments\": 0.0}, {\"ratings\": \"2\", \"sentiments\": 0.0765993265993266}, {\"ratings\": \"2\", \"sentiments\": -0.04365079365079365}, {\"ratings\": \"2\", \"sentiments\": 0.0}, {\"ratings\": \"2\", \"sentiments\": 0.08333333333333333}, {\"ratings\": \"2\", \"sentiments\": 0.0070921985815602835}, {\"ratings\": \"2\", \"sentiments\": 0.14285714285714285}, {\"ratings\": \"2\", \"sentiments\": 0.15873015873015872}, {\"ratings\": \"2\", \"sentiments\": -0.22916666666666666}, {\"ratings\": \"2\", \"sentiments\": 0.12393162393162394}, {\"ratings\": \"2\", \"sentiments\": -0.01705144423360742}, {\"ratings\": \"2\", \"sentiments\": 0.0606060606060606}, {\"ratings\": \"2\", \"sentiments\": 0.0}, {\"ratings\": \"2\", \"sentiments\": -0.03939202174047599}, {\"ratings\": \"2\", \"sentiments\": 0.03125}, {\"ratings\": \"2\", \"sentiments\": -0.16879837334382788}, {\"ratings\": \"2\", \"sentiments\": -0.11687306501547987}, {\"ratings\": \"2\", \"sentiments\": 0.0}, {\"ratings\": \"2\", \"sentiments\": -0.03311965811965812}, {\"ratings\": \"2\", \"sentiments\": 0.0}, {\"ratings\": \"2\", \"sentiments\": -0.09803921568627451}, {\"ratings\": \"2\", \"sentiments\": 0.03272609743197979}, {\"ratings\": \"2\", \"sentiments\": -0.09401709401709402}, {\"ratings\": \"2\", \"sentiments\": -0.013095238095238094}, {\"ratings\": \"2\", \"sentiments\": -0.020359848484848488}, {\"ratings\": \"2\", \"sentiments\": 0.03481190958164642}, {\"ratings\": \"2\", \"sentiments\": 0.034482758620689655}, {\"ratings\": \"2\", \"sentiments\": 0.125}, {\"ratings\": \"2\", \"sentiments\": -0.030036234280716455}, {\"ratings\": \"2\", \"sentiments\": 0.015458248476954225}, {\"ratings\": \"2\", \"sentiments\": -0.02500014092322043}, {\"ratings\": \"2\", \"sentiments\": 0.014284455040757562}, {\"ratings\": \"2\", \"sentiments\": 0.13146997929606624}, {\"ratings\": \"2\", \"sentiments\": -0.027777777777777776}, {\"ratings\": \"2\", \"sentiments\": -0.05555555555555555}, {\"ratings\": \"2\", \"sentiments\": 0.005059523809523811}, {\"ratings\": \"2\", \"sentiments\": 0.03388888888888889}, {\"ratings\": \"2\", \"sentiments\": -0.012369307074160478}, {\"ratings\": \"2\", \"sentiments\": -0.0056058320764203135}, {\"ratings\": \"2\", \"sentiments\": 0.2}, {\"ratings\": \"2\", \"sentiments\": 0.1111111111111111}, {\"ratings\": \"2\", \"sentiments\": -0.005243286125639067}, {\"ratings\": \"2\", \"sentiments\": -0.5}, {\"ratings\": \"2\", \"sentiments\": -0.024583333333333332}, {\"ratings\": \"2\", \"sentiments\": -0.5}, {\"ratings\": \"2\", \"sentiments\": 0.02490369613612063}, {\"ratings\": \"2\", \"sentiments\": -0.016162210593296446}, {\"ratings\": \"2\", \"sentiments\": 0.028537511870845193}, {\"ratings\": \"2\", \"sentiments\": 0.058823529411764705}, {\"ratings\": \"2\", \"sentiments\": 0.14285714285714285}, {\"ratings\": \"2\", \"sentiments\": -0.009142173615857827}, {\"ratings\": \"2\", \"sentiments\": 0.009822367175308353}, {\"ratings\": \"2\", \"sentiments\": 0.06819727891156462}, {\"ratings\": \"2\", \"sentiments\": 0.02206063942624595}, {\"ratings\": \"2\", \"sentiments\": 0.0}, {\"ratings\": \"2\", \"sentiments\": 0.057143829531030844}, {\"ratings\": \"2\", \"sentiments\": -0.05649038461538461}, {\"ratings\": \"2\", \"sentiments\": 0.02909090909090909}, {\"ratings\": \"2\", \"sentiments\": 0.014245045844424724}, {\"ratings\": \"2\", \"sentiments\": -0.014504014504014501}, {\"ratings\": \"2\", \"sentiments\": -0.05783424908424909}, {\"ratings\": \"2\", \"sentiments\": 0.041666666666666664}, {\"ratings\": \"2\", \"sentiments\": -0.027417027417027416}, {\"ratings\": \"2\", \"sentiments\": -0.06481481481481481}, {\"ratings\": \"2\", \"sentiments\": 0.04791666666666666}, {\"ratings\": \"2\", \"sentiments\": 0.023106844845975277}, {\"ratings\": \"2\", \"sentiments\": -0.07070707070707069}, {\"ratings\": \"2\", \"sentiments\": 0.009760209703001463}, {\"ratings\": \"2\", \"sentiments\": 0.03646825396825397}, {\"ratings\": \"2\", \"sentiments\": -0.008739017392863552}, {\"ratings\": \"2\", \"sentiments\": 0.013590657708304768}, {\"ratings\": \"2\", \"sentiments\": -0.0030214424951267075}, {\"ratings\": \"2\", \"sentiments\": 0.16220238095238096}, {\"ratings\": \"2\", \"sentiments\": -0.45150862068965514}, {\"ratings\": \"2\", \"sentiments\": 0.09033426368952684}, {\"ratings\": \"2\", \"sentiments\": 0.08333333333333333}, {\"ratings\": \"2\", \"sentiments\": 0.008437990580847725}, {\"ratings\": \"2\", \"sentiments\": -0.016454868660751014}, {\"ratings\": \"2\", \"sentiments\": -0.004175529367076467}, {\"ratings\": \"2\", \"sentiments\": -0.14375}, {\"ratings\": \"2\", \"sentiments\": 0.029362686913577834}, {\"ratings\": \"2\", \"sentiments\": -0.028910843937541113}, {\"ratings\": \"2\", \"sentiments\": -0.052173913043478265}, {\"ratings\": \"2\", \"sentiments\": -0.007035036236716906}, {\"ratings\": \"2\", \"sentiments\": 0.012902130549189376}, {\"ratings\": \"2\", \"sentiments\": 0.03381574852163088}, {\"ratings\": \"2\", \"sentiments\": 0.02842482534094376}, {\"ratings\": \"2\", \"sentiments\": -0.05159090909090909}, {\"ratings\": \"2\", \"sentiments\": 0.060514969858533364}, {\"ratings\": \"2\", \"sentiments\": -0.0672844313773849}, {\"ratings\": \"2\", \"sentiments\": 0.003155731989765605}, {\"ratings\": \"2\", \"sentiments\": -0.02222222222222222}, {\"ratings\": \"2\", \"sentiments\": -0.02}, {\"ratings\": \"2\", \"sentiments\": -0.010939757410345648}, {\"ratings\": \"2\", \"sentiments\": 0.11666666666666667}, {\"ratings\": \"2\", \"sentiments\": 0.017868105347341227}, {\"ratings\": \"2\", \"sentiments\": -0.15082846003898634}, {\"ratings\": \"2\", \"sentiments\": -0.031108002645660587}, {\"ratings\": \"2\", \"sentiments\": 0.0}, {\"ratings\": \"2\", \"sentiments\": -0.008620689655172414}, {\"ratings\": \"2\", \"sentiments\": -0.03368579315784285}, {\"ratings\": \"2\", \"sentiments\": 0.008767931414990238}, {\"ratings\": \"2\", \"sentiments\": 0.008097165991902836}, {\"ratings\": \"2\", \"sentiments\": 0.007786933146330057}, {\"ratings\": \"2\", \"sentiments\": 0.013526570048309178}, {\"ratings\": \"2\", \"sentiments\": 0.03401515151515151}, {\"ratings\": \"2\", \"sentiments\": -0.007805634215408649}, {\"ratings\": \"2\", \"sentiments\": -0.006289102957031521}, {\"ratings\": \"2\", \"sentiments\": 0.004157509157509161}, {\"ratings\": \"2\", \"sentiments\": -0.10833333333333334}, {\"ratings\": \"2\", \"sentiments\": 0.044172932330827065}, {\"ratings\": \"2\", \"sentiments\": 0.2}, {\"ratings\": \"2\", \"sentiments\": 0.013670033670033674}, {\"ratings\": \"2\", \"sentiments\": 0.016491228070175435}, {\"ratings\": \"2\", \"sentiments\": 0.03125}, {\"ratings\": \"2\", \"sentiments\": 0.0809544870579811}, {\"ratings\": \"2\", \"sentiments\": 0.014160206718346252}, {\"ratings\": \"2\", \"sentiments\": -0.009399109632028887}, {\"ratings\": \"2\", \"sentiments\": -0.01984126984126984}, {\"ratings\": \"2\", \"sentiments\": 0.02666666666666667}, {\"ratings\": \"2\", \"sentiments\": 0.04078976034858387}, {\"ratings\": \"2\", \"sentiments\": -0.010376756066411238}, {\"ratings\": \"2\", \"sentiments\": 0.0010787599497276916}, {\"ratings\": \"2\", \"sentiments\": 0.003864734299516908}, {\"ratings\": \"2\", \"sentiments\": -0.033314009364429534}, {\"ratings\": \"2\", \"sentiments\": 0.0}, {\"ratings\": \"2\", \"sentiments\": 0.0}, {\"ratings\": \"2\", \"sentiments\": 0.1}, {\"ratings\": \"2\", \"sentiments\": -0.05}, {\"ratings\": \"2\", \"sentiments\": -0.01802818096935744}, {\"ratings\": \"2\", \"sentiments\": 0.010137085137085137}, {\"ratings\": \"2\", \"sentiments\": -0.03433742112183493}, {\"ratings\": \"2\", \"sentiments\": 0.05606060606060606}, {\"ratings\": \"2\", \"sentiments\": -0.002777777777777782}, {\"ratings\": \"2\", \"sentiments\": 0.0033046814296814313}, {\"ratings\": \"2\", \"sentiments\": 0.0}, {\"ratings\": \"2\", \"sentiments\": -0.015307017543859647}, {\"ratings\": \"2\", \"sentiments\": -0.06605992187888739}, {\"ratings\": \"2\", \"sentiments\": 0.10795454545454546}, {\"ratings\": \"2\", \"sentiments\": -0.025357121510967664}, {\"ratings\": \"2\", \"sentiments\": -0.15625}, {\"ratings\": \"2\", \"sentiments\": -0.047199675324675325}, {\"ratings\": \"2\", \"sentiments\": 0.0}, {\"ratings\": \"2\", \"sentiments\": 0.08333333333333333}, {\"ratings\": \"2\", \"sentiments\": -0.001388888888888891}, {\"ratings\": \"2\", \"sentiments\": 0.037292929292929294}, {\"ratings\": \"2\", \"sentiments\": 0.00047378091744532347}, {\"ratings\": \"2\", \"sentiments\": -0.07544677544677544}, {\"ratings\": \"2\", \"sentiments\": 0.0}, {\"ratings\": \"2\", \"sentiments\": 0.0}, {\"ratings\": \"2\", \"sentiments\": 0.0}, {\"ratings\": \"2\", \"sentiments\": 0.09347826086956522}, {\"ratings\": \"2\", \"sentiments\": 0.008771929824561403}, {\"ratings\": \"2\", \"sentiments\": -0.006125356125356127}, {\"ratings\": \"2\", \"sentiments\": -0.005892255892255893}, {\"ratings\": \"2\", \"sentiments\": -0.016567460317460318}, {\"ratings\": \"2\", \"sentiments\": -0.05555555555555555}, {\"ratings\": \"2\", \"sentiments\": 0.020833333333333332}, {\"ratings\": \"2\", \"sentiments\": 0.0}, {\"ratings\": \"2\", \"sentiments\": -0.022478274733805665}, {\"ratings\": \"2\", \"sentiments\": 0.06804338034312697}, {\"ratings\": \"2\", \"sentiments\": 0.09722222222222221}, {\"ratings\": \"2\", \"sentiments\": -0.05}, {\"ratings\": \"2\", \"sentiments\": 0.037682573029211686}, {\"ratings\": \"2\", \"sentiments\": 0.059357717445952744}, {\"ratings\": \"2\", \"sentiments\": 0.02344214122123643}, {\"ratings\": \"2\", \"sentiments\": 0.0009259259259259257}, {\"ratings\": \"2\", \"sentiments\": 0.033207303317597435}, {\"ratings\": \"2\", \"sentiments\": -0.008870967741935486}, {\"ratings\": \"2\", \"sentiments\": 0.053869047619047615}, {\"ratings\": \"2\", \"sentiments\": 0.009022955529420203}, {\"ratings\": \"2\", \"sentiments\": 0.0}, {\"ratings\": \"2\", \"sentiments\": -0.15296296296296297}, {\"ratings\": \"2\", \"sentiments\": -0.04157369870285472}, {\"ratings\": \"2\", \"sentiments\": -0.03145486514388953}, {\"ratings\": \"2\", \"sentiments\": -0.07814992025518341}, {\"ratings\": \"2\", \"sentiments\": 0.0625}, {\"ratings\": \"2\", \"sentiments\": 0.029715590922487475}, {\"ratings\": \"2\", \"sentiments\": 0.1037037037037037}, {\"ratings\": \"2\", \"sentiments\": 0.0043859649122807015}, {\"ratings\": \"2\", \"sentiments\": 0.004662004662004661}, {\"ratings\": \"2\", \"sentiments\": -0.009318064182194618}, {\"ratings\": \"2\", \"sentiments\": 0.08282828282828283}, {\"ratings\": \"2\", \"sentiments\": 0.014591996673277461}, {\"ratings\": \"2\", \"sentiments\": -0.04774778650376737}, {\"ratings\": \"2\", \"sentiments\": 0.00858030858030859}, {\"ratings\": \"2\", \"sentiments\": -0.004260128816416849}, {\"ratings\": \"2\", \"sentiments\": 0.06578300926127013}, {\"ratings\": \"2\", \"sentiments\": 0.05679465462074157}, {\"ratings\": \"2\", \"sentiments\": -0.011876006441223831}, {\"ratings\": \"2\", \"sentiments\": 0.00384615384615385}, {\"ratings\": \"2\", \"sentiments\": -0.02442894986754636}, {\"ratings\": \"2\", \"sentiments\": -0.06191644104687583}, {\"ratings\": \"2\", \"sentiments\": -0.035017292490118576}, {\"ratings\": \"2\", \"sentiments\": 0.05555555555555555}, {\"ratings\": \"2\", \"sentiments\": 0.0}, {\"ratings\": \"2\", \"sentiments\": 0.041666666666666664}, {\"ratings\": \"2\", \"sentiments\": 0.04898748063055008}, {\"ratings\": \"2\", \"sentiments\": 0.041038961038961035}, {\"ratings\": \"2\", \"sentiments\": -0.03645826395826396}, {\"ratings\": \"2\", \"sentiments\": -0.04383872166480862}, {\"ratings\": \"2\", \"sentiments\": -0.008992314643100555}, {\"ratings\": \"2\", \"sentiments\": 0.008333333333333335}, {\"ratings\": \"2\", \"sentiments\": 0.2}, {\"ratings\": \"2\", \"sentiments\": 0.12521645021645023}, {\"ratings\": \"2\", \"sentiments\": 0.018024031112235817}, {\"ratings\": \"2\", \"sentiments\": 0.0021975129117986253}, {\"ratings\": \"2\", \"sentiments\": 0.027595623460040682}, {\"ratings\": \"2\", \"sentiments\": -0.015112414467253176}, {\"ratings\": \"2\", \"sentiments\": 0.03237734487734487}, {\"ratings\": \"2\", \"sentiments\": 0.03055555555555555}, {\"ratings\": \"2\", \"sentiments\": -0.07407407407407407}, {\"ratings\": \"2\", \"sentiments\": 0.005810835966728416}, {\"ratings\": \"2\", \"sentiments\": 0.025974025974025972}, {\"ratings\": \"2\", \"sentiments\": -0.005952380952380952}, {\"ratings\": \"2\", \"sentiments\": 0.011029411764705881}, {\"ratings\": \"2\", \"sentiments\": 0.004968944099378882}, {\"ratings\": \"2\", \"sentiments\": 0.0}, {\"ratings\": \"2\", \"sentiments\": 0.024193548387096774}, {\"ratings\": \"2\", \"sentiments\": 0.034630822468043554}, {\"ratings\": \"2\", \"sentiments\": -0.015899272691887407}, {\"ratings\": \"2\", \"sentiments\": -0.050409230646384806}, {\"ratings\": \"2\", \"sentiments\": 0.00883838383838384}, {\"ratings\": \"2\", \"sentiments\": -0.00909090909090909}, {\"ratings\": \"2\", \"sentiments\": 0.0}, {\"ratings\": \"2\", \"sentiments\": 0.07142857142857142}, {\"ratings\": \"2\", \"sentiments\": 0.03030012531328321}, {\"ratings\": \"2\", \"sentiments\": 0.04742063492063492}, {\"ratings\": \"2\", \"sentiments\": 0.0153652683454566}, {\"ratings\": \"2\", \"sentiments\": 0.0}, {\"ratings\": \"2\", \"sentiments\": 0.0901883830455259}, {\"ratings\": \"2\", \"sentiments\": 0.16666666666666666}, {\"ratings\": \"2\", \"sentiments\": -0.041972303717993376}, {\"ratings\": \"2\", \"sentiments\": 0.012909312909312905}, {\"ratings\": \"2\", \"sentiments\": -0.13927685375053794}, {\"ratings\": \"2\", \"sentiments\": 0.030151297115582835}, {\"ratings\": \"2\", \"sentiments\": 0.08333333333333333}, {\"ratings\": \"2\", \"sentiments\": -0.1}, {\"ratings\": \"2\", \"sentiments\": 0.016319791319791315}, {\"ratings\": \"2\", \"sentiments\": -0.0013680857060742201}, {\"ratings\": \"2\", \"sentiments\": -0.03618421052631579}, {\"ratings\": \"2\", \"sentiments\": 0.0}, {\"ratings\": \"2\", \"sentiments\": 0.010031554721284157}, {\"ratings\": \"2\", \"sentiments\": 0.035348324514991175}, {\"ratings\": \"2\", \"sentiments\": 0.0}, {\"ratings\": \"2\", \"sentiments\": 0.03725407925407925}, {\"ratings\": \"2\", \"sentiments\": -0.12005012531328321}, {\"ratings\": \"2\", \"sentiments\": -0.0071901038030070296}, {\"ratings\": \"2\", \"sentiments\": 0.0034551545060370727}, {\"ratings\": \"2\", \"sentiments\": 0.0}, {\"ratings\": \"2\", \"sentiments\": 0.013073188304604855}, {\"ratings\": \"2\", \"sentiments\": -0.18750000000000003}, {\"ratings\": \"2\", \"sentiments\": 0.0}, {\"ratings\": \"2\", \"sentiments\": -0.024857222609323455}, {\"ratings\": \"2\", \"sentiments\": 0.012837955695098551}, {\"ratings\": \"2\", \"sentiments\": 0.021303258145363407}, {\"ratings\": \"2\", \"sentiments\": 0.018222639933166248}, {\"ratings\": \"2\", \"sentiments\": -0.02305300476347389}, {\"ratings\": \"2\", \"sentiments\": 0.0}, {\"ratings\": \"2\", \"sentiments\": -0.023161510206964754}, {\"ratings\": \"2\", \"sentiments\": -0.004160499094186095}, {\"ratings\": \"2\", \"sentiments\": -0.006849477682811013}, {\"ratings\": \"2\", \"sentiments\": 0.02084417050739106}, {\"ratings\": \"2\", \"sentiments\": -0.0001586057620540396}, {\"ratings\": \"2\", \"sentiments\": -0.014563694817008447}, {\"ratings\": \"2\", \"sentiments\": 0.0}, {\"ratings\": \"2\", \"sentiments\": -0.015563725490196077}, {\"ratings\": \"2\", \"sentiments\": 0.043995384126344454}, {\"ratings\": \"2\", \"sentiments\": 0.09523809523809523}, {\"ratings\": \"2\", \"sentiments\": -0.06022789345157767}, {\"ratings\": \"2\", \"sentiments\": 0.043478260869565216}, {\"ratings\": \"2\", \"sentiments\": -1.0}, {\"ratings\": \"2\", \"sentiments\": 0.18181818181818182}, {\"ratings\": \"2\", \"sentiments\": -0.04591836734693877}, {\"ratings\": \"2\", \"sentiments\": -0.05894974590626765}, {\"ratings\": \"2\", \"sentiments\": -0.08135509714457081}, {\"ratings\": \"2\", \"sentiments\": 0.0}, {\"ratings\": \"2\", \"sentiments\": 0.16666666666666666}, {\"ratings\": \"2\", \"sentiments\": 0.02083333333333333}, {\"ratings\": \"2\", \"sentiments\": -0.031578947368421054}, {\"ratings\": \"2\", \"sentiments\": 0.013301674836601307}, {\"ratings\": \"2\", \"sentiments\": -0.03125}, {\"ratings\": \"2\", \"sentiments\": 0.10416666666666666}, {\"ratings\": \"2\", \"sentiments\": -0.05143860880575856}, {\"ratings\": \"2\", \"sentiments\": 0.0016339869281045763}, {\"ratings\": \"2\", \"sentiments\": -0.01717298761609907}, {\"ratings\": \"2\", \"sentiments\": -0.012254901960784312}, {\"ratings\": \"2\", \"sentiments\": 0.011111111111111112}, {\"ratings\": \"2\", \"sentiments\": 0.11647727272727273}, {\"ratings\": \"2\", \"sentiments\": -0.5}, {\"ratings\": \"2\", \"sentiments\": -0.013117601352895471}, {\"ratings\": \"2\", \"sentiments\": 0.007173778602350032}, {\"ratings\": \"2\", \"sentiments\": -0.04585470085470085}, {\"ratings\": \"2\", \"sentiments\": -0.018955000157307025}, {\"ratings\": \"2\", \"sentiments\": 0.020410292322057027}, {\"ratings\": \"2\", \"sentiments\": 0.08333333333333333}, {\"ratings\": \"2\", \"sentiments\": -0.045539616901846006}, {\"ratings\": \"2\", \"sentiments\": 0.0}, {\"ratings\": \"2\", \"sentiments\": -0.010555555555555554}, {\"ratings\": \"2\", \"sentiments\": -0.004660467353358774}, {\"ratings\": \"2\", \"sentiments\": 0.022222222222222223}, {\"ratings\": \"2\", \"sentiments\": 0.009963536553747609}, {\"ratings\": \"2\", \"sentiments\": -0.15384615384615385}, {\"ratings\": \"2\", \"sentiments\": 0.17142857142857143}, {\"ratings\": \"2\", \"sentiments\": -0.02674289956690803}, {\"ratings\": \"2\", \"sentiments\": -0.025903873754581277}, {\"ratings\": \"2\", \"sentiments\": -0.0006802022922273498}, {\"ratings\": \"2\", \"sentiments\": -0.030755209702578126}, {\"ratings\": \"2\", \"sentiments\": 0.0}, {\"ratings\": \"2\", \"sentiments\": 0.03288539217247657}, {\"ratings\": \"2\", \"sentiments\": -0.09651795904009473}, {\"ratings\": \"2\", \"sentiments\": 0.1}, {\"ratings\": \"2\", \"sentiments\": 0.0037261157433171586}, {\"ratings\": \"2\", \"sentiments\": -0.012744332961724265}, {\"ratings\": \"2\", \"sentiments\": -0.010090635580831663}, {\"ratings\": \"2\", \"sentiments\": 0.00011134461510020621}, {\"ratings\": \"2\", \"sentiments\": -0.003697401825744066}, {\"ratings\": \"2\", \"sentiments\": 0.1}, {\"ratings\": \"2\", \"sentiments\": -0.11045030238578625}, {\"ratings\": \"2\", \"sentiments\": -0.07978919631093544}, {\"ratings\": \"2\", \"sentiments\": -0.014479949571629713}, {\"ratings\": \"2\", \"sentiments\": -0.03308823529411765}, {\"ratings\": \"2\", \"sentiments\": -0.0678524374176548}, {\"ratings\": \"2\", \"sentiments\": 0.007588403878698411}, {\"ratings\": \"2\", \"sentiments\": -0.011411423543776486}, {\"ratings\": \"2\", \"sentiments\": 0.07850829725829726}, {\"ratings\": \"2\", \"sentiments\": 0.02405372405372405}, {\"ratings\": \"2\", \"sentiments\": -0.04953917050691244}, {\"ratings\": \"2\", \"sentiments\": -0.023050379572118702}, {\"ratings\": \"2\", \"sentiments\": -0.006441223832528181}, {\"ratings\": \"2\", \"sentiments\": -0.05}, {\"ratings\": \"2\", \"sentiments\": -0.012133475184945775}, {\"ratings\": \"2\", \"sentiments\": 0.07692307692307693}, {\"ratings\": \"2\", \"sentiments\": 0.09090909090909091}, {\"ratings\": \"2\", \"sentiments\": -0.008292312593287105}, {\"ratings\": \"2\", \"sentiments\": -0.056908709545157275}, {\"ratings\": \"2\", \"sentiments\": -0.040024112871179685}, {\"ratings\": \"2\", \"sentiments\": 0.08035714285714285}, {\"ratings\": \"2\", \"sentiments\": 0.0}, {\"ratings\": \"2\", \"sentiments\": -0.16666666666666666}, {\"ratings\": \"2\", \"sentiments\": -0.5}, {\"ratings\": \"2\", \"sentiments\": -0.014605520892071724}, {\"ratings\": \"2\", \"sentiments\": -0.01609009819151372}, {\"ratings\": \"2\", \"sentiments\": 0.05247604723707665}, {\"ratings\": \"2\", \"sentiments\": -0.3358333333333333}, {\"ratings\": \"2\", \"sentiments\": -0.018971827812050555}, {\"ratings\": \"2\", \"sentiments\": 0.014705882352941176}, {\"ratings\": \"2\", \"sentiments\": 0.027285032686966686}, {\"ratings\": \"2\", \"sentiments\": -0.04547404547404547}, {\"ratings\": \"2\", \"sentiments\": 0.020343033581012887}, {\"ratings\": \"2\", \"sentiments\": -0.00863377954543368}, {\"ratings\": \"2\", \"sentiments\": -0.02540310688648285}, {\"ratings\": \"2\", \"sentiments\": 0.04999999999999999}, {\"ratings\": \"2\", \"sentiments\": -0.045112781954887216}, {\"ratings\": \"2\", \"sentiments\": -0.05}, {\"ratings\": \"2\", \"sentiments\": 0.003755905041709}, {\"ratings\": \"2\", \"sentiments\": 0.020517102013341382}, {\"ratings\": \"2\", \"sentiments\": 0.0560952380952381}, {\"ratings\": \"2\", \"sentiments\": -0.04167654983163005}, {\"ratings\": \"2\", \"sentiments\": -0.054063555761348636}, {\"ratings\": \"2\", \"sentiments\": 0.017973856209150325}, {\"ratings\": \"2\", \"sentiments\": 0.016923622186780084}, {\"ratings\": \"2\", \"sentiments\": -0.006340579710144928}, {\"ratings\": \"2\", \"sentiments\": 0.0}, {\"ratings\": \"2\", \"sentiments\": -0.021919642857142856}, {\"ratings\": \"2\", \"sentiments\": 0.009166243634722576}, {\"ratings\": \"2\", \"sentiments\": 0.012232905982905983}, {\"ratings\": \"2\", \"sentiments\": -0.05}, {\"ratings\": \"2\", \"sentiments\": -0.029272828561511414}, {\"ratings\": \"2\", \"sentiments\": -0.011626783710117043}, {\"ratings\": \"2\", \"sentiments\": 0.03227570302038387}, {\"ratings\": \"2\", \"sentiments\": 0.0060851703121439955}, {\"ratings\": \"2\", \"sentiments\": -0.017823155013043723}, {\"ratings\": \"2\", \"sentiments\": 0.03571428571428571}, {\"ratings\": \"2\", \"sentiments\": -0.00591715976331361}, {\"ratings\": \"2\", \"sentiments\": 0.0}, {\"ratings\": \"2\", \"sentiments\": -0.04108391608391608}, {\"ratings\": \"2\", \"sentiments\": 0.011672467315587945}, {\"ratings\": \"2\", \"sentiments\": 0.04337754021115651}, {\"ratings\": \"2\", \"sentiments\": -1.0}, {\"ratings\": \"2\", \"sentiments\": 0.037606837606837605}, {\"ratings\": \"2\", \"sentiments\": 0.06548821548821548}, {\"ratings\": \"2\", \"sentiments\": -0.08333333333333333}, {\"ratings\": \"2\", \"sentiments\": 0.040584415584415584}, {\"ratings\": \"2\", \"sentiments\": 0.037037037037037035}, {\"ratings\": \"2\", \"sentiments\": -0.0364707960312474}, {\"ratings\": \"2\", \"sentiments\": -0.08888888888888889}, {\"ratings\": \"2\", \"sentiments\": 0.09090909090909091}, {\"ratings\": \"2\", \"sentiments\": 0.022899472486330636}, {\"ratings\": \"2\", \"sentiments\": -0.023295183550967463}, {\"ratings\": \"2\", \"sentiments\": -0.08432539682539683}, {\"ratings\": \"2\", \"sentiments\": -0.04358407795907796}, {\"ratings\": \"2\", \"sentiments\": 0.018695372795652233}, {\"ratings\": \"2\", \"sentiments\": -0.1111111111111111}, {\"ratings\": \"2\", \"sentiments\": -0.041666666666666664}, {\"ratings\": \"2\", \"sentiments\": 0.013888888888888888}, {\"ratings\": \"2\", \"sentiments\": 0.0}, {\"ratings\": \"2\", \"sentiments\": 0.09700176366843033}, {\"ratings\": \"2\", \"sentiments\": 0.04556468177791708}, {\"ratings\": \"2\", \"sentiments\": -0.0016683446508007915}, {\"ratings\": \"2\", \"sentiments\": -0.0017539061839390649}, {\"ratings\": \"2\", \"sentiments\": 0.045514856660367496}, {\"ratings\": \"2\", \"sentiments\": -0.020705203671955587}, {\"ratings\": \"2\", \"sentiments\": 0.1}, {\"ratings\": \"2\", \"sentiments\": -0.08441176470588235}, {\"ratings\": \"2\", \"sentiments\": -0.07559523809523809}, {\"ratings\": \"2\", \"sentiments\": 0.0}, {\"ratings\": \"2\", \"sentiments\": -0.026567359037278825}, {\"ratings\": \"2\", \"sentiments\": 0.05}, {\"ratings\": \"2\", \"sentiments\": -0.043333333333333335}, {\"ratings\": \"2\", \"sentiments\": -0.005985552115583076}, {\"ratings\": \"2\", \"sentiments\": 0.0}, {\"ratings\": \"2\", \"sentiments\": 0.00457901000563041}, {\"ratings\": \"2\", \"sentiments\": 0.004378754517258672}, {\"ratings\": \"2\", \"sentiments\": 0.029926108374384235}, {\"ratings\": \"2\", \"sentiments\": 0.025454024049730063}, {\"ratings\": \"2\", \"sentiments\": -0.010741130140107118}, {\"ratings\": \"2\", \"sentiments\": 0.06382978723404255}, {\"ratings\": \"2\", \"sentiments\": 0.03299882008633802}, {\"ratings\": \"2\", \"sentiments\": -0.040001481868717895}, {\"ratings\": \"2\", \"sentiments\": 0.013333333333333332}, {\"ratings\": \"2\", \"sentiments\": -0.08150537634408603}, {\"ratings\": \"2\", \"sentiments\": -0.005405962668604566}, {\"ratings\": \"2\", \"sentiments\": -0.03572368421052632}, {\"ratings\": \"2\", \"sentiments\": 0.01962929055393272}, {\"ratings\": \"2\", \"sentiments\": 0.008739208095825741}, {\"ratings\": \"2\", \"sentiments\": 0.005184889070337993}, {\"ratings\": \"2\", \"sentiments\": 0.05128205128205128}, {\"ratings\": \"2\", \"sentiments\": 0.013888888888888888}, {\"ratings\": \"2\", \"sentiments\": 0.008801184725097768}, {\"ratings\": \"2\", \"sentiments\": 0.004177109440267335}, {\"ratings\": \"2\", \"sentiments\": -0.06519607843137255}, {\"ratings\": \"2\", \"sentiments\": 0.015971496574944847}, {\"ratings\": \"2\", \"sentiments\": 0.05903032153032153}, {\"ratings\": \"2\", \"sentiments\": -0.03571428571428571}, {\"ratings\": \"2\", \"sentiments\": 0.009414446914446914}, {\"ratings\": \"2\", \"sentiments\": 0.0}, {\"ratings\": \"2\", \"sentiments\": 0.06666666666666667}, {\"ratings\": \"2\", \"sentiments\": 0.0}, {\"ratings\": \"3\", \"sentiments\": -0.0006563640526825286}, {\"ratings\": \"3\", \"sentiments\": 0.01858123510586965}, {\"ratings\": \"3\", \"sentiments\": 0.05170940170940171}, {\"ratings\": \"3\", \"sentiments\": 0.0}, {\"ratings\": \"3\", \"sentiments\": 0.0625}, {\"ratings\": \"3\", \"sentiments\": -0.07729468599033816}, {\"ratings\": \"3\", \"sentiments\": 0.3333333333333333}, {\"ratings\": \"3\", \"sentiments\": 0.05133855781471391}, {\"ratings\": \"3\", \"sentiments\": 0.0}, {\"ratings\": \"3\", \"sentiments\": 0.024735449735449732}, {\"ratings\": \"3\", \"sentiments\": 0.0792824074074074}, {\"ratings\": \"3\", \"sentiments\": 0.09523809523809523}, {\"ratings\": \"3\", \"sentiments\": -0.003589743589743591}, {\"ratings\": \"3\", \"sentiments\": 0.03770242914979757}, {\"ratings\": \"3\", \"sentiments\": 0.02}, {\"ratings\": \"3\", \"sentiments\": 0.005082571749238417}, {\"ratings\": \"3\", \"sentiments\": 0.05172413793103448}, {\"ratings\": \"3\", \"sentiments\": 0.0}, {\"ratings\": \"3\", \"sentiments\": -0.04}, {\"ratings\": \"3\", \"sentiments\": 0.03753476796955058}, {\"ratings\": \"3\", \"sentiments\": -0.005589198435972628}, {\"ratings\": \"3\", \"sentiments\": 0.03253535313740702}, {\"ratings\": \"3\", \"sentiments\": -0.035784313725490194}, {\"ratings\": \"3\", \"sentiments\": 0.01108551165213157}, {\"ratings\": \"3\", \"sentiments\": -0.02302184964162799}, {\"ratings\": \"3\", \"sentiments\": -0.014814814814814815}, {\"ratings\": \"3\", \"sentiments\": 0.015618923606844658}, {\"ratings\": \"3\", \"sentiments\": -0.014964374261070128}, {\"ratings\": \"3\", \"sentiments\": 0.035825519509730036}, {\"ratings\": \"3\", \"sentiments\": 0.04599358974358975}, {\"ratings\": \"3\", \"sentiments\": 0.02795878772109672}, {\"ratings\": \"3\", \"sentiments\": -0.022537627602282773}, {\"ratings\": \"3\", \"sentiments\": 0.04878048780487805}, {\"ratings\": \"3\", \"sentiments\": 0.03273048633760521}, {\"ratings\": \"3\", \"sentiments\": -0.0063419223891834}, {\"ratings\": \"3\", \"sentiments\": 0.04}, {\"ratings\": \"3\", \"sentiments\": 0.027777777777777776}, {\"ratings\": \"3\", \"sentiments\": 0.05327562307861221}, {\"ratings\": \"3\", \"sentiments\": 0.032333086317711854}, {\"ratings\": \"3\", \"sentiments\": -0.041666666666666664}, {\"ratings\": \"3\", \"sentiments\": 0.019756541612903043}, {\"ratings\": \"3\", \"sentiments\": 0.021012321012321013}, {\"ratings\": \"3\", \"sentiments\": 0.11513157894736842}, {\"ratings\": \"3\", \"sentiments\": -0.023116945625282687}, {\"ratings\": \"3\", \"sentiments\": -0.08333333333333333}, {\"ratings\": \"3\", \"sentiments\": -0.01538454522276877}, {\"ratings\": \"3\", \"sentiments\": 0.014111434176610793}, {\"ratings\": \"3\", \"sentiments\": 0.0}, {\"ratings\": \"3\", \"sentiments\": 0.03731545670184591}, {\"ratings\": \"3\", \"sentiments\": 0.0}, {\"ratings\": \"3\", \"sentiments\": -0.04054054054054054}, {\"ratings\": \"3\", \"sentiments\": 0.03367003367003367}, {\"ratings\": \"3\", \"sentiments\": 0.0}, {\"ratings\": \"3\", \"sentiments\": 0.0}, {\"ratings\": \"3\", \"sentiments\": 0.019791666666666666}, {\"ratings\": \"3\", \"sentiments\": 0.02022320000261176}, {\"ratings\": \"3\", \"sentiments\": 0.021047841047841045}, {\"ratings\": \"3\", \"sentiments\": 0.02631578947368421}, {\"ratings\": \"3\", \"sentiments\": -0.0279008954008954}, {\"ratings\": \"3\", \"sentiments\": 0.03333333333333333}, {\"ratings\": \"3\", \"sentiments\": 0.015150127650127649}, {\"ratings\": \"3\", \"sentiments\": 0.0}, {\"ratings\": \"3\", \"sentiments\": 0.0016339869281045763}, {\"ratings\": \"3\", \"sentiments\": 0.014602675059008655}, {\"ratings\": \"3\", \"sentiments\": 0.07185990338164251}, {\"ratings\": \"3\", \"sentiments\": 0.09561688311688311}, {\"ratings\": \"3\", \"sentiments\": -0.16380625476735317}, {\"ratings\": \"3\", \"sentiments\": 0.003935185185185185}, {\"ratings\": \"3\", \"sentiments\": -0.07272727272727272}, {\"ratings\": \"3\", \"sentiments\": 0.2}, {\"ratings\": \"3\", \"sentiments\": 0.20454545454545456}, {\"ratings\": \"3\", \"sentiments\": 0.006339483189812137}, {\"ratings\": \"3\", \"sentiments\": 0.07692307692307693}, {\"ratings\": \"3\", \"sentiments\": 1.0}, {\"ratings\": \"3\", \"sentiments\": -0.0106116992251446}, {\"ratings\": \"3\", \"sentiments\": -0.003432282003710576}, {\"ratings\": \"3\", \"sentiments\": 0.013439871390822112}, {\"ratings\": \"3\", \"sentiments\": -0.013725490196078433}, {\"ratings\": \"3\", \"sentiments\": 0.04023935002195871}, {\"ratings\": \"3\", \"sentiments\": 0.037267080745341616}, {\"ratings\": \"3\", \"sentiments\": 0.044321336520825004}, {\"ratings\": \"3\", \"sentiments\": 0.0030792381707539633}, {\"ratings\": \"3\", \"sentiments\": -0.016236772486772487}, {\"ratings\": \"3\", \"sentiments\": -0.005339972527472529}, {\"ratings\": \"3\", \"sentiments\": 0.0016006090022700845}, {\"ratings\": \"3\", \"sentiments\": 0.0}, {\"ratings\": \"3\", \"sentiments\": 0.0049684541731274835}, {\"ratings\": \"3\", \"sentiments\": -0.3333333333333333}, {\"ratings\": \"3\", \"sentiments\": 0.02645202020202021}, {\"ratings\": \"3\", \"sentiments\": 0.016525928940429625}, {\"ratings\": \"3\", \"sentiments\": 0.0}, {\"ratings\": \"3\", \"sentiments\": 0.09523809523809523}, {\"ratings\": \"3\", \"sentiments\": -0.005757771490351053}, {\"ratings\": \"3\", \"sentiments\": -0.008631013869296942}, {\"ratings\": \"3\", \"sentiments\": 0.08494208494208494}, {\"ratings\": \"3\", \"sentiments\": 0.039462206896417426}, {\"ratings\": \"3\", \"sentiments\": 0.5}, {\"ratings\": \"3\", \"sentiments\": 0.0}, {\"ratings\": \"3\", \"sentiments\": -0.047619047619047616}, {\"ratings\": \"3\", \"sentiments\": 0.06409130992464325}, {\"ratings\": \"3\", \"sentiments\": 0.0}, {\"ratings\": \"3\", \"sentiments\": 0.005555555555555554}, {\"ratings\": \"3\", \"sentiments\": 0.037638287638287644}, {\"ratings\": \"3\", \"sentiments\": 0.028041565908298035}, {\"ratings\": \"3\", \"sentiments\": -0.125}, {\"ratings\": \"3\", \"sentiments\": 0.023015873015873017}, {\"ratings\": \"3\", \"sentiments\": 0.15848214285714285}, {\"ratings\": \"3\", \"sentiments\": 0.04387413603099878}, {\"ratings\": \"3\", \"sentiments\": -0.027163392163392166}, {\"ratings\": \"3\", \"sentiments\": 0.04052631578947369}, {\"ratings\": \"3\", \"sentiments\": -0.05714285714285714}, {\"ratings\": \"3\", \"sentiments\": 0.03125}, {\"ratings\": \"3\", \"sentiments\": 0.036285049136711545}, {\"ratings\": \"3\", \"sentiments\": 0.07242063492063493}, {\"ratings\": \"3\", \"sentiments\": -0.008679333802486516}, {\"ratings\": \"3\", \"sentiments\": 0.06623931623931624}, {\"ratings\": \"3\", \"sentiments\": 0.06065705128205128}, {\"ratings\": \"3\", \"sentiments\": 1.0}, {\"ratings\": \"3\", \"sentiments\": 0.019638672562275875}, {\"ratings\": \"3\", \"sentiments\": 0.008759990009990011}, {\"ratings\": \"3\", \"sentiments\": -0.041666666666666664}, {\"ratings\": \"3\", \"sentiments\": -0.0033420144082576004}, {\"ratings\": \"3\", \"sentiments\": 0.02363936665816156}, {\"ratings\": \"3\", \"sentiments\": 0.08015061813381141}, {\"ratings\": \"3\", \"sentiments\": -0.011594202898550725}, {\"ratings\": \"3\", \"sentiments\": 0.10256410256410256}, {\"ratings\": \"3\", \"sentiments\": 0.04541577813967457}, {\"ratings\": \"3\", \"sentiments\": 0.0}, {\"ratings\": \"3\", \"sentiments\": 0.13856845768610473}, {\"ratings\": \"3\", \"sentiments\": -0.032567198171721295}, {\"ratings\": \"3\", \"sentiments\": 0.041666666666666664}, {\"ratings\": \"3\", \"sentiments\": 0.047619047619047616}, {\"ratings\": \"3\", \"sentiments\": -0.08333333333333333}, {\"ratings\": \"3\", \"sentiments\": 0.0067879494857182475}, {\"ratings\": \"3\", \"sentiments\": 0.017353479853479858}, {\"ratings\": \"3\", \"sentiments\": 0.01802957421055729}, {\"ratings\": \"3\", \"sentiments\": 0.038815789473684206}, {\"ratings\": \"3\", \"sentiments\": 0.059951418500198986}, {\"ratings\": \"3\", \"sentiments\": 0.0}, {\"ratings\": \"3\", \"sentiments\": 0.009759759759759757}, {\"ratings\": \"3\", \"sentiments\": -0.0015054604837886577}, {\"ratings\": \"3\", \"sentiments\": 0.04978505291005291}, {\"ratings\": \"3\", \"sentiments\": 0.005492454827949895}, {\"ratings\": \"3\", \"sentiments\": 0.0}, {\"ratings\": \"3\", \"sentiments\": 0.0}, {\"ratings\": \"3\", \"sentiments\": 0.022482098102398852}, {\"ratings\": \"3\", \"sentiments\": 0.03060428849902534}, {\"ratings\": \"3\", \"sentiments\": 0.0665204678362573}, {\"ratings\": \"3\", \"sentiments\": 0.06976076555023923}, {\"ratings\": \"3\", \"sentiments\": 0.049075630252100835}, {\"ratings\": \"3\", \"sentiments\": -0.06471402131340019}, {\"ratings\": \"3\", \"sentiments\": -0.015652638772671847}, {\"ratings\": \"3\", \"sentiments\": -0.021785057571701606}, {\"ratings\": \"3\", \"sentiments\": 0.028310870554703566}, {\"ratings\": \"3\", \"sentiments\": 0.0807159026598755}, {\"ratings\": \"3\", \"sentiments\": 0.030108453668010456}, {\"ratings\": \"3\", \"sentiments\": 0.058823529411764705}, {\"ratings\": \"3\", \"sentiments\": 0.11547619047619048}, {\"ratings\": \"3\", \"sentiments\": 0.01}, {\"ratings\": \"3\", \"sentiments\": 0.02453314659197012}, {\"ratings\": \"3\", \"sentiments\": 0.0074074074074074}, {\"ratings\": \"3\", \"sentiments\": 0.037267080745341616}, {\"ratings\": \"3\", \"sentiments\": -0.24083333333333334}, {\"ratings\": \"3\", \"sentiments\": -0.041666666666666664}, {\"ratings\": \"3\", \"sentiments\": 0.21832884097035038}, {\"ratings\": \"3\", \"sentiments\": 0.01981305731305731}, {\"ratings\": \"3\", \"sentiments\": 0.0}, {\"ratings\": \"3\", \"sentiments\": -0.005901875901875898}, {\"ratings\": \"3\", \"sentiments\": 0.09696969696969697}, {\"ratings\": \"3\", \"sentiments\": 0.037037037037037035}, {\"ratings\": \"3\", \"sentiments\": -0.01630892255892256}, {\"ratings\": \"3\", \"sentiments\": 0.1111111111111111}, {\"ratings\": \"3\", \"sentiments\": -0.002796226677805626}, {\"ratings\": \"3\", \"sentiments\": 0.04083333333333333}, {\"ratings\": \"3\", \"sentiments\": -0.0013636363636363637}, {\"ratings\": \"3\", \"sentiments\": -0.07426564495530012}, {\"ratings\": \"3\", \"sentiments\": -0.027956380350508743}, {\"ratings\": \"3\", \"sentiments\": 0.1265079365079365}, {\"ratings\": \"3\", \"sentiments\": 0.03009259259259259}, {\"ratings\": \"3\", \"sentiments\": -0.30952380952380953}, {\"ratings\": \"3\", \"sentiments\": 0.16666666666666666}, {\"ratings\": \"3\", \"sentiments\": 0.031162059149889402}, {\"ratings\": \"3\", \"sentiments\": -0.01926669278974675}, {\"ratings\": \"3\", \"sentiments\": 0.14814814814814814}, {\"ratings\": \"3\", \"sentiments\": 0.09523809523809523}, {\"ratings\": \"3\", \"sentiments\": 0.05793650793650793}, {\"ratings\": \"3\", \"sentiments\": 0.036919221129747444}, {\"ratings\": \"3\", \"sentiments\": 0.25}, {\"ratings\": \"3\", \"sentiments\": -0.03125}, {\"ratings\": \"3\", \"sentiments\": -0.008709315375982041}, {\"ratings\": \"3\", \"sentiments\": 0.052959640919789136}, {\"ratings\": \"3\", \"sentiments\": 0.04749876192183884}, {\"ratings\": \"3\", \"sentiments\": 0.06285714285714286}, {\"ratings\": \"3\", \"sentiments\": 0.06666666666666667}, {\"ratings\": \"3\", \"sentiments\": 0.0}, {\"ratings\": \"3\", \"sentiments\": 0.02991452991452991}, {\"ratings\": \"3\", \"sentiments\": 0.04444444444444445}, {\"ratings\": \"3\", \"sentiments\": 0.03571428571428571}, {\"ratings\": \"3\", \"sentiments\": 0.14357142857142854}, {\"ratings\": \"3\", \"sentiments\": 0.042807697353151895}, {\"ratings\": \"3\", \"sentiments\": 0.010947584161869875}, {\"ratings\": \"3\", \"sentiments\": -0.09375}, {\"ratings\": \"3\", \"sentiments\": 0.16419753086419753}, {\"ratings\": \"3\", \"sentiments\": 0.08333333333333333}, {\"ratings\": \"3\", \"sentiments\": 0.0826432022084196}, {\"ratings\": \"3\", \"sentiments\": -0.005708142451546995}, {\"ratings\": \"3\", \"sentiments\": 0.0652689892106368}, {\"ratings\": \"3\", \"sentiments\": -0.23076923076923078}, {\"ratings\": \"3\", \"sentiments\": -0.05555555555555555}, {\"ratings\": \"3\", \"sentiments\": 0.023534976146199607}, {\"ratings\": \"3\", \"sentiments\": 0.009407929226561878}, {\"ratings\": \"3\", \"sentiments\": 0.0}, {\"ratings\": \"3\", \"sentiments\": 0.009024966261808367}, {\"ratings\": \"3\", \"sentiments\": 0.03225806451612903}, {\"ratings\": \"3\", \"sentiments\": 0.06884920634920635}, {\"ratings\": \"3\", \"sentiments\": -0.001068376068376067}, {\"ratings\": \"3\", \"sentiments\": 0.025534326784326787}, {\"ratings\": \"3\", \"sentiments\": 0.03225806451612903}, {\"ratings\": \"3\", \"sentiments\": 0.0}, {\"ratings\": \"3\", \"sentiments\": -0.021754385964912276}, {\"ratings\": \"3\", \"sentiments\": 0.025928645345335476}, {\"ratings\": \"3\", \"sentiments\": 0.032524120759414875}, {\"ratings\": \"3\", \"sentiments\": 0.0}, {\"ratings\": \"3\", \"sentiments\": -0.015873015873015872}, {\"ratings\": \"3\", \"sentiments\": 0.25}, {\"ratings\": \"3\", \"sentiments\": 0.0}, {\"ratings\": \"3\", \"sentiments\": 0.07692307692307693}, {\"ratings\": \"3\", \"sentiments\": 0.047504025764895326}, {\"ratings\": \"3\", \"sentiments\": 0.035456853088432036}, {\"ratings\": \"3\", \"sentiments\": 0.011809827599301284}, {\"ratings\": \"3\", \"sentiments\": 0.055894945697577275}, {\"ratings\": \"3\", \"sentiments\": 0.0035160341388715153}, {\"ratings\": \"3\", \"sentiments\": 0.02202664312039312}, {\"ratings\": \"3\", \"sentiments\": 0.11666666666666665}, {\"ratings\": \"3\", \"sentiments\": -0.05177521005107212}, {\"ratings\": \"3\", \"sentiments\": 0.0637501154307877}, {\"ratings\": \"3\", \"sentiments\": 0.019291897410815245}, {\"ratings\": \"3\", \"sentiments\": 0.16666666666666666}, {\"ratings\": \"3\", \"sentiments\": 0.0}, {\"ratings\": \"3\", \"sentiments\": -0.04203782328782331}, {\"ratings\": \"3\", \"sentiments\": 0.043478260869565216}, {\"ratings\": \"3\", \"sentiments\": 0.04479718241747816}, {\"ratings\": \"3\", \"sentiments\": -0.06349206349206349}, {\"ratings\": \"3\", \"sentiments\": 0.029248366013071892}, {\"ratings\": \"3\", \"sentiments\": -0.010531135531135528}, {\"ratings\": \"3\", \"sentiments\": 0.025625000000000002}, {\"ratings\": \"3\", \"sentiments\": -0.0625}, {\"ratings\": \"3\", \"sentiments\": -0.018852517688161784}, {\"ratings\": \"3\", \"sentiments\": 1.0}, {\"ratings\": \"3\", \"sentiments\": -0.03325657185951304}, {\"ratings\": \"3\", \"sentiments\": 0.045454545454545456}, {\"ratings\": \"3\", \"sentiments\": -0.009978991596638656}, {\"ratings\": \"3\", \"sentiments\": 0.007819269713771991}, {\"ratings\": \"3\", \"sentiments\": 0.0}, {\"ratings\": \"3\", \"sentiments\": 0.02953615585194531}, {\"ratings\": \"3\", \"sentiments\": -0.060014687693259114}, {\"ratings\": \"3\", \"sentiments\": 0.021265031265031265}, {\"ratings\": \"3\", \"sentiments\": 0.03569443971920752}, {\"ratings\": \"3\", \"sentiments\": 0.0946969696969697}, {\"ratings\": \"3\", \"sentiments\": 0.048611111111111105}, {\"ratings\": \"3\", \"sentiments\": 0.019642857142857142}, {\"ratings\": \"3\", \"sentiments\": 0.0035886818495514143}, {\"ratings\": \"3\", \"sentiments\": 0.07142857142857142}, {\"ratings\": \"3\", \"sentiments\": 0.5}, {\"ratings\": \"3\", \"sentiments\": 0.036423133512822566}, {\"ratings\": \"3\", \"sentiments\": 0.04}, {\"ratings\": \"3\", \"sentiments\": 0.006613756613756613}, {\"ratings\": \"3\", \"sentiments\": 0.029496818970503182}, {\"ratings\": \"3\", \"sentiments\": 0.08333333333333333}, {\"ratings\": \"3\", \"sentiments\": 0.015209319626060714}, {\"ratings\": \"3\", \"sentiments\": 0.016499582289055972}, {\"ratings\": \"3\", \"sentiments\": 0.01274492281773803}, {\"ratings\": \"3\", \"sentiments\": 0.016249758545017163}, {\"ratings\": \"3\", \"sentiments\": 0.0}, {\"ratings\": \"3\", \"sentiments\": 1.0}, {\"ratings\": \"3\", \"sentiments\": 0.01367962290417675}, {\"ratings\": \"3\", \"sentiments\": 0.027777777777777776}, {\"ratings\": \"3\", \"sentiments\": -0.005914918414918417}, {\"ratings\": \"3\", \"sentiments\": -0.01913780674745587}, {\"ratings\": \"3\", \"sentiments\": 0.2}, {\"ratings\": \"3\", \"sentiments\": 0.0}, {\"ratings\": \"3\", \"sentiments\": -0.004183591244717064}, {\"ratings\": \"3\", \"sentiments\": 0.022810992810992806}, {\"ratings\": \"3\", \"sentiments\": 0.5}, {\"ratings\": \"3\", \"sentiments\": 0.16666666666666666}, {\"ratings\": \"3\", \"sentiments\": -0.041666666666666664}, {\"ratings\": \"3\", \"sentiments\": 0.01875}, {\"ratings\": \"3\", \"sentiments\": 0.11666666666666667}, {\"ratings\": \"3\", \"sentiments\": 0.16666666666666666}, {\"ratings\": \"3\", \"sentiments\": 0.005724841624255638}, {\"ratings\": \"3\", \"sentiments\": 0.0}, {\"ratings\": \"3\", \"sentiments\": 0.07692307692307693}, {\"ratings\": \"3\", \"sentiments\": 0.08543417366946779}, {\"ratings\": \"3\", \"sentiments\": 0.03491118669690098}, {\"ratings\": \"3\", \"sentiments\": -0.011942918192918192}, {\"ratings\": \"3\", \"sentiments\": 0.016951148342280672}, {\"ratings\": \"3\", \"sentiments\": 0.05918642760748024}, {\"ratings\": \"3\", \"sentiments\": 0.005681818181818181}, {\"ratings\": \"3\", \"sentiments\": 0.07196507196507196}, {\"ratings\": \"3\", \"sentiments\": 0.0}, {\"ratings\": \"3\", \"sentiments\": -0.09932806324110671}, {\"ratings\": \"3\", \"sentiments\": 0.0}, {\"ratings\": \"3\", \"sentiments\": -0.015384615384615385}, {\"ratings\": \"3\", \"sentiments\": 0.001610522895689137}, {\"ratings\": \"3\", \"sentiments\": 0.0}, {\"ratings\": \"3\", \"sentiments\": -1.0}, {\"ratings\": \"3\", \"sentiments\": 0.08532797440905694}, {\"ratings\": \"3\", \"sentiments\": 0.09090909090909091}, {\"ratings\": \"3\", \"sentiments\": -0.01884057971014493}, {\"ratings\": \"3\", \"sentiments\": 1.0}, {\"ratings\": \"3\", \"sentiments\": 0.04166666666666666}, {\"ratings\": \"3\", \"sentiments\": 0.040687332791791014}, {\"ratings\": \"3\", \"sentiments\": -0.015345765345765346}, {\"ratings\": \"3\", \"sentiments\": 0.02030136822878481}, {\"ratings\": \"3\", \"sentiments\": 0.08333333333333333}, {\"ratings\": \"3\", \"sentiments\": -0.05506535947712418}, {\"ratings\": \"3\", \"sentiments\": -0.004886577920211045}, {\"ratings\": \"3\", \"sentiments\": 0.014507111246241683}, {\"ratings\": \"3\", \"sentiments\": -0.05555555555555555}, {\"ratings\": \"3\", \"sentiments\": -0.047619047619047616}, {\"ratings\": \"3\", \"sentiments\": 0.06631583463424895}, {\"ratings\": \"3\", \"sentiments\": 0.016292735042735044}, {\"ratings\": \"3\", \"sentiments\": 0.006900259769314088}, {\"ratings\": \"3\", \"sentiments\": 0.06431159420289854}, {\"ratings\": \"3\", \"sentiments\": 0.052241161616161616}, {\"ratings\": \"3\", \"sentiments\": 0.05049088359046283}, {\"ratings\": \"3\", \"sentiments\": 0.06814901465636759}, {\"ratings\": \"3\", \"sentiments\": -0.002774785858132981}, {\"ratings\": \"3\", \"sentiments\": -0.015873015873015872}, {\"ratings\": \"3\", \"sentiments\": 0.075}, {\"ratings\": \"3\", \"sentiments\": 0.05269607843137255}, {\"ratings\": \"3\", \"sentiments\": 0.036023764711495744}, {\"ratings\": \"3\", \"sentiments\": 0.08333333333333333}, {\"ratings\": \"3\", \"sentiments\": 0.09058441558441557}, {\"ratings\": \"3\", \"sentiments\": 0.11764705882352941}, {\"ratings\": \"3\", \"sentiments\": 0.0}, {\"ratings\": \"3\", \"sentiments\": 0.014481583083242721}, {\"ratings\": \"3\", \"sentiments\": 0.2}, {\"ratings\": \"3\", \"sentiments\": -0.0033048433048433034}, {\"ratings\": \"3\", \"sentiments\": -0.033735246235246236}, {\"ratings\": \"3\", \"sentiments\": 0.004745846316531696}, {\"ratings\": \"3\", \"sentiments\": 0.12804527488321957}, {\"ratings\": \"3\", \"sentiments\": -0.030000000000000002}, {\"ratings\": \"3\", \"sentiments\": 0.03874149178373536}, {\"ratings\": \"3\", \"sentiments\": 0.008674696775383272}, {\"ratings\": \"3\", \"sentiments\": 0.02719696271788932}, {\"ratings\": \"3\", \"sentiments\": 0.0}, {\"ratings\": \"3\", \"sentiments\": 0.025000000000000005}, {\"ratings\": \"3\", \"sentiments\": 0.07692307692307693}, {\"ratings\": \"3\", \"sentiments\": 0.07396175861649007}, {\"ratings\": \"3\", \"sentiments\": -0.08840579710144927}, {\"ratings\": \"3\", \"sentiments\": 0.0015727187791965093}, {\"ratings\": \"3\", \"sentiments\": 0.01777931924072968}, {\"ratings\": \"3\", \"sentiments\": 0.0}, {\"ratings\": \"3\", \"sentiments\": 0.05208333333333333}, {\"ratings\": \"3\", \"sentiments\": -0.030303030303030304}, {\"ratings\": \"3\", \"sentiments\": 0.022595807293106944}, {\"ratings\": \"3\", \"sentiments\": 0.07738095238095238}, {\"ratings\": \"3\", \"sentiments\": 0.0}, {\"ratings\": \"3\", \"sentiments\": -0.025}, {\"ratings\": \"3\", \"sentiments\": 0.06689915023248356}, {\"ratings\": \"3\", \"sentiments\": -0.0659280323173512}, {\"ratings\": \"3\", \"sentiments\": 0.0006896551724137933}, {\"ratings\": \"3\", \"sentiments\": 0.03244371118012423}, {\"ratings\": \"3\", \"sentiments\": 0.05396174863387978}, {\"ratings\": \"3\", \"sentiments\": 0.005291005291005291}, {\"ratings\": \"3\", \"sentiments\": -0.01315713153948448}, {\"ratings\": \"3\", \"sentiments\": -0.023130323530773687}, {\"ratings\": \"3\", \"sentiments\": 0.022456932911317756}, {\"ratings\": \"3\", \"sentiments\": 0.2395382395382395}, {\"ratings\": \"3\", \"sentiments\": 0.11764705882352941}, {\"ratings\": \"3\", \"sentiments\": 0.016603996642864594}, {\"ratings\": \"3\", \"sentiments\": 0.0}, {\"ratings\": \"3\", \"sentiments\": 0.018462276214833758}, {\"ratings\": \"3\", \"sentiments\": 0.00744047619047619}, {\"ratings\": \"3\", \"sentiments\": -0.004968553806982235}, {\"ratings\": \"3\", \"sentiments\": -0.005265208647561589}, {\"ratings\": \"3\", \"sentiments\": 0.11911764705882354}, {\"ratings\": \"3\", \"sentiments\": 0.1865079365079365}, {\"ratings\": \"3\", \"sentiments\": 0.025650918012029122}, {\"ratings\": \"3\", \"sentiments\": 0.0003218236280962433}, {\"ratings\": \"3\", \"sentiments\": 0.031746031746031744}, {\"ratings\": \"3\", \"sentiments\": 0.0}, {\"ratings\": \"3\", \"sentiments\": 0.011396011396011393}, {\"ratings\": \"3\", \"sentiments\": 0.007449691746720517}, {\"ratings\": \"3\", \"sentiments\": 0.08778966131907308}, {\"ratings\": \"3\", \"sentiments\": -0.012305178481649068}, {\"ratings\": \"3\", \"sentiments\": -0.017429453120086064}, {\"ratings\": \"3\", \"sentiments\": 0.026398107736760223}, {\"ratings\": \"3\", \"sentiments\": -0.013988095238095239}, {\"ratings\": \"3\", \"sentiments\": 0.014029954719609892}, {\"ratings\": \"3\", \"sentiments\": 0.0}, {\"ratings\": \"3\", \"sentiments\": 0.004613489958317543}, {\"ratings\": \"3\", \"sentiments\": -0.1111111111111111}, {\"ratings\": \"3\", \"sentiments\": 0.25}, {\"ratings\": \"3\", \"sentiments\": 0.03571428571428571}, {\"ratings\": \"3\", \"sentiments\": -0.14285714285714285}, {\"ratings\": \"3\", \"sentiments\": 1.0}, {\"ratings\": \"3\", \"sentiments\": 0.03698567305710163}, {\"ratings\": \"3\", \"sentiments\": 0.05922368947579032}, {\"ratings\": \"3\", \"sentiments\": 0.043472222222222225}, {\"ratings\": \"3\", \"sentiments\": -0.026835270628176797}, {\"ratings\": \"3\", \"sentiments\": 0.0}, {\"ratings\": \"3\", \"sentiments\": -0.010416666666666666}, {\"ratings\": \"3\", \"sentiments\": 0.08644133644133645}, {\"ratings\": \"3\", \"sentiments\": 0.007027000777000775}, {\"ratings\": \"3\", \"sentiments\": 0.0018939393939393957}, {\"ratings\": \"3\", \"sentiments\": 0.021975393028024606}, {\"ratings\": \"3\", \"sentiments\": 0.018593810415879854}, {\"ratings\": \"3\", \"sentiments\": 0.027972027972027972}, {\"ratings\": \"3\", \"sentiments\": 0.5}, {\"ratings\": \"3\", \"sentiments\": 0.125}, {\"ratings\": \"3\", \"sentiments\": -0.011451706188548294}, {\"ratings\": \"3\", \"sentiments\": 0.01153675058229709}, {\"ratings\": \"3\", \"sentiments\": -0.05641025641025641}, {\"ratings\": \"3\", \"sentiments\": -0.039141414141414144}, {\"ratings\": \"3\", \"sentiments\": 0.13888888888888887}, {\"ratings\": \"3\", \"sentiments\": 0.0}, {\"ratings\": \"3\", \"sentiments\": 0.017222222222222222}, {\"ratings\": \"3\", \"sentiments\": 0.0}, {\"ratings\": \"3\", \"sentiments\": -0.011381475667189953}, {\"ratings\": \"3\", \"sentiments\": 0.045454545454545456}, {\"ratings\": \"3\", \"sentiments\": 0.00835229159109512}, {\"ratings\": \"3\", \"sentiments\": 0.004713965833246878}, {\"ratings\": \"3\", \"sentiments\": 0.0032953273372728093}, {\"ratings\": \"3\", \"sentiments\": 0.030113937643754706}, {\"ratings\": \"3\", \"sentiments\": -0.06666666666666667}, {\"ratings\": \"3\", \"sentiments\": 0.029526425221134644}, {\"ratings\": \"3\", \"sentiments\": 0.012603367433930094}, {\"ratings\": \"3\", \"sentiments\": -0.004525201893622948}, {\"ratings\": \"3\", \"sentiments\": -0.0017599579261086}, {\"ratings\": \"3\", \"sentiments\": 0.015064654319040286}, {\"ratings\": \"3\", \"sentiments\": 0.0}, {\"ratings\": \"3\", \"sentiments\": 0.02510714066635119}, {\"ratings\": \"3\", \"sentiments\": 0.020689985395867742}, {\"ratings\": \"3\", \"sentiments\": 0.031366936352704856}, {\"ratings\": \"3\", \"sentiments\": 0.0}, {\"ratings\": \"3\", \"sentiments\": 0.045454545454545456}, {\"ratings\": \"3\", \"sentiments\": 0.07142857142857142}, {\"ratings\": \"3\", \"sentiments\": 0.0}, {\"ratings\": \"3\", \"sentiments\": 0.023809523809523808}, {\"ratings\": \"3\", \"sentiments\": 0.06334610472541506}, {\"ratings\": \"3\", \"sentiments\": 0.042550158175158184}, {\"ratings\": \"3\", \"sentiments\": -0.0019452488202488212}, {\"ratings\": \"3\", \"sentiments\": 0.12903225806451613}, {\"ratings\": \"3\", \"sentiments\": 0.023424416342132628}, {\"ratings\": \"3\", \"sentiments\": 0.0}, {\"ratings\": \"3\", \"sentiments\": 0.022038963215433804}, {\"ratings\": \"3\", \"sentiments\": 0.07049390003935457}, {\"ratings\": \"3\", \"sentiments\": 0.02580149043130787}, {\"ratings\": \"3\", \"sentiments\": -0.03104575163398693}, {\"ratings\": \"3\", \"sentiments\": 0.018738738738738738}, {\"ratings\": \"3\", \"sentiments\": 0.001849862752118391}, {\"ratings\": \"3\", \"sentiments\": -0.3333333333333333}, {\"ratings\": \"3\", \"sentiments\": 0.08051529790660225}, {\"ratings\": \"3\", \"sentiments\": 0.02806267806267806}, {\"ratings\": \"3\", \"sentiments\": 0.5}, {\"ratings\": \"3\", \"sentiments\": 0.058823529411764705}, {\"ratings\": \"3\", \"sentiments\": 0.044597069597069584}, {\"ratings\": \"3\", \"sentiments\": 0.017857142857142856}, {\"ratings\": \"3\", \"sentiments\": -0.015873015873015872}, {\"ratings\": \"3\", \"sentiments\": 0.0}, {\"ratings\": \"3\", \"sentiments\": -0.00941749241232232}, {\"ratings\": \"3\", \"sentiments\": 0.062222222222222213}, {\"ratings\": \"3\", \"sentiments\": 0.0912828947368421}, {\"ratings\": \"3\", \"sentiments\": 0.0}, {\"ratings\": \"3\", \"sentiments\": 0.019798422238482605}, {\"ratings\": \"3\", \"sentiments\": 0.033921711675334865}, {\"ratings\": \"3\", \"sentiments\": 0.0}, {\"ratings\": \"3\", \"sentiments\": 0.037037037037037035}, {\"ratings\": \"3\", \"sentiments\": 0.02628541049593681}, {\"ratings\": \"3\", \"sentiments\": 0.0}, {\"ratings\": \"3\", \"sentiments\": -0.13541666666666666}, {\"ratings\": \"3\", \"sentiments\": 0.125}, {\"ratings\": \"3\", \"sentiments\": -0.023529411764705882}, {\"ratings\": \"3\", \"sentiments\": -0.008138718998447507}, {\"ratings\": \"3\", \"sentiments\": 0.25}, {\"ratings\": \"3\", \"sentiments\": 0.039953102453102456}, {\"ratings\": \"3\", \"sentiments\": 0.03393863292443415}, {\"ratings\": \"3\", \"sentiments\": -0.1111111111111111}, {\"ratings\": \"3\", \"sentiments\": -0.1111111111111111}, {\"ratings\": \"3\", \"sentiments\": -0.04285170270868212}, {\"ratings\": \"3\", \"sentiments\": 0.08144321242680151}, {\"ratings\": \"3\", \"sentiments\": 0.04777162742849017}, {\"ratings\": \"3\", \"sentiments\": 0.044444444444444446}, {\"ratings\": \"3\", \"sentiments\": 0.1}, {\"ratings\": \"3\", \"sentiments\": 0.021820175438596493}, {\"ratings\": \"3\", \"sentiments\": 0.0}, {\"ratings\": \"3\", \"sentiments\": -0.01687547839085119}, {\"ratings\": \"3\", \"sentiments\": 0.002873063742426}, {\"ratings\": \"3\", \"sentiments\": 0.03895717871855641}, {\"ratings\": \"3\", \"sentiments\": -0.003481537220004799}, {\"ratings\": \"3\", \"sentiments\": 0.006291771094402672}, {\"ratings\": \"3\", \"sentiments\": -0.358974358974359}, {\"ratings\": \"3\", \"sentiments\": -0.021710326184433217}, {\"ratings\": \"3\", \"sentiments\": -0.016666666666666666}, {\"ratings\": \"3\", \"sentiments\": -0.04553376906318083}, {\"ratings\": \"3\", \"sentiments\": 0.002411376858435683}, {\"ratings\": \"3\", \"sentiments\": 0.2727272727272727}, {\"ratings\": \"3\", \"sentiments\": 0.002156048490634958}, {\"ratings\": \"4\", \"sentiments\": -0.0446995570183976}, {\"ratings\": \"4\", \"sentiments\": 0.03980602730602731}, {\"ratings\": \"4\", \"sentiments\": 0.5}, {\"ratings\": \"4\", \"sentiments\": 0.1}, {\"ratings\": \"4\", \"sentiments\": 0.5}, {\"ratings\": \"4\", \"sentiments\": 0.07435897435897437}, {\"ratings\": \"4\", \"sentiments\": 0.05127450980392158}, {\"ratings\": \"4\", \"sentiments\": 0.10555555555555556}, {\"ratings\": \"4\", \"sentiments\": 0.25}, {\"ratings\": \"4\", \"sentiments\": 0.16666666666666666}, {\"ratings\": \"4\", \"sentiments\": 0.0027115041820924175}, {\"ratings\": \"4\", \"sentiments\": 0.0}, {\"ratings\": \"4\", \"sentiments\": 0.07196309279429484}, {\"ratings\": \"4\", \"sentiments\": 0.013157894736842105}, {\"ratings\": \"4\", \"sentiments\": 0.0}, {\"ratings\": \"4\", \"sentiments\": 0.03231292517006802}, {\"ratings\": \"4\", \"sentiments\": -0.004853153382565146}, {\"ratings\": \"4\", \"sentiments\": 0.015265059132325868}, {\"ratings\": \"4\", \"sentiments\": 0.018053375196232343}, {\"ratings\": \"4\", \"sentiments\": 0.0}, {\"ratings\": \"4\", \"sentiments\": 0.11458333333333333}, {\"ratings\": \"4\", \"sentiments\": 0.01963657257774905}, {\"ratings\": \"4\", \"sentiments\": -0.03624870451058261}, {\"ratings\": \"4\", \"sentiments\": -0.07692307692307693}, {\"ratings\": \"4\", \"sentiments\": 0.034685224379247155}, {\"ratings\": \"4\", \"sentiments\": 0.5}, {\"ratings\": \"4\", \"sentiments\": 0.152061992164967}, {\"ratings\": \"4\", \"sentiments\": 1.0}, {\"ratings\": \"4\", \"sentiments\": 0.14285714285714285}, {\"ratings\": \"4\", \"sentiments\": 0.06666666666666667}, {\"ratings\": \"4\", \"sentiments\": 0.16666666666666666}, {\"ratings\": \"4\", \"sentiments\": 0.03343867525154075}, {\"ratings\": \"4\", \"sentiments\": -0.030287114845938375}, {\"ratings\": \"4\", \"sentiments\": 0.1611111111111111}, {\"ratings\": \"4\", \"sentiments\": 0.012318238455095023}, {\"ratings\": \"4\", \"sentiments\": 0.016116139472916964}, {\"ratings\": \"4\", \"sentiments\": 0.05021851223039678}, {\"ratings\": \"4\", \"sentiments\": 0.1}, {\"ratings\": \"4\", \"sentiments\": 0.0}, {\"ratings\": \"4\", \"sentiments\": 0.08084415584415584}, {\"ratings\": \"4\", \"sentiments\": 0.025}, {\"ratings\": \"4\", \"sentiments\": 0.005714285714285716}, {\"ratings\": \"4\", \"sentiments\": 0.0}, {\"ratings\": \"4\", \"sentiments\": 0.525}, {\"ratings\": \"4\", \"sentiments\": -0.002693930686168155}, {\"ratings\": \"4\", \"sentiments\": 0.06382088943288454}, {\"ratings\": \"4\", \"sentiments\": -0.057971014492753624}, {\"ratings\": \"4\", \"sentiments\": 0.009316770186335402}, {\"ratings\": \"4\", \"sentiments\": 0.06451612903225806}, {\"ratings\": \"4\", \"sentiments\": 1.0}, {\"ratings\": \"4\", \"sentiments\": 0.02205796347901611}, {\"ratings\": \"4\", \"sentiments\": -0.03333333333333333}, {\"ratings\": \"4\", \"sentiments\": 0.08924212136356063}, {\"ratings\": \"4\", \"sentiments\": 0.0776304643069349}, {\"ratings\": \"4\", \"sentiments\": -0.10256410256410257}, {\"ratings\": \"4\", \"sentiments\": 0.09090909090909091}, {\"ratings\": \"4\", \"sentiments\": 0.5}, {\"ratings\": \"4\", \"sentiments\": 0.06170355466130114}, {\"ratings\": \"4\", \"sentiments\": 0.041920301920301925}, {\"ratings\": \"4\", \"sentiments\": 0.19047619047619047}, {\"ratings\": \"4\", \"sentiments\": 0.0448760790866054}, {\"ratings\": \"4\", \"sentiments\": 0.07679655870445344}, {\"ratings\": \"4\", \"sentiments\": 0.0688299440023578}, {\"ratings\": \"4\", \"sentiments\": 0.05}, {\"ratings\": \"4\", \"sentiments\": -0.022222222222222223}, {\"ratings\": \"4\", \"sentiments\": 0.40476190476190477}, {\"ratings\": \"4\", \"sentiments\": 0.002169782444224982}, {\"ratings\": \"4\", \"sentiments\": 0.047402090864135625}, {\"ratings\": \"4\", \"sentiments\": 0.06866997018394534}, {\"ratings\": \"4\", \"sentiments\": 0.14285714285714285}, {\"ratings\": \"4\", \"sentiments\": 0.07979323308270676}, {\"ratings\": \"4\", \"sentiments\": 0.047619047619047616}, {\"ratings\": \"4\", \"sentiments\": 0.0791005291005291}, {\"ratings\": \"4\", \"sentiments\": 0.03362771739130435}, {\"ratings\": \"4\", \"sentiments\": 0.02295110347741927}, {\"ratings\": \"4\", \"sentiments\": 0.2}, {\"ratings\": \"4\", \"sentiments\": -0.024376417233560082}, {\"ratings\": \"4\", \"sentiments\": 0.011857707509881424}, {\"ratings\": \"4\", \"sentiments\": 0.14285714285714285}, {\"ratings\": \"4\", \"sentiments\": 0.0}, {\"ratings\": \"4\", \"sentiments\": -0.0047596896281106825}, {\"ratings\": \"4\", \"sentiments\": 0.008639768236973404}, {\"ratings\": \"4\", \"sentiments\": -0.004166666666666666}, {\"ratings\": \"4\", \"sentiments\": 0.05774721463940318}, {\"ratings\": \"4\", \"sentiments\": 0.038461538461538464}, {\"ratings\": \"4\", \"sentiments\": 0.13333333333333333}, {\"ratings\": \"4\", \"sentiments\": 0.02636685203044055}, {\"ratings\": \"4\", \"sentiments\": 0.11099318981671923}, {\"ratings\": \"4\", \"sentiments\": 0.052380952380952375}, {\"ratings\": \"4\", \"sentiments\": 0.0025365895826253864}, {\"ratings\": \"4\", \"sentiments\": 0.0}, {\"ratings\": \"4\", \"sentiments\": 0.29166666666666663}, {\"ratings\": \"4\", \"sentiments\": 0.05011433634892549}, {\"ratings\": \"4\", \"sentiments\": 0.038163025668787424}, {\"ratings\": \"4\", \"sentiments\": 0.09277882205513784}, {\"ratings\": \"4\", \"sentiments\": 0.13333333333333333}, {\"ratings\": \"4\", \"sentiments\": 0.0017168399927020592}, {\"ratings\": \"4\", \"sentiments\": 0.03823757763975155}, {\"ratings\": \"4\", \"sentiments\": 0.044818595547346185}, {\"ratings\": \"4\", \"sentiments\": 0.009366594881705919}, {\"ratings\": \"4\", \"sentiments\": 0.05844155844155844}, {\"ratings\": \"4\", \"sentiments\": 0.0644289738039738}, {\"ratings\": \"4\", \"sentiments\": 0.10286195286195286}, {\"ratings\": \"4\", \"sentiments\": 0.05}, {\"ratings\": \"4\", \"sentiments\": 0.026923976336739742}, {\"ratings\": \"4\", \"sentiments\": 0.029666167166167167}, {\"ratings\": \"4\", \"sentiments\": 0.25}, {\"ratings\": \"4\", \"sentiments\": -0.027210884353741496}, {\"ratings\": \"4\", \"sentiments\": -0.04206827147789076}, {\"ratings\": \"4\", \"sentiments\": 0.038461538461538464}, {\"ratings\": \"4\", \"sentiments\": 0.011417044672706694}, {\"ratings\": \"4\", \"sentiments\": 0.03627450980392157}, {\"ratings\": \"4\", \"sentiments\": -0.09090909090909091}, {\"ratings\": \"4\", \"sentiments\": -0.02070707070707071}, {\"ratings\": \"4\", \"sentiments\": 0.04}, {\"ratings\": \"4\", \"sentiments\": 0.013333333333333334}, {\"ratings\": \"4\", \"sentiments\": 0.02841066484255339}, {\"ratings\": \"4\", \"sentiments\": 0.035258838383838385}, {\"ratings\": \"4\", \"sentiments\": 0.09523809523809523}, {\"ratings\": \"4\", \"sentiments\": 0.125}, {\"ratings\": \"4\", \"sentiments\": 0.056310916179337235}, {\"ratings\": \"4\", \"sentiments\": 0.007744107744107743}, {\"ratings\": \"4\", \"sentiments\": 0.03359998756565185}, {\"ratings\": \"4\", \"sentiments\": 0.0625}, {\"ratings\": \"4\", \"sentiments\": 0.12316715542521994}, {\"ratings\": \"4\", \"sentiments\": 0.07310579404175463}, {\"ratings\": \"4\", \"sentiments\": 0.016241395232071645}, {\"ratings\": \"4\", \"sentiments\": 0.6666666666666666}, {\"ratings\": \"4\", \"sentiments\": 0.15555555555555556}, {\"ratings\": \"4\", \"sentiments\": 0.07191137566137566}, {\"ratings\": \"4\", \"sentiments\": 0.17564102564102566}, {\"ratings\": \"4\", \"sentiments\": 0.0228226970162454}, {\"ratings\": \"4\", \"sentiments\": 0.014227822526923938}, {\"ratings\": \"4\", \"sentiments\": -0.3333333333333333}, {\"ratings\": \"4\", \"sentiments\": 0.010424198659492779}, {\"ratings\": \"4\", \"sentiments\": 0.09090909090909091}, {\"ratings\": \"4\", \"sentiments\": 0.019746356217280974}, {\"ratings\": \"4\", \"sentiments\": 0.07865902213728301}, {\"ratings\": \"4\", \"sentiments\": 0.015625}, {\"ratings\": \"4\", \"sentiments\": 0.06141803438454155}, {\"ratings\": \"4\", \"sentiments\": 0.023474596391263054}, {\"ratings\": \"4\", \"sentiments\": -0.006496411263329275}, {\"ratings\": \"4\", \"sentiments\": -0.029411764705882353}, {\"ratings\": \"4\", \"sentiments\": 0.04750482492417976}, {\"ratings\": \"4\", \"sentiments\": 0.05}, {\"ratings\": \"4\", \"sentiments\": 0.04608175068004719}, {\"ratings\": \"4\", \"sentiments\": -0.026567307692307696}, {\"ratings\": \"4\", \"sentiments\": -0.0020908435472242262}, {\"ratings\": \"4\", \"sentiments\": 0.19244505494505493}, {\"ratings\": \"4\", \"sentiments\": 0.2222222222222222}, {\"ratings\": \"4\", \"sentiments\": 0.037037037037037035}, {\"ratings\": \"4\", \"sentiments\": 0.0539776799140079}, {\"ratings\": \"4\", \"sentiments\": 0.16666666666666666}, {\"ratings\": \"4\", \"sentiments\": -0.02873155816704203}, {\"ratings\": \"4\", \"sentiments\": 0.11688311688311687}, {\"ratings\": \"4\", \"sentiments\": 0.0}, {\"ratings\": \"4\", \"sentiments\": -0.027904323627307957}, {\"ratings\": \"4\", \"sentiments\": 0.09313725490196079}, {\"ratings\": \"4\", \"sentiments\": -0.03721108326371484}, {\"ratings\": \"4\", \"sentiments\": 0.16666666666666666}, {\"ratings\": \"4\", \"sentiments\": 0.07605060864058542}, {\"ratings\": \"4\", \"sentiments\": -0.25}, {\"ratings\": \"4\", \"sentiments\": 0.08143939393939394}, {\"ratings\": \"4\", \"sentiments\": 0.1287466501752216}, {\"ratings\": \"4\", \"sentiments\": 0.026709401709401708}, {\"ratings\": \"4\", \"sentiments\": 0.1}, {\"ratings\": \"4\", \"sentiments\": 0.033330417590017036}, {\"ratings\": \"4\", \"sentiments\": 0.005240225727278623}, {\"ratings\": \"4\", \"sentiments\": 0.011363636363636364}, {\"ratings\": \"4\", \"sentiments\": 0.08185826519159851}, {\"ratings\": \"4\", \"sentiments\": 0.030370670995671}, {\"ratings\": \"4\", \"sentiments\": 0.05555555555555555}, {\"ratings\": \"4\", \"sentiments\": 0.026447380337702917}, {\"ratings\": \"4\", \"sentiments\": 0.013357843137254901}, {\"ratings\": \"4\", \"sentiments\": -0.045454545454545456}, {\"ratings\": \"4\", \"sentiments\": 0.075}, {\"ratings\": \"4\", \"sentiments\": 0.093574516825661}, {\"ratings\": \"4\", \"sentiments\": 0.06521739130434782}, {\"ratings\": \"4\", \"sentiments\": 0.03860398860398861}, {\"ratings\": \"4\", \"sentiments\": 0.016928571428571425}, {\"ratings\": \"4\", \"sentiments\": 0.04835950931268657}, {\"ratings\": \"4\", \"sentiments\": 0.001075146301048599}, {\"ratings\": \"4\", \"sentiments\": 0.02585870068628689}, {\"ratings\": \"4\", \"sentiments\": 0.5}, {\"ratings\": \"4\", \"sentiments\": 0.014440428287872259}, {\"ratings\": \"4\", \"sentiments\": 0.07166666666666667}, {\"ratings\": \"4\", \"sentiments\": 0.011863830613830614}, {\"ratings\": \"4\", \"sentiments\": 0.0}, {\"ratings\": \"4\", \"sentiments\": 0.036328295977418774}, {\"ratings\": \"4\", \"sentiments\": 0.0}, {\"ratings\": \"4\", \"sentiments\": 0.06280864197530864}, {\"ratings\": \"4\", \"sentiments\": 0.020381301892766674}, {\"ratings\": \"4\", \"sentiments\": 0.030118624631530463}, {\"ratings\": \"4\", \"sentiments\": 0.017404546846737513}, {\"ratings\": \"4\", \"sentiments\": 0.0057685161178809095}, {\"ratings\": \"4\", \"sentiments\": 0.006414376956515771}, {\"ratings\": \"4\", \"sentiments\": 0.06466099403235645}, {\"ratings\": \"4\", \"sentiments\": 0.16666666666666666}, {\"ratings\": \"4\", \"sentiments\": 0.09689415911986363}, {\"ratings\": \"4\", \"sentiments\": 0.15476190476190477}, {\"ratings\": \"4\", \"sentiments\": 0.021228260044049516}, {\"ratings\": \"4\", \"sentiments\": 0.17727272727272728}, {\"ratings\": \"4\", \"sentiments\": 0.0625}, {\"ratings\": \"4\", \"sentiments\": 1.0}, {\"ratings\": \"4\", \"sentiments\": 0.125}, {\"ratings\": \"4\", \"sentiments\": 0.04425883508364327}, {\"ratings\": \"4\", \"sentiments\": 0.06935897435897434}, {\"ratings\": \"4\", \"sentiments\": -0.021925663962277235}, {\"ratings\": \"4\", \"sentiments\": 0.06889204545454546}, {\"ratings\": \"4\", \"sentiments\": 0.018865121806298277}, {\"ratings\": \"4\", \"sentiments\": 0.0}, {\"ratings\": \"4\", \"sentiments\": 0.01968417114615945}, {\"ratings\": \"4\", \"sentiments\": 0.0032568290716303233}, {\"ratings\": \"4\", \"sentiments\": 0.0178911209238298}, {\"ratings\": \"4\", \"sentiments\": 0.015934831470819706}, {\"ratings\": \"4\", \"sentiments\": 0.2708333333333333}, {\"ratings\": \"4\", \"sentiments\": 0.11764705882352941}, {\"ratings\": \"4\", \"sentiments\": 0.25}, {\"ratings\": \"4\", \"sentiments\": 0.06818181818181818}, {\"ratings\": \"4\", \"sentiments\": 0.3333333333333333}, {\"ratings\": \"4\", \"sentiments\": 0.029411764705882353}, {\"ratings\": \"4\", \"sentiments\": 0.031455727960003094}, {\"ratings\": \"4\", \"sentiments\": 0.07376543209876545}, {\"ratings\": \"4\", \"sentiments\": 0.15}, {\"ratings\": \"4\", \"sentiments\": 0.017857142857142856}, {\"ratings\": \"4\", \"sentiments\": 0.03952991452991453}, {\"ratings\": \"4\", \"sentiments\": 0.0}, {\"ratings\": \"4\", \"sentiments\": 0.0011601056485623206}, {\"ratings\": \"4\", \"sentiments\": -0.25}, {\"ratings\": \"4\", \"sentiments\": 0.05787904905551963}, {\"ratings\": \"4\", \"sentiments\": 0.0}, {\"ratings\": \"4\", \"sentiments\": 0.01599276822862181}, {\"ratings\": \"4\", \"sentiments\": 0.028985507246376812}, {\"ratings\": \"4\", \"sentiments\": 0.0}, {\"ratings\": \"4\", \"sentiments\": 0.1125}, {\"ratings\": \"4\", \"sentiments\": 0.0593463121240899}, {\"ratings\": \"4\", \"sentiments\": 0.0797291993720565}, {\"ratings\": \"4\", \"sentiments\": 0.12205128205128206}, {\"ratings\": \"4\", \"sentiments\": 0.1}, {\"ratings\": \"4\", \"sentiments\": 0.5}, {\"ratings\": \"4\", \"sentiments\": 0.014532485058800847}, {\"ratings\": \"4\", \"sentiments\": 0.3333333333333333}, {\"ratings\": \"4\", \"sentiments\": 0.05847662141779788}, {\"ratings\": \"4\", \"sentiments\": 0.25}, {\"ratings\": \"4\", \"sentiments\": 0.03885003885003885}, {\"ratings\": \"4\", \"sentiments\": 0.2}, {\"ratings\": \"4\", \"sentiments\": -0.14285714285714285}, {\"ratings\": \"4\", \"sentiments\": -0.004196437620350666}, {\"ratings\": \"4\", \"sentiments\": 0.039665456901720735}, {\"ratings\": \"4\", \"sentiments\": 0.3333333333333333}, {\"ratings\": \"4\", \"sentiments\": 0.5}, {\"ratings\": \"4\", \"sentiments\": 0.1}, {\"ratings\": \"4\", \"sentiments\": 0.06229518675880929}, {\"ratings\": \"4\", \"sentiments\": 0.05}, {\"ratings\": \"4\", \"sentiments\": 0.029057230735431427}, {\"ratings\": \"4\", \"sentiments\": 0.01578749315818281}, {\"ratings\": \"4\", \"sentiments\": 0.04127645502645503}, {\"ratings\": \"4\", \"sentiments\": 0.027777777777777776}, {\"ratings\": \"4\", \"sentiments\": 0.2857142857142857}, {\"ratings\": \"4\", \"sentiments\": 0.08928571428571429}, {\"ratings\": \"4\", \"sentiments\": 0.3333333333333333}, {\"ratings\": \"4\", \"sentiments\": 0.02323716694156201}, {\"ratings\": \"4\", \"sentiments\": 0.1207792207792208}, {\"ratings\": \"4\", \"sentiments\": 1.0}, {\"ratings\": \"4\", \"sentiments\": 0.0}, {\"ratings\": \"4\", \"sentiments\": -0.001068376068376067}, {\"ratings\": \"4\", \"sentiments\": 0.02983440170940171}, {\"ratings\": \"4\", \"sentiments\": 0.3333333333333333}, {\"ratings\": \"4\", \"sentiments\": -0.016550958681675984}, {\"ratings\": \"4\", \"sentiments\": 0.027179621848739496}, {\"ratings\": \"4\", \"sentiments\": 0.012429549114331723}, {\"ratings\": \"4\", \"sentiments\": 0.0984848484848485}, {\"ratings\": \"4\", \"sentiments\": 0.1029307568438003}, {\"ratings\": \"4\", \"sentiments\": 0.15789473684210525}, {\"ratings\": \"4\", \"sentiments\": 0.035767818596300106}, {\"ratings\": \"4\", \"sentiments\": 0.042857142857142864}, {\"ratings\": \"4\", \"sentiments\": 0.05791900093370681}, {\"ratings\": \"4\", \"sentiments\": 0.0730581550802139}, {\"ratings\": \"4\", \"sentiments\": 0.09375}, {\"ratings\": \"4\", \"sentiments\": 0.08333333333333333}, {\"ratings\": \"4\", \"sentiments\": 0.12}, {\"ratings\": \"4\", \"sentiments\": 0.3333333333333333}, {\"ratings\": \"4\", \"sentiments\": 1.0}, {\"ratings\": \"4\", \"sentiments\": 0.13636363636363635}, {\"ratings\": \"4\", \"sentiments\": -0.02040816326530612}, {\"ratings\": \"4\", \"sentiments\": 0.049770947859403634}, {\"ratings\": \"4\", \"sentiments\": 0.004904739673647239}, {\"ratings\": \"4\", \"sentiments\": 0.0}, {\"ratings\": \"4\", \"sentiments\": 0.5}, {\"ratings\": \"4\", \"sentiments\": 0.0}, {\"ratings\": \"4\", \"sentiments\": 0.03126519669451358}, {\"ratings\": \"4\", \"sentiments\": 0.13043478260869565}, {\"ratings\": \"4\", \"sentiments\": 0.2}, {\"ratings\": \"4\", \"sentiments\": 0.5}, {\"ratings\": \"4\", \"sentiments\": 0.3055555555555556}, {\"ratings\": \"4\", \"sentiments\": -0.0007507156127150565}, {\"ratings\": \"4\", \"sentiments\": 0.060897435897435896}, {\"ratings\": \"4\", \"sentiments\": 0.10880256336405529}, {\"ratings\": \"4\", \"sentiments\": -0.014708780063749639}, {\"ratings\": \"4\", \"sentiments\": 0.0}, {\"ratings\": \"4\", \"sentiments\": 0.03995448995448995}, {\"ratings\": \"4\", \"sentiments\": 0.055341880341880346}, {\"ratings\": \"4\", \"sentiments\": 0.3333333333333333}, {\"ratings\": \"4\", \"sentiments\": -0.0031689867524471215}, {\"ratings\": \"4\", \"sentiments\": 0.037844377844377844}, {\"ratings\": \"4\", \"sentiments\": 0.012638641315111901}, {\"ratings\": \"4\", \"sentiments\": 0.03542961667961668}, {\"ratings\": \"4\", \"sentiments\": 0.23148148148148148}, {\"ratings\": \"4\", \"sentiments\": 0.0495014245014245}, {\"ratings\": \"4\", \"sentiments\": 0.11038011695906433}, {\"ratings\": \"4\", \"sentiments\": 0.04281083142639207}, {\"ratings\": \"4\", \"sentiments\": 0.05853174603174603}, {\"ratings\": \"4\", \"sentiments\": 0.08}, {\"ratings\": \"4\", \"sentiments\": -0.025293815231895722}, {\"ratings\": \"4\", \"sentiments\": 0.056802085104365414}, {\"ratings\": \"4\", \"sentiments\": 0.2517857142857143}, {\"ratings\": \"4\", \"sentiments\": 0.3333333333333333}, {\"ratings\": \"4\", \"sentiments\": 0.0}, {\"ratings\": \"4\", \"sentiments\": 0.03888888888888889}, {\"ratings\": \"4\", \"sentiments\": -0.00893583929298215}, {\"ratings\": \"4\", \"sentiments\": -0.0820230983671844}, {\"ratings\": \"4\", \"sentiments\": 0.009670592565329409}, {\"ratings\": \"4\", \"sentiments\": 0.025506192275113512}, {\"ratings\": \"4\", \"sentiments\": 0.006058116719881426}, {\"ratings\": \"4\", \"sentiments\": 0.020340500740790145}, {\"ratings\": \"4\", \"sentiments\": -0.027116402116402125}, {\"ratings\": \"4\", \"sentiments\": 0.05967261904761904}, {\"ratings\": \"4\", \"sentiments\": 0.045454545454545456}, {\"ratings\": \"4\", \"sentiments\": 0.02916485428447151}, {\"ratings\": \"4\", \"sentiments\": 1.0}, {\"ratings\": \"4\", \"sentiments\": 0.0016488632922054478}, {\"ratings\": \"4\", \"sentiments\": 0.0}, {\"ratings\": \"4\", \"sentiments\": 0.011863239783942783}, {\"ratings\": \"4\", \"sentiments\": 0.01862005778324564}, {\"ratings\": \"4\", \"sentiments\": 0.6666666666666666}, {\"ratings\": \"4\", \"sentiments\": 0.13043478260869565}, {\"ratings\": \"4\", \"sentiments\": 0.0}, {\"ratings\": \"4\", \"sentiments\": 0.011985848015259782}, {\"ratings\": \"4\", \"sentiments\": 0.0}, {\"ratings\": \"4\", \"sentiments\": 0.02663954671000683}, {\"ratings\": \"4\", \"sentiments\": 0.017385392385392384}, {\"ratings\": \"4\", \"sentiments\": 0.3}, {\"ratings\": \"4\", \"sentiments\": 0.05}, {\"ratings\": \"4\", \"sentiments\": 0.010505050505050503}, {\"ratings\": \"4\", \"sentiments\": 0.09523809523809523}, {\"ratings\": \"4\", \"sentiments\": 0.0425}, {\"ratings\": \"4\", \"sentiments\": 0.006743421052631581}, {\"ratings\": \"4\", \"sentiments\": -0.09583333333333333}, {\"ratings\": \"4\", \"sentiments\": 0.003995438776351933}, {\"ratings\": \"4\", \"sentiments\": 0.04035661582760324}, {\"ratings\": \"4\", \"sentiments\": 0.06906906906906907}, {\"ratings\": \"4\", \"sentiments\": 0.029066012189851196}, {\"ratings\": \"4\", \"sentiments\": 0.07539682539682539}, {\"ratings\": \"4\", \"sentiments\": 0.3333333333333333}, {\"ratings\": \"4\", \"sentiments\": 0.041666666666666664}, {\"ratings\": \"4\", \"sentiments\": 0.05}, {\"ratings\": \"4\", \"sentiments\": 0.05487205360393766}, {\"ratings\": \"4\", \"sentiments\": 0.029097744360902254}, {\"ratings\": \"4\", \"sentiments\": 0.13043478260869565}, {\"ratings\": \"4\", \"sentiments\": 0.08120879120879122}, {\"ratings\": \"4\", \"sentiments\": 0.25}, {\"ratings\": \"4\", \"sentiments\": 0.0}, {\"ratings\": \"4\", \"sentiments\": 0.12881152460984394}, {\"ratings\": \"4\", \"sentiments\": 0.10526315789473684}, {\"ratings\": \"4\", \"sentiments\": 0.0668418882704597}, {\"ratings\": \"4\", \"sentiments\": -0.041666666666666664}, {\"ratings\": \"4\", \"sentiments\": -0.03125}, {\"ratings\": \"4\", \"sentiments\": 0.125}, {\"ratings\": \"4\", \"sentiments\": 0.009961824492521046}, {\"ratings\": \"4\", \"sentiments\": 0.18181818181818182}, {\"ratings\": \"4\", \"sentiments\": 0.08138876603272889}, {\"ratings\": \"4\", \"sentiments\": -0.000680272108843539}, {\"ratings\": \"4\", \"sentiments\": 0.011982570806100218}, {\"ratings\": \"4\", \"sentiments\": 0.03932306397923212}, {\"ratings\": \"4\", \"sentiments\": 0.09868421052631579}, {\"ratings\": \"4\", \"sentiments\": 0.09090909090909091}, {\"ratings\": \"4\", \"sentiments\": 0.022488696349465997}, {\"ratings\": \"4\", \"sentiments\": 0.0008637552232323493}, {\"ratings\": \"4\", \"sentiments\": -0.009642595499738353}, {\"ratings\": \"4\", \"sentiments\": 0.07927958890715654}, {\"ratings\": \"4\", \"sentiments\": 0.035593354591224736}, {\"ratings\": \"4\", \"sentiments\": 0.022323415852827617}, {\"ratings\": \"4\", \"sentiments\": -0.029402872260015114}, {\"ratings\": \"4\", \"sentiments\": 0.00840031112263417}, {\"ratings\": \"4\", \"sentiments\": 0.029749103198591687}, {\"ratings\": \"4\", \"sentiments\": 0.020018475700806556}, {\"ratings\": \"4\", \"sentiments\": 0.01137861885849502}, {\"ratings\": \"4\", \"sentiments\": 0.07553212337901333}, {\"ratings\": \"4\", \"sentiments\": 1.0}, {\"ratings\": \"4\", \"sentiments\": 0.4}, {\"ratings\": \"4\", \"sentiments\": 0.10096153846153846}, {\"ratings\": \"4\", \"sentiments\": 0.2}, {\"ratings\": \"4\", \"sentiments\": 0.10505050505050506}, {\"ratings\": \"4\", \"sentiments\": 0.21969696969696967}, {\"ratings\": \"4\", \"sentiments\": 0.0803030303030303}, {\"ratings\": \"4\", \"sentiments\": 0.0316620875643432}, {\"ratings\": \"4\", \"sentiments\": 0.09523809523809523}, {\"ratings\": \"4\", \"sentiments\": 0.03634864544439012}, {\"ratings\": \"4\", \"sentiments\": -0.005939774159994124}, {\"ratings\": \"4\", \"sentiments\": 0.02813852813852814}, {\"ratings\": \"4\", \"sentiments\": 0.06830966304650515}, {\"ratings\": \"4\", \"sentiments\": 0.05160120474522097}, {\"ratings\": \"4\", \"sentiments\": -0.007111562953954262}, {\"ratings\": \"4\", \"sentiments\": 0.03935465768799102}, {\"ratings\": \"4\", \"sentiments\": 0.07559523809523809}, {\"ratings\": \"4\", \"sentiments\": 0.13973063973063973}, {\"ratings\": \"4\", \"sentiments\": -0.00625485019038106}, {\"ratings\": \"4\", \"sentiments\": -0.047619047619047616}, {\"ratings\": \"4\", \"sentiments\": 0.0967741935483871}, {\"ratings\": \"4\", \"sentiments\": 0.0}, {\"ratings\": \"4\", \"sentiments\": 0.0}, {\"ratings\": \"4\", \"sentiments\": -0.002546945191480119}, {\"ratings\": \"4\", \"sentiments\": 0.05247611865258924}, {\"ratings\": \"4\", \"sentiments\": 0.17848699763593381}, {\"ratings\": \"4\", \"sentiments\": 0.01592346616065781}, {\"ratings\": \"4\", \"sentiments\": 0.010197869101978695}, {\"ratings\": \"4\", \"sentiments\": 0.009515839834820692}, {\"ratings\": \"4\", \"sentiments\": 0.0}, {\"ratings\": \"4\", \"sentiments\": 0.043478260869565216}, {\"ratings\": \"4\", \"sentiments\": 0.07017114075537989}, {\"ratings\": \"4\", \"sentiments\": 0.08166445480367854}, {\"ratings\": \"4\", \"sentiments\": 0.0}, {\"ratings\": \"4\", \"sentiments\": 0.032144789734075446}, {\"ratings\": \"4\", \"sentiments\": 0.012349344913545267}, {\"ratings\": \"4\", \"sentiments\": 0.13333333333333333}, {\"ratings\": \"4\", \"sentiments\": 0.03339181286549707}, {\"ratings\": \"4\", \"sentiments\": 0.25}, {\"ratings\": \"4\", \"sentiments\": 0.025925925925925925}, {\"ratings\": \"4\", \"sentiments\": 0.05}, {\"ratings\": \"4\", \"sentiments\": 0.5}, {\"ratings\": \"4\", \"sentiments\": 0.06552117436985858}, {\"ratings\": \"4\", \"sentiments\": 0.03316490298872232}, {\"ratings\": \"4\", \"sentiments\": 0.21818181818181817}, {\"ratings\": \"4\", \"sentiments\": 0.11218894009216589}, {\"ratings\": \"4\", \"sentiments\": 0.0}, {\"ratings\": \"4\", \"sentiments\": 0.037037037037037035}, {\"ratings\": \"4\", \"sentiments\": 0.03153717627401838}, {\"ratings\": \"4\", \"sentiments\": -0.011054859311128906}, {\"ratings\": \"4\", \"sentiments\": 0.0}, {\"ratings\": \"4\", \"sentiments\": 0.06212662703534914}, {\"ratings\": \"4\", \"sentiments\": 0.02805944055944056}, {\"ratings\": \"4\", \"sentiments\": 0.026260504201680673}, {\"ratings\": \"4\", \"sentiments\": 0.09103641456582633}, {\"ratings\": \"4\", \"sentiments\": 0.023809523809523808}, {\"ratings\": \"4\", \"sentiments\": 0.013068091328960895}, {\"ratings\": \"4\", \"sentiments\": 0.016706342477800378}, {\"ratings\": \"4\", \"sentiments\": 0.045454545454545456}, {\"ratings\": \"4\", \"sentiments\": 0.05494652406417112}, {\"ratings\": \"4\", \"sentiments\": -0.012336534992784996}, {\"ratings\": \"4\", \"sentiments\": 0.375}, {\"ratings\": \"4\", \"sentiments\": 1.0}, {\"ratings\": \"4\", \"sentiments\": 1.0}, {\"ratings\": \"4\", \"sentiments\": 0.05555555555555555}, {\"ratings\": \"4\", \"sentiments\": 0.02339849244965448}, {\"ratings\": \"4\", \"sentiments\": 0.02646351767170559}, {\"ratings\": \"4\", \"sentiments\": 0.028356481481481483}, {\"ratings\": \"4\", \"sentiments\": 0.018088770073383827}, {\"ratings\": \"4\", \"sentiments\": -0.018408289241622574}, {\"ratings\": \"4\", \"sentiments\": -0.011291866028708136}, {\"ratings\": \"4\", \"sentiments\": -0.005929644585106768}, {\"ratings\": \"4\", \"sentiments\": 0.06837606837606838}, {\"ratings\": \"4\", \"sentiments\": 0.01744121891180714}, {\"ratings\": \"4\", \"sentiments\": -0.05357142857142857}, {\"ratings\": \"4\", \"sentiments\": -0.032120695445503625}, {\"ratings\": \"4\", \"sentiments\": 0.0084659699753702}, {\"ratings\": \"4\", \"sentiments\": 0.013513513513513514}, {\"ratings\": \"4\", \"sentiments\": 0.07142857142857142}, {\"ratings\": \"4\", \"sentiments\": 0.3143939393939394}, {\"ratings\": \"4\", \"sentiments\": 0.153506216006216}, {\"ratings\": \"4\", \"sentiments\": -0.035755947506585464}, {\"ratings\": \"4\", \"sentiments\": 0.00023405558372878535}, {\"ratings\": \"4\", \"sentiments\": 0.042682926829268296}, {\"ratings\": \"4\", \"sentiments\": 0.010985391242744185}, {\"ratings\": \"4\", \"sentiments\": -0.13849667758981754}, {\"ratings\": \"4\", \"sentiments\": 1.0}, {\"ratings\": \"4\", \"sentiments\": 0.053040319780913406}, {\"ratings\": \"4\", \"sentiments\": 0.08857927688218424}, {\"ratings\": \"4\", \"sentiments\": 0.045454545454545456}, {\"ratings\": \"4\", \"sentiments\": 0.034093045112781946}, {\"ratings\": \"4\", \"sentiments\": 0.004040404040404039}, {\"ratings\": \"4\", \"sentiments\": 0.032422860765986175}, {\"ratings\": \"4\", \"sentiments\": 0.1276595744680851}, {\"ratings\": \"4\", \"sentiments\": 0.3333333333333333}, {\"ratings\": \"4\", \"sentiments\": -0.022727272727272724}, {\"ratings\": \"4\", \"sentiments\": 0.12941176470588237}, {\"ratings\": \"4\", \"sentiments\": -0.1069094304388422}, {\"ratings\": \"4\", \"sentiments\": 0.0029151812240047524}, {\"ratings\": \"4\", \"sentiments\": 0.175}, {\"ratings\": \"4\", \"sentiments\": 0.5}, {\"ratings\": \"4\", \"sentiments\": 0.013378459576450967}, {\"ratings\": \"4\", \"sentiments\": 0.1169237012987013}, {\"ratings\": \"4\", \"sentiments\": 0.125}, {\"ratings\": \"4\", \"sentiments\": 0.07632922632922633}, {\"ratings\": \"4\", \"sentiments\": 0.03971032316791525}, {\"ratings\": \"4\", \"sentiments\": 0.14583333333333331}, {\"ratings\": \"4\", \"sentiments\": 0.12835162773243267}, {\"ratings\": \"4\", \"sentiments\": 0.15384615384615385}, {\"ratings\": \"4\", \"sentiments\": 0.0}, {\"ratings\": \"4\", \"sentiments\": 0.0017152448052698362}, {\"ratings\": \"4\", \"sentiments\": 0.04108466353048396}, {\"ratings\": \"5\", \"sentiments\": 0.1111111111111111}, {\"ratings\": \"5\", \"sentiments\": 0.04267178362573099}, {\"ratings\": \"5\", \"sentiments\": 1.0}, {\"ratings\": \"5\", \"sentiments\": 0.5}, {\"ratings\": \"5\", \"sentiments\": 0.2222222222222222}, {\"ratings\": \"5\", \"sentiments\": 0.062222222222222213}, {\"ratings\": \"5\", \"sentiments\": 0.23076923076923078}, {\"ratings\": \"5\", \"sentiments\": 0.0}, {\"ratings\": \"5\", \"sentiments\": 0.018923564350954054}, {\"ratings\": \"5\", \"sentiments\": 0.05}, {\"ratings\": \"5\", \"sentiments\": 0.3333333333333333}, {\"ratings\": \"5\", \"sentiments\": 0.08333333333333333}, {\"ratings\": \"5\", \"sentiments\": 1.0}, {\"ratings\": \"5\", \"sentiments\": 0.0692545236718169}, {\"ratings\": \"5\", \"sentiments\": 0.059963369963369956}, {\"ratings\": \"5\", \"sentiments\": 0.0}, {\"ratings\": \"5\", \"sentiments\": -0.018527676027676028}, {\"ratings\": \"5\", \"sentiments\": 0.25}, {\"ratings\": \"5\", \"sentiments\": 0.21428571428571427}, {\"ratings\": \"5\", \"sentiments\": 0.04292929292929293}, {\"ratings\": \"5\", \"sentiments\": 0.5}, {\"ratings\": \"5\", \"sentiments\": 0.5}, {\"ratings\": \"5\", \"sentiments\": 1.0}, {\"ratings\": \"5\", \"sentiments\": 0.07210482318451396}, {\"ratings\": \"5\", \"sentiments\": 0.07894736842105263}, {\"ratings\": \"5\", \"sentiments\": 0.17189153439153437}, {\"ratings\": \"5\", \"sentiments\": 0.14126984126984124}, {\"ratings\": \"5\", \"sentiments\": 0.029615384615384616}, {\"ratings\": \"5\", \"sentiments\": 0.0430012588115111}, {\"ratings\": \"5\", \"sentiments\": 0.0884469696969697}, {\"ratings\": \"5\", \"sentiments\": 0.11851851851851852}, {\"ratings\": \"5\", \"sentiments\": 0.0}, {\"ratings\": \"5\", \"sentiments\": 1.0}, {\"ratings\": \"5\", \"sentiments\": 1.0}, {\"ratings\": \"5\", \"sentiments\": 0.2}, {\"ratings\": \"5\", \"sentiments\": 0.04672619047619048}, {\"ratings\": \"5\", \"sentiments\": 0.09090909090909091}, {\"ratings\": \"5\", \"sentiments\": 0.14537037037037037}, {\"ratings\": \"5\", \"sentiments\": 0.01131725417439703}, {\"ratings\": \"5\", \"sentiments\": 0.25}, {\"ratings\": \"5\", \"sentiments\": 0.05208333333333333}, {\"ratings\": \"5\", \"sentiments\": 0.05170329670329671}, {\"ratings\": \"5\", \"sentiments\": 0.07894736842105263}, {\"ratings\": \"5\", \"sentiments\": 0.25}, {\"ratings\": \"5\", \"sentiments\": 0.12953216374269005}, {\"ratings\": \"5\", \"sentiments\": 0.09821428571428571}, {\"ratings\": \"5\", \"sentiments\": 0.16666666666666666}, {\"ratings\": \"5\", \"sentiments\": 0.10833333333333334}, {\"ratings\": \"5\", \"sentiments\": 0.08125}, {\"ratings\": \"5\", \"sentiments\": 1.0}, {\"ratings\": \"5\", \"sentiments\": 0.05226608187134504}, {\"ratings\": \"5\", \"sentiments\": -0.007142857142857141}, {\"ratings\": \"5\", \"sentiments\": 0.5}, {\"ratings\": \"5\", \"sentiments\": 0.28448275862068967}, {\"ratings\": \"5\", \"sentiments\": 0.06567737817737818}, {\"ratings\": \"5\", \"sentiments\": 0.08}, {\"ratings\": \"5\", \"sentiments\": 0.0}, {\"ratings\": \"5\", \"sentiments\": 0.0457070707070707}, {\"ratings\": \"5\", \"sentiments\": 0.06331699346405228}, {\"ratings\": \"5\", \"sentiments\": 0.1}, {\"ratings\": \"5\", \"sentiments\": 0.15625}, {\"ratings\": \"5\", \"sentiments\": 0.11538461538461539}, {\"ratings\": \"5\", \"sentiments\": 1.0}, {\"ratings\": \"5\", \"sentiments\": 0.026727327683210032}, {\"ratings\": \"5\", \"sentiments\": 0.1375}, {\"ratings\": \"5\", \"sentiments\": 0.012738853503184714}, {\"ratings\": \"5\", \"sentiments\": 0.02359772001877265}, {\"ratings\": \"5\", \"sentiments\": -0.030303030303030304}, {\"ratings\": \"5\", \"sentiments\": 0.1111111111111111}, {\"ratings\": \"5\", \"sentiments\": 0.07212370962370962}, {\"ratings\": \"5\", \"sentiments\": 0.25}, {\"ratings\": \"5\", \"sentiments\": 0.09090909090909091}, {\"ratings\": \"5\", \"sentiments\": 0.051785035084267815}, {\"ratings\": \"5\", \"sentiments\": -0.025443510737628384}, {\"ratings\": \"5\", \"sentiments\": 0.09401709401709402}, {\"ratings\": \"5\", \"sentiments\": 0.1}, {\"ratings\": \"5\", \"sentiments\": 0.0}, {\"ratings\": \"5\", \"sentiments\": 0.03171886163372232}, {\"ratings\": \"5\", \"sentiments\": 0.1984126984126984}, {\"ratings\": \"5\", \"sentiments\": 0.0737012987012987}, {\"ratings\": \"5\", \"sentiments\": 0.13887445887445884}, {\"ratings\": \"5\", \"sentiments\": 0.2222222222222222}, {\"ratings\": \"5\", \"sentiments\": 0.05586080586080586}, {\"ratings\": \"5\", \"sentiments\": 1.0}, {\"ratings\": \"5\", \"sentiments\": 0.051712103013503895}, {\"ratings\": \"5\", \"sentiments\": 0.07361111111111111}, {\"ratings\": \"5\", \"sentiments\": 0.0}, {\"ratings\": \"5\", \"sentiments\": 0.02736726874657909}, {\"ratings\": \"5\", \"sentiments\": 0.5}, {\"ratings\": \"5\", \"sentiments\": 0.3625}, {\"ratings\": \"5\", \"sentiments\": 0.010227272727272727}, {\"ratings\": \"5\", \"sentiments\": 0.25}, {\"ratings\": \"5\", \"sentiments\": 0.3333333333333333}, {\"ratings\": \"5\", \"sentiments\": 0.15}, {\"ratings\": \"5\", \"sentiments\": 0.020833333333333332}, {\"ratings\": \"5\", \"sentiments\": 0.1325924282756581}, {\"ratings\": \"5\", \"sentiments\": 0.0}, {\"ratings\": \"5\", \"sentiments\": 0.09}, {\"ratings\": \"5\", \"sentiments\": 0.16666666666666666}, {\"ratings\": \"5\", \"sentiments\": 0.16666666666666666}, {\"ratings\": \"5\", \"sentiments\": 0.25}, {\"ratings\": \"5\", \"sentiments\": 0.02271014019816292}, {\"ratings\": \"5\", \"sentiments\": 0.5}, {\"ratings\": \"5\", \"sentiments\": 0.05824175824175824}, {\"ratings\": \"5\", \"sentiments\": 0.03333333333333333}, {\"ratings\": \"5\", \"sentiments\": 0.041666666666666664}, {\"ratings\": \"5\", \"sentiments\": 0.03901515151515152}, {\"ratings\": \"5\", \"sentiments\": 0.1259259259259259}, {\"ratings\": \"5\", \"sentiments\": 1.0}, {\"ratings\": \"5\", \"sentiments\": 0.04677057849492517}, {\"ratings\": \"5\", \"sentiments\": 0.0625}, {\"ratings\": \"5\", \"sentiments\": 0.4}, {\"ratings\": \"5\", \"sentiments\": 1.0}, {\"ratings\": \"5\", \"sentiments\": 0.08695652173913043}, {\"ratings\": \"5\", \"sentiments\": 0.056428341745079186}, {\"ratings\": \"5\", \"sentiments\": -0.07488636363636364}, {\"ratings\": \"5\", \"sentiments\": 0.06}, {\"ratings\": \"5\", \"sentiments\": 0.0}, {\"ratings\": \"5\", \"sentiments\": 0.07554935318093213}, {\"ratings\": \"5\", \"sentiments\": 0.1662878787878788}, {\"ratings\": \"5\", \"sentiments\": 0.5}, {\"ratings\": \"5\", \"sentiments\": 0.13555555555555557}, {\"ratings\": \"5\", \"sentiments\": 0.07631485628966031}, {\"ratings\": \"5\", \"sentiments\": 0.047619047619047616}, {\"ratings\": \"5\", \"sentiments\": 0.5}, {\"ratings\": \"5\", \"sentiments\": 1.0}, {\"ratings\": \"5\", \"sentiments\": 0.1629201680672269}, {\"ratings\": \"5\", \"sentiments\": 0.5}, {\"ratings\": \"5\", \"sentiments\": 0.075}, {\"ratings\": \"5\", \"sentiments\": 0.0}, {\"ratings\": \"5\", \"sentiments\": 0.25}, {\"ratings\": \"5\", \"sentiments\": 0.15252849002849003}, {\"ratings\": \"5\", \"sentiments\": 0.125}, {\"ratings\": \"5\", \"sentiments\": 0.11428571428571428}, {\"ratings\": \"5\", \"sentiments\": 0.05206597222222222}, {\"ratings\": \"5\", \"sentiments\": 0.06454813480069234}, {\"ratings\": \"5\", \"sentiments\": 0.5}, {\"ratings\": \"5\", \"sentiments\": 0.11031639928698751}, {\"ratings\": \"5\", \"sentiments\": 0.1111111111111111}, {\"ratings\": \"5\", \"sentiments\": 0.018626312958296767}, {\"ratings\": \"5\", \"sentiments\": 0.03953314659197012}, {\"ratings\": \"5\", \"sentiments\": 0.14285714285714285}, {\"ratings\": \"5\", \"sentiments\": 0.15}, {\"ratings\": \"5\", \"sentiments\": 0.025098039215686273}, {\"ratings\": \"5\", \"sentiments\": 0.17234848484848486}, {\"ratings\": \"5\", \"sentiments\": 0.18181818181818182}, {\"ratings\": \"5\", \"sentiments\": 0.17302489177489178}, {\"ratings\": \"5\", \"sentiments\": 0.14814814814814814}, {\"ratings\": \"5\", \"sentiments\": 0.3333333333333333}, {\"ratings\": \"5\", \"sentiments\": 0.00029761904761904656}, {\"ratings\": \"5\", \"sentiments\": 0.013000605946276575}, {\"ratings\": \"5\", \"sentiments\": 0.028720448941037178}, {\"ratings\": \"5\", \"sentiments\": 0.13392857142857142}, {\"ratings\": \"5\", \"sentiments\": 0.5}, {\"ratings\": \"5\", \"sentiments\": 0.5}, {\"ratings\": \"5\", \"sentiments\": 0.010459595959595962}, {\"ratings\": \"5\", \"sentiments\": -0.007627293341579054}, {\"ratings\": \"5\", \"sentiments\": 0.03261784511784512}, {\"ratings\": \"5\", \"sentiments\": 0.05473977873977874}, {\"ratings\": \"5\", \"sentiments\": 0.08888888888888888}, {\"ratings\": \"5\", \"sentiments\": 0.25}, {\"ratings\": \"5\", \"sentiments\": 0.1412037037037037}, {\"ratings\": \"5\", \"sentiments\": 0.17230576441102755}, {\"ratings\": \"5\", \"sentiments\": 0.42857142857142855}, {\"ratings\": \"5\", \"sentiments\": 0.005860011003626398}, {\"ratings\": \"5\", \"sentiments\": 0.16666666666666666}, {\"ratings\": \"5\", \"sentiments\": 0.5}, {\"ratings\": \"5\", \"sentiments\": 0.028708972187233055}, {\"ratings\": \"5\", \"sentiments\": 0.03636731139320015}, {\"ratings\": \"5\", \"sentiments\": 0.04225579975579975}, {\"ratings\": \"5\", \"sentiments\": 0.24242424242424243}, {\"ratings\": \"5\", \"sentiments\": 0.12935305435305433}, {\"ratings\": \"5\", \"sentiments\": 0.038883399209486164}, {\"ratings\": \"5\", \"sentiments\": 0.0}, {\"ratings\": \"5\", \"sentiments\": 0.16666666666666666}, {\"ratings\": \"5\", \"sentiments\": 0.5}, {\"ratings\": \"5\", \"sentiments\": 0.0}, {\"ratings\": \"5\", \"sentiments\": 0.03619909502262443}, {\"ratings\": \"5\", \"sentiments\": 0.03034213887208443}, {\"ratings\": \"5\", \"sentiments\": 1.0}, {\"ratings\": \"5\", \"sentiments\": 0.037142857142857144}, {\"ratings\": \"5\", \"sentiments\": 0.0}, {\"ratings\": \"5\", \"sentiments\": 0.16666666666666666}, {\"ratings\": \"5\", \"sentiments\": 0.30238095238095236}, {\"ratings\": \"5\", \"sentiments\": 1.0}, {\"ratings\": \"5\", \"sentiments\": 0.024297537321564776}, {\"ratings\": \"5\", \"sentiments\": 0.07259259259259258}, {\"ratings\": \"5\", \"sentiments\": 0.15595238095238095}, {\"ratings\": \"5\", \"sentiments\": 0.15833333333333333}, {\"ratings\": \"5\", \"sentiments\": 1.0}, {\"ratings\": \"5\", \"sentiments\": 0.20833333333333331}, {\"ratings\": \"5\", \"sentiments\": 0.5}, {\"ratings\": \"5\", \"sentiments\": 0.09090909090909091}, {\"ratings\": \"5\", \"sentiments\": 0.26666666666666666}, {\"ratings\": \"5\", \"sentiments\": 0.15}, {\"ratings\": \"5\", \"sentiments\": 0.6}, {\"ratings\": \"5\", \"sentiments\": 0.06962759462759463}, {\"ratings\": \"5\", \"sentiments\": 0.0}, {\"ratings\": \"5\", \"sentiments\": 0.027777777777777776}, {\"ratings\": \"5\", \"sentiments\": 0.375}, {\"ratings\": \"5\", \"sentiments\": 0.044102262370851346}, {\"ratings\": \"5\", \"sentiments\": 1.0}, {\"ratings\": \"5\", \"sentiments\": 0.0}, {\"ratings\": \"5\", \"sentiments\": 0.10810810810810811}, {\"ratings\": \"5\", \"sentiments\": 0.08391608391608392}, {\"ratings\": \"5\", \"sentiments\": 0.06845238095238095}, {\"ratings\": \"5\", \"sentiments\": 0.5}, {\"ratings\": \"5\", \"sentiments\": 0.16666666666666666}, {\"ratings\": \"5\", \"sentiments\": 0.0}, {\"ratings\": \"5\", \"sentiments\": 0.14285714285714285}, {\"ratings\": \"5\", \"sentiments\": 0.047362209046991656}, {\"ratings\": \"5\", \"sentiments\": 0.0}, {\"ratings\": \"5\", \"sentiments\": 0.5}, {\"ratings\": \"5\", \"sentiments\": 1.0}, {\"ratings\": \"5\", \"sentiments\": 0.0707972582972583}, {\"ratings\": \"5\", \"sentiments\": 0.0532552973342447}, {\"ratings\": \"5\", \"sentiments\": -0.03288959814695109}, {\"ratings\": \"5\", \"sentiments\": 0.08557861493345365}, {\"ratings\": \"5\", \"sentiments\": 0.5}, {\"ratings\": \"5\", \"sentiments\": 0.02702702702702703}, {\"ratings\": \"5\", \"sentiments\": 0.035809062186942735}, {\"ratings\": \"5\", \"sentiments\": 0.0}, {\"ratings\": \"5\", \"sentiments\": 0.6666666666666666}, {\"ratings\": \"5\", \"sentiments\": 0.04972590627763042}, {\"ratings\": \"5\", \"sentiments\": 0.0}, {\"ratings\": \"5\", \"sentiments\": 0.04600160628977013}, {\"ratings\": \"5\", \"sentiments\": 0.025121545121545123}, {\"ratings\": \"5\", \"sentiments\": 0.1}, {\"ratings\": \"5\", \"sentiments\": 0.0}, {\"ratings\": \"5\", \"sentiments\": 0.004024621212121212}, {\"ratings\": \"5\", \"sentiments\": 0.04091641048162787}, {\"ratings\": \"5\", \"sentiments\": 0.17884375972611266}, {\"ratings\": \"5\", \"sentiments\": 0.21428571428571427}, {\"ratings\": \"5\", \"sentiments\": 0.05648949815616482}, {\"ratings\": \"5\", \"sentiments\": 0.04209087481146305}, {\"ratings\": \"5\", \"sentiments\": 0.5}, {\"ratings\": \"5\", \"sentiments\": 0.0}, {\"ratings\": \"5\", \"sentiments\": 0.0}, {\"ratings\": \"5\", \"sentiments\": 0.2222222222222222}, {\"ratings\": \"5\", \"sentiments\": -0.05555555555555555}, {\"ratings\": \"5\", \"sentiments\": 0.03571428571428571}, {\"ratings\": \"5\", \"sentiments\": 0.5}, {\"ratings\": \"5\", \"sentiments\": 0.1146103896103896}, {\"ratings\": \"5\", \"sentiments\": 0.07323717948717949}, {\"ratings\": \"5\", \"sentiments\": 1.0}, {\"ratings\": \"5\", \"sentiments\": 0.047162537226886986}, {\"ratings\": \"5\", \"sentiments\": 0.01734370511258383}, {\"ratings\": \"5\", \"sentiments\": 0.045693538009008175}, {\"ratings\": \"5\", \"sentiments\": 0.2619047619047619}, {\"ratings\": \"5\", \"sentiments\": 0.3333333333333333}, {\"ratings\": \"5\", \"sentiments\": 0.5}, {\"ratings\": \"5\", \"sentiments\": 0.08333333333333333}, {\"ratings\": \"5\", \"sentiments\": 0.0661125168690958}, {\"ratings\": \"5\", \"sentiments\": 0.07715311004784689}, {\"ratings\": \"5\", \"sentiments\": 0.1717391304347826}, {\"ratings\": \"5\", \"sentiments\": 0.10091269841269841}, {\"ratings\": \"5\", \"sentiments\": 0.0}, {\"ratings\": \"5\", \"sentiments\": 0.08465608465608465}, {\"ratings\": \"5\", \"sentiments\": 0.0}, {\"ratings\": \"5\", \"sentiments\": 0.16999999999999998}, {\"ratings\": \"5\", \"sentiments\": -0.024097995402343232}, {\"ratings\": \"5\", \"sentiments\": 0.032410854832159615}, {\"ratings\": \"5\", \"sentiments\": 0.03333333333333333}, {\"ratings\": \"5\", \"sentiments\": 0.16666666666666666}, {\"ratings\": \"5\", \"sentiments\": -0.019459706959706956}, {\"ratings\": \"5\", \"sentiments\": 0.08343782654127481}, {\"ratings\": \"5\", \"sentiments\": 0.0288965744400527}, {\"ratings\": \"5\", \"sentiments\": 0.04848892120950945}, {\"ratings\": \"5\", \"sentiments\": 0.0549202203965631}, {\"ratings\": \"5\", \"sentiments\": 0.0}, {\"ratings\": \"5\", \"sentiments\": 0.05}, {\"ratings\": \"5\", \"sentiments\": 0.15282158317872602}, {\"ratings\": \"5\", \"sentiments\": 1.0}, {\"ratings\": \"5\", \"sentiments\": 0.03333333333333333}, {\"ratings\": \"5\", \"sentiments\": 0.04}, {\"ratings\": \"5\", \"sentiments\": 0.17738095238095236}, {\"ratings\": \"5\", \"sentiments\": -0.0795861844248941}, {\"ratings\": \"5\", \"sentiments\": 0.03354155590997696}, {\"ratings\": \"5\", \"sentiments\": 0.03571428571428571}, {\"ratings\": \"5\", \"sentiments\": 0.5}, {\"ratings\": \"5\", \"sentiments\": 0.041666666666666664}, {\"ratings\": \"5\", \"sentiments\": 0.25}, {\"ratings\": \"5\", \"sentiments\": 1.0}, {\"ratings\": \"5\", \"sentiments\": 0.125}, {\"ratings\": \"5\", \"sentiments\": 0.016071428571428577}, {\"ratings\": \"5\", \"sentiments\": 0.036094951195121704}, {\"ratings\": \"5\", \"sentiments\": 0.14285714285714285}, {\"ratings\": \"5\", \"sentiments\": 0.10234025234025235}, {\"ratings\": \"5\", \"sentiments\": 0.5}, {\"ratings\": \"5\", \"sentiments\": 0.09375789141414141}, {\"ratings\": \"5\", \"sentiments\": 0.09523809523809523}, {\"ratings\": \"5\", \"sentiments\": 0.2727272727272727}, {\"ratings\": \"5\", \"sentiments\": 0.10251322751322751}, {\"ratings\": \"5\", \"sentiments\": 0.5}, {\"ratings\": \"5\", \"sentiments\": 0.22253787878787878}, {\"ratings\": \"5\", \"sentiments\": 0.275}, {\"ratings\": \"5\", \"sentiments\": 0.05088420060313787}, {\"ratings\": \"5\", \"sentiments\": 0.045289010506401814}, {\"ratings\": \"5\", \"sentiments\": -0.008633569040176042}, {\"ratings\": \"5\", \"sentiments\": 0.07065217391304347}, {\"ratings\": \"5\", \"sentiments\": 0.4}, {\"ratings\": \"5\", \"sentiments\": 0.15384615384615385}, {\"ratings\": \"5\", \"sentiments\": 0.09404761904761905}, {\"ratings\": \"5\", \"sentiments\": 0.05645021645021645}, {\"ratings\": \"5\", \"sentiments\": 0.5}, {\"ratings\": \"5\", \"sentiments\": 0.09090909090909091}, {\"ratings\": \"5\", \"sentiments\": -0.02521367521367521}, {\"ratings\": \"5\", \"sentiments\": 1.0}, {\"ratings\": \"5\", \"sentiments\": 0.5}, {\"ratings\": \"5\", \"sentiments\": 0.5}, {\"ratings\": \"5\", \"sentiments\": -0.0015578896343889262}, {\"ratings\": \"5\", \"sentiments\": 0.05476570718785252}, {\"ratings\": \"5\", \"sentiments\": 0.13333333333333333}, {\"ratings\": \"5\", \"sentiments\": 0.048611111111111105}, {\"ratings\": \"5\", \"sentiments\": 1.0}, {\"ratings\": \"5\", \"sentiments\": 0.12}, {\"ratings\": \"5\", \"sentiments\": 0.0}, {\"ratings\": \"5\", \"sentiments\": 0.25}, {\"ratings\": \"5\", \"sentiments\": 0.08859940872135993}, {\"ratings\": \"5\", \"sentiments\": 0.25}, {\"ratings\": \"5\", \"sentiments\": -0.01435185185185185}, {\"ratings\": \"5\", \"sentiments\": 0.0}, {\"ratings\": \"5\", \"sentiments\": 0.0}, {\"ratings\": \"5\", \"sentiments\": -0.2857142857142857}, {\"ratings\": \"5\", \"sentiments\": -0.023255813953488372}, {\"ratings\": \"5\", \"sentiments\": 0.12927350427350429}, {\"ratings\": \"5\", \"sentiments\": -0.041666666666666664}, {\"ratings\": \"5\", \"sentiments\": 0.1111111111111111}, {\"ratings\": \"5\", \"sentiments\": 0.08119022181522181}, {\"ratings\": \"5\", \"sentiments\": 0.03311546840958606}, {\"ratings\": \"5\", \"sentiments\": 0.08320105820105819}, {\"ratings\": \"5\", \"sentiments\": 0.0989010989010989}, {\"ratings\": \"5\", \"sentiments\": 0.0}, {\"ratings\": \"5\", \"sentiments\": 0.041666666666666664}, {\"ratings\": \"5\", \"sentiments\": 0.06617872867872868}, {\"ratings\": \"5\", \"sentiments\": 0.010898001175778957}, {\"ratings\": \"5\", \"sentiments\": 0.04516760043075832}, {\"ratings\": \"5\", \"sentiments\": 0.0}, {\"ratings\": \"5\", \"sentiments\": 0.056944444444444436}, {\"ratings\": \"5\", \"sentiments\": 0.19736842105263158}, {\"ratings\": \"5\", \"sentiments\": 0.3333333333333333}, {\"ratings\": \"5\", \"sentiments\": 0.0}, {\"ratings\": \"5\", \"sentiments\": 0.04684343434343435}, {\"ratings\": \"5\", \"sentiments\": 0.25}, {\"ratings\": \"5\", \"sentiments\": 0.125}, {\"ratings\": \"5\", \"sentiments\": 0.05862470862470862}, {\"ratings\": \"5\", \"sentiments\": 0.03125}, {\"ratings\": \"5\", \"sentiments\": 0.11058539357772094}, {\"ratings\": \"5\", \"sentiments\": 0.6}, {\"ratings\": \"5\", \"sentiments\": 0.5}, {\"ratings\": \"5\", \"sentiments\": 0.25}, {\"ratings\": \"5\", \"sentiments\": 0.10969507420192956}, {\"ratings\": \"5\", \"sentiments\": 0.28181818181818186}, {\"ratings\": \"5\", \"sentiments\": 1.0}, {\"ratings\": \"5\", \"sentiments\": 0.5}, {\"ratings\": \"5\", \"sentiments\": 0.1875}, {\"ratings\": \"5\", \"sentiments\": 0.13076923076923078}, {\"ratings\": \"5\", \"sentiments\": 0.01723857605243054}, {\"ratings\": \"5\", \"sentiments\": 0.04858319546142043}, {\"ratings\": \"5\", \"sentiments\": 0.125}, {\"ratings\": \"5\", \"sentiments\": 0.014741014799154337}, {\"ratings\": \"5\", \"sentiments\": 0.23225806451612904}, {\"ratings\": \"5\", \"sentiments\": 0.038461538461538464}, {\"ratings\": \"5\", \"sentiments\": 0.012987012987012988}, {\"ratings\": \"5\", \"sentiments\": 0.1}, {\"ratings\": \"5\", \"sentiments\": 0.19444444444444445}, {\"ratings\": \"5\", \"sentiments\": 0.046439860130950604}, {\"ratings\": \"5\", \"sentiments\": 0.18181818181818182}, {\"ratings\": \"5\", \"sentiments\": 0.17391304347826086}, {\"ratings\": \"5\", \"sentiments\": 0.09341736694677871}, {\"ratings\": \"5\", \"sentiments\": 0.04312804165764325}, {\"ratings\": \"5\", \"sentiments\": 0.03333333333333333}, {\"ratings\": \"5\", \"sentiments\": 0.03150545804493525}, {\"ratings\": \"5\", \"sentiments\": 0.5303030303030303}, {\"ratings\": \"5\", \"sentiments\": 0.6666666666666666}, {\"ratings\": \"5\", \"sentiments\": 0.038095238095238085}, {\"ratings\": \"5\", \"sentiments\": 0.14634146341463414}, {\"ratings\": \"5\", \"sentiments\": 0.042925824175824176}, {\"ratings\": \"5\", \"sentiments\": 0.0}, {\"ratings\": \"5\", \"sentiments\": 0.0}, {\"ratings\": \"5\", \"sentiments\": 0.07142857142857142}, {\"ratings\": \"5\", \"sentiments\": 0.125}, {\"ratings\": \"5\", \"sentiments\": 1.0}, {\"ratings\": \"5\", \"sentiments\": 0.029360797631883383}, {\"ratings\": \"5\", \"sentiments\": 0.5}, {\"ratings\": \"5\", \"sentiments\": 0.06216613247863247}, {\"ratings\": \"5\", \"sentiments\": 0.5}, {\"ratings\": \"5\", \"sentiments\": 0.5}, {\"ratings\": \"5\", \"sentiments\": 0.0}, {\"ratings\": \"5\", \"sentiments\": 0.12356060606060605}, {\"ratings\": \"5\", \"sentiments\": 0.09583333333333333}, {\"ratings\": \"5\", \"sentiments\": 0.030448717948717948}, {\"ratings\": \"5\", \"sentiments\": 0.2}, {\"ratings\": \"5\", \"sentiments\": 0.038461538461538464}, {\"ratings\": \"5\", \"sentiments\": 0.04867354867354867}, {\"ratings\": \"5\", \"sentiments\": 0.11178804855275444}, {\"ratings\": \"5\", \"sentiments\": 0.14761904761904762}, {\"ratings\": \"5\", \"sentiments\": 0.14248120300751882}, {\"ratings\": \"5\", \"sentiments\": 0.3333333333333333}, {\"ratings\": \"5\", \"sentiments\": 0.125}, {\"ratings\": \"5\", \"sentiments\": 0.05744626765424728}, {\"ratings\": \"5\", \"sentiments\": 0.14134599366983172}, {\"ratings\": \"5\", \"sentiments\": 0.3333333333333333}, {\"ratings\": \"5\", \"sentiments\": -0.017857142857142856}, {\"ratings\": \"5\", \"sentiments\": -0.011698867581220527}, {\"ratings\": \"5\", \"sentiments\": 0.0883982683982684}, {\"ratings\": \"5\", \"sentiments\": 0.047619047619047616}, {\"ratings\": \"5\", \"sentiments\": 0.024390243902439025}, {\"ratings\": \"5\", \"sentiments\": 0.041666666666666664}, {\"ratings\": \"5\", \"sentiments\": 0.022222222222222223}, {\"ratings\": \"5\", \"sentiments\": 0.07801701222753854}, {\"ratings\": \"5\", \"sentiments\": 0.3333333333333333}, {\"ratings\": \"5\", \"sentiments\": 0.35}, {\"ratings\": \"5\", \"sentiments\": 0.25}, {\"ratings\": \"5\", \"sentiments\": 0.15922077922077923}, {\"ratings\": \"5\", \"sentiments\": 0.07947335501683328}, {\"ratings\": \"5\", \"sentiments\": 0.21428571428571427}, {\"ratings\": \"5\", \"sentiments\": 0.2222222222222222}, {\"ratings\": \"5\", \"sentiments\": 0.03333333333333333}, {\"ratings\": \"5\", \"sentiments\": 0.25}, {\"ratings\": \"5\", \"sentiments\": 0.03333333333333333}, {\"ratings\": \"5\", \"sentiments\": 0.039113355780022445}, {\"ratings\": \"5\", \"sentiments\": 0.041666666666666664}, {\"ratings\": \"5\", \"sentiments\": 0.1540231373564707}, {\"ratings\": \"5\", \"sentiments\": 0.02631578947368421}, {\"ratings\": \"5\", \"sentiments\": 0.060149817502758676}, {\"ratings\": \"5\", \"sentiments\": 0.09820094890013849}, {\"ratings\": \"5\", \"sentiments\": 0.0033503978723473824}, {\"ratings\": \"5\", \"sentiments\": 0.4}, {\"ratings\": \"5\", \"sentiments\": 0.5}, {\"ratings\": \"5\", \"sentiments\": 0.2}, {\"ratings\": \"5\", \"sentiments\": 0.05362507058159232}, {\"ratings\": \"5\", \"sentiments\": 0.028396274777853732}, {\"ratings\": \"5\", \"sentiments\": 0.0022779519331243463}, {\"ratings\": \"5\", \"sentiments\": 0.75}, {\"ratings\": \"5\", \"sentiments\": 0.29166666666666663}, {\"ratings\": \"5\", \"sentiments\": 0.06631455981780819}, {\"ratings\": \"5\", \"sentiments\": 0.11914893617021277}, {\"ratings\": \"5\", \"sentiments\": 0.00851940506215381}, {\"ratings\": \"5\", \"sentiments\": 0.05662277848978617}, {\"ratings\": \"5\", \"sentiments\": 0.07307449494949494}, {\"ratings\": \"5\", \"sentiments\": 0.09523327864659134}, {\"ratings\": \"5\", \"sentiments\": 0.017948717948717947}, {\"ratings\": \"5\", \"sentiments\": 0.023809523809523808}, {\"ratings\": \"5\", \"sentiments\": 0.5}, {\"ratings\": \"5\", \"sentiments\": 0.0}, {\"ratings\": \"5\", \"sentiments\": 0.022222222222222223}, {\"ratings\": \"5\", \"sentiments\": 0.2}, {\"ratings\": \"5\", \"sentiments\": 0.41666666666666663}, {\"ratings\": \"5\", \"sentiments\": 1.0}, {\"ratings\": \"5\", \"sentiments\": 1.0}, {\"ratings\": \"5\", \"sentiments\": 0.0}, {\"ratings\": \"5\", \"sentiments\": 0.2732142857142857}, {\"ratings\": \"5\", \"sentiments\": 0.05581069791596108}, {\"ratings\": \"5\", \"sentiments\": 0.053291585075266296}, {\"ratings\": \"5\", \"sentiments\": 0.0}, {\"ratings\": \"5\", \"sentiments\": 0.020415636994584364}, {\"ratings\": \"5\", \"sentiments\": 1.0}, {\"ratings\": \"5\", \"sentiments\": 0.05845959595959596}, {\"ratings\": \"5\", \"sentiments\": 1.0}, {\"ratings\": \"5\", \"sentiments\": 0.03341050750324945}, {\"ratings\": \"5\", \"sentiments\": 0.4}, {\"ratings\": \"5\", \"sentiments\": 0.13976045454373626}, {\"ratings\": \"5\", \"sentiments\": 0.02702898550724638}, {\"ratings\": \"5\", \"sentiments\": 0.07692307692307693}, {\"ratings\": \"5\", \"sentiments\": 0.0}, {\"ratings\": \"5\", \"sentiments\": 0.0}, {\"ratings\": \"5\", \"sentiments\": 0.046216751318218445}, {\"ratings\": \"5\", \"sentiments\": 0.0}, {\"ratings\": \"5\", \"sentiments\": 0.5}, {\"ratings\": \"5\", \"sentiments\": 0.0}, {\"ratings\": \"5\", \"sentiments\": 0.02448361823361823}, {\"ratings\": \"5\", \"sentiments\": 0.125}, {\"ratings\": \"5\", \"sentiments\": 0.0}, {\"ratings\": \"5\", \"sentiments\": 0.0}, {\"ratings\": \"5\", \"sentiments\": 0.16666666666666666}, {\"ratings\": \"5\", \"sentiments\": 0.25}, {\"ratings\": \"5\", \"sentiments\": 0.05}, {\"ratings\": \"5\", \"sentiments\": 0.0}, {\"ratings\": \"5\", \"sentiments\": 0.12566137566137567}, {\"ratings\": \"5\", \"sentiments\": 0.20039682539682538}, {\"ratings\": \"5\", \"sentiments\": 0.29166666666666663}, {\"ratings\": \"5\", \"sentiments\": 0.09090909090909091}, {\"ratings\": \"5\", \"sentiments\": 0.061447811447811446}, {\"ratings\": \"5\", \"sentiments\": 0.004414682539682543}, {\"ratings\": \"5\", \"sentiments\": 0.04605339105339105}, {\"ratings\": \"5\", \"sentiments\": 0.041666666666666664}, {\"ratings\": \"5\", \"sentiments\": 0.5}, {\"ratings\": \"5\", \"sentiments\": 0.02822531178932563}, {\"ratings\": \"5\", \"sentiments\": 0.03283203060458109}, {\"ratings\": \"5\", \"sentiments\": 0.0}, {\"ratings\": \"5\", \"sentiments\": 0.15384615384615385}, {\"ratings\": \"5\", \"sentiments\": 0.03790366721401204}, {\"ratings\": \"5\", \"sentiments\": 1.0}, {\"ratings\": \"5\", \"sentiments\": 0.16666666666666666}, {\"ratings\": \"5\", \"sentiments\": 0.0024125127633899558}, {\"ratings\": \"5\", \"sentiments\": 0.02198333443678513}, {\"ratings\": \"5\", \"sentiments\": 0.017407407407407406}, {\"ratings\": \"5\", \"sentiments\": 0.10832983602727765}, {\"ratings\": \"5\", \"sentiments\": 0.5}, {\"ratings\": \"5\", \"sentiments\": 0.062111801242236024}, {\"ratings\": \"5\", \"sentiments\": 0.016546827879698942}, {\"ratings\": \"5\", \"sentiments\": 0.042980676844240416}, {\"ratings\": \"5\", \"sentiments\": 0.0}, {\"ratings\": \"5\", \"sentiments\": 0.25}, {\"ratings\": \"5\", \"sentiments\": 0.08666793803840668}, {\"ratings\": \"5\", \"sentiments\": 0.009259259259259259}, {\"ratings\": \"5\", \"sentiments\": 0.5}, {\"ratings\": \"5\", \"sentiments\": 1.0}, {\"ratings\": \"5\", \"sentiments\": 0.03598188696549352}, {\"ratings\": \"5\", \"sentiments\": 0.3333333333333333}, {\"ratings\": \"5\", \"sentiments\": 0.03536062378167641}, {\"ratings\": \"5\", \"sentiments\": 0.3333333333333333}, {\"ratings\": \"5\", \"sentiments\": 0.020824631021999444}, {\"ratings\": \"5\", \"sentiments\": 0.0}, {\"ratings\": \"5\", \"sentiments\": 0.20833333333333331}, {\"ratings\": \"5\", \"sentiments\": 0.06599160737091771}, {\"ratings\": \"5\", \"sentiments\": -0.005464975845410632}, {\"ratings\": \"5\", \"sentiments\": 0.07105263157894737}, {\"ratings\": \"5\", \"sentiments\": 0.3333333333333333}, {\"ratings\": \"5\", \"sentiments\": 0.041777646731207096}, {\"ratings\": \"5\", \"sentiments\": 0.11092212237911853}, {\"ratings\": \"5\", \"sentiments\": 0.09503609135962077}, {\"ratings\": \"5\", \"sentiments\": 0.07032699269541376}, {\"ratings\": \"5\", \"sentiments\": 1.0}, {\"ratings\": \"5\", \"sentiments\": 0.14583333333333334}, {\"ratings\": \"5\", \"sentiments\": 0.3333333333333333}, {\"ratings\": \"5\", \"sentiments\": 0.029450549450549444}, {\"ratings\": \"5\", \"sentiments\": 0.009360581602149604}, {\"ratings\": \"5\", \"sentiments\": 0.18181818181818182}, {\"ratings\": \"5\", \"sentiments\": 0.16666666666666666}, {\"ratings\": \"5\", \"sentiments\": 1.0}, {\"ratings\": \"5\", \"sentiments\": 0.045454545454545456}, {\"ratings\": \"5\", \"sentiments\": 0.026114736837112067}, {\"ratings\": \"5\", \"sentiments\": 0.019444444444444445}, {\"ratings\": \"5\", \"sentiments\": 0.0}, {\"ratings\": \"5\", \"sentiments\": 0.15}, {\"ratings\": \"5\", \"sentiments\": 0.04054128238910848}, {\"ratings\": \"5\", \"sentiments\": 1.0}, {\"ratings\": \"5\", \"sentiments\": 0.04772727272727273}, {\"ratings\": \"5\", \"sentiments\": 0.125}, {\"ratings\": \"5\", \"sentiments\": 0.07534418022528161}, {\"ratings\": \"5\", \"sentiments\": 0.15000000000000002}, {\"ratings\": \"5\", \"sentiments\": 0.09545454545454546}, {\"ratings\": \"5\", \"sentiments\": 0.0}, {\"ratings\": \"5\", \"sentiments\": 0.038461538461538464}, {\"ratings\": \"5\", \"sentiments\": 0.0}, {\"ratings\": \"5\", \"sentiments\": 0.051762523191094624}, {\"ratings\": \"5\", \"sentiments\": 0.07142857142857142}, {\"ratings\": \"5\", \"sentiments\": 0.15789473684210525}, {\"ratings\": \"5\", \"sentiments\": 0.09090909090909091}, {\"ratings\": \"5\", \"sentiments\": 0.5}, {\"ratings\": \"5\", \"sentiments\": 0.0}, {\"ratings\": \"5\", \"sentiments\": 0.19444444444444445}, {\"ratings\": \"5\", \"sentiments\": 0.050715488215488214}, {\"ratings\": \"5\", \"sentiments\": 0.03571428571428571}, {\"ratings\": \"5\", \"sentiments\": 0.060160427807486636}, {\"ratings\": \"5\", \"sentiments\": 0.21666666666666667}, {\"ratings\": \"5\", \"sentiments\": 0.3333333333333333}, {\"ratings\": \"5\", \"sentiments\": 0.1111111111111111}, {\"ratings\": \"5\", \"sentiments\": 0.12301587301587302}, {\"ratings\": \"5\", \"sentiments\": 0.044401587743979044}, {\"ratings\": \"5\", \"sentiments\": 1.0}, {\"ratings\": \"5\", \"sentiments\": 0.07722854433380749}, {\"ratings\": \"5\", \"sentiments\": 0.10890373243314419}, {\"ratings\": \"5\", \"sentiments\": 0.07171717171717171}, {\"ratings\": \"5\", \"sentiments\": 0.028860028860028857}, {\"ratings\": \"5\", \"sentiments\": 0.047619047619047616}, {\"ratings\": \"5\", \"sentiments\": 0.058491117172734995}, {\"ratings\": \"5\", \"sentiments\": 0.14977058029689608}, {\"ratings\": \"5\", \"sentiments\": 0.09090909090909091}, {\"ratings\": \"5\", \"sentiments\": 0.0028490028490028574}, {\"ratings\": \"5\", \"sentiments\": 0.05}, {\"ratings\": \"5\", \"sentiments\": 0.043865924048850875}, {\"ratings\": \"5\", \"sentiments\": 0.11851851851851851}, {\"ratings\": \"5\", \"sentiments\": 0.14285714285714285}, {\"ratings\": \"5\", \"sentiments\": 0.06857641232641233}, {\"ratings\": \"5\", \"sentiments\": 0.0}, {\"ratings\": \"5\", \"sentiments\": 0.12878787878787878}, {\"ratings\": \"5\", \"sentiments\": 0.25}, {\"ratings\": \"5\", \"sentiments\": 0.3333333333333333}, {\"ratings\": \"5\", \"sentiments\": 0.01671538180489587}, {\"ratings\": \"5\", \"sentiments\": 0.5}, {\"ratings\": \"5\", \"sentiments\": 0.16582491582491582}, {\"ratings\": \"5\", \"sentiments\": 0.03125}, {\"ratings\": \"5\", \"sentiments\": 0.041666666666666664}, {\"ratings\": \"5\", \"sentiments\": 0.0}, {\"ratings\": \"5\", \"sentiments\": 0.05263157894736842}, {\"ratings\": \"5\", \"sentiments\": 0.020833333333333332}, {\"ratings\": \"5\", \"sentiments\": 0.039640984598967796}, {\"ratings\": \"5\", \"sentiments\": 0.5714285714285714}, {\"ratings\": \"5\", \"sentiments\": 0.0}, {\"ratings\": \"5\", \"sentiments\": 0.0}, {\"ratings\": \"5\", \"sentiments\": 0.001419584495350436}, {\"ratings\": \"5\", \"sentiments\": 0.20000000000000004}, {\"ratings\": \"5\", \"sentiments\": 0.03333333333333333}, {\"ratings\": \"5\", \"sentiments\": 0.09854166666666665}, {\"ratings\": \"5\", \"sentiments\": 0.054207173065304544}, {\"ratings\": \"5\", \"sentiments\": 0.3333333333333333}, {\"ratings\": \"5\", \"sentiments\": 0.02598161740495336}, {\"ratings\": \"5\", \"sentiments\": 0.09233193277310923}, {\"ratings\": \"5\", \"sentiments\": 0.05745341614906832}, {\"ratings\": \"5\", \"sentiments\": 1.0}, {\"ratings\": \"5\", \"sentiments\": 0.5}, {\"ratings\": \"5\", \"sentiments\": 0.042757254540244614}, {\"ratings\": \"5\", \"sentiments\": 0.0875}, {\"ratings\": \"5\", \"sentiments\": 0.03786499723216202}, {\"ratings\": \"5\", \"sentiments\": 0.021739130434782608}, {\"ratings\": \"5\", \"sentiments\": 0.023146198830409352}, {\"ratings\": \"5\", \"sentiments\": 0.0}, {\"ratings\": \"5\", \"sentiments\": -0.021367521367521375}, {\"ratings\": \"5\", \"sentiments\": 0.1143891402714932}, {\"ratings\": \"5\", \"sentiments\": 0.08333333333333333}, {\"ratings\": \"5\", \"sentiments\": -0.125}, {\"ratings\": \"5\", \"sentiments\": 0.13888888888888887}, {\"ratings\": \"5\", \"sentiments\": 0.25}, {\"ratings\": \"5\", \"sentiments\": 0.5}, {\"ratings\": \"5\", \"sentiments\": 0.016391678384583542}, {\"ratings\": \"5\", \"sentiments\": 0.3333333333333333}, {\"ratings\": \"5\", \"sentiments\": 0.07692307692307693}, {\"ratings\": \"5\", \"sentiments\": 0.5}, {\"ratings\": \"5\", \"sentiments\": 0.5}, {\"ratings\": \"5\", \"sentiments\": 0.022027972027972024}, {\"ratings\": \"5\", \"sentiments\": -0.04560344827586207}, {\"ratings\": \"5\", \"sentiments\": 0.047619047619047616}, {\"ratings\": \"5\", \"sentiments\": 0.11319974143503556}, {\"ratings\": \"5\", \"sentiments\": 0.25}, {\"ratings\": \"5\", \"sentiments\": -0.11910975786573873}, {\"ratings\": \"5\", \"sentiments\": 0.0}, {\"ratings\": \"5\", \"sentiments\": 0.15555555555555556}, {\"ratings\": \"5\", \"sentiments\": 0.21419952596423183}, {\"ratings\": \"5\", \"sentiments\": 0.1111111111111111}, {\"ratings\": \"5\", \"sentiments\": 0.02631578947368421}, {\"ratings\": \"5\", \"sentiments\": 0.5}, {\"ratings\": \"5\", \"sentiments\": 0.16666666666666666}, {\"ratings\": \"5\", \"sentiments\": 0.022764489142695143}, {\"ratings\": \"5\", \"sentiments\": 0.125}, {\"ratings\": \"5\", \"sentiments\": 0.11286342363285641}, {\"ratings\": \"5\", \"sentiments\": 0.2}, {\"ratings\": \"5\", \"sentiments\": 0.3214285714285714}, {\"ratings\": \"5\", \"sentiments\": 0.4}, {\"ratings\": \"5\", \"sentiments\": 0.03260364568335583}, {\"ratings\": \"5\", \"sentiments\": 0.5}, {\"ratings\": \"5\", \"sentiments\": 0.07361111111111111}, {\"ratings\": \"5\", \"sentiments\": 0.2976190476190476}, {\"ratings\": \"5\", \"sentiments\": 0.16666666666666666}, {\"ratings\": \"5\", \"sentiments\": 0.28846153846153844}, {\"ratings\": \"5\", \"sentiments\": 0.2777777777777778}, {\"ratings\": \"5\", \"sentiments\": 0.037049792312950205}, {\"ratings\": \"5\", \"sentiments\": 0.05620396570221581}, {\"ratings\": \"5\", \"sentiments\": 0.2}, {\"ratings\": \"5\", \"sentiments\": 0.15789473684210525}, {\"ratings\": \"5\", \"sentiments\": -0.011372021927050389}, {\"ratings\": \"5\", \"sentiments\": 1.0}, {\"ratings\": \"5\", \"sentiments\": 0.08975698387463092}, {\"ratings\": \"5\", \"sentiments\": 0.5}, {\"ratings\": \"5\", \"sentiments\": 0.13137254901960782}, {\"ratings\": \"5\", \"sentiments\": 0.5}, {\"ratings\": \"5\", \"sentiments\": -0.0463018341307815}, {\"ratings\": \"5\", \"sentiments\": 0.2847222222222222}, {\"ratings\": \"5\", \"sentiments\": 0.0}, {\"ratings\": \"5\", \"sentiments\": 1.0}, {\"ratings\": \"5\", \"sentiments\": 0.625}, {\"ratings\": \"5\", \"sentiments\": 0.0}, {\"ratings\": \"5\", \"sentiments\": 0.04864210065297021}, {\"ratings\": \"5\", \"sentiments\": 0.3333333333333333}, {\"ratings\": \"5\", \"sentiments\": 0.04925595238095237}, {\"ratings\": \"5\", \"sentiments\": 0.020004719766948023}, {\"ratings\": \"5\", \"sentiments\": 0.041666666666666664}, {\"ratings\": \"5\", \"sentiments\": 0.07651515151515152}, {\"ratings\": \"5\", \"sentiments\": 0.061132154882154885}, {\"ratings\": \"5\", \"sentiments\": 0.0}, {\"ratings\": \"5\", \"sentiments\": 1.0}, {\"ratings\": \"5\", \"sentiments\": 0.2}, {\"ratings\": \"5\", \"sentiments\": 0.1292063492063492}, {\"ratings\": \"5\", \"sentiments\": 0.04198426855493501}, {\"ratings\": \"5\", \"sentiments\": 0.0608974358974359}, {\"ratings\": \"5\", \"sentiments\": 0.23032407407407407}, {\"ratings\": \"5\", \"sentiments\": 0.2857142857142857}, {\"ratings\": \"5\", \"sentiments\": 0.0}, {\"ratings\": \"5\", \"sentiments\": 0.032285307285307284}, {\"ratings\": \"5\", \"sentiments\": 0.07852332852332852}, {\"ratings\": \"5\", \"sentiments\": 1.0}, {\"ratings\": \"5\", \"sentiments\": -0.008465608465608463}, {\"ratings\": \"5\", \"sentiments\": 0.007279011311269375}, {\"ratings\": \"5\", \"sentiments\": 0.12177858439201451}, {\"ratings\": \"5\", \"sentiments\": 0.3333333333333333}, {\"ratings\": \"5\", \"sentiments\": 0.25}, {\"ratings\": \"5\", \"sentiments\": 0.5}, {\"ratings\": \"5\", \"sentiments\": 0.5}, {\"ratings\": \"5\", \"sentiments\": 0.021246503941011952}, {\"ratings\": \"5\", \"sentiments\": 0.18181818181818182}, {\"ratings\": \"5\", \"sentiments\": 0.2}, {\"ratings\": \"5\", \"sentiments\": 0.07692307692307693}, {\"ratings\": \"5\", \"sentiments\": 0.02612874779541446}, {\"ratings\": \"5\", \"sentiments\": 0.09587046939988118}, {\"ratings\": \"5\", \"sentiments\": 0.015384615384615385}, {\"ratings\": \"5\", \"sentiments\": 0.020657176500829752}, {\"ratings\": \"5\", \"sentiments\": 0.05767861683193491}, {\"ratings\": \"5\", \"sentiments\": 0.0625}, {\"ratings\": \"5\", \"sentiments\": 0.16666666666666666}, {\"ratings\": \"5\", \"sentiments\": 1.0}, {\"ratings\": \"5\", \"sentiments\": 0.038461538461538464}, {\"ratings\": \"5\", \"sentiments\": 0.22718253968253965}, {\"ratings\": \"5\", \"sentiments\": 0.1693121693121693}, {\"ratings\": \"5\", \"sentiments\": 0.24761904761904763}, {\"ratings\": \"5\", \"sentiments\": 0.0}, {\"ratings\": \"5\", \"sentiments\": 0.049999999999999996}, {\"ratings\": \"5\", \"sentiments\": 0.024286417075790892}, {\"ratings\": \"5\", \"sentiments\": 0.0}, {\"ratings\": \"5\", \"sentiments\": 0.3333333333333333}, {\"ratings\": \"5\", \"sentiments\": 1.0}, {\"ratings\": \"5\", \"sentiments\": 0.5}, {\"ratings\": \"5\", \"sentiments\": 1.0}, {\"ratings\": \"5\", \"sentiments\": 0.0}, {\"ratings\": \"5\", \"sentiments\": 0.09550383057629434}, {\"ratings\": \"5\", \"sentiments\": 0.03077323952836949}, {\"ratings\": \"5\", \"sentiments\": 0.037890031424514185}, {\"ratings\": \"5\", \"sentiments\": 0.5}, {\"ratings\": \"5\", \"sentiments\": 0.020833333333333332}, {\"ratings\": \"5\", \"sentiments\": 0.0}, {\"ratings\": \"5\", \"sentiments\": 0.0}, {\"ratings\": \"5\", \"sentiments\": 0.10104395604395604}, {\"ratings\": \"5\", \"sentiments\": 1.0}, {\"ratings\": \"5\", \"sentiments\": 0.04034164919748444}, {\"ratings\": \"5\", \"sentiments\": 0.17391304347826086}, {\"ratings\": \"5\", \"sentiments\": 0.10295063091165041}, {\"ratings\": \"5\", \"sentiments\": 0.0}, {\"ratings\": \"5\", \"sentiments\": 0.09412012279659338}, {\"ratings\": \"5\", \"sentiments\": 0.5}, {\"ratings\": \"5\", \"sentiments\": 0.04289146525988632}, {\"ratings\": \"5\", \"sentiments\": 0.013333333333333332}, {\"ratings\": \"5\", \"sentiments\": 0.06881079017301928}, {\"ratings\": \"5\", \"sentiments\": 0.03128383645531353}, {\"ratings\": \"5\", \"sentiments\": 0.0}, {\"ratings\": \"5\", \"sentiments\": 0.047619047619047616}, {\"ratings\": \"5\", \"sentiments\": 0.12436868686868686}, {\"ratings\": \"5\", \"sentiments\": 0.3333333333333333}, {\"ratings\": \"5\", \"sentiments\": 0.4}, {\"ratings\": \"5\", \"sentiments\": 0.5}, {\"ratings\": \"5\", \"sentiments\": 0.16666666666666666}, {\"ratings\": \"5\", \"sentiments\": 0.0}, {\"ratings\": \"5\", \"sentiments\": 0.0}, {\"ratings\": \"5\", \"sentiments\": 0.0}, {\"ratings\": \"5\", \"sentiments\": 1.0}, {\"ratings\": \"5\", \"sentiments\": 0.1388888888888889}, {\"ratings\": \"5\", \"sentiments\": 0.2}, {\"ratings\": \"5\", \"sentiments\": 0.0500957375957376}, {\"ratings\": \"5\", \"sentiments\": 0.0625}, {\"ratings\": \"5\", \"sentiments\": 0.16666666666666666}, {\"ratings\": \"5\", \"sentiments\": 0.020202020202020207}, {\"ratings\": \"5\", \"sentiments\": 0.0826920041938887}, {\"ratings\": \"5\", \"sentiments\": -0.25}, {\"ratings\": \"5\", \"sentiments\": -0.03333333333333333}, {\"ratings\": \"5\", \"sentiments\": 0.05009258418349327}, {\"ratings\": \"5\", \"sentiments\": -0.012698412698412697}, {\"ratings\": \"5\", \"sentiments\": 0.06672932330827067}, {\"ratings\": \"5\", \"sentiments\": 0.0}, {\"ratings\": \"5\", \"sentiments\": 0.3333333333333333}, {\"ratings\": \"5\", \"sentiments\": 0.10714285714285714}, {\"ratings\": \"5\", \"sentiments\": 0.09090909090909091}, {\"ratings\": \"5\", \"sentiments\": 0.3333333333333333}, {\"ratings\": \"5\", \"sentiments\": 1.0}, {\"ratings\": \"5\", \"sentiments\": 0.1680161943319838}, {\"ratings\": \"5\", \"sentiments\": 0.125}, {\"ratings\": \"5\", \"sentiments\": 0.5}, {\"ratings\": \"5\", \"sentiments\": 0.08583333333333333}, {\"ratings\": \"5\", \"sentiments\": 0.047595781297312234}, {\"ratings\": \"5\", \"sentiments\": 1.0}, {\"ratings\": \"5\", \"sentiments\": 0.3333333333333333}, {\"ratings\": \"5\", \"sentiments\": 0.41666666666666663}, {\"ratings\": \"5\", \"sentiments\": 0.1111111111111111}, {\"ratings\": \"5\", \"sentiments\": 0.5}, {\"ratings\": \"5\", \"sentiments\": -0.004273504273504268}, {\"ratings\": \"5\", \"sentiments\": 0.044522012067384105}, {\"ratings\": \"5\", \"sentiments\": 0.009299176109837872}, {\"ratings\": \"5\", \"sentiments\": 0.22000000000000003}, {\"ratings\": \"5\", \"sentiments\": 0.3416666666666667}, {\"ratings\": \"5\", \"sentiments\": 0.4}, {\"ratings\": \"5\", \"sentiments\": 0.00980392156862745}, {\"ratings\": \"5\", \"sentiments\": 0.12289562289562289}, {\"ratings\": \"5\", \"sentiments\": 0.2}, {\"ratings\": \"5\", \"sentiments\": 1.0}, {\"ratings\": \"5\", \"sentiments\": 0.09090909090909091}, {\"ratings\": \"5\", \"sentiments\": 0.07563025210084033}, {\"ratings\": \"5\", \"sentiments\": 0.20370370370370372}, {\"ratings\": \"5\", \"sentiments\": 0.5357142857142857}, {\"ratings\": \"5\", \"sentiments\": 0.04085670664618033}, {\"ratings\": \"5\", \"sentiments\": 0.0}, {\"ratings\": \"5\", \"sentiments\": -0.012499999999999997}, {\"ratings\": \"5\", \"sentiments\": 0.14634146341463414}, {\"ratings\": \"5\", \"sentiments\": -0.015096618357487922}, {\"ratings\": \"5\", \"sentiments\": 0.0}, {\"ratings\": \"5\", \"sentiments\": 0.035566448801742916}, {\"ratings\": \"5\", \"sentiments\": 0.03282950514163573}, {\"ratings\": \"5\", \"sentiments\": 0.06896551724137931}, {\"ratings\": \"5\", \"sentiments\": 0.14545454545454545}, {\"ratings\": \"5\", \"sentiments\": 0.5}, {\"ratings\": \"5\", \"sentiments\": 0.23697916666666666}, {\"ratings\": \"5\", \"sentiments\": -0.01625233426704015}, {\"ratings\": \"5\", \"sentiments\": 0.053570289359763046}, {\"ratings\": \"5\", \"sentiments\": 0.125}, {\"ratings\": \"5\", \"sentiments\": 0.3798076923076923}, {\"ratings\": \"5\", \"sentiments\": 0.0}, {\"ratings\": \"5\", \"sentiments\": -0.0035714285714285718}, {\"ratings\": \"5\", \"sentiments\": 0.060019841269841265}, {\"ratings\": \"5\", \"sentiments\": 0.027138328784400173}, {\"ratings\": \"5\", \"sentiments\": 0.0}, {\"ratings\": \"5\", \"sentiments\": 0.06435625335146866}, {\"ratings\": \"5\", \"sentiments\": 0.037037037037037035}, {\"ratings\": \"5\", \"sentiments\": 0.0}, {\"ratings\": \"5\", \"sentiments\": 0.5}, {\"ratings\": \"5\", \"sentiments\": 0.2777777777777778}, {\"ratings\": \"5\", \"sentiments\": 0.5}, {\"ratings\": \"5\", \"sentiments\": 0.05445298169702097}, {\"ratings\": \"5\", \"sentiments\": 0.04692185007974482}, {\"ratings\": \"5\", \"sentiments\": 0.1}, {\"ratings\": \"5\", \"sentiments\": 0.09382646339168077}, {\"ratings\": \"5\", \"sentiments\": 0.22857142857142856}, {\"ratings\": \"5\", \"sentiments\": 0.3333333333333333}, {\"ratings\": \"5\", \"sentiments\": -0.026328502415458938}, {\"ratings\": \"5\", \"sentiments\": 0.07692307692307693}, {\"ratings\": \"5\", \"sentiments\": 0.03125}, {\"ratings\": \"5\", \"sentiments\": 0.1}, {\"ratings\": \"5\", \"sentiments\": 0.4}, {\"ratings\": \"5\", \"sentiments\": 0.04517543859649123}, {\"ratings\": \"5\", \"sentiments\": 0.25}, {\"ratings\": \"5\", \"sentiments\": 1.0}, {\"ratings\": \"5\", \"sentiments\": 0.2}, {\"ratings\": \"5\", \"sentiments\": -0.2}, {\"ratings\": \"5\", \"sentiments\": 0.04760541001775224}, {\"ratings\": \"5\", \"sentiments\": 0.2}, {\"ratings\": \"5\", \"sentiments\": 0.1037037037037037}, {\"ratings\": \"5\", \"sentiments\": 0.3333333333333333}, {\"ratings\": \"5\", \"sentiments\": 0.3333333333333333}, {\"ratings\": \"5\", \"sentiments\": 0.23397435897435895}, {\"ratings\": \"5\", \"sentiments\": 0.025641025641025644}, {\"ratings\": \"5\", \"sentiments\": 0.19166666666666665}, {\"ratings\": \"5\", \"sentiments\": 0.027942909254962203}, {\"ratings\": \"5\", \"sentiments\": 0.1192207792207792}, {\"ratings\": \"5\", \"sentiments\": 0.5}, {\"ratings\": \"5\", \"sentiments\": 0.07060011883541295}, {\"ratings\": \"5\", \"sentiments\": 0.42857142857142855}, {\"ratings\": \"5\", \"sentiments\": 0.03238952923826874}, {\"ratings\": \"5\", \"sentiments\": 0.16666666666666666}, {\"ratings\": \"5\", \"sentiments\": 0.08526767350296761}, {\"ratings\": \"5\", \"sentiments\": 0.12320402298850575}, {\"ratings\": \"5\", \"sentiments\": -0.015151515151515152}, {\"ratings\": \"5\", \"sentiments\": 1.0}, {\"ratings\": \"5\", \"sentiments\": 0.5}, {\"ratings\": \"5\", \"sentiments\": 0.0}, {\"ratings\": \"5\", \"sentiments\": 0.1}, {\"ratings\": \"5\", \"sentiments\": 0.03225806451612903}, {\"ratings\": \"5\", \"sentiments\": 0.25}, {\"ratings\": \"5\", \"sentiments\": 0.07965307639220683}, {\"ratings\": \"5\", \"sentiments\": 0.08895502645502645}, {\"ratings\": \"5\", \"sentiments\": 0.06666666666666667}, {\"ratings\": \"5\", \"sentiments\": 0.04818181818181818}, {\"ratings\": \"5\", \"sentiments\": 0.10442150442150441}, {\"ratings\": \"5\", \"sentiments\": 0.0}, {\"ratings\": \"5\", \"sentiments\": 0.030381554762502278}, {\"ratings\": \"5\", \"sentiments\": 1.0}, {\"ratings\": \"5\", \"sentiments\": 0.34090909090909094}, {\"ratings\": \"5\", \"sentiments\": 0.08333333333333333}, {\"ratings\": \"5\", \"sentiments\": 0.041517959165017986}, {\"ratings\": \"5\", \"sentiments\": 0.0}, {\"ratings\": \"5\", \"sentiments\": 0.5}, {\"ratings\": \"5\", \"sentiments\": 0.04722222222222222}, {\"ratings\": \"5\", \"sentiments\": 0.0}, {\"ratings\": \"5\", \"sentiments\": 0.0}, {\"ratings\": \"5\", \"sentiments\": 0.0}, {\"ratings\": \"5\", \"sentiments\": 0.3333333333333333}, {\"ratings\": \"5\", \"sentiments\": 0.25}, {\"ratings\": \"5\", \"sentiments\": 0.09523809523809523}, {\"ratings\": \"5\", \"sentiments\": 0.5}, {\"ratings\": \"5\", \"sentiments\": 0.5}, {\"ratings\": \"5\", \"sentiments\": 1.0}, {\"ratings\": \"5\", \"sentiments\": 0.10130249867091973}, {\"ratings\": \"5\", \"sentiments\": 1.0}, {\"ratings\": \"5\", \"sentiments\": 0.0021912611198325487}, {\"ratings\": \"5\", \"sentiments\": 0.0}, {\"ratings\": \"5\", \"sentiments\": 0.09090909090909091}, {\"ratings\": \"5\", \"sentiments\": 0.09523809523809523}, {\"ratings\": \"5\", \"sentiments\": 0.0772108843537415}, {\"ratings\": \"5\", \"sentiments\": 0.008728491396558624}, {\"ratings\": \"5\", \"sentiments\": 0.0899202105084458}, {\"ratings\": \"5\", \"sentiments\": 0.0}, {\"ratings\": \"5\", \"sentiments\": 0.09413919413919414}, {\"ratings\": \"5\", \"sentiments\": 0.17045454545454547}, {\"ratings\": \"5\", \"sentiments\": 0.5}, {\"ratings\": \"5\", \"sentiments\": 0.0787037037037037}, {\"ratings\": \"5\", \"sentiments\": 0.0}, {\"ratings\": \"5\", \"sentiments\": 0.2222222222222222}, {\"ratings\": \"5\", \"sentiments\": 0.16666666666666666}, {\"ratings\": \"5\", \"sentiments\": 0.01937569771271}, {\"ratings\": \"5\", \"sentiments\": -0.0155773885641213}, {\"ratings\": \"5\", \"sentiments\": 0.02}, {\"ratings\": \"5\", \"sentiments\": 0.5}, {\"ratings\": \"5\", \"sentiments\": 0.18333333333333332}, {\"ratings\": \"5\", \"sentiments\": 0.25}, {\"ratings\": \"5\", \"sentiments\": 0.12839845339845338}, {\"ratings\": \"5\", \"sentiments\": 0.12163110698824983}, {\"ratings\": \"5\", \"sentiments\": 0.125}, {\"ratings\": \"5\", \"sentiments\": 0.055384615384615386}, {\"ratings\": \"5\", \"sentiments\": 0.025828368561404948}, {\"ratings\": \"5\", \"sentiments\": 0.3125}, {\"ratings\": \"5\", \"sentiments\": -0.09090909090909091}, {\"ratings\": \"5\", \"sentiments\": 0.03282828282828283}, {\"ratings\": \"5\", \"sentiments\": 0.5}, {\"ratings\": \"5\", \"sentiments\": 0.42857142857142855}, {\"ratings\": \"5\", \"sentiments\": 0.14285714285714285}, {\"ratings\": \"5\", \"sentiments\": 0.5}, {\"ratings\": \"5\", \"sentiments\": -0.0625}, {\"ratings\": \"5\", \"sentiments\": 0.052923158468775634}, {\"ratings\": \"5\", \"sentiments\": 0.03081464618124325}, {\"ratings\": \"5\", \"sentiments\": -0.013888888888888888}, {\"ratings\": \"5\", \"sentiments\": 0.23809523809523808}, {\"ratings\": \"5\", \"sentiments\": 0.12925170068027209}, {\"ratings\": \"5\", \"sentiments\": 0.3333333333333333}, {\"ratings\": \"5\", \"sentiments\": 0.3333333333333333}, {\"ratings\": \"5\", \"sentiments\": 0.29166666666666663}, {\"ratings\": \"5\", \"sentiments\": 0.3333333333333333}, {\"ratings\": \"5\", \"sentiments\": 0.11309523809523808}, {\"ratings\": \"5\", \"sentiments\": 0.125}, {\"ratings\": \"5\", \"sentiments\": 0.5}, {\"ratings\": \"5\", \"sentiments\": 1.0}, {\"ratings\": \"5\", \"sentiments\": 0.25}, {\"ratings\": \"5\", \"sentiments\": 0.031067251461988302}, {\"ratings\": \"5\", \"sentiments\": 0.1875}, {\"ratings\": \"5\", \"sentiments\": 0.04562962962962963}, {\"ratings\": \"5\", \"sentiments\": 0.028764665286404416}, {\"ratings\": \"5\", \"sentiments\": 0.060584703967056903}, {\"ratings\": \"5\", \"sentiments\": 0.013901285476362876}, {\"ratings\": \"5\", \"sentiments\": 0.0}, {\"ratings\": \"5\", \"sentiments\": 0.4}, {\"ratings\": \"5\", \"sentiments\": -0.08333333333333333}, {\"ratings\": \"5\", \"sentiments\": 0.21587301587301586}, {\"ratings\": \"5\", \"sentiments\": 0.09782608695652173}, {\"ratings\": \"5\", \"sentiments\": -0.013717519279745556}, {\"ratings\": \"5\", \"sentiments\": 0.14285714285714285}, {\"ratings\": \"5\", \"sentiments\": 0.21052631578947367}, {\"ratings\": \"5\", \"sentiments\": 0.11158594491927826}, {\"ratings\": \"5\", \"sentiments\": 0.07550896667206829}, {\"ratings\": \"5\", \"sentiments\": 0.5}, {\"ratings\": \"5\", \"sentiments\": 0.03721930243669374}, {\"ratings\": \"5\", \"sentiments\": 0.050595238095238096}, {\"ratings\": \"5\", \"sentiments\": 0.03332099425122681}, {\"ratings\": \"5\", \"sentiments\": 0.25}, {\"ratings\": \"5\", \"sentiments\": 0.08707264957264957}, {\"ratings\": \"5\", \"sentiments\": 0.04238638120217067}, {\"ratings\": \"5\", \"sentiments\": 0.02841640929876224}, {\"ratings\": \"5\", \"sentiments\": 0.08695563695563695}, {\"ratings\": \"5\", \"sentiments\": 0.1}, {\"ratings\": \"5\", \"sentiments\": 0.0}, {\"ratings\": \"5\", \"sentiments\": 0.04285714285714286}, {\"ratings\": \"5\", \"sentiments\": -0.003147395819297346}, {\"ratings\": \"5\", \"sentiments\": 0.15384615384615385}, {\"ratings\": \"5\", \"sentiments\": 0.041666666666666664}, {\"ratings\": \"5\", \"sentiments\": -0.009697044501566067}, {\"ratings\": \"5\", \"sentiments\": 0.14285714285714285}, {\"ratings\": \"5\", \"sentiments\": 0.024390243902439025}, {\"ratings\": \"5\", \"sentiments\": 0.13636363636363635}, {\"ratings\": \"5\", \"sentiments\": 0.13095238095238093}, {\"ratings\": \"5\", \"sentiments\": -0.005720899470899469}, {\"ratings\": \"5\", \"sentiments\": 0.0}, {\"ratings\": \"5\", \"sentiments\": -0.03282476224662253}, {\"ratings\": \"5\", \"sentiments\": 0.1}, {\"ratings\": \"5\", \"sentiments\": 0.008040767751798582}, {\"ratings\": \"5\", \"sentiments\": 0.0625}, {\"ratings\": \"5\", \"sentiments\": 0.10344827586206896}, {\"ratings\": \"5\", \"sentiments\": 0.08534929123164418}, {\"ratings\": \"5\", \"sentiments\": 0.1148141074611663}, {\"ratings\": \"5\", \"sentiments\": -0.011204481792717089}, {\"ratings\": \"5\", \"sentiments\": 0.25}, {\"ratings\": \"5\", \"sentiments\": 1.0}, {\"ratings\": \"5\", \"sentiments\": 1.0}, {\"ratings\": \"5\", \"sentiments\": -0.056332198377652916}, {\"ratings\": \"5\", \"sentiments\": 0.4}, {\"ratings\": \"5\", \"sentiments\": 0.03771226359342132}, {\"ratings\": \"5\", \"sentiments\": 0.1633024322169059}, {\"ratings\": \"5\", \"sentiments\": 0.23529411764705882}, {\"ratings\": \"5\", \"sentiments\": 0.045454545454545456}, {\"ratings\": \"5\", \"sentiments\": 0.11688311688311688}, {\"ratings\": \"5\", \"sentiments\": 1.0}, {\"ratings\": \"5\", \"sentiments\": 0.08333333333333333}, {\"ratings\": \"5\", \"sentiments\": 1.0}, {\"ratings\": \"5\", \"sentiments\": 0.03251836611811036}, {\"ratings\": \"5\", \"sentiments\": 0.5}, {\"ratings\": \"5\", \"sentiments\": 0.05518394648829432}, {\"ratings\": \"5\", \"sentiments\": 0.04062333677718293}, {\"ratings\": \"5\", \"sentiments\": 0.16666666666666666}, {\"ratings\": \"5\", \"sentiments\": 0.005544045196803376}, {\"ratings\": \"5\", \"sentiments\": 1.0}, {\"ratings\": \"5\", \"sentiments\": 0.06574500768049155}, {\"ratings\": \"5\", \"sentiments\": 0.045454545454545456}, {\"ratings\": \"5\", \"sentiments\": 0.0625}, {\"ratings\": \"5\", \"sentiments\": 0.014285714285714284}, {\"ratings\": \"5\", \"sentiments\": 0.023809523809523808}, {\"ratings\": \"5\", \"sentiments\": 0.1}, {\"ratings\": \"5\", \"sentiments\": 0.0030189109136477543}, {\"ratings\": \"5\", \"sentiments\": 0.0}, {\"ratings\": \"5\", \"sentiments\": 0.04493284493284493}, {\"ratings\": \"5\", \"sentiments\": 0.08333333333333333}, {\"ratings\": \"5\", \"sentiments\": 0.15}, {\"ratings\": \"5\", \"sentiments\": -0.003659611992945327}, {\"ratings\": \"5\", \"sentiments\": 0.0}, {\"ratings\": \"5\", \"sentiments\": 0.05606060606060606}, {\"ratings\": \"5\", \"sentiments\": 0.046119356833642544}, {\"ratings\": \"5\", \"sentiments\": 0.29304029304029305}, {\"ratings\": \"5\", \"sentiments\": 0.21739130434782608}, {\"ratings\": \"5\", \"sentiments\": 0.5}, {\"ratings\": \"5\", \"sentiments\": 0.25}, {\"ratings\": \"5\", \"sentiments\": 0.041666666666666664}, {\"ratings\": \"5\", \"sentiments\": 0.22601010101010102}, {\"ratings\": \"5\", \"sentiments\": 0.08973783891547049}, {\"ratings\": \"5\", \"sentiments\": 0.0292039442039442}, {\"ratings\": \"5\", \"sentiments\": 0.1444805194805195}, {\"ratings\": \"5\", \"sentiments\": 0.050362933634992446}, {\"ratings\": \"5\", \"sentiments\": 0.1077946127946128}, {\"ratings\": \"5\", \"sentiments\": -0.06470588235294118}, {\"ratings\": \"5\", \"sentiments\": 0.1513157894736842}, {\"ratings\": \"5\", \"sentiments\": 0.060567877550799745}, {\"ratings\": \"5\", \"sentiments\": 0.0625}, {\"ratings\": \"5\", \"sentiments\": 0.08423913043478261}, {\"ratings\": \"5\", \"sentiments\": 0.10555555555555556}, {\"ratings\": \"5\", \"sentiments\": 0.045454545454545456}, {\"ratings\": \"5\", \"sentiments\": 0.08373554759857951}, {\"ratings\": \"5\", \"sentiments\": 0.3333333333333333}, {\"ratings\": \"5\", \"sentiments\": 0.125}, {\"ratings\": \"5\", \"sentiments\": 0.035238095238095235}, {\"ratings\": \"5\", \"sentiments\": 0.15079365079365079}, {\"ratings\": \"5\", \"sentiments\": 0.25}, {\"ratings\": \"5\", \"sentiments\": 0.037037037037037035}, {\"ratings\": \"5\", \"sentiments\": 0.09285714285714285}, {\"ratings\": \"5\", \"sentiments\": 0.0}, {\"ratings\": \"5\", \"sentiments\": 0.0336381137296469}, {\"ratings\": \"5\", \"sentiments\": 0.00917957144979204}, {\"ratings\": \"5\", \"sentiments\": 0.3333333333333333}, {\"ratings\": \"5\", \"sentiments\": 0.05177109440267334}, {\"ratings\": \"5\", \"sentiments\": 0.4}, {\"ratings\": \"5\", \"sentiments\": 0.16666666666666666}, {\"ratings\": \"5\", \"sentiments\": 0.16666666666666666}, {\"ratings\": \"5\", \"sentiments\": 0.0402535955902829}, {\"ratings\": \"5\", \"sentiments\": 0.007575757575757583}, {\"ratings\": \"5\", \"sentiments\": 0.25}, {\"ratings\": \"5\", \"sentiments\": 0.0}, {\"ratings\": \"5\", \"sentiments\": 1.0}, {\"ratings\": \"5\", \"sentiments\": 0.16666666666666666}, {\"ratings\": \"5\", \"sentiments\": 0.08823529411764706}, {\"ratings\": \"5\", \"sentiments\": 0.014807797040122707}, {\"ratings\": \"5\", \"sentiments\": 0.2}, {\"ratings\": \"5\", \"sentiments\": 0.16666666666666666}, {\"ratings\": \"5\", \"sentiments\": 0.5}, {\"ratings\": \"5\", \"sentiments\": 0.015343915343915342}, {\"ratings\": \"5\", \"sentiments\": 1.0}, {\"ratings\": \"5\", \"sentiments\": 0.0}, {\"ratings\": \"5\", \"sentiments\": 0.3333333333333333}, {\"ratings\": \"5\", \"sentiments\": 0.1875}, {\"ratings\": \"5\", \"sentiments\": 0.09090909090909091}, {\"ratings\": \"5\", \"sentiments\": 1.0}, {\"ratings\": \"5\", \"sentiments\": 0.16111111111111112}, {\"ratings\": \"5\", \"sentiments\": 0.01600250790922483}, {\"ratings\": \"5\", \"sentiments\": 0.3333333333333333}, {\"ratings\": \"5\", \"sentiments\": 0.4}, {\"ratings\": \"5\", \"sentiments\": 0.08333333333333333}, {\"ratings\": \"5\", \"sentiments\": 0.165}, {\"ratings\": \"5\", \"sentiments\": 0.07142857142857142}, {\"ratings\": \"5\", \"sentiments\": 0.06910329478920073}, {\"ratings\": \"5\", \"sentiments\": 0.09090909090909091}, {\"ratings\": \"5\", \"sentiments\": 0.06767088547274304}, {\"ratings\": \"5\", \"sentiments\": 0.11904761904761904}, {\"ratings\": \"5\", \"sentiments\": 0.025147754503600565}, {\"ratings\": \"5\", \"sentiments\": 0.041666666666666664}, {\"ratings\": \"5\", \"sentiments\": 0.16249999999999998}, {\"ratings\": \"5\", \"sentiments\": -0.05}, {\"ratings\": \"5\", \"sentiments\": 0.07142857142857142}, {\"ratings\": \"5\", \"sentiments\": 0.0}, {\"ratings\": \"5\", \"sentiments\": 0.025641025641025644}, {\"ratings\": \"5\", \"sentiments\": 0.05442028985507246}, {\"ratings\": \"5\", \"sentiments\": 0.045454545454545456}, {\"ratings\": \"5\", \"sentiments\": 0.08084415584415584}, {\"ratings\": \"5\", \"sentiments\": 0.1111111111111111}, {\"ratings\": \"5\", \"sentiments\": 0.044444444444444446}, {\"ratings\": \"5\", \"sentiments\": 0.14882154882154883}, {\"ratings\": \"5\", \"sentiments\": 0.06729992573645824}, {\"ratings\": \"5\", \"sentiments\": 0.0403724217618741}, {\"ratings\": \"5\", \"sentiments\": 0.5}, {\"ratings\": \"5\", \"sentiments\": 0.25}, {\"ratings\": \"5\", \"sentiments\": 1.0}, {\"ratings\": \"5\", \"sentiments\": 0.0}, {\"ratings\": \"5\", \"sentiments\": 0.20689655172413793}, {\"ratings\": \"5\", \"sentiments\": 0.05}, {\"ratings\": \"5\", \"sentiments\": 0.3333333333333333}, {\"ratings\": \"5\", \"sentiments\": 0.007299771692575289}, {\"ratings\": \"5\", \"sentiments\": 0.1037037037037037}, {\"ratings\": \"5\", \"sentiments\": 0.3333333333333333}, {\"ratings\": \"5\", \"sentiments\": 0.002941176470588234}, {\"ratings\": \"5\", \"sentiments\": 0.006812169312169312}, {\"ratings\": \"5\", \"sentiments\": 0.02122224136327393}, {\"ratings\": \"5\", \"sentiments\": 0.125}, {\"ratings\": \"5\", \"sentiments\": -0.1111111111111111}, {\"ratings\": \"5\", \"sentiments\": -0.0795834282676388}, {\"ratings\": \"5\", \"sentiments\": 0.02488293115401345}, {\"ratings\": \"5\", \"sentiments\": 0.044444444444444446}, {\"ratings\": \"5\", \"sentiments\": 0.2222222222222222}, {\"ratings\": \"5\", \"sentiments\": -0.04}, {\"ratings\": \"5\", \"sentiments\": 0.04137769914212071}, {\"ratings\": \"5\", \"sentiments\": 0.09196428571428572}, {\"ratings\": \"5\", \"sentiments\": 0.0}, {\"ratings\": \"5\", \"sentiments\": 0.022399203599694755}, {\"ratings\": \"5\", \"sentiments\": 0.0}, {\"ratings\": \"5\", \"sentiments\": 0.022619047619047615}, {\"ratings\": \"5\", \"sentiments\": 1.0}, {\"ratings\": \"5\", \"sentiments\": 0.0}, {\"ratings\": \"5\", \"sentiments\": 0.09090909090909091}, {\"ratings\": \"5\", \"sentiments\": 0.0}, {\"ratings\": \"5\", \"sentiments\": 0.0}, {\"ratings\": \"5\", \"sentiments\": 0.5}, {\"ratings\": \"5\", \"sentiments\": 0.05}, {\"ratings\": \"5\", \"sentiments\": 0.07999999999999999}, {\"ratings\": \"5\", \"sentiments\": -0.0023148148148148147}, {\"ratings\": \"5\", \"sentiments\": 0.25}, {\"ratings\": \"5\", \"sentiments\": 0.05555555555555555}, {\"ratings\": \"5\", \"sentiments\": 0.041666666666666664}, {\"ratings\": \"5\", \"sentiments\": 0.125}, {\"ratings\": \"5\", \"sentiments\": 0.10101010101010101}, {\"ratings\": \"5\", \"sentiments\": 0.04804891015417332}, {\"ratings\": \"5\", \"sentiments\": 0.08928571428571429}, {\"ratings\": \"5\", \"sentiments\": 0.08333333333333333}, {\"ratings\": \"5\", \"sentiments\": 0.3333333333333333}, {\"ratings\": \"5\", \"sentiments\": 0.12698412698412698}, {\"ratings\": \"5\", \"sentiments\": 0.6666666666666666}, {\"ratings\": \"5\", \"sentiments\": 0.0}, {\"ratings\": \"5\", \"sentiments\": 0.020833333333333332}, {\"ratings\": \"5\", \"sentiments\": -0.0024979817798711636}, {\"ratings\": \"5\", \"sentiments\": 0.0}, {\"ratings\": \"5\", \"sentiments\": 0.6666666666666666}, {\"ratings\": \"5\", \"sentiments\": 0.4444444444444444}, {\"ratings\": \"5\", \"sentiments\": 0.03758602164642435}, {\"ratings\": \"5\", \"sentiments\": 0.0}, {\"ratings\": \"5\", \"sentiments\": 0.1324242424242424}, {\"ratings\": \"5\", \"sentiments\": 0.04702871097423236}, {\"ratings\": \"5\", \"sentiments\": 0.11458333333333333}, {\"ratings\": \"5\", \"sentiments\": 0.068140589569161}, {\"ratings\": \"5\", \"sentiments\": 0.03125}, {\"ratings\": \"5\", \"sentiments\": 0.11587816944959803}, {\"ratings\": \"5\", \"sentiments\": 0.038461538461538464}, {\"ratings\": \"5\", \"sentiments\": 0.08254776269482153}, {\"ratings\": \"5\", \"sentiments\": 0.5}, {\"ratings\": \"5\", \"sentiments\": 0.06212121212121212}, {\"ratings\": \"5\", \"sentiments\": 0.0625}, {\"ratings\": \"5\", \"sentiments\": 0.2}, {\"ratings\": \"5\", \"sentiments\": 0.12258454106280192}, {\"ratings\": \"5\", \"sentiments\": 0.0}, {\"ratings\": \"5\", \"sentiments\": 0.0}, {\"ratings\": \"5\", \"sentiments\": 0.0625}, {\"ratings\": \"5\", \"sentiments\": 0.0}, {\"ratings\": \"5\", \"sentiments\": -0.00027971715001790166}, {\"ratings\": \"5\", \"sentiments\": 0.0275990589838629}, {\"ratings\": \"5\", \"sentiments\": 1.0}, {\"ratings\": \"5\", \"sentiments\": 0.75}, {\"ratings\": \"5\", \"sentiments\": 0.0625}, {\"ratings\": \"5\", \"sentiments\": 0.041666666666666664}, {\"ratings\": \"5\", \"sentiments\": 0.0417338046329643}, {\"ratings\": \"5\", \"sentiments\": 0.1}, {\"ratings\": \"5\", \"sentiments\": 0.045454545454545456}, {\"ratings\": \"5\", \"sentiments\": 0.02083333333333333}, {\"ratings\": \"5\", \"sentiments\": 0.16666666666666666}, {\"ratings\": \"5\", \"sentiments\": 0.0854469507101086}, {\"ratings\": \"5\", \"sentiments\": 0.15625}, {\"ratings\": \"5\", \"sentiments\": 0.13434831667914374}, {\"ratings\": \"5\", \"sentiments\": 0.18181818181818182}, {\"ratings\": \"5\", \"sentiments\": 0.1111111111111111}, {\"ratings\": \"5\", \"sentiments\": 0.14285714285714285}, {\"ratings\": \"5\", \"sentiments\": 0.05}, {\"ratings\": \"5\", \"sentiments\": 0.0}, {\"ratings\": \"5\", \"sentiments\": 0.11764705882352941}, {\"ratings\": \"5\", \"sentiments\": 0.0}, {\"ratings\": \"5\", \"sentiments\": 0.13541666666666666}, {\"ratings\": \"5\", \"sentiments\": 0.16666666666666666}, {\"ratings\": \"5\", \"sentiments\": 0.06666666666666667}, {\"ratings\": \"5\", \"sentiments\": 0.0}, {\"ratings\": \"5\", \"sentiments\": -0.05952380952380952}, {\"ratings\": \"5\", \"sentiments\": 0.13043478260869565}, {\"ratings\": \"5\", \"sentiments\": 0.07564102564102565}, {\"ratings\": \"5\", \"sentiments\": 0.5}, {\"ratings\": \"5\", \"sentiments\": 0.05399504725485117}, {\"ratings\": \"5\", \"sentiments\": 0.07692307692307693}, {\"ratings\": \"5\", \"sentiments\": 0.022913855150697254}, {\"ratings\": \"5\", \"sentiments\": 0.041666666666666664}, {\"ratings\": \"5\", \"sentiments\": 0.05782560178542963}, {\"ratings\": \"5\", \"sentiments\": 0.039909706313202134}, {\"ratings\": \"5\", \"sentiments\": 0.2}, {\"ratings\": \"5\", \"sentiments\": 0.06153846153846154}, {\"ratings\": \"5\", \"sentiments\": 0.016340067520408078}, {\"ratings\": \"5\", \"sentiments\": 0.3333333333333333}, {\"ratings\": \"5\", \"sentiments\": 0.13055555555555554}, {\"ratings\": \"5\", \"sentiments\": 1.0}, {\"ratings\": \"5\", \"sentiments\": 0.19642857142857142}, {\"ratings\": \"5\", \"sentiments\": -0.011398467432950194}, {\"ratings\": \"5\", \"sentiments\": 0.2857142857142857}, {\"ratings\": \"5\", \"sentiments\": 0.2607142857142857}, {\"ratings\": \"5\", \"sentiments\": 0.5}, {\"ratings\": \"5\", \"sentiments\": 0.05357142857142857}, {\"ratings\": \"5\", \"sentiments\": 0.08127369706317074}, {\"ratings\": \"5\", \"sentiments\": -0.01882201460561661}, {\"ratings\": \"5\", \"sentiments\": 0.5}, {\"ratings\": \"5\", \"sentiments\": 0.0}, {\"ratings\": \"5\", \"sentiments\": 0.1111111111111111}, {\"ratings\": \"5\", \"sentiments\": 0.17067873303167422}, {\"ratings\": \"5\", \"sentiments\": 1.0}, {\"ratings\": \"5\", \"sentiments\": 0.01663694655810718}, {\"ratings\": \"5\", \"sentiments\": 0.04710195060644835}, {\"ratings\": \"5\", \"sentiments\": 0.09090909090909091}, {\"ratings\": \"5\", \"sentiments\": 0.038461538461538464}, {\"ratings\": \"5\", \"sentiments\": 0.02976190476190476}, {\"ratings\": \"5\", \"sentiments\": 0.375}, {\"ratings\": \"5\", \"sentiments\": 0.25}, {\"ratings\": \"5\", \"sentiments\": 0.03158949745906268}, {\"ratings\": \"5\", \"sentiments\": 0.06363636363636364}, {\"ratings\": \"5\", \"sentiments\": 0.5416666666666666}, {\"ratings\": \"5\", \"sentiments\": 0.25}, {\"ratings\": \"5\", \"sentiments\": 0.037698412698412696}, {\"ratings\": \"5\", \"sentiments\": 0.16666666666666666}, {\"ratings\": \"5\", \"sentiments\": 0.10777777777777779}, {\"ratings\": \"5\", \"sentiments\": 0.25}, {\"ratings\": \"5\", \"sentiments\": 1.0}, {\"ratings\": \"5\", \"sentiments\": 0.02727005852005852}, {\"ratings\": \"5\", \"sentiments\": 0.16666666666666666}, {\"ratings\": \"5\", \"sentiments\": 0.045081789491243696}, {\"ratings\": \"5\", \"sentiments\": 0.2}, {\"ratings\": \"5\", \"sentiments\": 0.1}, {\"ratings\": \"5\", \"sentiments\": 0.2}, {\"ratings\": \"5\", \"sentiments\": 0.5}, {\"ratings\": \"5\", \"sentiments\": 0.16666666666666666}, {\"ratings\": \"5\", \"sentiments\": 0.025324675324675326}, {\"ratings\": \"5\", \"sentiments\": 1.0}, {\"ratings\": \"5\", \"sentiments\": 0.12142857142857143}, {\"ratings\": \"5\", \"sentiments\": 0.021892499263188914}, {\"ratings\": \"5\", \"sentiments\": 0.25}, {\"ratings\": \"5\", \"sentiments\": 0.06944444444444445}, {\"ratings\": \"5\", \"sentiments\": 1.0}, {\"ratings\": \"5\", \"sentiments\": 0.125}, {\"ratings\": \"5\", \"sentiments\": 0.044999916851235305}, {\"ratings\": \"5\", \"sentiments\": 0.16666666666666666}, {\"ratings\": \"5\", \"sentiments\": 0.21428571428571427}, {\"ratings\": \"5\", \"sentiments\": 0.08645604395604395}, {\"ratings\": \"5\", \"sentiments\": -0.005523781418922083}, {\"ratings\": \"5\", \"sentiments\": 0.3333333333333333}, {\"ratings\": \"5\", \"sentiments\": -0.041666666666666664}, {\"ratings\": \"5\", \"sentiments\": 0.03773584905660377}, {\"ratings\": \"5\", \"sentiments\": 0.03333333333333333}, {\"ratings\": \"5\", \"sentiments\": 0.08409795542148484}, {\"ratings\": \"5\", \"sentiments\": 0.2857142857142857}, {\"ratings\": \"5\", \"sentiments\": 0.5}, {\"ratings\": \"5\", \"sentiments\": 0.5}, {\"ratings\": \"5\", \"sentiments\": 0.13095238095238093}, {\"ratings\": \"5\", \"sentiments\": -0.004085576259489304}, {\"ratings\": \"5\", \"sentiments\": 0.1}, {\"ratings\": \"5\", \"sentiments\": 0.002701551451551447}, {\"ratings\": \"5\", \"sentiments\": 1.0}, {\"ratings\": \"5\", \"sentiments\": 0.024774344566161868}, {\"ratings\": \"5\", \"sentiments\": 0.14285714285714285}, {\"ratings\": \"5\", \"sentiments\": -0.019311290709595794}, {\"ratings\": \"5\", \"sentiments\": 0.3333333333333333}, {\"ratings\": \"5\", \"sentiments\": 0.04415954415954416}, {\"ratings\": \"5\", \"sentiments\": 0.2857142857142857}, {\"ratings\": \"5\", \"sentiments\": 0.05601408395526042}, {\"ratings\": \"5\", \"sentiments\": 0.20277777777777778}, {\"ratings\": \"5\", \"sentiments\": 0.03125}, {\"ratings\": \"5\", \"sentiments\": 0.03508769359388555}, {\"ratings\": \"5\", \"sentiments\": 0.0303207671957672}, {\"ratings\": \"5\", \"sentiments\": 0.039423374512827396}, {\"ratings\": \"5\", \"sentiments\": 0.3333333333333333}, {\"ratings\": \"5\", \"sentiments\": 0.1167857142857143}, {\"ratings\": \"5\", \"sentiments\": 0.03484848484848485}, {\"ratings\": \"5\", \"sentiments\": 0.037797088532382644}, {\"ratings\": \"5\", \"sentiments\": 0.020042319356343742}, {\"ratings\": \"5\", \"sentiments\": 0.0611201262114041}, {\"ratings\": \"5\", \"sentiments\": 0.05}, {\"ratings\": \"5\", \"sentiments\": 1.0}, {\"ratings\": \"5\", \"sentiments\": 0.02631578947368421}, {\"ratings\": \"5\", \"sentiments\": 0.5}, {\"ratings\": \"5\", \"sentiments\": 0.0}, {\"ratings\": \"5\", \"sentiments\": 0.5}, {\"ratings\": \"5\", \"sentiments\": 0.034506866302008034}, {\"ratings\": \"5\", \"sentiments\": 0.2857142857142857}, {\"ratings\": \"5\", \"sentiments\": 0.14285714285714285}, {\"ratings\": \"5\", \"sentiments\": 0.0}, {\"ratings\": \"5\", \"sentiments\": 0.5833333333333334}, {\"ratings\": \"5\", \"sentiments\": 0.04385056845011079}, {\"ratings\": \"5\", \"sentiments\": -0.011904761904761904}, {\"ratings\": \"5\", \"sentiments\": 0.2450980392156863}, {\"ratings\": \"5\", \"sentiments\": 0.5}, {\"ratings\": \"5\", \"sentiments\": 0.00017607636028688445}, {\"ratings\": \"5\", \"sentiments\": 0.03879427545129523}, {\"ratings\": \"5\", \"sentiments\": 0.017045454545454544}, {\"ratings\": \"5\", \"sentiments\": 0.04089555042022349}, {\"ratings\": \"5\", \"sentiments\": 0.0352125147579693}, {\"ratings\": \"5\", \"sentiments\": 0.13333333333333333}, {\"ratings\": \"5\", \"sentiments\": 0.034534419828537485}, {\"ratings\": \"5\", \"sentiments\": 0.06032114144359042}, {\"ratings\": \"5\", \"sentiments\": 0.09545454545454546}, {\"ratings\": \"5\", \"sentiments\": 0.1111111111111111}, {\"ratings\": \"5\", \"sentiments\": 0.11499999999999999}, {\"ratings\": \"5\", \"sentiments\": 0.06318181818181819}, {\"ratings\": \"5\", \"sentiments\": 0.1038856427589907}, {\"ratings\": \"5\", \"sentiments\": 0.13847370578139806}, {\"ratings\": \"5\", \"sentiments\": 0.20833333333333334}, {\"ratings\": \"5\", \"sentiments\": 0.03878205128205128}, {\"ratings\": \"5\", \"sentiments\": 0.3611111111111111}, {\"ratings\": \"5\", \"sentiments\": 0.053549861973775016}, {\"ratings\": \"5\", \"sentiments\": 0.12215431627196334}, {\"ratings\": \"5\", \"sentiments\": 0.11138306138306138}, {\"ratings\": \"5\", \"sentiments\": 0.1111111111111111}, {\"ratings\": \"5\", \"sentiments\": 0.0}, {\"ratings\": \"5\", \"sentiments\": 0.0}, {\"ratings\": \"5\", \"sentiments\": 0.045454545454545456}, {\"ratings\": \"5\", \"sentiments\": 0.5}, {\"ratings\": \"5\", \"sentiments\": 0.0}, {\"ratings\": \"5\", \"sentiments\": 0.5}, {\"ratings\": \"5\", \"sentiments\": 0.20370370370370372}, {\"ratings\": \"5\", \"sentiments\": 0.5}, {\"ratings\": \"5\", \"sentiments\": 0.3125}, {\"ratings\": \"5\", \"sentiments\": 0.11944444444444442}, {\"ratings\": \"5\", \"sentiments\": 0.12878787878787878}, {\"ratings\": \"5\", \"sentiments\": 0.14404761904761904}, {\"ratings\": \"5\", \"sentiments\": 0.05071121846484165}, {\"ratings\": \"5\", \"sentiments\": 0.07692307692307693}, {\"ratings\": \"5\", \"sentiments\": 0.0}, {\"ratings\": \"5\", \"sentiments\": 0.0625}, {\"ratings\": \"5\", \"sentiments\": -0.04209461562402739}, {\"ratings\": \"5\", \"sentiments\": 0.10555555555555556}, {\"ratings\": \"5\", \"sentiments\": 0.02961700072674903}, {\"ratings\": \"5\", \"sentiments\": 0.071504884004884}, {\"ratings\": \"5\", \"sentiments\": 0.08333333333333333}, {\"ratings\": \"5\", \"sentiments\": 0.5}, {\"ratings\": \"5\", \"sentiments\": 0.5}, {\"ratings\": \"5\", \"sentiments\": -0.04900793650793651}, {\"ratings\": \"5\", \"sentiments\": 0.015026132404181184}, {\"ratings\": \"5\", \"sentiments\": -0.03488372093023256}, {\"ratings\": \"5\", \"sentiments\": 0.10833333333333334}, {\"ratings\": \"5\", \"sentiments\": 1.0}, {\"ratings\": \"5\", \"sentiments\": 0.0}, {\"ratings\": \"5\", \"sentiments\": 0.375}, {\"ratings\": \"5\", \"sentiments\": 0.043478260869565216}, {\"ratings\": \"5\", \"sentiments\": 0.04188214885889304}, {\"ratings\": \"5\", \"sentiments\": 0.08333333333333333}, {\"ratings\": \"5\", \"sentiments\": 0.18}, {\"ratings\": \"5\", \"sentiments\": 0.5}, {\"ratings\": \"5\", \"sentiments\": 0.4}, {\"ratings\": \"5\", \"sentiments\": 0.013614163614163614}, {\"ratings\": \"5\", \"sentiments\": 0.07954545454545454}, {\"ratings\": \"5\", \"sentiments\": 0.5}, {\"ratings\": \"5\", \"sentiments\": 0.24}, {\"ratings\": \"5\", \"sentiments\": 0.28125}, {\"ratings\": \"5\", \"sentiments\": 0.03599114064230343}, {\"ratings\": \"5\", \"sentiments\": 0.125}, {\"ratings\": \"5\", \"sentiments\": 0.022108843537414966}, {\"ratings\": \"5\", \"sentiments\": -0.010416666666666666}, {\"ratings\": \"5\", \"sentiments\": 0.2333333333333333}, {\"ratings\": \"5\", \"sentiments\": -0.03333333333333333}, {\"ratings\": \"5\", \"sentiments\": 0.3333333333333333}, {\"ratings\": \"5\", \"sentiments\": 0.25}, {\"ratings\": \"5\", \"sentiments\": 0.18181818181818182}, {\"ratings\": \"5\", \"sentiments\": 1.0}, {\"ratings\": \"5\", \"sentiments\": 0.0611111111111111}, {\"ratings\": \"5\", \"sentiments\": 1.0}, {\"ratings\": \"5\", \"sentiments\": 0.02609930274403958}, {\"ratings\": \"5\", \"sentiments\": 0.039795523755625624}, {\"ratings\": \"5\", \"sentiments\": 0.5}, {\"ratings\": \"5\", \"sentiments\": -0.02359503545181669}, {\"ratings\": \"5\", \"sentiments\": 0.125}, {\"ratings\": \"5\", \"sentiments\": -0.010563340168603327}, {\"ratings\": \"5\", \"sentiments\": 0.3214285714285714}, {\"ratings\": \"5\", \"sentiments\": 1.0}, {\"ratings\": \"5\", \"sentiments\": 0.11837121212121213}, {\"ratings\": \"5\", \"sentiments\": -0.004183535762483131}, {\"ratings\": \"5\", \"sentiments\": 0.024572290454643396}, {\"ratings\": \"5\", \"sentiments\": 0.10975135975135974}, {\"ratings\": \"5\", \"sentiments\": 0.3333333333333333}, {\"ratings\": \"5\", \"sentiments\": 0.5}, {\"ratings\": \"5\", \"sentiments\": -0.0032679738562091526}, {\"ratings\": \"5\", \"sentiments\": 1.0}, {\"ratings\": \"5\", \"sentiments\": 0.16023809523809524}, {\"ratings\": \"5\", \"sentiments\": 0.13988095238095238}, {\"ratings\": \"5\", \"sentiments\": 0.03125}, {\"ratings\": \"5\", \"sentiments\": 0.125}, {\"ratings\": \"5\", \"sentiments\": 0.3333333333333333}, {\"ratings\": \"5\", \"sentiments\": 0.5}, {\"ratings\": \"5\", \"sentiments\": 0.2}, {\"ratings\": \"5\", \"sentiments\": 0.09523809523809523}, {\"ratings\": \"5\", \"sentiments\": 1.0}, {\"ratings\": \"5\", \"sentiments\": 0.5}, {\"ratings\": \"5\", \"sentiments\": 0.1126984126984127}, {\"ratings\": \"5\", \"sentiments\": 0.08333333333333333}, {\"ratings\": \"5\", \"sentiments\": 0.1875}, {\"ratings\": \"5\", \"sentiments\": 0.07894736842105263}, {\"ratings\": \"5\", \"sentiments\": 0.029590148835838492}, {\"ratings\": \"5\", \"sentiments\": 0.0625}, {\"ratings\": \"5\", \"sentiments\": 0.5}, {\"ratings\": \"5\", \"sentiments\": 0.196969696969697}, {\"ratings\": \"5\", \"sentiments\": 0.5}, {\"ratings\": \"5\", \"sentiments\": 0.2}, {\"ratings\": \"5\", \"sentiments\": -0.006859879582310451}, {\"ratings\": \"5\", \"sentiments\": 0.3303030303030303}, {\"ratings\": \"5\", \"sentiments\": 0.008174553122093543}, {\"ratings\": \"5\", \"sentiments\": 0.5}, {\"ratings\": \"5\", \"sentiments\": 0.13333333333333333}, {\"ratings\": \"5\", \"sentiments\": 0.03518518518518519}, {\"ratings\": \"5\", \"sentiments\": 0.13333333333333333}, {\"ratings\": \"5\", \"sentiments\": 0.25}, {\"ratings\": \"5\", \"sentiments\": 0.14761904761904762}, {\"ratings\": \"5\", \"sentiments\": 0.045454545454545456}, {\"ratings\": \"5\", \"sentiments\": 0.0119047619047619}, {\"ratings\": \"5\", \"sentiments\": 0.0425531914893617}, {\"ratings\": \"5\", \"sentiments\": 0.055699855699855694}, {\"ratings\": \"5\", \"sentiments\": 1.0}, {\"ratings\": \"5\", \"sentiments\": 0.0}, {\"ratings\": \"5\", \"sentiments\": 0.09523809523809523}, {\"ratings\": \"5\", \"sentiments\": 0.029411764705882353}, {\"ratings\": \"5\", \"sentiments\": 0.03918866638047612}, {\"ratings\": \"5\", \"sentiments\": 0.125}, {\"ratings\": \"5\", \"sentiments\": 0.2}, {\"ratings\": \"5\", \"sentiments\": 0.19444444444444442}, {\"ratings\": \"5\", \"sentiments\": 0.06176946176946177}, {\"ratings\": \"5\", \"sentiments\": 0.14444444444444446}, {\"ratings\": \"5\", \"sentiments\": -0.008531597667979554}, {\"ratings\": \"5\", \"sentiments\": 0.16712962962962966}, {\"ratings\": \"5\", \"sentiments\": 0.03225806451612903}, {\"ratings\": \"5\", \"sentiments\": 0.0}, {\"ratings\": \"5\", \"sentiments\": 0.058823529411764705}, {\"ratings\": \"5\", \"sentiments\": 0.014476968280578767}, {\"ratings\": \"5\", \"sentiments\": 0.0}, {\"ratings\": \"5\", \"sentiments\": -0.08292655057360938}, {\"ratings\": \"5\", \"sentiments\": 0.3333333333333333}, {\"ratings\": \"5\", \"sentiments\": 0.23076923076923078}, {\"ratings\": \"5\", \"sentiments\": 0.0}, {\"ratings\": \"5\", \"sentiments\": 0.1111111111111111}, {\"ratings\": \"5\", \"sentiments\": 1.0}, {\"ratings\": \"5\", \"sentiments\": 0.05263157894736842}, {\"ratings\": \"5\", \"sentiments\": 0.05681818181818182}, {\"ratings\": \"5\", \"sentiments\": 0.06451612903225806}, {\"ratings\": \"5\", \"sentiments\": 0.2857142857142857}, {\"ratings\": \"5\", \"sentiments\": 0.08333333333333333}, {\"ratings\": \"5\", \"sentiments\": 1.0}, {\"ratings\": \"5\", \"sentiments\": 0.18030753968253968}, {\"ratings\": \"5\", \"sentiments\": 0.02307245386192754}, {\"ratings\": \"5\", \"sentiments\": 0.5}, {\"ratings\": \"5\", \"sentiments\": 0.2}, {\"ratings\": \"5\", \"sentiments\": 1.0}, {\"ratings\": \"5\", \"sentiments\": 0.06085858585858586}, {\"ratings\": \"5\", \"sentiments\": 0.011111111111111112}, {\"ratings\": \"5\", \"sentiments\": 0.3333333333333333}, {\"ratings\": \"5\", \"sentiments\": 0.1984126984126984}, {\"ratings\": \"5\", \"sentiments\": 0.0030494505494505497}, {\"ratings\": \"5\", \"sentiments\": 0.0}, {\"ratings\": \"5\", \"sentiments\": 1.0}, {\"ratings\": \"5\", \"sentiments\": 0.0}, {\"ratings\": \"5\", \"sentiments\": 0.03260611339879633}, {\"ratings\": \"5\", \"sentiments\": 0.3333333333333333}, {\"ratings\": \"5\", \"sentiments\": 0.1595959595959596}, {\"ratings\": \"5\", \"sentiments\": 0.5}, {\"ratings\": \"5\", \"sentiments\": 0.012777777777777777}, {\"ratings\": \"5\", \"sentiments\": 0.5}, {\"ratings\": \"5\", \"sentiments\": 0.10912698412698411}, {\"ratings\": \"5\", \"sentiments\": 0.30000000000000004}, {\"ratings\": \"5\", \"sentiments\": 0.20833333333333331}, {\"ratings\": \"5\", \"sentiments\": 0.2}, {\"ratings\": \"5\", \"sentiments\": 0.2727272727272727}, {\"ratings\": \"5\", \"sentiments\": -0.08823529411764706}, {\"ratings\": \"5\", \"sentiments\": 0.2857142857142857}, {\"ratings\": \"5\", \"sentiments\": 0.16666666666666666}, {\"ratings\": \"5\", \"sentiments\": 0.25}, {\"ratings\": \"5\", \"sentiments\": 0.08750000000000001}, {\"ratings\": \"5\", \"sentiments\": 0.15}, {\"ratings\": \"5\", \"sentiments\": 0.021870186011467525}, {\"ratings\": \"5\", \"sentiments\": 0.06}, {\"ratings\": \"5\", \"sentiments\": 0.07369614512471655}, {\"ratings\": \"5\", \"sentiments\": 0.058312289562289545}, {\"ratings\": \"5\", \"sentiments\": 0.03508771929824561}, {\"ratings\": \"5\", \"sentiments\": 0.3333333333333333}, {\"ratings\": \"5\", \"sentiments\": 0.016044061302681992}, {\"ratings\": \"5\", \"sentiments\": 0.11958333333333333}, {\"ratings\": \"5\", \"sentiments\": 0.08888888888888888}, {\"ratings\": \"5\", \"sentiments\": 0.0909090909090909}, {\"ratings\": \"5\", \"sentiments\": 0.3333333333333333}, {\"ratings\": \"5\", \"sentiments\": 0.5}, {\"ratings\": \"5\", \"sentiments\": 0.055429292929292925}, {\"ratings\": \"5\", \"sentiments\": 0.2}, {\"ratings\": \"5\", \"sentiments\": 0.12881984400971744}, {\"ratings\": \"5\", \"sentiments\": -0.011494252873563218}, {\"ratings\": \"5\", \"sentiments\": 0.0}, {\"ratings\": \"5\", \"sentiments\": 1.0}, {\"ratings\": \"5\", \"sentiments\": 0.05315664727429433}, {\"ratings\": \"5\", \"sentiments\": 0.058823529411764705}, {\"ratings\": \"5\", \"sentiments\": 0.2222222222222222}, {\"ratings\": \"5\", \"sentiments\": 0.0}, {\"ratings\": \"5\", \"sentiments\": 0.45555555555555555}, {\"ratings\": \"5\", \"sentiments\": 0.038461538461538464}]}}, {\"mode\": \"vega-lite\"});\n",
              "</script>"
            ]
          },
          "metadata": {
            "tags": []
          },
          "execution_count": 23
        }
      ]
    },
    {
      "cell_type": "markdown",
      "metadata": {
        "id": "QS2n43Hc7HWX",
        "colab_type": "text"
      },
      "source": [
        "# Measure the correlation of the sentiment scores and product ratings\n",
        "\n",
        "article from [machinelearningmastery](https://machinelearningmastery.com/how-to-use-correlation-to-understand-the-relationship-between-variables/) about how to use correlation to understand the relationship between variable.\n",
        "\n",
        "* Covariance. Variables can be related by a linear relationship.\n",
        "* Pearson's Correlation. Pearson correlation coefficient can be used to summarize the strength of the linear relationship between two data samples.\n",
        "* Spearman's Correlation. Two variables may be related by a non-linear relationship, such that the relationship is stronger or weaker across the distribution of the variables.\n",
        "\n",
        "import pearsonr and spearmanr from package scipy.stats\n"
      ]
    },
    {
      "cell_type": "code",
      "metadata": {
        "id": "Rs470PVsgXxY",
        "colab_type": "code",
        "colab": {
          "base_uri": "https://localhost:8080/",
          "height": 52
        },
        "outputId": "4b09da10-521e-46b3-9ec0-07aa6052b80c"
      },
      "source": [
        "from scipy.stats import pearsonr, spearmanr\n",
        "\n",
        "pearson_correlation, _ = pearsonr(rating_list, review_sentiments)\n",
        "print('pearson correlation: {}'.format(pearson_correlation))\n",
        "\n",
        "spearman_correlation, _ = spearmanr(rating_list, review_sentiments)\n",
        "print('spearman correlation: {}'.format(spearman_correlation))\n",
        "\n",
        "# Spearman rank correlation value said that there's weak correlation\n",
        "# between rating and review score (sentiments)\n"
      ],
      "execution_count": 24,
      "outputs": [
        {
          "output_type": "stream",
          "text": [
            "pearson correlation: 0.4339913860749739\n",
            "spearman correlation: 0.5860296165999471\n"
          ],
          "name": "stdout"
        }
      ]
    },
    {
      "cell_type": "markdown",
      "metadata": {
        "id": "y4kRPqiP_wuW",
        "colab_type": "text"
      },
      "source": [
        "# Improve your sentiment analyzer in order to reduce contradictory cases"
      ]
    },
    {
      "cell_type": "markdown",
      "metadata": {
        "id": "cjzP6L3L_0y6",
        "colab_type": "text"
      },
      "source": [
        "### need to handle negation, since mostly those cases are contradictory when there is negation in the sentence (e.g., no problem)"
      ]
    },
    {
      "cell_type": "code",
      "metadata": {
        "id": "miokDL3M93cP",
        "colab_type": "code",
        "colab": {
          "base_uri": "https://localhost:8080/",
          "height": 277
        },
        "outputId": "5a2c9f02-dbac-493e-c985-7f245360e6cb"
      },
      "source": [
        "for idx, review in enumerate(review_list):\n",
        "    r = rating_list[idx]\n",
        "    s = review_sentiments[idx]\n",
        "    if r == 5 and s < -0.2:\n",
        "        # rating 5 but sentiment negative below -0.2\n",
        "        print('({}, {}): {}'.format(r, s, review))\n",
        "    if r == 1 and s > 0.3:\n",
        "        # rating 1 but got sentiment positive more than 0.3\n",
        "        print('({}, {}): {}'.format(r, s, review))\n"
      ],
      "execution_count": 25,
      "outputs": [
        {
          "output_type": "stream",
          "text": [
            "(1, 0.6666666666666666): Never worked right\n",
            "(1, 0.5): Not Good\n",
            "(1, 0.3333333333333333): not kid appropriate\n",
            "(1, 0.5): doesn't work\n",
            "(1, 0.5): Never worked.\n",
            "(1, 0.3333333333333333): Not well made\n",
            "(1, 0.5): Doesn't work\n",
            "(1, 0.3333333333333333): Did not work.\n",
            "(1, 0.3333333333333333): returning don't work\n",
            "(1, 0.3333333333333333): Does not work correctly with xbox\n",
            "(1, 0.5): Doesn't work\n",
            "(1, 0.3333333333333333): Does not work\n",
            "(1, 0.5): doesn't work\n",
            "(5, -0.2857142857142857): Killing zombies, how can you go wrong!\n",
            "(5, -0.25): Would buy again. No problems.\n"
          ],
          "name": "stdout"
        }
      ]
    },
    {
      "cell_type": "markdown",
      "metadata": {
        "id": "G_E9iKIeBvVx",
        "colab_type": "text"
      },
      "source": [
        "### use the mark_negation function to handle negation"
      ]
    },
    {
      "cell_type": "code",
      "metadata": {
        "id": "s1rzdrEiBW05",
        "colab_type": "code",
        "colab": {
          "base_uri": "https://localhost:8080/",
          "height": 89
        },
        "outputId": "baf504d7-61db-426f-a7b9-aa797e38e95b"
      },
      "source": [
        "test_sentence = 'Does not work correctly with xbox'\n",
        "print(mark_negation(test_sentence.split()))\n",
        "\n",
        "# not detected on \"No problems.\"\n",
        "test_sentence = 'Would buy again. No problems.'\n",
        "print(mark_negation(test_sentence.split()))\n",
        "\n",
        "# sentence from sample solution works to detect \"no problems.\"\n",
        "test_sentence = \"I received these on time and no problems. No damages battlfield never fails\"\n",
        "print(mark_negation(test_sentence.split()))"
      ],
      "execution_count": 26,
      "outputs": [
        {
          "output_type": "stream",
          "text": [
            "['Does', 'not', 'work_NEG', 'correctly_NEG', 'with_NEG', 'xbox_NEG']\n",
            "['Would', 'buy', 'again.', 'No', 'problems.']\n",
            "['I', 'received', 'these', 'on', 'time', 'and', 'no', 'problems._NEG', 'No_NEG', 'damages_NEG', 'battlfield_NEG', 'never_NEG', 'fails_NEG']\n"
          ],
          "name": "stdout"
        }
      ]
    },
    {
      "cell_type": "code",
      "metadata": {
        "id": "ugEPQQ6JCSyQ",
        "colab_type": "code",
        "colab": {}
      },
      "source": [
        ""
      ],
      "execution_count": 0,
      "outputs": []
    }
  ]
}