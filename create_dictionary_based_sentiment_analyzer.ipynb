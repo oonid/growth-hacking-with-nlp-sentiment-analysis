{
  "nbformat": 4,
  "nbformat_minor": 0,
  "metadata": {
    "colab": {
      "name": "create_dictionary_based_sentiment_analyzer.ipynb",
      "provenance": [],
      "toc_visible": true
    },
    "kernelspec": {
      "name": "python3",
      "display_name": "Python 3"
    }
  },
  "cells": [
    {
      "cell_type": "markdown",
      "metadata": {
        "id": "fv0gaMFmHwra",
        "colab_type": "text"
      },
      "source": [
        "# Dictionary Based Sentiment Analyzer\n",
        "\n",
        "* Word tokenization\n",
        "* Sentence tokenization\n",
        "* Scoring of the reviews\n",
        "* Comparison of the scores with the reviews in plots\n",
        "* Measuring the distribution\n",
        "* Handling negation\n",
        "* Adjusting your dictionary-based sentiment analyzer\n",
        "* Checking your results"
      ]
    },
    {
      "cell_type": "code",
      "metadata": {
        "id": "yo6ViHkBKc6x",
        "colab_type": "code",
        "outputId": "88b93930-4d5d-422c-c1e2-360eabaa2f6c",
        "colab": {
          "base_uri": "https://localhost:8080/",
          "height": 69
        }
      },
      "source": [
        "# all imports and related\n",
        "\n",
        "%matplotlib inline\n",
        "\n",
        "import pandas as pd\n",
        "import numpy as np\n",
        "import altair as alt\n",
        "\n",
        "from nltk import download as nltk_download\n",
        "from nltk.tokenize import word_tokenize, sent_tokenize\n",
        "\n",
        "nltk_download('punkt')  # required by word_tokenize"
      ],
      "execution_count": 1,
      "outputs": [
        {
          "output_type": "stream",
          "text": [
            "[nltk_data] Downloading package punkt to /root/nltk_data...\n",
            "[nltk_data]   Unzipping tokenizers/punkt.zip.\n"
          ],
          "name": "stdout"
        },
        {
          "output_type": "execute_result",
          "data": {
            "text/plain": [
              "True"
            ]
          },
          "metadata": {
            "tags": []
          },
          "execution_count": 1
        }
      ]
    },
    {
      "cell_type": "markdown",
      "metadata": {
        "id": "81cswx9RIFFt",
        "colab_type": "text"
      },
      "source": [
        "### load the small_corpus CSV\n",
        "\n",
        "run process from\n",
        "[create_dataset.ipynb](https://github.com/oonid/growth-hacking-with-nlp-sentiment-analysis/blob/master/create_dataset.ipynb)\n",
        "\n",
        "copy file **small_corpus.csv** to this Google Colab Files (via file upload or mount drive).\n"
      ]
    },
    {
      "cell_type": "code",
      "metadata": {
        "id": "LxyLiywrHXBE",
        "colab_type": "code",
        "outputId": "ea56749f-f390-4f9e-d6c6-a54b92069f16",
        "colab": {
          "base_uri": "https://localhost:8080/",
          "height": 415
        }
      },
      "source": [
        "df = pd.read_csv('small_corpus.csv')\n",
        "df"
      ],
      "execution_count": 2,
      "outputs": [
        {
          "output_type": "execute_result",
          "data": {
            "text/html": [
              "<div>\n",
              "<style scoped>\n",
              "    .dataframe tbody tr th:only-of-type {\n",
              "        vertical-align: middle;\n",
              "    }\n",
              "\n",
              "    .dataframe tbody tr th {\n",
              "        vertical-align: top;\n",
              "    }\n",
              "\n",
              "    .dataframe thead th {\n",
              "        text-align: right;\n",
              "    }\n",
              "</style>\n",
              "<table border=\"1\" class=\"dataframe\">\n",
              "  <thead>\n",
              "    <tr style=\"text-align: right;\">\n",
              "      <th></th>\n",
              "      <th>ratings</th>\n",
              "      <th>reviews</th>\n",
              "    </tr>\n",
              "  </thead>\n",
              "  <tbody>\n",
              "    <tr>\n",
              "      <th>0</th>\n",
              "      <td>1</td>\n",
              "      <td>Recently UBISOFT had to settle a huge class-ac...</td>\n",
              "    </tr>\n",
              "    <tr>\n",
              "      <th>1</th>\n",
              "      <td>1</td>\n",
              "      <td>code didn't work, got me a refund.</td>\n",
              "    </tr>\n",
              "    <tr>\n",
              "      <th>2</th>\n",
              "      <td>1</td>\n",
              "      <td>these do not work at all, all i get is static ...</td>\n",
              "    </tr>\n",
              "    <tr>\n",
              "      <th>3</th>\n",
              "      <td>1</td>\n",
              "      <td>well let me start by saying that when i first ...</td>\n",
              "    </tr>\n",
              "    <tr>\n",
              "      <th>4</th>\n",
              "      <td>1</td>\n",
              "      <td>Dont waste your money, you will just end up us...</td>\n",
              "    </tr>\n",
              "    <tr>\n",
              "      <th>...</th>\n",
              "      <td>...</td>\n",
              "      <td>...</td>\n",
              "    </tr>\n",
              "    <tr>\n",
              "      <th>4495</th>\n",
              "      <td>5</td>\n",
              "      <td>Nice long micro USB cable, battery lasts a lon...</td>\n",
              "    </tr>\n",
              "    <tr>\n",
              "      <th>4496</th>\n",
              "      <td>5</td>\n",
              "      <td>I've been having a great time with this game. ...</td>\n",
              "    </tr>\n",
              "    <tr>\n",
              "      <th>4497</th>\n",
              "      <td>5</td>\n",
              "      <td>d</td>\n",
              "    </tr>\n",
              "    <tr>\n",
              "      <th>4498</th>\n",
              "      <td>5</td>\n",
              "      <td>Really pretty, funny, interesting game. Works ...</td>\n",
              "    </tr>\n",
              "    <tr>\n",
              "      <th>4499</th>\n",
              "      <td>5</td>\n",
              "      <td>i had a lot of fun playing this game, if your ...</td>\n",
              "    </tr>\n",
              "  </tbody>\n",
              "</table>\n",
              "<p>4500 rows × 2 columns</p>\n",
              "</div>"
            ],
            "text/plain": [
              "      ratings                                            reviews\n",
              "0           1  Recently UBISOFT had to settle a huge class-ac...\n",
              "1           1                 code didn't work, got me a refund.\n",
              "2           1  these do not work at all, all i get is static ...\n",
              "3           1  well let me start by saying that when i first ...\n",
              "4           1  Dont waste your money, you will just end up us...\n",
              "...       ...                                                ...\n",
              "4495        5  Nice long micro USB cable, battery lasts a lon...\n",
              "4496        5  I've been having a great time with this game. ...\n",
              "4497        5                                                  d\n",
              "4498        5  Really pretty, funny, interesting game. Works ...\n",
              "4499        5  i had a lot of fun playing this game, if your ...\n",
              "\n",
              "[4500 rows x 2 columns]"
            ]
          },
          "metadata": {
            "tags": []
          },
          "execution_count": 2
        }
      ]
    },
    {
      "cell_type": "code",
      "metadata": {
        "id": "PFxrdXW-OLvp",
        "colab_type": "code",
        "outputId": "9a0b6e6b-cb11-406e-fd55-15026c697322",
        "colab": {
          "base_uri": "https://localhost:8080/",
          "height": 69
        }
      },
      "source": [
        "# check if any columns has null, and yes the reviews column has\n",
        "df.isnull().any()"
      ],
      "execution_count": 3,
      "outputs": [
        {
          "output_type": "execute_result",
          "data": {
            "text/plain": [
              "ratings    False\n",
              "reviews     True\n",
              "dtype: bool"
            ]
          },
          "metadata": {
            "tags": []
          },
          "execution_count": 3
        }
      ]
    },
    {
      "cell_type": "code",
      "metadata": {
        "id": "BEXN07u-Osnm",
        "colab_type": "code",
        "outputId": "1ba3e06a-6a7a-4127-fa6c-9f3d05256721",
        "colab": {
          "base_uri": "https://localhost:8080/",
          "height": 69
        }
      },
      "source": [
        "# repair null in column reviews with empty string ''\n",
        "df.reviews = df.reviews.fillna('')\n",
        "\n",
        "# test again\n",
        "df.isnull().any()"
      ],
      "execution_count": 4,
      "outputs": [
        {
          "output_type": "execute_result",
          "data": {
            "text/plain": [
              "ratings    False\n",
              "reviews    False\n",
              "dtype: bool"
            ]
          },
          "metadata": {
            "tags": []
          },
          "execution_count": 4
        }
      ]
    },
    {
      "cell_type": "code",
      "metadata": {
        "id": "M9c65mzkHDDE",
        "colab_type": "code",
        "outputId": "0638f338-aa59-4413-dd44-32fe0a8d6a55",
        "colab": {
          "base_uri": "https://localhost:8080/",
          "height": 575
        }
      },
      "source": [
        "rating_list = list(df['ratings'])\n",
        "review_list = list(df['reviews'])\n",
        "\n",
        "print(rating_list[:5])\n",
        "for r in review_list[:5]:\n",
        "    print('--\\n{}'.format(r))"
      ],
      "execution_count": 5,
      "outputs": [
        {
          "output_type": "stream",
          "text": [
            "[1, 1, 1, 1, 1]\n",
            "--\n",
            "Recently UBISOFT had to settle a huge class-action suit brought against the company for bundling (the notoriously harmful) StarFORCE DRM with its released games. So what the geniuses at the helm do next? They decide to make the same mistake yet again - by choosing the same DRM scheme that made BIOSHOCK, MASS EFFECT and SPORE infamous: SecuROM 7.xx with LIMITED ACTIVATIONS!\n",
            "\n",
            "MASS EFFECT can be found in clearance bins only months after its release; SPORE not only undersold miserably but also made history as the boiling point of gamers lashing back, fed up with idiotic DRM schemes. And the clueless MBAs that run an art-form as any other commodity business decided that, \"hey, why not jump into THAT mud-pond ourselves?\"\n",
            "\n",
            "The original FAR CRY was such a GREAT game that any sequel of it would have to fight an uphill battle to begin with (especially without its original developing team). Now imagine shooting this sequel on the foot with a well known, much hated and totally useless DRM scheme that turns it into another Rent-A-Game no one wants. Were I a UBISOFT stock-holder I would be ordering my broker to \"Sell-Sell!-SELL!!\" instead of posting this...\n",
            "\n",
            "Ever since its 7.xx version, SecuROM has NOTHING to do with \"fighting piracy\". All it does in this direction (blocking certain optical and virtual drives) is a very old, lame and already bypassed attempt that serves as a thin smoke-screen. SecuROM is, in fact, an intruding and silent Data-Miner and Root-Hijacker that is delivered by means of popular games.\n",
            "That is why even the STEAM versions as well as the (free) Demos of such games are infected with it. SecuROM will borrow deep into our PC systems and will refuse to be removed completely even after uninstalling the game it came with. It will retain backdoor access and will keep reporting to its mothership.\n",
            "\n",
            "Lately, these security concerns have been accentuated as known Trojans seem to be exploiting SecuROM's backdoor access for their own purposes. In effect, installing a SecuROM-infected game in our computer will be placing your hardware and data at risk long after having uninstalled the game.\n",
            "\n",
            "And the latest vehicle to deliver this hazardous snoopware is FAR CRY 2 - a game crippled by LIMITED INSTALLATIONS! No, thanks. I think I 'll pass this one too.\n",
            "\n",
            "The only people who do not care about SecuROM are, in fact,...pirates! Because cracking games \"protected\" by this contraption apparently is very easy. Every single game that was supposedly \"protected\" by SecuROM was cracked hours withing its release!\n",
            "To everyone else though, SecuROM (or StarFORCE or any other hazardous DRM scheme) is a core issue that needs to be resolved before PC gaming can evolve any further. And the best way to resolve such issues is market correction.\n",
            "\n",
            "That is why it is important for gamers to keep voting with their wallets. And as with any vote, well informed decisions are paramount in making the right choice.\n",
            "--\n",
            "code didn't work, got me a refund.\n",
            "--\n",
            "these do not work at all, all i get is static and they came with nothing in the box to give any help.\n",
            "--\n",
            "well let me start by saying that when i first started this game up i was so excited, but when i started playing OMG was i pissed off. The graphics where that of a xbox original, i am not joking they are some of the WORST graphics i have seen in a long time. NOT only are the graphics bad but the game play is not much better. Besides the fact that when you walk you look like you have something rather large in your butt making your player look VERY stiff, and has for the story, WAIT there was a story here??? well if there was anything to do with a story then i must have missed it, the so called story here is not at ALL good in fact it was just pain boring and luckily for me was VERY short beating it in under 2 hours. Ok now on to the level design, well lets just say that it was some of the worst i have seen. It goes like this, run into to dark boring room shoot a few bad guys or zombies then move to the next room that looks almost the same then repeat and do again for the next few hours. Ok so now i will move to the sound of the game, so the zombies when you kill them it sounds OK at best, but as for the sound of the guns WOW OMFG the worst EVER sounds weaker then a nerf guns!!!! the voice overs are very bad as well. Ok now onto the only kind of fun in this game, the only time i had ANY fun on this game was when i played with friends, but even still it was very boring. There is a ranking system that is mediocre at best, the more enemy's you kill the more XP you will get, and when you earn XP you can buy guns that won't really care to use because they all for the most part suck, or you can buy powers for the different players you can choose from. I would also like to add in the fact that when i you enemy it is almost completely random as to when they die, sometimes it will only take a few shoots to kill a simple solder and other time the same kind of enemy will take a clip and a half to kill, as well as that but the hit indication is very OFF. So i will wrap this up by saying this, DO NOT BUY THIS GAME, rent it first to see for yourself. i hope someone can find fun in this game, but for me i could not find much fun here.\n",
            "\n",
            "I forgot to add in here that the AI IS THE WORST IN ANY GAME EVER. your team mates make no attempt whatsoever to avoid danger or even bother to shoot at the enemy, your friendly AI will spend the bulk of their time wasting ammo on a wall or ceiling if they are even shooting at ALL, the rest of the time they are just in your way block you in doorways or blocking your shots, never before have i ever seen AI worse than this. As for the enemy AI they are just as bad, half the time the enemy is just standing there as i am shooting them.\n",
            "\n",
            "SO this game is pretty much a FAIL on every level, its a broken game, But lets hope that resident evil 6 will make up for this REALLY REALLY BAD GAME\n",
            "--\n",
            "Dont waste your money, you will just end up using the nunchuck, or a classic controler in the end, and more over don't waste your money on the new Mario Cart, just keep, or get one of the older ones, its just recycled maps with new controls that aren't that good anyways.\n"
          ],
          "name": "stdout"
        }
      ]
    },
    {
      "cell_type": "markdown",
      "metadata": {
        "id": "47i2oNUgQU-F",
        "colab_type": "text"
      },
      "source": [
        "### tokenize the sentences and words of the reviews"
      ]
    },
    {
      "cell_type": "code",
      "metadata": {
        "id": "lufWRnRULCbQ",
        "colab_type": "code",
        "outputId": "25ffe5a4-aed3-4278-a6b9-63f81df28f72",
        "colab": {
          "base_uri": "https://localhost:8080/",
          "height": 225
        }
      },
      "source": [
        "word_tokenized = df['reviews'].apply(word_tokenize)\n",
        "word_tokenized"
      ],
      "execution_count": 6,
      "outputs": [
        {
          "output_type": "execute_result",
          "data": {
            "text/plain": [
              "0       [Recently, UBISOFT, had, to, settle, a, huge, ...\n",
              "1        [code, did, n't, work, ,, got, me, a, refund, .]\n",
              "2       [these, do, not, work, at, all, ,, all, i, get...\n",
              "3       [well, let, me, start, by, saying, that, when,...\n",
              "4       [Dont, waste, your, money, ,, you, will, just,...\n",
              "                              ...                        \n",
              "4495    [Nice, long, micro, USB, cable, ,, battery, la...\n",
              "4496    [I, 've, been, having, a, great, time, with, t...\n",
              "4497                                                  [d]\n",
              "4498    [Really, pretty, ,, funny, ,, interesting, gam...\n",
              "4499    [i, had, a, lot, of, fun, playing, this, game,...\n",
              "Name: reviews, Length: 4500, dtype: object"
            ]
          },
          "metadata": {
            "tags": []
          },
          "execution_count": 6
        }
      ]
    },
    {
      "cell_type": "code",
      "metadata": {
        "id": "KWe_2rN2LmmK",
        "colab_type": "code",
        "outputId": "2ef54902-cb98-4080-868a-87c0cc25fa11",
        "colab": {
          "base_uri": "https://localhost:8080/",
          "height": 225
        }
      },
      "source": [
        "sent_tokenized = df['reviews'].apply(sent_tokenize)\n",
        "sent_tokenized"
      ],
      "execution_count": 7,
      "outputs": [
        {
          "output_type": "execute_result",
          "data": {
            "text/plain": [
              "0       [Recently UBISOFT had to settle a huge class-a...\n",
              "1                    [code didn't work, got me a refund.]\n",
              "2       [these do not work at all, all i get is static...\n",
              "3       [well let me start by saying that when i first...\n",
              "4       [Dont waste your money, you will just end up u...\n",
              "                              ...                        \n",
              "4495    [Nice long micro USB cable, battery lasts a lo...\n",
              "4496    [I've been having a great time with this game....\n",
              "4497                                                  [d]\n",
              "4498    [Really pretty, funny, interesting game., Work...\n",
              "4499    [i had a lot of fun playing this game, if your...\n",
              "Name: reviews, Length: 4500, dtype: object"
            ]
          },
          "metadata": {
            "tags": []
          },
          "execution_count": 7
        }
      ]
    },
    {
      "cell_type": "markdown",
      "metadata": {
        "id": "9J4INBoDQgIi",
        "colab_type": "text"
      },
      "source": [
        "### download the opinion lexicon of NLTK\n",
        "\n",
        "use it with reference to it source:\n",
        "\n",
        "https://www.nltk.org/_modules/nltk/corpus/reader/opinion_lexicon.html\n",
        "\n"
      ]
    },
    {
      "cell_type": "code",
      "metadata": {
        "id": "B5a72gM7Pl6N",
        "colab_type": "code",
        "outputId": "7f29d807-0faf-4c67-b6f8-78116dc00d31",
        "colab": {
          "base_uri": "https://localhost:8080/",
          "height": 52
        }
      },
      "source": [
        "# imports and related\n",
        "\n",
        "nltk_download('opinion_lexicon')\n",
        "\n",
        "from nltk.corpus import opinion_lexicon"
      ],
      "execution_count": 8,
      "outputs": [
        {
          "output_type": "stream",
          "text": [
            "[nltk_data] Downloading package opinion_lexicon to /root/nltk_data...\n",
            "[nltk_data]   Unzipping corpora/opinion_lexicon.zip.\n"
          ],
          "name": "stdout"
        }
      ]
    },
    {
      "cell_type": "code",
      "metadata": {
        "id": "aE_AwlMwQxB6",
        "colab_type": "code",
        "outputId": "f213a520-fbef-4a12-8566-280a4d4e693d",
        "colab": {
          "base_uri": "https://localhost:8080/",
          "height": 193
        }
      },
      "source": [
        "print('total lexicon words: {}'.format(len(opinion_lexicon.words())))\n",
        "print('total lexicon negatives: {}'.format(len(opinion_lexicon.negative())))\n",
        "print('total lexicon positives: {}'.format(len(opinion_lexicon.positive())))\n",
        "print('sample of lexicon words (first 10, by id):')\n",
        "print(opinion_lexicon.words()[:10])  # print first 10 sorted by file id\n",
        "print('sample of lexicon words (first 10, by alphabet):')\n",
        "print(sorted(opinion_lexicon.words())[:10])  # print first 10 sorted alphabet\n",
        "\n",
        "positive_set = set(opinion_lexicon.positive())\n",
        "negative_set = set(opinion_lexicon.negative())\n",
        "print(len(positive_set))\n",
        "print(len(negative_set))\n"
      ],
      "execution_count": 9,
      "outputs": [
        {
          "output_type": "stream",
          "text": [
            "total lexicon words: 6789\n",
            "total lexicon negatives: 4783\n",
            "total lexicon positives: 2006\n",
            "sample of lexicon words (first 10, by id):\n",
            "['2-faced', '2-faces', 'abnormal', 'abolish', 'abominable', 'abominably', 'abominate', 'abomination', 'abort', 'aborted']\n",
            "sample of lexicon words (first 10, by alphabet):\n",
            "['2-faced', '2-faces', 'a+', 'abnormal', 'abolish', 'abominable', 'abominably', 'abominate', 'abomination', 'abort']\n",
            "2006\n",
            "4783\n"
          ],
          "name": "stdout"
        }
      ]
    },
    {
      "cell_type": "code",
      "metadata": {
        "id": "3X92TU6UGb6Y",
        "colab_type": "code",
        "outputId": "a8ba0372-62da-4ae7-c729-01f62f664a9a",
        "colab": {
          "base_uri": "https://localhost:8080/",
          "height": 104
        }
      },
      "source": [
        "def simple_opinion_test(words):\n",
        "    if words not in opinion_lexicon.words():\n",
        "        print('{} not covered on opinion_lexicon'.format(words))\n",
        "    else:\n",
        "        if words in opinion_lexicon.negative():\n",
        "            print('{} is negative'.format(words))\n",
        "        if words in opinion_lexicon.positive():\n",
        "            print('{} is positive'.format(words))\n",
        "\n",
        "simple_opinion_test('awful')\n",
        "simple_opinion_test('beautiful')\n",
        "simple_opinion_test('useless')\n",
        "simple_opinion_test('Great')  # must be lower case\n",
        "simple_opinion_test('warming')\n"
      ],
      "execution_count": 10,
      "outputs": [
        {
          "output_type": "stream",
          "text": [
            "awful is negative\n",
            "beautiful is positive\n",
            "useless is negative\n",
            "Great not covered on opinion_lexicon\n",
            "warming not covered on opinion_lexicon\n"
          ],
          "name": "stdout"
        }
      ]
    },
    {
      "cell_type": "markdown",
      "metadata": {
        "id": "eZlGLTnEQRjX",
        "colab_type": "text"
      },
      "source": [
        "### classify each review in a scale of -1 to +1"
      ]
    },
    {
      "cell_type": "code",
      "metadata": {
        "id": "SNP52NhPKqGH",
        "colab_type": "code",
        "colab": {}
      },
      "source": [
        "# the process to score review:\n",
        "# * tokenize review (from multiple sentence) become sentences\n",
        "# * so sentence score will be build from it words\n",
        "\n",
        "def score_sentence(sentence):\n",
        "    \"\"\"sentence (input) are words that tokenize from sentence.\n",
        "    return score between -1 and 1\n",
        "    if the total positive greater than total negative then return 0 to 1\n",
        "    if the total negative greater than total positive then return -1 to 0\n",
        "    \"\"\"\n",
        "    # opinion lexicon not contains any symbol character, and must be set lower\n",
        "    selective_words = [w.lower() for w in sentence if w.isalnum()]\n",
        "    total_selective_words = len(selective_words)\n",
        "    # count total words that categorized as positive from opinion lexicon\n",
        "    total_positive = len([w for w in selective_words if w in positive_set])\n",
        "    # count total words that categorized as negative from opinion lexicon\n",
        "    total_negative = len([w for w in selective_words if w in negative_set])\n",
        "\n",
        "    if total_selective_words > 0:  # has at least 1 word to categorize\n",
        "        return (total_positive - total_negative) / total_selective_words\n",
        "    else:  # no selective words\n",
        "        return 0\n",
        "\n",
        "def score_review(review):\n",
        "    \"\"\"review (input) is single review, could be multiple sentences.\n",
        "    tokenize review become sentences.\n",
        "    tokenize sentence become words.\n",
        "    collect sentence scores as list, called sentiment scores.\n",
        "    score of review = sum of all sentence scores / total of all sentence scores\n",
        "    return score of review\n",
        "    \"\"\"\n",
        "    sentiment_scores = []\n",
        "    sentences = sent_tokenize(review)\n",
        "    # process per sentence\n",
        "    for sentence in sentences:\n",
        "        # tokenize sentence become words\n",
        "        words = word_tokenize(sentence)\n",
        "        # calculate score per sentence, passing tokenized words as input\n",
        "        sentence_score = score_sentence(words)\n",
        "        # add to list of sentiment scores\n",
        "        sentiment_scores.append(sentence_score)\n",
        "    # mean value = sum of all sentiment scores / total of sentiment scores\n",
        "    if sentiment_scores:  # has at least 1 sentence score\n",
        "        return sum(sentiment_scores) / len(sentiment_scores)\n",
        "    else:  # return 0 if no sentiment_scores, avoid division by zero\n",
        "        return 0\n"
      ],
      "execution_count": 0,
      "outputs": []
    },
    {
      "cell_type": "code",
      "metadata": {
        "id": "TDLK8lhORwxI",
        "colab_type": "code",
        "outputId": "9f22fa82-a281-4760-ef51-c985645c6949",
        "colab": {
          "base_uri": "https://localhost:8080/",
          "height": 35
        }
      },
      "source": [
        "review_sentiments = [score_review(r) for r in review_list]\n",
        "print(review_sentiments[:5])"
      ],
      "execution_count": 12,
      "outputs": [
        {
          "output_type": "stream",
          "text": [
            "[-0.013158071747989037, 0.2857142857142857, 0.0, -0.02052123414370017, 0.0]\n"
          ],
          "name": "stdout"
        }
      ]
    },
    {
      "cell_type": "code",
      "metadata": {
        "id": "LEJRmJhJWitq",
        "colab_type": "code",
        "outputId": "93f07850-e352-4941-da21-f4767bf11113",
        "colab": {
          "base_uri": "https://localhost:8080/",
          "height": 592
        }
      },
      "source": [
        "print(rating_list[:5])\n",
        "print(review_sentiments[:5])\n",
        "for r in review_list[:5]:\n",
        "    print('--\\n{}'.format(r))"
      ],
      "execution_count": 13,
      "outputs": [
        {
          "output_type": "stream",
          "text": [
            "[1, 1, 1, 1, 1]\n",
            "[-0.013158071747989037, 0.2857142857142857, 0.0, -0.02052123414370017, 0.0]\n",
            "--\n",
            "Recently UBISOFT had to settle a huge class-action suit brought against the company for bundling (the notoriously harmful) StarFORCE DRM with its released games. So what the geniuses at the helm do next? They decide to make the same mistake yet again - by choosing the same DRM scheme that made BIOSHOCK, MASS EFFECT and SPORE infamous: SecuROM 7.xx with LIMITED ACTIVATIONS!\n",
            "\n",
            "MASS EFFECT can be found in clearance bins only months after its release; SPORE not only undersold miserably but also made history as the boiling point of gamers lashing back, fed up with idiotic DRM schemes. And the clueless MBAs that run an art-form as any other commodity business decided that, \"hey, why not jump into THAT mud-pond ourselves?\"\n",
            "\n",
            "The original FAR CRY was such a GREAT game that any sequel of it would have to fight an uphill battle to begin with (especially without its original developing team). Now imagine shooting this sequel on the foot with a well known, much hated and totally useless DRM scheme that turns it into another Rent-A-Game no one wants. Were I a UBISOFT stock-holder I would be ordering my broker to \"Sell-Sell!-SELL!!\" instead of posting this...\n",
            "\n",
            "Ever since its 7.xx version, SecuROM has NOTHING to do with \"fighting piracy\". All it does in this direction (blocking certain optical and virtual drives) is a very old, lame and already bypassed attempt that serves as a thin smoke-screen. SecuROM is, in fact, an intruding and silent Data-Miner and Root-Hijacker that is delivered by means of popular games.\n",
            "That is why even the STEAM versions as well as the (free) Demos of such games are infected with it. SecuROM will borrow deep into our PC systems and will refuse to be removed completely even after uninstalling the game it came with. It will retain backdoor access and will keep reporting to its mothership.\n",
            "\n",
            "Lately, these security concerns have been accentuated as known Trojans seem to be exploiting SecuROM's backdoor access for their own purposes. In effect, installing a SecuROM-infected game in our computer will be placing your hardware and data at risk long after having uninstalled the game.\n",
            "\n",
            "And the latest vehicle to deliver this hazardous snoopware is FAR CRY 2 - a game crippled by LIMITED INSTALLATIONS! No, thanks. I think I 'll pass this one too.\n",
            "\n",
            "The only people who do not care about SecuROM are, in fact,...pirates! Because cracking games \"protected\" by this contraption apparently is very easy. Every single game that was supposedly \"protected\" by SecuROM was cracked hours withing its release!\n",
            "To everyone else though, SecuROM (or StarFORCE or any other hazardous DRM scheme) is a core issue that needs to be resolved before PC gaming can evolve any further. And the best way to resolve such issues is market correction.\n",
            "\n",
            "That is why it is important for gamers to keep voting with their wallets. And as with any vote, well informed decisions are paramount in making the right choice.\n",
            "--\n",
            "code didn't work, got me a refund.\n",
            "--\n",
            "these do not work at all, all i get is static and they came with nothing in the box to give any help.\n",
            "--\n",
            "well let me start by saying that when i first started this game up i was so excited, but when i started playing OMG was i pissed off. The graphics where that of a xbox original, i am not joking they are some of the WORST graphics i have seen in a long time. NOT only are the graphics bad but the game play is not much better. Besides the fact that when you walk you look like you have something rather large in your butt making your player look VERY stiff, and has for the story, WAIT there was a story here??? well if there was anything to do with a story then i must have missed it, the so called story here is not at ALL good in fact it was just pain boring and luckily for me was VERY short beating it in under 2 hours. Ok now on to the level design, well lets just say that it was some of the worst i have seen. It goes like this, run into to dark boring room shoot a few bad guys or zombies then move to the next room that looks almost the same then repeat and do again for the next few hours. Ok so now i will move to the sound of the game, so the zombies when you kill them it sounds OK at best, but as for the sound of the guns WOW OMFG the worst EVER sounds weaker then a nerf guns!!!! the voice overs are very bad as well. Ok now onto the only kind of fun in this game, the only time i had ANY fun on this game was when i played with friends, but even still it was very boring. There is a ranking system that is mediocre at best, the more enemy's you kill the more XP you will get, and when you earn XP you can buy guns that won't really care to use because they all for the most part suck, or you can buy powers for the different players you can choose from. I would also like to add in the fact that when i you enemy it is almost completely random as to when they die, sometimes it will only take a few shoots to kill a simple solder and other time the same kind of enemy will take a clip and a half to kill, as well as that but the hit indication is very OFF. So i will wrap this up by saying this, DO NOT BUY THIS GAME, rent it first to see for yourself. i hope someone can find fun in this game, but for me i could not find much fun here.\n",
            "\n",
            "I forgot to add in here that the AI IS THE WORST IN ANY GAME EVER. your team mates make no attempt whatsoever to avoid danger or even bother to shoot at the enemy, your friendly AI will spend the bulk of their time wasting ammo on a wall or ceiling if they are even shooting at ALL, the rest of the time they are just in your way block you in doorways or blocking your shots, never before have i ever seen AI worse than this. As for the enemy AI they are just as bad, half the time the enemy is just standing there as i am shooting them.\n",
            "\n",
            "SO this game is pretty much a FAIL on every level, its a broken game, But lets hope that resident evil 6 will make up for this REALLY REALLY BAD GAME\n",
            "--\n",
            "Dont waste your money, you will just end up using the nunchuck, or a classic controler in the end, and more over don't waste your money on the new Mario Cart, just keep, or get one of the older ones, its just recycled maps with new controls that aren't that good anyways.\n"
          ],
          "name": "stdout"
        }
      ]
    },
    {
      "cell_type": "code",
      "metadata": {
        "id": "fkDNwlnrXLWE",
        "colab_type": "code",
        "outputId": "198c1d48-9c85-45c2-f357-87b9c08059aa",
        "colab": {
          "base_uri": "https://localhost:8080/",
          "height": 415
        }
      },
      "source": [
        "df = pd.DataFrame({\n",
        "    \"rating\": rating_list,\n",
        "    \"review\": review_list,\n",
        "    \"review dictionary based sentiment\": review_sentiments,\n",
        "})\n",
        "df"
      ],
      "execution_count": 14,
      "outputs": [
        {
          "output_type": "execute_result",
          "data": {
            "text/html": [
              "<div>\n",
              "<style scoped>\n",
              "    .dataframe tbody tr th:only-of-type {\n",
              "        vertical-align: middle;\n",
              "    }\n",
              "\n",
              "    .dataframe tbody tr th {\n",
              "        vertical-align: top;\n",
              "    }\n",
              "\n",
              "    .dataframe thead th {\n",
              "        text-align: right;\n",
              "    }\n",
              "</style>\n",
              "<table border=\"1\" class=\"dataframe\">\n",
              "  <thead>\n",
              "    <tr style=\"text-align: right;\">\n",
              "      <th></th>\n",
              "      <th>rating</th>\n",
              "      <th>review</th>\n",
              "      <th>review dictionary based sentiment</th>\n",
              "    </tr>\n",
              "  </thead>\n",
              "  <tbody>\n",
              "    <tr>\n",
              "      <th>0</th>\n",
              "      <td>1</td>\n",
              "      <td>Recently UBISOFT had to settle a huge class-ac...</td>\n",
              "      <td>-0.013158</td>\n",
              "    </tr>\n",
              "    <tr>\n",
              "      <th>1</th>\n",
              "      <td>1</td>\n",
              "      <td>code didn't work, got me a refund.</td>\n",
              "      <td>0.285714</td>\n",
              "    </tr>\n",
              "    <tr>\n",
              "      <th>2</th>\n",
              "      <td>1</td>\n",
              "      <td>these do not work at all, all i get is static ...</td>\n",
              "      <td>0.000000</td>\n",
              "    </tr>\n",
              "    <tr>\n",
              "      <th>3</th>\n",
              "      <td>1</td>\n",
              "      <td>well let me start by saying that when i first ...</td>\n",
              "      <td>-0.020521</td>\n",
              "    </tr>\n",
              "    <tr>\n",
              "      <th>4</th>\n",
              "      <td>1</td>\n",
              "      <td>Dont waste your money, you will just end up us...</td>\n",
              "      <td>0.000000</td>\n",
              "    </tr>\n",
              "    <tr>\n",
              "      <th>...</th>\n",
              "      <td>...</td>\n",
              "      <td>...</td>\n",
              "      <td>...</td>\n",
              "    </tr>\n",
              "    <tr>\n",
              "      <th>4495</th>\n",
              "      <td>5</td>\n",
              "      <td>Nice long micro USB cable, battery lasts a lon...</td>\n",
              "      <td>0.058824</td>\n",
              "    </tr>\n",
              "    <tr>\n",
              "      <th>4496</th>\n",
              "      <td>5</td>\n",
              "      <td>I've been having a great time with this game. ...</td>\n",
              "      <td>0.222222</td>\n",
              "    </tr>\n",
              "    <tr>\n",
              "      <th>4497</th>\n",
              "      <td>5</td>\n",
              "      <td>d</td>\n",
              "      <td>0.000000</td>\n",
              "    </tr>\n",
              "    <tr>\n",
              "      <th>4498</th>\n",
              "      <td>5</td>\n",
              "      <td>Really pretty, funny, interesting game. Works ...</td>\n",
              "      <td>0.455556</td>\n",
              "    </tr>\n",
              "    <tr>\n",
              "      <th>4499</th>\n",
              "      <td>5</td>\n",
              "      <td>i had a lot of fun playing this game, if your ...</td>\n",
              "      <td>0.038462</td>\n",
              "    </tr>\n",
              "  </tbody>\n",
              "</table>\n",
              "<p>4500 rows × 3 columns</p>\n",
              "</div>"
            ],
            "text/plain": [
              "      rating  ... review dictionary based sentiment\n",
              "0          1  ...                         -0.013158\n",
              "1          1  ...                          0.285714\n",
              "2          1  ...                          0.000000\n",
              "3          1  ...                         -0.020521\n",
              "4          1  ...                          0.000000\n",
              "...      ...  ...                               ...\n",
              "4495       5  ...                          0.058824\n",
              "4496       5  ...                          0.222222\n",
              "4497       5  ...                          0.000000\n",
              "4498       5  ...                          0.455556\n",
              "4499       5  ...                          0.038462\n",
              "\n",
              "[4500 rows x 3 columns]"
            ]
          },
          "metadata": {
            "tags": []
          },
          "execution_count": 14
        }
      ]
    },
    {
      "cell_type": "code",
      "metadata": {
        "id": "THjjD3F8XjI_",
        "colab_type": "code",
        "colab": {}
      },
      "source": [
        "df.to_csv('dictionary_based_sentiment.csv', index=False)"
      ],
      "execution_count": 0,
      "outputs": []
    },
    {
      "cell_type": "code",
      "metadata": {
        "id": "yKMJV8K3YUxV",
        "colab_type": "code",
        "colab": {}
      },
      "source": [
        ""
      ],
      "execution_count": 0,
      "outputs": []
    }
  ]
}